{
 "cells": [
  {
   "cell_type": "markdown",
   "metadata": {},
   "source": [
    "___\n",
    "\n",
    "<a href='http://www.pieriandata.com'> <img src='../Pierian_Data_Logo.png' /></a>\n",
    "___\n",
    "# Plotly and Cufflinks"
   ]
  },
  {
   "cell_type": "markdown",
   "metadata": {},
   "source": [
    "Plotly is a library that allows you to create interactive plots that you can use in dashboards or websites (you can save them as html files or static images).\n",
    "\n",
    "## Installation\n",
    "\n",
    "In order for this all to work, you'll need to install plotly and cufflinks to call plots directly off of a pandas dataframe. These libraries are not currently available through **conda** but are available through **pip**. Install the libraries at your command line/terminal using:\n",
    "\n",
    "    pip install plotly\n",
    "    pip install cufflinks\n",
    "\n",
    "** NOTE: Make sure you only have one installation of Python on your computer when you do this, otherwise the installation may not work. **\n",
    "\n",
    "## Imports and Set-up"
   ]
  },
  {
   "cell_type": "code",
   "execution_count": 1,
   "metadata": {
    "collapsed": true
   },
   "outputs": [],
   "source": [
    "import pandas as pd\n",
    "import numpy as np\n",
    "%matplotlib inline"
   ]
  },
  {
   "cell_type": "code",
   "execution_count": 2,
   "metadata": {
    "collapsed": false
   },
   "outputs": [
    {
     "name": "stdout",
     "output_type": "stream",
     "text": [
      "5.4.0\n"
     ]
    }
   ],
   "source": [
    "from plotly import __version__\n",
    "from plotly.offline import download_plotlyjs, init_notebook_mode, plot, iplot\n",
    "\n",
    "print(__version__) # requires version >= 1.9.0"
   ]
  },
  {
   "cell_type": "code",
   "execution_count": 3,
   "metadata": {
    "collapsed": true
   },
   "outputs": [],
   "source": [
    "import cufflinks as cf"
   ]
  },
  {
   "cell_type": "code",
   "execution_count": 4,
   "metadata": {
    "collapsed": false
   },
   "outputs": [
    {
     "data": {
      "text/html": [
       "        <script type=\"text/javascript\">\n",
       "        window.PlotlyConfig = {MathJaxConfig: 'local'};\n",
       "        if (window.MathJax) {MathJax.Hub.Config({SVG: {font: \"STIX-Web\"}});}\n",
       "        if (typeof require !== 'undefined') {\n",
       "        require.undef(\"plotly\");\n",
       "        requirejs.config({\n",
       "            paths: {\n",
       "                'plotly': ['https://cdn.plot.ly/plotly-2.6.3.min']\n",
       "            }\n",
       "        });\n",
       "        require(['plotly'], function(Plotly) {\n",
       "            window._Plotly = Plotly;\n",
       "        });\n",
       "        }\n",
       "        </script>\n",
       "        "
      ]
     },
     "metadata": {},
     "output_type": "display_data"
    }
   ],
   "source": [
    "# For Notebooks\n",
    "init_notebook_mode(connected=True)"
   ]
  },
  {
   "cell_type": "code",
   "execution_count": 5,
   "metadata": {
    "collapsed": false
   },
   "outputs": [
    {
     "data": {
      "text/html": [
       "        <script type=\"text/javascript\">\n",
       "        window.PlotlyConfig = {MathJaxConfig: 'local'};\n",
       "        if (window.MathJax) {MathJax.Hub.Config({SVG: {font: \"STIX-Web\"}});}\n",
       "        if (typeof require !== 'undefined') {\n",
       "        require.undef(\"plotly\");\n",
       "        requirejs.config({\n",
       "            paths: {\n",
       "                'plotly': ['https://cdn.plot.ly/plotly-2.6.3.min']\n",
       "            }\n",
       "        });\n",
       "        require(['plotly'], function(Plotly) {\n",
       "            window._Plotly = Plotly;\n",
       "        });\n",
       "        }\n",
       "        </script>\n",
       "        "
      ]
     },
     "metadata": {},
     "output_type": "display_data"
    }
   ],
   "source": [
    "# For offline use\n",
    "cf.go_offline()"
   ]
  },
  {
   "cell_type": "markdown",
   "metadata": {},
   "source": [
    "### Fake Data"
   ]
  },
  {
   "cell_type": "code",
   "execution_count": 6,
   "metadata": {
    "collapsed": false
   },
   "outputs": [],
   "source": [
    "df = pd.DataFrame(np.random.randn(100,4),columns='A B C D'.split())"
   ]
  },
  {
   "cell_type": "code",
   "execution_count": 7,
   "metadata": {
    "collapsed": false
   },
   "outputs": [
    {
     "data": {
      "text/html": [
       "<div>\n",
       "<style scoped>\n",
       "    .dataframe tbody tr th:only-of-type {\n",
       "        vertical-align: middle;\n",
       "    }\n",
       "\n",
       "    .dataframe tbody tr th {\n",
       "        vertical-align: top;\n",
       "    }\n",
       "\n",
       "    .dataframe thead th {\n",
       "        text-align: right;\n",
       "    }\n",
       "</style>\n",
       "<table border=\"1\" class=\"dataframe\">\n",
       "  <thead>\n",
       "    <tr style=\"text-align: right;\">\n",
       "      <th></th>\n",
       "      <th>A</th>\n",
       "      <th>B</th>\n",
       "      <th>C</th>\n",
       "      <th>D</th>\n",
       "    </tr>\n",
       "  </thead>\n",
       "  <tbody>\n",
       "    <tr>\n",
       "      <th>0</th>\n",
       "      <td>-0.349773</td>\n",
       "      <td>1.170043</td>\n",
       "      <td>1.473083</td>\n",
       "      <td>-0.090033</td>\n",
       "    </tr>\n",
       "    <tr>\n",
       "      <th>1</th>\n",
       "      <td>0.558324</td>\n",
       "      <td>1.075126</td>\n",
       "      <td>0.925850</td>\n",
       "      <td>1.045792</td>\n",
       "    </tr>\n",
       "    <tr>\n",
       "      <th>2</th>\n",
       "      <td>1.021034</td>\n",
       "      <td>-1.008356</td>\n",
       "      <td>1.896715</td>\n",
       "      <td>-0.294232</td>\n",
       "    </tr>\n",
       "    <tr>\n",
       "      <th>3</th>\n",
       "      <td>0.783307</td>\n",
       "      <td>-1.020749</td>\n",
       "      <td>0.509476</td>\n",
       "      <td>0.957420</td>\n",
       "    </tr>\n",
       "    <tr>\n",
       "      <th>4</th>\n",
       "      <td>1.646285</td>\n",
       "      <td>2.449361</td>\n",
       "      <td>0.714600</td>\n",
       "      <td>-0.616242</td>\n",
       "    </tr>\n",
       "  </tbody>\n",
       "</table>\n",
       "</div>"
      ],
      "text/plain": [
       "          A         B         C         D\n",
       "0 -0.349773  1.170043  1.473083 -0.090033\n",
       "1  0.558324  1.075126  0.925850  1.045792\n",
       "2  1.021034 -1.008356  1.896715 -0.294232\n",
       "3  0.783307 -1.020749  0.509476  0.957420\n",
       "4  1.646285  2.449361  0.714600 -0.616242"
      ]
     },
     "execution_count": 7,
     "metadata": {},
     "output_type": "execute_result"
    }
   ],
   "source": [
    "df.head()"
   ]
  },
  {
   "cell_type": "code",
   "execution_count": 8,
   "metadata": {
    "collapsed": true
   },
   "outputs": [],
   "source": [
    "df2 = pd.DataFrame({'Category':['A','B','C'],'Values':[32,43,50]})"
   ]
  },
  {
   "cell_type": "code",
   "execution_count": 9,
   "metadata": {
    "collapsed": false
   },
   "outputs": [
    {
     "data": {
      "text/html": [
       "<div>\n",
       "<style scoped>\n",
       "    .dataframe tbody tr th:only-of-type {\n",
       "        vertical-align: middle;\n",
       "    }\n",
       "\n",
       "    .dataframe tbody tr th {\n",
       "        vertical-align: top;\n",
       "    }\n",
       "\n",
       "    .dataframe thead th {\n",
       "        text-align: right;\n",
       "    }\n",
       "</style>\n",
       "<table border=\"1\" class=\"dataframe\">\n",
       "  <thead>\n",
       "    <tr style=\"text-align: right;\">\n",
       "      <th></th>\n",
       "      <th>Category</th>\n",
       "      <th>Values</th>\n",
       "    </tr>\n",
       "  </thead>\n",
       "  <tbody>\n",
       "    <tr>\n",
       "      <th>0</th>\n",
       "      <td>A</td>\n",
       "      <td>32</td>\n",
       "    </tr>\n",
       "    <tr>\n",
       "      <th>1</th>\n",
       "      <td>B</td>\n",
       "      <td>43</td>\n",
       "    </tr>\n",
       "    <tr>\n",
       "      <th>2</th>\n",
       "      <td>C</td>\n",
       "      <td>50</td>\n",
       "    </tr>\n",
       "  </tbody>\n",
       "</table>\n",
       "</div>"
      ],
      "text/plain": [
       "  Category  Values\n",
       "0        A      32\n",
       "1        B      43\n",
       "2        C      50"
      ]
     },
     "execution_count": 9,
     "metadata": {},
     "output_type": "execute_result"
    }
   ],
   "source": [
    "df2.head()"
   ]
  },
  {
   "cell_type": "markdown",
   "metadata": {},
   "source": [
    "## Using Cufflinks and iplot()\n",
    "\n",
    "* scatter\n",
    "* bar\n",
    "* box\n",
    "* spread\n",
    "* ratio\n",
    "* heatmap\n",
    "* surface\n",
    "* histogram\n",
    "* bubble"
   ]
  },
  {
   "cell_type": "markdown",
   "metadata": {},
   "source": [
    "## Scatter"
   ]
  },
  {
   "cell_type": "code",
   "execution_count": 11,
   "metadata": {
    "collapsed": false
   },
   "outputs": [
    {
     "data": {
      "application/vnd.plotly.v1+json": {
       "config": {
        "linkText": "Export to plot.ly",
        "plotlyServerURL": "https://plot.ly",
        "showLink": true
       },
       "data": [
        {
         "line": {
          "color": "rgba(255, 153, 51, 1.0)",
          "dash": "solid",
          "shape": "linear",
          "width": 1.3
         },
         "marker": {
          "size": 10,
          "symbol": "circle"
         },
         "mode": "markers",
         "name": "B",
         "text": "",
         "type": "scatter",
         "x": [
          -0.3497734254771835,
          0.5583236144971976,
          1.0210338390182403,
          0.7833067604547665,
          1.6462849509104058,
          -0.7372755607522767,
          0.9881508966271882,
          0.14398838038901476,
          -0.6395676601793224,
          0.6291591032308805,
          1.3470169543296011,
          0.60968541723478,
          1.7636746057249477,
          -0.8968347110563231,
          1.1061992371572222,
          0.44411579330015866,
          -0.4910466503882815,
          -0.46352959198906274,
          -1.381458377602349,
          0.8509163423647723,
          1.4268676166900143,
          1.2007370070130767,
          0.3090613141255533,
          -0.3209463480469782,
          1.0765472388705708,
          1.5095524793854327,
          0.11806543873081181,
          1.8566919692700568,
          -0.8220431176199894,
          -0.8557816023136964,
          -1.9698929315893803,
          -0.2645274617925079,
          0.4674957207486842,
          -0.7598034286404655,
          -0.09316392607820459,
          -0.11288405529306757,
          -0.7718474232824881,
          -0.30971869052360046,
          0.3188546937996816,
          -0.3833733336548828,
          -1.26409683214929,
          -0.260610568878272,
          -0.8724907032434537,
          -0.6843172926825293,
          0.9410366903204676,
          0.5674477518189098,
          -0.07158642241174541,
          -1.8124280141646631,
          -1.4928103512959483,
          1.643157157597684,
          0.6093130094966801,
          -0.9776498459499772,
          -0.6637523839034207,
          0.44044446528203607,
          -1.8459802910301286,
          0.9930741770617006,
          0.41774133566523103,
          -0.09330237801047414,
          -0.7229100824409184,
          -0.16409341879725245,
          -1.2503439337761084,
          -0.5470496191739559,
          2.0386594730120065,
          -0.36908233025570886,
          -0.9250062299172206,
          -1.049546627000459,
          0.33175448123373075,
          0.9583714991373541,
          -2.1414378743802054,
          0.029573053775218225,
          -0.37324905528350794,
          1.42743012206251,
          -1.0404331204863992,
          1.334297972923157,
          0.8687276958286853,
          -0.2657337201171915,
          -0.6483819246588316,
          -0.24411340590570904,
          0.8505625725136822,
          -0.9179899937538808,
          0.8837406184286677,
          1.2499050427703942,
          0.33803720522963754,
          -0.6719806178223434,
          -1.4049437087691334,
          0.7386471634448698,
          0.9459537223565966,
          -0.6158054534571311,
          -1.0153312336632523,
          0.0924594831228007,
          0.17288858565747628,
          0.15420059591782365,
          -0.9485218735971477,
          -0.7324767569691258,
          0.17741031455593906,
          -0.590903068024523,
          -2.305888866671554,
          -0.6263816050863013,
          -0.0159640671396924,
          1.2145738337263368
         ],
         "y": [
          1.1700434818844438,
          1.0751258509099173,
          -1.0083558806672341,
          -1.0207489561575065,
          2.449361100561767,
          -0.7175292061587076,
          -0.368063200704348,
          -0.2069764602363649,
          -0.5852792240627692,
          0.21418680003139948,
          3.5417689407035073,
          -0.8937838034366977,
          -0.450364359714211,
          -0.48201024793974095,
          -1.1477346930123722,
          -0.4551181416866834,
          0.39689090096151236,
          -1.085332249768537,
          -0.3330302827084691,
          -0.09164557937808074,
          0.8209906788667682,
          -0.18259882874169228,
          1.414664742141667,
          -1.3168984602931946,
          -1.0673751875441888,
          -0.8811015444791677,
          1.1573950121989691,
          -1.9420689925822388,
          0.15254426213926583,
          -0.5106440815180584,
          -1.1407698919771738,
          0.9658187833865867,
          0.09032980787959194,
          0.5105956795061436,
          -1.5445015493646832,
          -0.529670046477799,
          -1.2951546206741757,
          -2.26897320406101,
          2.0647400026491787,
          0.7912257586064879,
          -0.9435855795774132,
          -0.0792530039589136,
          -0.701391406857763,
          0.3904899555187702,
          -0.12401867350010902,
          -1.1770981578075772,
          1.3699958165123711,
          1.1383701335229368,
          1.0753035171938106,
          2.3566664850434185,
          0.28328978448650277,
          -0.2278154516210515,
          -1.5229891887572231,
          1.6115199927052717,
          -0.4770954007952236,
          -0.03244258909954915,
          -0.01973863081231562,
          -0.9240201466956118,
          -0.7018806548826212,
          1.116257598901643,
          -2.374321527801769,
          2.1079872052410247,
          0.6982011140111537,
          -1.0555114969250081,
          -0.3897723937818329,
          1.1925231381245627,
          1.2237381227711939,
          0.5989850587870378,
          -0.8991782314803098,
          0.5255067693703722,
          2.7586264976767483,
          -0.0788469074477344,
          -0.853278412662128,
          -1.2219390892924478,
          0.10246149478772258,
          0.6284426117915223,
          0.512062339056357,
          -0.9386584410755775,
          1.6755332861886518,
          -0.8947338550700419,
          -0.4122518141392201,
          0.32106067012965067,
          2.1975821633476937,
          0.9364725716982593,
          -1.00268240741226,
          -1.9229183584789276,
          0.843620878659984,
          1.4771597910462655,
          -1.1347015325896048,
          0.9918722842152485,
          0.013184538681476031,
          0.44169861274054656,
          0.583312537359923,
          -0.8523979073270433,
          -0.910846088535007,
          -0.6928852005666618,
          0.9272107055521642,
          1.1217693677540292,
          1.1415382607103743,
          -0.5431411104261837
         ]
        }
       ],
       "layout": {
        "legend": {
         "bgcolor": "#F5F6F9",
         "font": {
          "color": "#4D5663"
         }
        },
        "paper_bgcolor": "#F5F6F9",
        "plot_bgcolor": "#F5F6F9",
        "template": {
         "data": {
          "bar": [
           {
            "error_x": {
             "color": "#2a3f5f"
            },
            "error_y": {
             "color": "#2a3f5f"
            },
            "marker": {
             "line": {
              "color": "#E5ECF6",
              "width": 0.5
             },
             "pattern": {
              "fillmode": "overlay",
              "size": 10,
              "solidity": 0.2
             }
            },
            "type": "bar"
           }
          ],
          "barpolar": [
           {
            "marker": {
             "line": {
              "color": "#E5ECF6",
              "width": 0.5
             },
             "pattern": {
              "fillmode": "overlay",
              "size": 10,
              "solidity": 0.2
             }
            },
            "type": "barpolar"
           }
          ],
          "carpet": [
           {
            "aaxis": {
             "endlinecolor": "#2a3f5f",
             "gridcolor": "white",
             "linecolor": "white",
             "minorgridcolor": "white",
             "startlinecolor": "#2a3f5f"
            },
            "baxis": {
             "endlinecolor": "#2a3f5f",
             "gridcolor": "white",
             "linecolor": "white",
             "minorgridcolor": "white",
             "startlinecolor": "#2a3f5f"
            },
            "type": "carpet"
           }
          ],
          "choropleth": [
           {
            "colorbar": {
             "outlinewidth": 0,
             "ticks": ""
            },
            "type": "choropleth"
           }
          ],
          "contour": [
           {
            "colorbar": {
             "outlinewidth": 0,
             "ticks": ""
            },
            "colorscale": [
             [
              0,
              "#0d0887"
             ],
             [
              0.1111111111111111,
              "#46039f"
             ],
             [
              0.2222222222222222,
              "#7201a8"
             ],
             [
              0.3333333333333333,
              "#9c179e"
             ],
             [
              0.4444444444444444,
              "#bd3786"
             ],
             [
              0.5555555555555556,
              "#d8576b"
             ],
             [
              0.6666666666666666,
              "#ed7953"
             ],
             [
              0.7777777777777778,
              "#fb9f3a"
             ],
             [
              0.8888888888888888,
              "#fdca26"
             ],
             [
              1,
              "#f0f921"
             ]
            ],
            "type": "contour"
           }
          ],
          "contourcarpet": [
           {
            "colorbar": {
             "outlinewidth": 0,
             "ticks": ""
            },
            "type": "contourcarpet"
           }
          ],
          "heatmap": [
           {
            "colorbar": {
             "outlinewidth": 0,
             "ticks": ""
            },
            "colorscale": [
             [
              0,
              "#0d0887"
             ],
             [
              0.1111111111111111,
              "#46039f"
             ],
             [
              0.2222222222222222,
              "#7201a8"
             ],
             [
              0.3333333333333333,
              "#9c179e"
             ],
             [
              0.4444444444444444,
              "#bd3786"
             ],
             [
              0.5555555555555556,
              "#d8576b"
             ],
             [
              0.6666666666666666,
              "#ed7953"
             ],
             [
              0.7777777777777778,
              "#fb9f3a"
             ],
             [
              0.8888888888888888,
              "#fdca26"
             ],
             [
              1,
              "#f0f921"
             ]
            ],
            "type": "heatmap"
           }
          ],
          "heatmapgl": [
           {
            "colorbar": {
             "outlinewidth": 0,
             "ticks": ""
            },
            "colorscale": [
             [
              0,
              "#0d0887"
             ],
             [
              0.1111111111111111,
              "#46039f"
             ],
             [
              0.2222222222222222,
              "#7201a8"
             ],
             [
              0.3333333333333333,
              "#9c179e"
             ],
             [
              0.4444444444444444,
              "#bd3786"
             ],
             [
              0.5555555555555556,
              "#d8576b"
             ],
             [
              0.6666666666666666,
              "#ed7953"
             ],
             [
              0.7777777777777778,
              "#fb9f3a"
             ],
             [
              0.8888888888888888,
              "#fdca26"
             ],
             [
              1,
              "#f0f921"
             ]
            ],
            "type": "heatmapgl"
           }
          ],
          "histogram": [
           {
            "marker": {
             "pattern": {
              "fillmode": "overlay",
              "size": 10,
              "solidity": 0.2
             }
            },
            "type": "histogram"
           }
          ],
          "histogram2d": [
           {
            "colorbar": {
             "outlinewidth": 0,
             "ticks": ""
            },
            "colorscale": [
             [
              0,
              "#0d0887"
             ],
             [
              0.1111111111111111,
              "#46039f"
             ],
             [
              0.2222222222222222,
              "#7201a8"
             ],
             [
              0.3333333333333333,
              "#9c179e"
             ],
             [
              0.4444444444444444,
              "#bd3786"
             ],
             [
              0.5555555555555556,
              "#d8576b"
             ],
             [
              0.6666666666666666,
              "#ed7953"
             ],
             [
              0.7777777777777778,
              "#fb9f3a"
             ],
             [
              0.8888888888888888,
              "#fdca26"
             ],
             [
              1,
              "#f0f921"
             ]
            ],
            "type": "histogram2d"
           }
          ],
          "histogram2dcontour": [
           {
            "colorbar": {
             "outlinewidth": 0,
             "ticks": ""
            },
            "colorscale": [
             [
              0,
              "#0d0887"
             ],
             [
              0.1111111111111111,
              "#46039f"
             ],
             [
              0.2222222222222222,
              "#7201a8"
             ],
             [
              0.3333333333333333,
              "#9c179e"
             ],
             [
              0.4444444444444444,
              "#bd3786"
             ],
             [
              0.5555555555555556,
              "#d8576b"
             ],
             [
              0.6666666666666666,
              "#ed7953"
             ],
             [
              0.7777777777777778,
              "#fb9f3a"
             ],
             [
              0.8888888888888888,
              "#fdca26"
             ],
             [
              1,
              "#f0f921"
             ]
            ],
            "type": "histogram2dcontour"
           }
          ],
          "mesh3d": [
           {
            "colorbar": {
             "outlinewidth": 0,
             "ticks": ""
            },
            "type": "mesh3d"
           }
          ],
          "parcoords": [
           {
            "line": {
             "colorbar": {
              "outlinewidth": 0,
              "ticks": ""
             }
            },
            "type": "parcoords"
           }
          ],
          "pie": [
           {
            "automargin": true,
            "type": "pie"
           }
          ],
          "scatter": [
           {
            "marker": {
             "colorbar": {
              "outlinewidth": 0,
              "ticks": ""
             }
            },
            "type": "scatter"
           }
          ],
          "scatter3d": [
           {
            "line": {
             "colorbar": {
              "outlinewidth": 0,
              "ticks": ""
             }
            },
            "marker": {
             "colorbar": {
              "outlinewidth": 0,
              "ticks": ""
             }
            },
            "type": "scatter3d"
           }
          ],
          "scattercarpet": [
           {
            "marker": {
             "colorbar": {
              "outlinewidth": 0,
              "ticks": ""
             }
            },
            "type": "scattercarpet"
           }
          ],
          "scattergeo": [
           {
            "marker": {
             "colorbar": {
              "outlinewidth": 0,
              "ticks": ""
             }
            },
            "type": "scattergeo"
           }
          ],
          "scattergl": [
           {
            "marker": {
             "colorbar": {
              "outlinewidth": 0,
              "ticks": ""
             }
            },
            "type": "scattergl"
           }
          ],
          "scattermapbox": [
           {
            "marker": {
             "colorbar": {
              "outlinewidth": 0,
              "ticks": ""
             }
            },
            "type": "scattermapbox"
           }
          ],
          "scatterpolar": [
           {
            "marker": {
             "colorbar": {
              "outlinewidth": 0,
              "ticks": ""
             }
            },
            "type": "scatterpolar"
           }
          ],
          "scatterpolargl": [
           {
            "marker": {
             "colorbar": {
              "outlinewidth": 0,
              "ticks": ""
             }
            },
            "type": "scatterpolargl"
           }
          ],
          "scatterternary": [
           {
            "marker": {
             "colorbar": {
              "outlinewidth": 0,
              "ticks": ""
             }
            },
            "type": "scatterternary"
           }
          ],
          "surface": [
           {
            "colorbar": {
             "outlinewidth": 0,
             "ticks": ""
            },
            "colorscale": [
             [
              0,
              "#0d0887"
             ],
             [
              0.1111111111111111,
              "#46039f"
             ],
             [
              0.2222222222222222,
              "#7201a8"
             ],
             [
              0.3333333333333333,
              "#9c179e"
             ],
             [
              0.4444444444444444,
              "#bd3786"
             ],
             [
              0.5555555555555556,
              "#d8576b"
             ],
             [
              0.6666666666666666,
              "#ed7953"
             ],
             [
              0.7777777777777778,
              "#fb9f3a"
             ],
             [
              0.8888888888888888,
              "#fdca26"
             ],
             [
              1,
              "#f0f921"
             ]
            ],
            "type": "surface"
           }
          ],
          "table": [
           {
            "cells": {
             "fill": {
              "color": "#EBF0F8"
             },
             "line": {
              "color": "white"
             }
            },
            "header": {
             "fill": {
              "color": "#C8D4E3"
             },
             "line": {
              "color": "white"
             }
            },
            "type": "table"
           }
          ]
         },
         "layout": {
          "annotationdefaults": {
           "arrowcolor": "#2a3f5f",
           "arrowhead": 0,
           "arrowwidth": 1
          },
          "autotypenumbers": "strict",
          "coloraxis": {
           "colorbar": {
            "outlinewidth": 0,
            "ticks": ""
           }
          },
          "colorscale": {
           "diverging": [
            [
             0,
             "#8e0152"
            ],
            [
             0.1,
             "#c51b7d"
            ],
            [
             0.2,
             "#de77ae"
            ],
            [
             0.3,
             "#f1b6da"
            ],
            [
             0.4,
             "#fde0ef"
            ],
            [
             0.5,
             "#f7f7f7"
            ],
            [
             0.6,
             "#e6f5d0"
            ],
            [
             0.7,
             "#b8e186"
            ],
            [
             0.8,
             "#7fbc41"
            ],
            [
             0.9,
             "#4d9221"
            ],
            [
             1,
             "#276419"
            ]
           ],
           "sequential": [
            [
             0,
             "#0d0887"
            ],
            [
             0.1111111111111111,
             "#46039f"
            ],
            [
             0.2222222222222222,
             "#7201a8"
            ],
            [
             0.3333333333333333,
             "#9c179e"
            ],
            [
             0.4444444444444444,
             "#bd3786"
            ],
            [
             0.5555555555555556,
             "#d8576b"
            ],
            [
             0.6666666666666666,
             "#ed7953"
            ],
            [
             0.7777777777777778,
             "#fb9f3a"
            ],
            [
             0.8888888888888888,
             "#fdca26"
            ],
            [
             1,
             "#f0f921"
            ]
           ],
           "sequentialminus": [
            [
             0,
             "#0d0887"
            ],
            [
             0.1111111111111111,
             "#46039f"
            ],
            [
             0.2222222222222222,
             "#7201a8"
            ],
            [
             0.3333333333333333,
             "#9c179e"
            ],
            [
             0.4444444444444444,
             "#bd3786"
            ],
            [
             0.5555555555555556,
             "#d8576b"
            ],
            [
             0.6666666666666666,
             "#ed7953"
            ],
            [
             0.7777777777777778,
             "#fb9f3a"
            ],
            [
             0.8888888888888888,
             "#fdca26"
            ],
            [
             1,
             "#f0f921"
            ]
           ]
          },
          "colorway": [
           "#636efa",
           "#EF553B",
           "#00cc96",
           "#ab63fa",
           "#FFA15A",
           "#19d3f3",
           "#FF6692",
           "#B6E880",
           "#FF97FF",
           "#FECB52"
          ],
          "font": {
           "color": "#2a3f5f"
          },
          "geo": {
           "bgcolor": "white",
           "lakecolor": "white",
           "landcolor": "#E5ECF6",
           "showlakes": true,
           "showland": true,
           "subunitcolor": "white"
          },
          "hoverlabel": {
           "align": "left"
          },
          "hovermode": "closest",
          "mapbox": {
           "style": "light"
          },
          "paper_bgcolor": "white",
          "plot_bgcolor": "#E5ECF6",
          "polar": {
           "angularaxis": {
            "gridcolor": "white",
            "linecolor": "white",
            "ticks": ""
           },
           "bgcolor": "#E5ECF6",
           "radialaxis": {
            "gridcolor": "white",
            "linecolor": "white",
            "ticks": ""
           }
          },
          "scene": {
           "xaxis": {
            "backgroundcolor": "#E5ECF6",
            "gridcolor": "white",
            "gridwidth": 2,
            "linecolor": "white",
            "showbackground": true,
            "ticks": "",
            "zerolinecolor": "white"
           },
           "yaxis": {
            "backgroundcolor": "#E5ECF6",
            "gridcolor": "white",
            "gridwidth": 2,
            "linecolor": "white",
            "showbackground": true,
            "ticks": "",
            "zerolinecolor": "white"
           },
           "zaxis": {
            "backgroundcolor": "#E5ECF6",
            "gridcolor": "white",
            "gridwidth": 2,
            "linecolor": "white",
            "showbackground": true,
            "ticks": "",
            "zerolinecolor": "white"
           }
          },
          "shapedefaults": {
           "line": {
            "color": "#2a3f5f"
           }
          },
          "ternary": {
           "aaxis": {
            "gridcolor": "white",
            "linecolor": "white",
            "ticks": ""
           },
           "baxis": {
            "gridcolor": "white",
            "linecolor": "white",
            "ticks": ""
           },
           "bgcolor": "#E5ECF6",
           "caxis": {
            "gridcolor": "white",
            "linecolor": "white",
            "ticks": ""
           }
          },
          "title": {
           "x": 0.05
          },
          "xaxis": {
           "automargin": true,
           "gridcolor": "white",
           "linecolor": "white",
           "ticks": "",
           "title": {
            "standoff": 15
           },
           "zerolinecolor": "white",
           "zerolinewidth": 2
          },
          "yaxis": {
           "automargin": true,
           "gridcolor": "white",
           "linecolor": "white",
           "ticks": "",
           "title": {
            "standoff": 15
           },
           "zerolinecolor": "white",
           "zerolinewidth": 2
          }
         }
        },
        "title": {
         "font": {
          "color": "#4D5663"
         }
        },
        "xaxis": {
         "gridcolor": "#E1E5ED",
         "showgrid": true,
         "tickfont": {
          "color": "#4D5663"
         },
         "title": {
          "font": {
           "color": "#4D5663"
          },
          "text": ""
         },
         "zerolinecolor": "#E1E5ED"
        },
        "yaxis": {
         "gridcolor": "#E1E5ED",
         "showgrid": true,
         "tickfont": {
          "color": "#4D5663"
         },
         "title": {
          "font": {
           "color": "#4D5663"
          },
          "text": ""
         },
         "zerolinecolor": "#E1E5ED"
        }
       }
      },
      "text/html": [
       "<div>                            <div id=\"bb1083d8-f7c3-4acb-baae-2e3e749ae397\" class=\"plotly-graph-div\" style=\"height:525px; width:100%;\"></div>            <script type=\"text/javascript\">                require([\"plotly\"], function(Plotly) {                    window.PLOTLYENV=window.PLOTLYENV || {};\n",
       "                    window.PLOTLYENV.BASE_URL='https://plot.ly';                                    if (document.getElementById(\"bb1083d8-f7c3-4acb-baae-2e3e749ae397\")) {                    Plotly.newPlot(                        \"bb1083d8-f7c3-4acb-baae-2e3e749ae397\",                        [{\"line\":{\"color\":\"rgba(255, 153, 51, 1.0)\",\"dash\":\"solid\",\"shape\":\"linear\",\"width\":1.3},\"marker\":{\"size\":10,\"symbol\":\"circle\"},\"mode\":\"markers\",\"name\":\"B\",\"text\":\"\",\"x\":[-0.3497734254771835,0.5583236144971976,1.0210338390182403,0.7833067604547665,1.6462849509104058,-0.7372755607522767,0.9881508966271882,0.14398838038901476,-0.6395676601793224,0.6291591032308805,1.3470169543296011,0.60968541723478,1.7636746057249477,-0.8968347110563231,1.1061992371572222,0.44411579330015866,-0.4910466503882815,-0.46352959198906274,-1.381458377602349,0.8509163423647723,1.4268676166900143,1.2007370070130767,0.3090613141255533,-0.3209463480469782,1.0765472388705708,1.5095524793854327,0.11806543873081181,1.8566919692700568,-0.8220431176199894,-0.8557816023136964,-1.9698929315893803,-0.2645274617925079,0.4674957207486842,-0.7598034286404655,-0.09316392607820459,-0.11288405529306757,-0.7718474232824881,-0.30971869052360046,0.3188546937996816,-0.3833733336548828,-1.26409683214929,-0.260610568878272,-0.8724907032434537,-0.6843172926825293,0.9410366903204676,0.5674477518189098,-0.07158642241174541,-1.8124280141646631,-1.4928103512959483,1.643157157597684,0.6093130094966801,-0.9776498459499772,-0.6637523839034207,0.44044446528203607,-1.8459802910301286,0.9930741770617006,0.41774133566523103,-0.09330237801047414,-0.7229100824409184,-0.16409341879725245,-1.2503439337761084,-0.5470496191739559,2.0386594730120065,-0.36908233025570886,-0.9250062299172206,-1.049546627000459,0.33175448123373075,0.9583714991373541,-2.1414378743802054,0.029573053775218225,-0.37324905528350794,1.42743012206251,-1.0404331204863992,1.334297972923157,0.8687276958286853,-0.2657337201171915,-0.6483819246588316,-0.24411340590570904,0.8505625725136822,-0.9179899937538808,0.8837406184286677,1.2499050427703942,0.33803720522963754,-0.6719806178223434,-1.4049437087691334,0.7386471634448698,0.9459537223565966,-0.6158054534571311,-1.0153312336632523,0.0924594831228007,0.17288858565747628,0.15420059591782365,-0.9485218735971477,-0.7324767569691258,0.17741031455593906,-0.590903068024523,-2.305888866671554,-0.6263816050863013,-0.0159640671396924,1.2145738337263368],\"y\":[1.1700434818844438,1.0751258509099173,-1.0083558806672341,-1.0207489561575065,2.449361100561767,-0.7175292061587076,-0.368063200704348,-0.2069764602363649,-0.5852792240627692,0.21418680003139948,3.5417689407035073,-0.8937838034366977,-0.450364359714211,-0.48201024793974095,-1.1477346930123722,-0.4551181416866834,0.39689090096151236,-1.085332249768537,-0.3330302827084691,-0.09164557937808074,0.8209906788667682,-0.18259882874169228,1.414664742141667,-1.3168984602931946,-1.0673751875441888,-0.8811015444791677,1.1573950121989691,-1.9420689925822388,0.15254426213926583,-0.5106440815180584,-1.1407698919771738,0.9658187833865867,0.09032980787959194,0.5105956795061436,-1.5445015493646832,-0.529670046477799,-1.2951546206741757,-2.26897320406101,2.0647400026491787,0.7912257586064879,-0.9435855795774132,-0.0792530039589136,-0.701391406857763,0.3904899555187702,-0.12401867350010902,-1.1770981578075772,1.3699958165123711,1.1383701335229368,1.0753035171938106,2.3566664850434185,0.28328978448650277,-0.2278154516210515,-1.5229891887572231,1.6115199927052717,-0.4770954007952236,-0.03244258909954915,-0.01973863081231562,-0.9240201466956118,-0.7018806548826212,1.116257598901643,-2.374321527801769,2.1079872052410247,0.6982011140111537,-1.0555114969250081,-0.3897723937818329,1.1925231381245627,1.2237381227711939,0.5989850587870378,-0.8991782314803098,0.5255067693703722,2.7586264976767483,-0.0788469074477344,-0.853278412662128,-1.2219390892924478,0.10246149478772258,0.6284426117915223,0.512062339056357,-0.9386584410755775,1.6755332861886518,-0.8947338550700419,-0.4122518141392201,0.32106067012965067,2.1975821633476937,0.9364725716982593,-1.00268240741226,-1.9229183584789276,0.843620878659984,1.4771597910462655,-1.1347015325896048,0.9918722842152485,0.013184538681476031,0.44169861274054656,0.583312537359923,-0.8523979073270433,-0.910846088535007,-0.6928852005666618,0.9272107055521642,1.1217693677540292,1.1415382607103743,-0.5431411104261837],\"type\":\"scatter\"}],                        {\"legend\":{\"bgcolor\":\"#F5F6F9\",\"font\":{\"color\":\"#4D5663\"}},\"paper_bgcolor\":\"#F5F6F9\",\"plot_bgcolor\":\"#F5F6F9\",\"template\":{\"data\":{\"barpolar\":[{\"marker\":{\"line\":{\"color\":\"#E5ECF6\",\"width\":0.5},\"pattern\":{\"fillmode\":\"overlay\",\"size\":10,\"solidity\":0.2}},\"type\":\"barpolar\"}],\"bar\":[{\"error_x\":{\"color\":\"#2a3f5f\"},\"error_y\":{\"color\":\"#2a3f5f\"},\"marker\":{\"line\":{\"color\":\"#E5ECF6\",\"width\":0.5},\"pattern\":{\"fillmode\":\"overlay\",\"size\":10,\"solidity\":0.2}},\"type\":\"bar\"}],\"carpet\":[{\"aaxis\":{\"endlinecolor\":\"#2a3f5f\",\"gridcolor\":\"white\",\"linecolor\":\"white\",\"minorgridcolor\":\"white\",\"startlinecolor\":\"#2a3f5f\"},\"baxis\":{\"endlinecolor\":\"#2a3f5f\",\"gridcolor\":\"white\",\"linecolor\":\"white\",\"minorgridcolor\":\"white\",\"startlinecolor\":\"#2a3f5f\"},\"type\":\"carpet\"}],\"choropleth\":[{\"colorbar\":{\"outlinewidth\":0,\"ticks\":\"\"},\"type\":\"choropleth\"}],\"contourcarpet\":[{\"colorbar\":{\"outlinewidth\":0,\"ticks\":\"\"},\"type\":\"contourcarpet\"}],\"contour\":[{\"colorbar\":{\"outlinewidth\":0,\"ticks\":\"\"},\"colorscale\":[[0.0,\"#0d0887\"],[0.1111111111111111,\"#46039f\"],[0.2222222222222222,\"#7201a8\"],[0.3333333333333333,\"#9c179e\"],[0.4444444444444444,\"#bd3786\"],[0.5555555555555556,\"#d8576b\"],[0.6666666666666666,\"#ed7953\"],[0.7777777777777778,\"#fb9f3a\"],[0.8888888888888888,\"#fdca26\"],[1.0,\"#f0f921\"]],\"type\":\"contour\"}],\"heatmapgl\":[{\"colorbar\":{\"outlinewidth\":0,\"ticks\":\"\"},\"colorscale\":[[0.0,\"#0d0887\"],[0.1111111111111111,\"#46039f\"],[0.2222222222222222,\"#7201a8\"],[0.3333333333333333,\"#9c179e\"],[0.4444444444444444,\"#bd3786\"],[0.5555555555555556,\"#d8576b\"],[0.6666666666666666,\"#ed7953\"],[0.7777777777777778,\"#fb9f3a\"],[0.8888888888888888,\"#fdca26\"],[1.0,\"#f0f921\"]],\"type\":\"heatmapgl\"}],\"heatmap\":[{\"colorbar\":{\"outlinewidth\":0,\"ticks\":\"\"},\"colorscale\":[[0.0,\"#0d0887\"],[0.1111111111111111,\"#46039f\"],[0.2222222222222222,\"#7201a8\"],[0.3333333333333333,\"#9c179e\"],[0.4444444444444444,\"#bd3786\"],[0.5555555555555556,\"#d8576b\"],[0.6666666666666666,\"#ed7953\"],[0.7777777777777778,\"#fb9f3a\"],[0.8888888888888888,\"#fdca26\"],[1.0,\"#f0f921\"]],\"type\":\"heatmap\"}],\"histogram2dcontour\":[{\"colorbar\":{\"outlinewidth\":0,\"ticks\":\"\"},\"colorscale\":[[0.0,\"#0d0887\"],[0.1111111111111111,\"#46039f\"],[0.2222222222222222,\"#7201a8\"],[0.3333333333333333,\"#9c179e\"],[0.4444444444444444,\"#bd3786\"],[0.5555555555555556,\"#d8576b\"],[0.6666666666666666,\"#ed7953\"],[0.7777777777777778,\"#fb9f3a\"],[0.8888888888888888,\"#fdca26\"],[1.0,\"#f0f921\"]],\"type\":\"histogram2dcontour\"}],\"histogram2d\":[{\"colorbar\":{\"outlinewidth\":0,\"ticks\":\"\"},\"colorscale\":[[0.0,\"#0d0887\"],[0.1111111111111111,\"#46039f\"],[0.2222222222222222,\"#7201a8\"],[0.3333333333333333,\"#9c179e\"],[0.4444444444444444,\"#bd3786\"],[0.5555555555555556,\"#d8576b\"],[0.6666666666666666,\"#ed7953\"],[0.7777777777777778,\"#fb9f3a\"],[0.8888888888888888,\"#fdca26\"],[1.0,\"#f0f921\"]],\"type\":\"histogram2d\"}],\"histogram\":[{\"marker\":{\"pattern\":{\"fillmode\":\"overlay\",\"size\":10,\"solidity\":0.2}},\"type\":\"histogram\"}],\"mesh3d\":[{\"colorbar\":{\"outlinewidth\":0,\"ticks\":\"\"},\"type\":\"mesh3d\"}],\"parcoords\":[{\"line\":{\"colorbar\":{\"outlinewidth\":0,\"ticks\":\"\"}},\"type\":\"parcoords\"}],\"pie\":[{\"automargin\":true,\"type\":\"pie\"}],\"scatter3d\":[{\"line\":{\"colorbar\":{\"outlinewidth\":0,\"ticks\":\"\"}},\"marker\":{\"colorbar\":{\"outlinewidth\":0,\"ticks\":\"\"}},\"type\":\"scatter3d\"}],\"scattercarpet\":[{\"marker\":{\"colorbar\":{\"outlinewidth\":0,\"ticks\":\"\"}},\"type\":\"scattercarpet\"}],\"scattergeo\":[{\"marker\":{\"colorbar\":{\"outlinewidth\":0,\"ticks\":\"\"}},\"type\":\"scattergeo\"}],\"scattergl\":[{\"marker\":{\"colorbar\":{\"outlinewidth\":0,\"ticks\":\"\"}},\"type\":\"scattergl\"}],\"scattermapbox\":[{\"marker\":{\"colorbar\":{\"outlinewidth\":0,\"ticks\":\"\"}},\"type\":\"scattermapbox\"}],\"scatterpolargl\":[{\"marker\":{\"colorbar\":{\"outlinewidth\":0,\"ticks\":\"\"}},\"type\":\"scatterpolargl\"}],\"scatterpolar\":[{\"marker\":{\"colorbar\":{\"outlinewidth\":0,\"ticks\":\"\"}},\"type\":\"scatterpolar\"}],\"scatter\":[{\"marker\":{\"colorbar\":{\"outlinewidth\":0,\"ticks\":\"\"}},\"type\":\"scatter\"}],\"scatterternary\":[{\"marker\":{\"colorbar\":{\"outlinewidth\":0,\"ticks\":\"\"}},\"type\":\"scatterternary\"}],\"surface\":[{\"colorbar\":{\"outlinewidth\":0,\"ticks\":\"\"},\"colorscale\":[[0.0,\"#0d0887\"],[0.1111111111111111,\"#46039f\"],[0.2222222222222222,\"#7201a8\"],[0.3333333333333333,\"#9c179e\"],[0.4444444444444444,\"#bd3786\"],[0.5555555555555556,\"#d8576b\"],[0.6666666666666666,\"#ed7953\"],[0.7777777777777778,\"#fb9f3a\"],[0.8888888888888888,\"#fdca26\"],[1.0,\"#f0f921\"]],\"type\":\"surface\"}],\"table\":[{\"cells\":{\"fill\":{\"color\":\"#EBF0F8\"},\"line\":{\"color\":\"white\"}},\"header\":{\"fill\":{\"color\":\"#C8D4E3\"},\"line\":{\"color\":\"white\"}},\"type\":\"table\"}]},\"layout\":{\"annotationdefaults\":{\"arrowcolor\":\"#2a3f5f\",\"arrowhead\":0,\"arrowwidth\":1},\"autotypenumbers\":\"strict\",\"coloraxis\":{\"colorbar\":{\"outlinewidth\":0,\"ticks\":\"\"}},\"colorscale\":{\"diverging\":[[0,\"#8e0152\"],[0.1,\"#c51b7d\"],[0.2,\"#de77ae\"],[0.3,\"#f1b6da\"],[0.4,\"#fde0ef\"],[0.5,\"#f7f7f7\"],[0.6,\"#e6f5d0\"],[0.7,\"#b8e186\"],[0.8,\"#7fbc41\"],[0.9,\"#4d9221\"],[1,\"#276419\"]],\"sequential\":[[0.0,\"#0d0887\"],[0.1111111111111111,\"#46039f\"],[0.2222222222222222,\"#7201a8\"],[0.3333333333333333,\"#9c179e\"],[0.4444444444444444,\"#bd3786\"],[0.5555555555555556,\"#d8576b\"],[0.6666666666666666,\"#ed7953\"],[0.7777777777777778,\"#fb9f3a\"],[0.8888888888888888,\"#fdca26\"],[1.0,\"#f0f921\"]],\"sequentialminus\":[[0.0,\"#0d0887\"],[0.1111111111111111,\"#46039f\"],[0.2222222222222222,\"#7201a8\"],[0.3333333333333333,\"#9c179e\"],[0.4444444444444444,\"#bd3786\"],[0.5555555555555556,\"#d8576b\"],[0.6666666666666666,\"#ed7953\"],[0.7777777777777778,\"#fb9f3a\"],[0.8888888888888888,\"#fdca26\"],[1.0,\"#f0f921\"]]},\"colorway\":[\"#636efa\",\"#EF553B\",\"#00cc96\",\"#ab63fa\",\"#FFA15A\",\"#19d3f3\",\"#FF6692\",\"#B6E880\",\"#FF97FF\",\"#FECB52\"],\"font\":{\"color\":\"#2a3f5f\"},\"geo\":{\"bgcolor\":\"white\",\"lakecolor\":\"white\",\"landcolor\":\"#E5ECF6\",\"showlakes\":true,\"showland\":true,\"subunitcolor\":\"white\"},\"hoverlabel\":{\"align\":\"left\"},\"hovermode\":\"closest\",\"mapbox\":{\"style\":\"light\"},\"paper_bgcolor\":\"white\",\"plot_bgcolor\":\"#E5ECF6\",\"polar\":{\"angularaxis\":{\"gridcolor\":\"white\",\"linecolor\":\"white\",\"ticks\":\"\"},\"bgcolor\":\"#E5ECF6\",\"radialaxis\":{\"gridcolor\":\"white\",\"linecolor\":\"white\",\"ticks\":\"\"}},\"scene\":{\"xaxis\":{\"backgroundcolor\":\"#E5ECF6\",\"gridcolor\":\"white\",\"gridwidth\":2,\"linecolor\":\"white\",\"showbackground\":true,\"ticks\":\"\",\"zerolinecolor\":\"white\"},\"yaxis\":{\"backgroundcolor\":\"#E5ECF6\",\"gridcolor\":\"white\",\"gridwidth\":2,\"linecolor\":\"white\",\"showbackground\":true,\"ticks\":\"\",\"zerolinecolor\":\"white\"},\"zaxis\":{\"backgroundcolor\":\"#E5ECF6\",\"gridcolor\":\"white\",\"gridwidth\":2,\"linecolor\":\"white\",\"showbackground\":true,\"ticks\":\"\",\"zerolinecolor\":\"white\"}},\"shapedefaults\":{\"line\":{\"color\":\"#2a3f5f\"}},\"ternary\":{\"aaxis\":{\"gridcolor\":\"white\",\"linecolor\":\"white\",\"ticks\":\"\"},\"baxis\":{\"gridcolor\":\"white\",\"linecolor\":\"white\",\"ticks\":\"\"},\"bgcolor\":\"#E5ECF6\",\"caxis\":{\"gridcolor\":\"white\",\"linecolor\":\"white\",\"ticks\":\"\"}},\"title\":{\"x\":0.05},\"xaxis\":{\"automargin\":true,\"gridcolor\":\"white\",\"linecolor\":\"white\",\"ticks\":\"\",\"title\":{\"standoff\":15},\"zerolinecolor\":\"white\",\"zerolinewidth\":2},\"yaxis\":{\"automargin\":true,\"gridcolor\":\"white\",\"linecolor\":\"white\",\"ticks\":\"\",\"title\":{\"standoff\":15},\"zerolinecolor\":\"white\",\"zerolinewidth\":2}}},\"title\":{\"font\":{\"color\":\"#4D5663\"}},\"xaxis\":{\"gridcolor\":\"#E1E5ED\",\"showgrid\":true,\"tickfont\":{\"color\":\"#4D5663\"},\"title\":{\"font\":{\"color\":\"#4D5663\"},\"text\":\"\"},\"zerolinecolor\":\"#E1E5ED\"},\"yaxis\":{\"gridcolor\":\"#E1E5ED\",\"showgrid\":true,\"tickfont\":{\"color\":\"#4D5663\"},\"title\":{\"font\":{\"color\":\"#4D5663\"},\"text\":\"\"},\"zerolinecolor\":\"#E1E5ED\"}},                        {\"showLink\": true, \"linkText\": \"Export to plot.ly\", \"plotlyServerURL\": \"https://plot.ly\", \"responsive\": true}                    ).then(function(){\n",
       "                            \n",
       "var gd = document.getElementById('bb1083d8-f7c3-4acb-baae-2e3e749ae397');\n",
       "var x = new MutationObserver(function (mutations, observer) {{\n",
       "        var display = window.getComputedStyle(gd).display;\n",
       "        if (!display || display === 'none') {{\n",
       "            console.log([gd, 'removed!']);\n",
       "            Plotly.purge(gd);\n",
       "            observer.disconnect();\n",
       "        }}\n",
       "}});\n",
       "\n",
       "// Listen for the removal of the full notebook cells\n",
       "var notebookContainer = gd.closest('#notebook-container');\n",
       "if (notebookContainer) {{\n",
       "    x.observe(notebookContainer, {childList: true});\n",
       "}}\n",
       "\n",
       "// Listen for the clearing of the current output cell\n",
       "var outputEl = gd.closest('.output');\n",
       "if (outputEl) {{\n",
       "    x.observe(outputEl, {childList: true});\n",
       "}}\n",
       "\n",
       "                        })                };                });            </script>        </div>"
      ]
     },
     "metadata": {},
     "output_type": "display_data"
    }
   ],
   "source": [
    "df.iplot(kind='scatter',x='A',y='B',mode='markers',size=10)"
   ]
  },
  {
   "cell_type": "markdown",
   "metadata": {},
   "source": [
    "## Bar Plots"
   ]
  },
  {
   "cell_type": "code",
   "execution_count": 12,
   "metadata": {
    "collapsed": false
   },
   "outputs": [
    {
     "data": {
      "application/vnd.plotly.v1+json": {
       "config": {
        "linkText": "Export to plot.ly",
        "plotlyServerURL": "https://plot.ly",
        "showLink": true
       },
       "data": [
        {
         "marker": {
          "color": "rgba(255, 153, 51, 0.6)",
          "line": {
           "color": "rgba(255, 153, 51, 1.0)",
           "width": 1
          }
         },
         "name": "Values",
         "orientation": "v",
         "text": "",
         "type": "bar",
         "x": [
          "A",
          "B",
          "C"
         ],
         "y": [
          32,
          43,
          50
         ]
        }
       ],
       "layout": {
        "legend": {
         "bgcolor": "#F5F6F9",
         "font": {
          "color": "#4D5663"
         }
        },
        "paper_bgcolor": "#F5F6F9",
        "plot_bgcolor": "#F5F6F9",
        "template": {
         "data": {
          "bar": [
           {
            "error_x": {
             "color": "#2a3f5f"
            },
            "error_y": {
             "color": "#2a3f5f"
            },
            "marker": {
             "line": {
              "color": "#E5ECF6",
              "width": 0.5
             },
             "pattern": {
              "fillmode": "overlay",
              "size": 10,
              "solidity": 0.2
             }
            },
            "type": "bar"
           }
          ],
          "barpolar": [
           {
            "marker": {
             "line": {
              "color": "#E5ECF6",
              "width": 0.5
             },
             "pattern": {
              "fillmode": "overlay",
              "size": 10,
              "solidity": 0.2
             }
            },
            "type": "barpolar"
           }
          ],
          "carpet": [
           {
            "aaxis": {
             "endlinecolor": "#2a3f5f",
             "gridcolor": "white",
             "linecolor": "white",
             "minorgridcolor": "white",
             "startlinecolor": "#2a3f5f"
            },
            "baxis": {
             "endlinecolor": "#2a3f5f",
             "gridcolor": "white",
             "linecolor": "white",
             "minorgridcolor": "white",
             "startlinecolor": "#2a3f5f"
            },
            "type": "carpet"
           }
          ],
          "choropleth": [
           {
            "colorbar": {
             "outlinewidth": 0,
             "ticks": ""
            },
            "type": "choropleth"
           }
          ],
          "contour": [
           {
            "colorbar": {
             "outlinewidth": 0,
             "ticks": ""
            },
            "colorscale": [
             [
              0,
              "#0d0887"
             ],
             [
              0.1111111111111111,
              "#46039f"
             ],
             [
              0.2222222222222222,
              "#7201a8"
             ],
             [
              0.3333333333333333,
              "#9c179e"
             ],
             [
              0.4444444444444444,
              "#bd3786"
             ],
             [
              0.5555555555555556,
              "#d8576b"
             ],
             [
              0.6666666666666666,
              "#ed7953"
             ],
             [
              0.7777777777777778,
              "#fb9f3a"
             ],
             [
              0.8888888888888888,
              "#fdca26"
             ],
             [
              1,
              "#f0f921"
             ]
            ],
            "type": "contour"
           }
          ],
          "contourcarpet": [
           {
            "colorbar": {
             "outlinewidth": 0,
             "ticks": ""
            },
            "type": "contourcarpet"
           }
          ],
          "heatmap": [
           {
            "colorbar": {
             "outlinewidth": 0,
             "ticks": ""
            },
            "colorscale": [
             [
              0,
              "#0d0887"
             ],
             [
              0.1111111111111111,
              "#46039f"
             ],
             [
              0.2222222222222222,
              "#7201a8"
             ],
             [
              0.3333333333333333,
              "#9c179e"
             ],
             [
              0.4444444444444444,
              "#bd3786"
             ],
             [
              0.5555555555555556,
              "#d8576b"
             ],
             [
              0.6666666666666666,
              "#ed7953"
             ],
             [
              0.7777777777777778,
              "#fb9f3a"
             ],
             [
              0.8888888888888888,
              "#fdca26"
             ],
             [
              1,
              "#f0f921"
             ]
            ],
            "type": "heatmap"
           }
          ],
          "heatmapgl": [
           {
            "colorbar": {
             "outlinewidth": 0,
             "ticks": ""
            },
            "colorscale": [
             [
              0,
              "#0d0887"
             ],
             [
              0.1111111111111111,
              "#46039f"
             ],
             [
              0.2222222222222222,
              "#7201a8"
             ],
             [
              0.3333333333333333,
              "#9c179e"
             ],
             [
              0.4444444444444444,
              "#bd3786"
             ],
             [
              0.5555555555555556,
              "#d8576b"
             ],
             [
              0.6666666666666666,
              "#ed7953"
             ],
             [
              0.7777777777777778,
              "#fb9f3a"
             ],
             [
              0.8888888888888888,
              "#fdca26"
             ],
             [
              1,
              "#f0f921"
             ]
            ],
            "type": "heatmapgl"
           }
          ],
          "histogram": [
           {
            "marker": {
             "pattern": {
              "fillmode": "overlay",
              "size": 10,
              "solidity": 0.2
             }
            },
            "type": "histogram"
           }
          ],
          "histogram2d": [
           {
            "colorbar": {
             "outlinewidth": 0,
             "ticks": ""
            },
            "colorscale": [
             [
              0,
              "#0d0887"
             ],
             [
              0.1111111111111111,
              "#46039f"
             ],
             [
              0.2222222222222222,
              "#7201a8"
             ],
             [
              0.3333333333333333,
              "#9c179e"
             ],
             [
              0.4444444444444444,
              "#bd3786"
             ],
             [
              0.5555555555555556,
              "#d8576b"
             ],
             [
              0.6666666666666666,
              "#ed7953"
             ],
             [
              0.7777777777777778,
              "#fb9f3a"
             ],
             [
              0.8888888888888888,
              "#fdca26"
             ],
             [
              1,
              "#f0f921"
             ]
            ],
            "type": "histogram2d"
           }
          ],
          "histogram2dcontour": [
           {
            "colorbar": {
             "outlinewidth": 0,
             "ticks": ""
            },
            "colorscale": [
             [
              0,
              "#0d0887"
             ],
             [
              0.1111111111111111,
              "#46039f"
             ],
             [
              0.2222222222222222,
              "#7201a8"
             ],
             [
              0.3333333333333333,
              "#9c179e"
             ],
             [
              0.4444444444444444,
              "#bd3786"
             ],
             [
              0.5555555555555556,
              "#d8576b"
             ],
             [
              0.6666666666666666,
              "#ed7953"
             ],
             [
              0.7777777777777778,
              "#fb9f3a"
             ],
             [
              0.8888888888888888,
              "#fdca26"
             ],
             [
              1,
              "#f0f921"
             ]
            ],
            "type": "histogram2dcontour"
           }
          ],
          "mesh3d": [
           {
            "colorbar": {
             "outlinewidth": 0,
             "ticks": ""
            },
            "type": "mesh3d"
           }
          ],
          "parcoords": [
           {
            "line": {
             "colorbar": {
              "outlinewidth": 0,
              "ticks": ""
             }
            },
            "type": "parcoords"
           }
          ],
          "pie": [
           {
            "automargin": true,
            "type": "pie"
           }
          ],
          "scatter": [
           {
            "marker": {
             "colorbar": {
              "outlinewidth": 0,
              "ticks": ""
             }
            },
            "type": "scatter"
           }
          ],
          "scatter3d": [
           {
            "line": {
             "colorbar": {
              "outlinewidth": 0,
              "ticks": ""
             }
            },
            "marker": {
             "colorbar": {
              "outlinewidth": 0,
              "ticks": ""
             }
            },
            "type": "scatter3d"
           }
          ],
          "scattercarpet": [
           {
            "marker": {
             "colorbar": {
              "outlinewidth": 0,
              "ticks": ""
             }
            },
            "type": "scattercarpet"
           }
          ],
          "scattergeo": [
           {
            "marker": {
             "colorbar": {
              "outlinewidth": 0,
              "ticks": ""
             }
            },
            "type": "scattergeo"
           }
          ],
          "scattergl": [
           {
            "marker": {
             "colorbar": {
              "outlinewidth": 0,
              "ticks": ""
             }
            },
            "type": "scattergl"
           }
          ],
          "scattermapbox": [
           {
            "marker": {
             "colorbar": {
              "outlinewidth": 0,
              "ticks": ""
             }
            },
            "type": "scattermapbox"
           }
          ],
          "scatterpolar": [
           {
            "marker": {
             "colorbar": {
              "outlinewidth": 0,
              "ticks": ""
             }
            },
            "type": "scatterpolar"
           }
          ],
          "scatterpolargl": [
           {
            "marker": {
             "colorbar": {
              "outlinewidth": 0,
              "ticks": ""
             }
            },
            "type": "scatterpolargl"
           }
          ],
          "scatterternary": [
           {
            "marker": {
             "colorbar": {
              "outlinewidth": 0,
              "ticks": ""
             }
            },
            "type": "scatterternary"
           }
          ],
          "surface": [
           {
            "colorbar": {
             "outlinewidth": 0,
             "ticks": ""
            },
            "colorscale": [
             [
              0,
              "#0d0887"
             ],
             [
              0.1111111111111111,
              "#46039f"
             ],
             [
              0.2222222222222222,
              "#7201a8"
             ],
             [
              0.3333333333333333,
              "#9c179e"
             ],
             [
              0.4444444444444444,
              "#bd3786"
             ],
             [
              0.5555555555555556,
              "#d8576b"
             ],
             [
              0.6666666666666666,
              "#ed7953"
             ],
             [
              0.7777777777777778,
              "#fb9f3a"
             ],
             [
              0.8888888888888888,
              "#fdca26"
             ],
             [
              1,
              "#f0f921"
             ]
            ],
            "type": "surface"
           }
          ],
          "table": [
           {
            "cells": {
             "fill": {
              "color": "#EBF0F8"
             },
             "line": {
              "color": "white"
             }
            },
            "header": {
             "fill": {
              "color": "#C8D4E3"
             },
             "line": {
              "color": "white"
             }
            },
            "type": "table"
           }
          ]
         },
         "layout": {
          "annotationdefaults": {
           "arrowcolor": "#2a3f5f",
           "arrowhead": 0,
           "arrowwidth": 1
          },
          "autotypenumbers": "strict",
          "coloraxis": {
           "colorbar": {
            "outlinewidth": 0,
            "ticks": ""
           }
          },
          "colorscale": {
           "diverging": [
            [
             0,
             "#8e0152"
            ],
            [
             0.1,
             "#c51b7d"
            ],
            [
             0.2,
             "#de77ae"
            ],
            [
             0.3,
             "#f1b6da"
            ],
            [
             0.4,
             "#fde0ef"
            ],
            [
             0.5,
             "#f7f7f7"
            ],
            [
             0.6,
             "#e6f5d0"
            ],
            [
             0.7,
             "#b8e186"
            ],
            [
             0.8,
             "#7fbc41"
            ],
            [
             0.9,
             "#4d9221"
            ],
            [
             1,
             "#276419"
            ]
           ],
           "sequential": [
            [
             0,
             "#0d0887"
            ],
            [
             0.1111111111111111,
             "#46039f"
            ],
            [
             0.2222222222222222,
             "#7201a8"
            ],
            [
             0.3333333333333333,
             "#9c179e"
            ],
            [
             0.4444444444444444,
             "#bd3786"
            ],
            [
             0.5555555555555556,
             "#d8576b"
            ],
            [
             0.6666666666666666,
             "#ed7953"
            ],
            [
             0.7777777777777778,
             "#fb9f3a"
            ],
            [
             0.8888888888888888,
             "#fdca26"
            ],
            [
             1,
             "#f0f921"
            ]
           ],
           "sequentialminus": [
            [
             0,
             "#0d0887"
            ],
            [
             0.1111111111111111,
             "#46039f"
            ],
            [
             0.2222222222222222,
             "#7201a8"
            ],
            [
             0.3333333333333333,
             "#9c179e"
            ],
            [
             0.4444444444444444,
             "#bd3786"
            ],
            [
             0.5555555555555556,
             "#d8576b"
            ],
            [
             0.6666666666666666,
             "#ed7953"
            ],
            [
             0.7777777777777778,
             "#fb9f3a"
            ],
            [
             0.8888888888888888,
             "#fdca26"
            ],
            [
             1,
             "#f0f921"
            ]
           ]
          },
          "colorway": [
           "#636efa",
           "#EF553B",
           "#00cc96",
           "#ab63fa",
           "#FFA15A",
           "#19d3f3",
           "#FF6692",
           "#B6E880",
           "#FF97FF",
           "#FECB52"
          ],
          "font": {
           "color": "#2a3f5f"
          },
          "geo": {
           "bgcolor": "white",
           "lakecolor": "white",
           "landcolor": "#E5ECF6",
           "showlakes": true,
           "showland": true,
           "subunitcolor": "white"
          },
          "hoverlabel": {
           "align": "left"
          },
          "hovermode": "closest",
          "mapbox": {
           "style": "light"
          },
          "paper_bgcolor": "white",
          "plot_bgcolor": "#E5ECF6",
          "polar": {
           "angularaxis": {
            "gridcolor": "white",
            "linecolor": "white",
            "ticks": ""
           },
           "bgcolor": "#E5ECF6",
           "radialaxis": {
            "gridcolor": "white",
            "linecolor": "white",
            "ticks": ""
           }
          },
          "scene": {
           "xaxis": {
            "backgroundcolor": "#E5ECF6",
            "gridcolor": "white",
            "gridwidth": 2,
            "linecolor": "white",
            "showbackground": true,
            "ticks": "",
            "zerolinecolor": "white"
           },
           "yaxis": {
            "backgroundcolor": "#E5ECF6",
            "gridcolor": "white",
            "gridwidth": 2,
            "linecolor": "white",
            "showbackground": true,
            "ticks": "",
            "zerolinecolor": "white"
           },
           "zaxis": {
            "backgroundcolor": "#E5ECF6",
            "gridcolor": "white",
            "gridwidth": 2,
            "linecolor": "white",
            "showbackground": true,
            "ticks": "",
            "zerolinecolor": "white"
           }
          },
          "shapedefaults": {
           "line": {
            "color": "#2a3f5f"
           }
          },
          "ternary": {
           "aaxis": {
            "gridcolor": "white",
            "linecolor": "white",
            "ticks": ""
           },
           "baxis": {
            "gridcolor": "white",
            "linecolor": "white",
            "ticks": ""
           },
           "bgcolor": "#E5ECF6",
           "caxis": {
            "gridcolor": "white",
            "linecolor": "white",
            "ticks": ""
           }
          },
          "title": {
           "x": 0.05
          },
          "xaxis": {
           "automargin": true,
           "gridcolor": "white",
           "linecolor": "white",
           "ticks": "",
           "title": {
            "standoff": 15
           },
           "zerolinecolor": "white",
           "zerolinewidth": 2
          },
          "yaxis": {
           "automargin": true,
           "gridcolor": "white",
           "linecolor": "white",
           "ticks": "",
           "title": {
            "standoff": 15
           },
           "zerolinecolor": "white",
           "zerolinewidth": 2
          }
         }
        },
        "title": {
         "font": {
          "color": "#4D5663"
         }
        },
        "xaxis": {
         "gridcolor": "#E1E5ED",
         "showgrid": true,
         "tickfont": {
          "color": "#4D5663"
         },
         "title": {
          "font": {
           "color": "#4D5663"
          },
          "text": ""
         },
         "zerolinecolor": "#E1E5ED"
        },
        "yaxis": {
         "gridcolor": "#E1E5ED",
         "showgrid": true,
         "tickfont": {
          "color": "#4D5663"
         },
         "title": {
          "font": {
           "color": "#4D5663"
          },
          "text": ""
         },
         "zerolinecolor": "#E1E5ED"
        }
       }
      },
      "text/html": [
       "<div>                            <div id=\"07bea7d6-047a-4d02-a1db-df6017617015\" class=\"plotly-graph-div\" style=\"height:525px; width:100%;\"></div>            <script type=\"text/javascript\">                require([\"plotly\"], function(Plotly) {                    window.PLOTLYENV=window.PLOTLYENV || {};\n",
       "                    window.PLOTLYENV.BASE_URL='https://plot.ly';                                    if (document.getElementById(\"07bea7d6-047a-4d02-a1db-df6017617015\")) {                    Plotly.newPlot(                        \"07bea7d6-047a-4d02-a1db-df6017617015\",                        [{\"marker\":{\"color\":\"rgba(255, 153, 51, 0.6)\",\"line\":{\"color\":\"rgba(255, 153, 51, 1.0)\",\"width\":1}},\"name\":\"Values\",\"orientation\":\"v\",\"text\":\"\",\"x\":[\"A\",\"B\",\"C\"],\"y\":[32,43,50],\"type\":\"bar\"}],                        {\"legend\":{\"bgcolor\":\"#F5F6F9\",\"font\":{\"color\":\"#4D5663\"}},\"paper_bgcolor\":\"#F5F6F9\",\"plot_bgcolor\":\"#F5F6F9\",\"template\":{\"data\":{\"barpolar\":[{\"marker\":{\"line\":{\"color\":\"#E5ECF6\",\"width\":0.5},\"pattern\":{\"fillmode\":\"overlay\",\"size\":10,\"solidity\":0.2}},\"type\":\"barpolar\"}],\"bar\":[{\"error_x\":{\"color\":\"#2a3f5f\"},\"error_y\":{\"color\":\"#2a3f5f\"},\"marker\":{\"line\":{\"color\":\"#E5ECF6\",\"width\":0.5},\"pattern\":{\"fillmode\":\"overlay\",\"size\":10,\"solidity\":0.2}},\"type\":\"bar\"}],\"carpet\":[{\"aaxis\":{\"endlinecolor\":\"#2a3f5f\",\"gridcolor\":\"white\",\"linecolor\":\"white\",\"minorgridcolor\":\"white\",\"startlinecolor\":\"#2a3f5f\"},\"baxis\":{\"endlinecolor\":\"#2a3f5f\",\"gridcolor\":\"white\",\"linecolor\":\"white\",\"minorgridcolor\":\"white\",\"startlinecolor\":\"#2a3f5f\"},\"type\":\"carpet\"}],\"choropleth\":[{\"colorbar\":{\"outlinewidth\":0,\"ticks\":\"\"},\"type\":\"choropleth\"}],\"contourcarpet\":[{\"colorbar\":{\"outlinewidth\":0,\"ticks\":\"\"},\"type\":\"contourcarpet\"}],\"contour\":[{\"colorbar\":{\"outlinewidth\":0,\"ticks\":\"\"},\"colorscale\":[[0.0,\"#0d0887\"],[0.1111111111111111,\"#46039f\"],[0.2222222222222222,\"#7201a8\"],[0.3333333333333333,\"#9c179e\"],[0.4444444444444444,\"#bd3786\"],[0.5555555555555556,\"#d8576b\"],[0.6666666666666666,\"#ed7953\"],[0.7777777777777778,\"#fb9f3a\"],[0.8888888888888888,\"#fdca26\"],[1.0,\"#f0f921\"]],\"type\":\"contour\"}],\"heatmapgl\":[{\"colorbar\":{\"outlinewidth\":0,\"ticks\":\"\"},\"colorscale\":[[0.0,\"#0d0887\"],[0.1111111111111111,\"#46039f\"],[0.2222222222222222,\"#7201a8\"],[0.3333333333333333,\"#9c179e\"],[0.4444444444444444,\"#bd3786\"],[0.5555555555555556,\"#d8576b\"],[0.6666666666666666,\"#ed7953\"],[0.7777777777777778,\"#fb9f3a\"],[0.8888888888888888,\"#fdca26\"],[1.0,\"#f0f921\"]],\"type\":\"heatmapgl\"}],\"heatmap\":[{\"colorbar\":{\"outlinewidth\":0,\"ticks\":\"\"},\"colorscale\":[[0.0,\"#0d0887\"],[0.1111111111111111,\"#46039f\"],[0.2222222222222222,\"#7201a8\"],[0.3333333333333333,\"#9c179e\"],[0.4444444444444444,\"#bd3786\"],[0.5555555555555556,\"#d8576b\"],[0.6666666666666666,\"#ed7953\"],[0.7777777777777778,\"#fb9f3a\"],[0.8888888888888888,\"#fdca26\"],[1.0,\"#f0f921\"]],\"type\":\"heatmap\"}],\"histogram2dcontour\":[{\"colorbar\":{\"outlinewidth\":0,\"ticks\":\"\"},\"colorscale\":[[0.0,\"#0d0887\"],[0.1111111111111111,\"#46039f\"],[0.2222222222222222,\"#7201a8\"],[0.3333333333333333,\"#9c179e\"],[0.4444444444444444,\"#bd3786\"],[0.5555555555555556,\"#d8576b\"],[0.6666666666666666,\"#ed7953\"],[0.7777777777777778,\"#fb9f3a\"],[0.8888888888888888,\"#fdca26\"],[1.0,\"#f0f921\"]],\"type\":\"histogram2dcontour\"}],\"histogram2d\":[{\"colorbar\":{\"outlinewidth\":0,\"ticks\":\"\"},\"colorscale\":[[0.0,\"#0d0887\"],[0.1111111111111111,\"#46039f\"],[0.2222222222222222,\"#7201a8\"],[0.3333333333333333,\"#9c179e\"],[0.4444444444444444,\"#bd3786\"],[0.5555555555555556,\"#d8576b\"],[0.6666666666666666,\"#ed7953\"],[0.7777777777777778,\"#fb9f3a\"],[0.8888888888888888,\"#fdca26\"],[1.0,\"#f0f921\"]],\"type\":\"histogram2d\"}],\"histogram\":[{\"marker\":{\"pattern\":{\"fillmode\":\"overlay\",\"size\":10,\"solidity\":0.2}},\"type\":\"histogram\"}],\"mesh3d\":[{\"colorbar\":{\"outlinewidth\":0,\"ticks\":\"\"},\"type\":\"mesh3d\"}],\"parcoords\":[{\"line\":{\"colorbar\":{\"outlinewidth\":0,\"ticks\":\"\"}},\"type\":\"parcoords\"}],\"pie\":[{\"automargin\":true,\"type\":\"pie\"}],\"scatter3d\":[{\"line\":{\"colorbar\":{\"outlinewidth\":0,\"ticks\":\"\"}},\"marker\":{\"colorbar\":{\"outlinewidth\":0,\"ticks\":\"\"}},\"type\":\"scatter3d\"}],\"scattercarpet\":[{\"marker\":{\"colorbar\":{\"outlinewidth\":0,\"ticks\":\"\"}},\"type\":\"scattercarpet\"}],\"scattergeo\":[{\"marker\":{\"colorbar\":{\"outlinewidth\":0,\"ticks\":\"\"}},\"type\":\"scattergeo\"}],\"scattergl\":[{\"marker\":{\"colorbar\":{\"outlinewidth\":0,\"ticks\":\"\"}},\"type\":\"scattergl\"}],\"scattermapbox\":[{\"marker\":{\"colorbar\":{\"outlinewidth\":0,\"ticks\":\"\"}},\"type\":\"scattermapbox\"}],\"scatterpolargl\":[{\"marker\":{\"colorbar\":{\"outlinewidth\":0,\"ticks\":\"\"}},\"type\":\"scatterpolargl\"}],\"scatterpolar\":[{\"marker\":{\"colorbar\":{\"outlinewidth\":0,\"ticks\":\"\"}},\"type\":\"scatterpolar\"}],\"scatter\":[{\"marker\":{\"colorbar\":{\"outlinewidth\":0,\"ticks\":\"\"}},\"type\":\"scatter\"}],\"scatterternary\":[{\"marker\":{\"colorbar\":{\"outlinewidth\":0,\"ticks\":\"\"}},\"type\":\"scatterternary\"}],\"surface\":[{\"colorbar\":{\"outlinewidth\":0,\"ticks\":\"\"},\"colorscale\":[[0.0,\"#0d0887\"],[0.1111111111111111,\"#46039f\"],[0.2222222222222222,\"#7201a8\"],[0.3333333333333333,\"#9c179e\"],[0.4444444444444444,\"#bd3786\"],[0.5555555555555556,\"#d8576b\"],[0.6666666666666666,\"#ed7953\"],[0.7777777777777778,\"#fb9f3a\"],[0.8888888888888888,\"#fdca26\"],[1.0,\"#f0f921\"]],\"type\":\"surface\"}],\"table\":[{\"cells\":{\"fill\":{\"color\":\"#EBF0F8\"},\"line\":{\"color\":\"white\"}},\"header\":{\"fill\":{\"color\":\"#C8D4E3\"},\"line\":{\"color\":\"white\"}},\"type\":\"table\"}]},\"layout\":{\"annotationdefaults\":{\"arrowcolor\":\"#2a3f5f\",\"arrowhead\":0,\"arrowwidth\":1},\"autotypenumbers\":\"strict\",\"coloraxis\":{\"colorbar\":{\"outlinewidth\":0,\"ticks\":\"\"}},\"colorscale\":{\"diverging\":[[0,\"#8e0152\"],[0.1,\"#c51b7d\"],[0.2,\"#de77ae\"],[0.3,\"#f1b6da\"],[0.4,\"#fde0ef\"],[0.5,\"#f7f7f7\"],[0.6,\"#e6f5d0\"],[0.7,\"#b8e186\"],[0.8,\"#7fbc41\"],[0.9,\"#4d9221\"],[1,\"#276419\"]],\"sequential\":[[0.0,\"#0d0887\"],[0.1111111111111111,\"#46039f\"],[0.2222222222222222,\"#7201a8\"],[0.3333333333333333,\"#9c179e\"],[0.4444444444444444,\"#bd3786\"],[0.5555555555555556,\"#d8576b\"],[0.6666666666666666,\"#ed7953\"],[0.7777777777777778,\"#fb9f3a\"],[0.8888888888888888,\"#fdca26\"],[1.0,\"#f0f921\"]],\"sequentialminus\":[[0.0,\"#0d0887\"],[0.1111111111111111,\"#46039f\"],[0.2222222222222222,\"#7201a8\"],[0.3333333333333333,\"#9c179e\"],[0.4444444444444444,\"#bd3786\"],[0.5555555555555556,\"#d8576b\"],[0.6666666666666666,\"#ed7953\"],[0.7777777777777778,\"#fb9f3a\"],[0.8888888888888888,\"#fdca26\"],[1.0,\"#f0f921\"]]},\"colorway\":[\"#636efa\",\"#EF553B\",\"#00cc96\",\"#ab63fa\",\"#FFA15A\",\"#19d3f3\",\"#FF6692\",\"#B6E880\",\"#FF97FF\",\"#FECB52\"],\"font\":{\"color\":\"#2a3f5f\"},\"geo\":{\"bgcolor\":\"white\",\"lakecolor\":\"white\",\"landcolor\":\"#E5ECF6\",\"showlakes\":true,\"showland\":true,\"subunitcolor\":\"white\"},\"hoverlabel\":{\"align\":\"left\"},\"hovermode\":\"closest\",\"mapbox\":{\"style\":\"light\"},\"paper_bgcolor\":\"white\",\"plot_bgcolor\":\"#E5ECF6\",\"polar\":{\"angularaxis\":{\"gridcolor\":\"white\",\"linecolor\":\"white\",\"ticks\":\"\"},\"bgcolor\":\"#E5ECF6\",\"radialaxis\":{\"gridcolor\":\"white\",\"linecolor\":\"white\",\"ticks\":\"\"}},\"scene\":{\"xaxis\":{\"backgroundcolor\":\"#E5ECF6\",\"gridcolor\":\"white\",\"gridwidth\":2,\"linecolor\":\"white\",\"showbackground\":true,\"ticks\":\"\",\"zerolinecolor\":\"white\"},\"yaxis\":{\"backgroundcolor\":\"#E5ECF6\",\"gridcolor\":\"white\",\"gridwidth\":2,\"linecolor\":\"white\",\"showbackground\":true,\"ticks\":\"\",\"zerolinecolor\":\"white\"},\"zaxis\":{\"backgroundcolor\":\"#E5ECF6\",\"gridcolor\":\"white\",\"gridwidth\":2,\"linecolor\":\"white\",\"showbackground\":true,\"ticks\":\"\",\"zerolinecolor\":\"white\"}},\"shapedefaults\":{\"line\":{\"color\":\"#2a3f5f\"}},\"ternary\":{\"aaxis\":{\"gridcolor\":\"white\",\"linecolor\":\"white\",\"ticks\":\"\"},\"baxis\":{\"gridcolor\":\"white\",\"linecolor\":\"white\",\"ticks\":\"\"},\"bgcolor\":\"#E5ECF6\",\"caxis\":{\"gridcolor\":\"white\",\"linecolor\":\"white\",\"ticks\":\"\"}},\"title\":{\"x\":0.05},\"xaxis\":{\"automargin\":true,\"gridcolor\":\"white\",\"linecolor\":\"white\",\"ticks\":\"\",\"title\":{\"standoff\":15},\"zerolinecolor\":\"white\",\"zerolinewidth\":2},\"yaxis\":{\"automargin\":true,\"gridcolor\":\"white\",\"linecolor\":\"white\",\"ticks\":\"\",\"title\":{\"standoff\":15},\"zerolinecolor\":\"white\",\"zerolinewidth\":2}}},\"title\":{\"font\":{\"color\":\"#4D5663\"}},\"xaxis\":{\"gridcolor\":\"#E1E5ED\",\"showgrid\":true,\"tickfont\":{\"color\":\"#4D5663\"},\"title\":{\"font\":{\"color\":\"#4D5663\"},\"text\":\"\"},\"zerolinecolor\":\"#E1E5ED\"},\"yaxis\":{\"gridcolor\":\"#E1E5ED\",\"showgrid\":true,\"tickfont\":{\"color\":\"#4D5663\"},\"title\":{\"font\":{\"color\":\"#4D5663\"},\"text\":\"\"},\"zerolinecolor\":\"#E1E5ED\"}},                        {\"showLink\": true, \"linkText\": \"Export to plot.ly\", \"plotlyServerURL\": \"https://plot.ly\", \"responsive\": true}                    ).then(function(){\n",
       "                            \n",
       "var gd = document.getElementById('07bea7d6-047a-4d02-a1db-df6017617015');\n",
       "var x = new MutationObserver(function (mutations, observer) {{\n",
       "        var display = window.getComputedStyle(gd).display;\n",
       "        if (!display || display === 'none') {{\n",
       "            console.log([gd, 'removed!']);\n",
       "            Plotly.purge(gd);\n",
       "            observer.disconnect();\n",
       "        }}\n",
       "}});\n",
       "\n",
       "// Listen for the removal of the full notebook cells\n",
       "var notebookContainer = gd.closest('#notebook-container');\n",
       "if (notebookContainer) {{\n",
       "    x.observe(notebookContainer, {childList: true});\n",
       "}}\n",
       "\n",
       "// Listen for the clearing of the current output cell\n",
       "var outputEl = gd.closest('.output');\n",
       "if (outputEl) {{\n",
       "    x.observe(outputEl, {childList: true});\n",
       "}}\n",
       "\n",
       "                        })                };                });            </script>        </div>"
      ]
     },
     "metadata": {},
     "output_type": "display_data"
    }
   ],
   "source": [
    "df2.iplot(kind='bar',x='Category',y='Values')"
   ]
  },
  {
   "cell_type": "code",
   "execution_count": 16,
   "metadata": {
    "collapsed": false
   },
   "outputs": [
    {
     "data": {
      "application/vnd.plotly.v1+json": {
       "config": {
        "linkText": "Export to plot.ly",
        "plotlyServerURL": "https://plot.ly",
        "showLink": true
       },
       "data": [
        {
         "marker": {
          "color": "rgba(255, 153, 51, 0.6)",
          "line": {
           "color": "rgba(255, 153, 51, 1.0)",
           "width": 1
          }
         },
         "name": "None",
         "orientation": "v",
         "text": "",
         "type": "bar",
         "x": [
          "A",
          "B",
          "C",
          "D"
         ],
         "y": [
          -1.6549245703348647,
          4.543002753291656,
          7.345442078142487,
          6.741306979922152
         ]
        }
       ],
       "layout": {
        "legend": {
         "bgcolor": "#F5F6F9",
         "font": {
          "color": "#4D5663"
         }
        },
        "paper_bgcolor": "#F5F6F9",
        "plot_bgcolor": "#F5F6F9",
        "template": {
         "data": {
          "bar": [
           {
            "error_x": {
             "color": "#2a3f5f"
            },
            "error_y": {
             "color": "#2a3f5f"
            },
            "marker": {
             "line": {
              "color": "#E5ECF6",
              "width": 0.5
             },
             "pattern": {
              "fillmode": "overlay",
              "size": 10,
              "solidity": 0.2
             }
            },
            "type": "bar"
           }
          ],
          "barpolar": [
           {
            "marker": {
             "line": {
              "color": "#E5ECF6",
              "width": 0.5
             },
             "pattern": {
              "fillmode": "overlay",
              "size": 10,
              "solidity": 0.2
             }
            },
            "type": "barpolar"
           }
          ],
          "carpet": [
           {
            "aaxis": {
             "endlinecolor": "#2a3f5f",
             "gridcolor": "white",
             "linecolor": "white",
             "minorgridcolor": "white",
             "startlinecolor": "#2a3f5f"
            },
            "baxis": {
             "endlinecolor": "#2a3f5f",
             "gridcolor": "white",
             "linecolor": "white",
             "minorgridcolor": "white",
             "startlinecolor": "#2a3f5f"
            },
            "type": "carpet"
           }
          ],
          "choropleth": [
           {
            "colorbar": {
             "outlinewidth": 0,
             "ticks": ""
            },
            "type": "choropleth"
           }
          ],
          "contour": [
           {
            "colorbar": {
             "outlinewidth": 0,
             "ticks": ""
            },
            "colorscale": [
             [
              0,
              "#0d0887"
             ],
             [
              0.1111111111111111,
              "#46039f"
             ],
             [
              0.2222222222222222,
              "#7201a8"
             ],
             [
              0.3333333333333333,
              "#9c179e"
             ],
             [
              0.4444444444444444,
              "#bd3786"
             ],
             [
              0.5555555555555556,
              "#d8576b"
             ],
             [
              0.6666666666666666,
              "#ed7953"
             ],
             [
              0.7777777777777778,
              "#fb9f3a"
             ],
             [
              0.8888888888888888,
              "#fdca26"
             ],
             [
              1,
              "#f0f921"
             ]
            ],
            "type": "contour"
           }
          ],
          "contourcarpet": [
           {
            "colorbar": {
             "outlinewidth": 0,
             "ticks": ""
            },
            "type": "contourcarpet"
           }
          ],
          "heatmap": [
           {
            "colorbar": {
             "outlinewidth": 0,
             "ticks": ""
            },
            "colorscale": [
             [
              0,
              "#0d0887"
             ],
             [
              0.1111111111111111,
              "#46039f"
             ],
             [
              0.2222222222222222,
              "#7201a8"
             ],
             [
              0.3333333333333333,
              "#9c179e"
             ],
             [
              0.4444444444444444,
              "#bd3786"
             ],
             [
              0.5555555555555556,
              "#d8576b"
             ],
             [
              0.6666666666666666,
              "#ed7953"
             ],
             [
              0.7777777777777778,
              "#fb9f3a"
             ],
             [
              0.8888888888888888,
              "#fdca26"
             ],
             [
              1,
              "#f0f921"
             ]
            ],
            "type": "heatmap"
           }
          ],
          "heatmapgl": [
           {
            "colorbar": {
             "outlinewidth": 0,
             "ticks": ""
            },
            "colorscale": [
             [
              0,
              "#0d0887"
             ],
             [
              0.1111111111111111,
              "#46039f"
             ],
             [
              0.2222222222222222,
              "#7201a8"
             ],
             [
              0.3333333333333333,
              "#9c179e"
             ],
             [
              0.4444444444444444,
              "#bd3786"
             ],
             [
              0.5555555555555556,
              "#d8576b"
             ],
             [
              0.6666666666666666,
              "#ed7953"
             ],
             [
              0.7777777777777778,
              "#fb9f3a"
             ],
             [
              0.8888888888888888,
              "#fdca26"
             ],
             [
              1,
              "#f0f921"
             ]
            ],
            "type": "heatmapgl"
           }
          ],
          "histogram": [
           {
            "marker": {
             "pattern": {
              "fillmode": "overlay",
              "size": 10,
              "solidity": 0.2
             }
            },
            "type": "histogram"
           }
          ],
          "histogram2d": [
           {
            "colorbar": {
             "outlinewidth": 0,
             "ticks": ""
            },
            "colorscale": [
             [
              0,
              "#0d0887"
             ],
             [
              0.1111111111111111,
              "#46039f"
             ],
             [
              0.2222222222222222,
              "#7201a8"
             ],
             [
              0.3333333333333333,
              "#9c179e"
             ],
             [
              0.4444444444444444,
              "#bd3786"
             ],
             [
              0.5555555555555556,
              "#d8576b"
             ],
             [
              0.6666666666666666,
              "#ed7953"
             ],
             [
              0.7777777777777778,
              "#fb9f3a"
             ],
             [
              0.8888888888888888,
              "#fdca26"
             ],
             [
              1,
              "#f0f921"
             ]
            ],
            "type": "histogram2d"
           }
          ],
          "histogram2dcontour": [
           {
            "colorbar": {
             "outlinewidth": 0,
             "ticks": ""
            },
            "colorscale": [
             [
              0,
              "#0d0887"
             ],
             [
              0.1111111111111111,
              "#46039f"
             ],
             [
              0.2222222222222222,
              "#7201a8"
             ],
             [
              0.3333333333333333,
              "#9c179e"
             ],
             [
              0.4444444444444444,
              "#bd3786"
             ],
             [
              0.5555555555555556,
              "#d8576b"
             ],
             [
              0.6666666666666666,
              "#ed7953"
             ],
             [
              0.7777777777777778,
              "#fb9f3a"
             ],
             [
              0.8888888888888888,
              "#fdca26"
             ],
             [
              1,
              "#f0f921"
             ]
            ],
            "type": "histogram2dcontour"
           }
          ],
          "mesh3d": [
           {
            "colorbar": {
             "outlinewidth": 0,
             "ticks": ""
            },
            "type": "mesh3d"
           }
          ],
          "parcoords": [
           {
            "line": {
             "colorbar": {
              "outlinewidth": 0,
              "ticks": ""
             }
            },
            "type": "parcoords"
           }
          ],
          "pie": [
           {
            "automargin": true,
            "type": "pie"
           }
          ],
          "scatter": [
           {
            "marker": {
             "colorbar": {
              "outlinewidth": 0,
              "ticks": ""
             }
            },
            "type": "scatter"
           }
          ],
          "scatter3d": [
           {
            "line": {
             "colorbar": {
              "outlinewidth": 0,
              "ticks": ""
             }
            },
            "marker": {
             "colorbar": {
              "outlinewidth": 0,
              "ticks": ""
             }
            },
            "type": "scatter3d"
           }
          ],
          "scattercarpet": [
           {
            "marker": {
             "colorbar": {
              "outlinewidth": 0,
              "ticks": ""
             }
            },
            "type": "scattercarpet"
           }
          ],
          "scattergeo": [
           {
            "marker": {
             "colorbar": {
              "outlinewidth": 0,
              "ticks": ""
             }
            },
            "type": "scattergeo"
           }
          ],
          "scattergl": [
           {
            "marker": {
             "colorbar": {
              "outlinewidth": 0,
              "ticks": ""
             }
            },
            "type": "scattergl"
           }
          ],
          "scattermapbox": [
           {
            "marker": {
             "colorbar": {
              "outlinewidth": 0,
              "ticks": ""
             }
            },
            "type": "scattermapbox"
           }
          ],
          "scatterpolar": [
           {
            "marker": {
             "colorbar": {
              "outlinewidth": 0,
              "ticks": ""
             }
            },
            "type": "scatterpolar"
           }
          ],
          "scatterpolargl": [
           {
            "marker": {
             "colorbar": {
              "outlinewidth": 0,
              "ticks": ""
             }
            },
            "type": "scatterpolargl"
           }
          ],
          "scatterternary": [
           {
            "marker": {
             "colorbar": {
              "outlinewidth": 0,
              "ticks": ""
             }
            },
            "type": "scatterternary"
           }
          ],
          "surface": [
           {
            "colorbar": {
             "outlinewidth": 0,
             "ticks": ""
            },
            "colorscale": [
             [
              0,
              "#0d0887"
             ],
             [
              0.1111111111111111,
              "#46039f"
             ],
             [
              0.2222222222222222,
              "#7201a8"
             ],
             [
              0.3333333333333333,
              "#9c179e"
             ],
             [
              0.4444444444444444,
              "#bd3786"
             ],
             [
              0.5555555555555556,
              "#d8576b"
             ],
             [
              0.6666666666666666,
              "#ed7953"
             ],
             [
              0.7777777777777778,
              "#fb9f3a"
             ],
             [
              0.8888888888888888,
              "#fdca26"
             ],
             [
              1,
              "#f0f921"
             ]
            ],
            "type": "surface"
           }
          ],
          "table": [
           {
            "cells": {
             "fill": {
              "color": "#EBF0F8"
             },
             "line": {
              "color": "white"
             }
            },
            "header": {
             "fill": {
              "color": "#C8D4E3"
             },
             "line": {
              "color": "white"
             }
            },
            "type": "table"
           }
          ]
         },
         "layout": {
          "annotationdefaults": {
           "arrowcolor": "#2a3f5f",
           "arrowhead": 0,
           "arrowwidth": 1
          },
          "autotypenumbers": "strict",
          "coloraxis": {
           "colorbar": {
            "outlinewidth": 0,
            "ticks": ""
           }
          },
          "colorscale": {
           "diverging": [
            [
             0,
             "#8e0152"
            ],
            [
             0.1,
             "#c51b7d"
            ],
            [
             0.2,
             "#de77ae"
            ],
            [
             0.3,
             "#f1b6da"
            ],
            [
             0.4,
             "#fde0ef"
            ],
            [
             0.5,
             "#f7f7f7"
            ],
            [
             0.6,
             "#e6f5d0"
            ],
            [
             0.7,
             "#b8e186"
            ],
            [
             0.8,
             "#7fbc41"
            ],
            [
             0.9,
             "#4d9221"
            ],
            [
             1,
             "#276419"
            ]
           ],
           "sequential": [
            [
             0,
             "#0d0887"
            ],
            [
             0.1111111111111111,
             "#46039f"
            ],
            [
             0.2222222222222222,
             "#7201a8"
            ],
            [
             0.3333333333333333,
             "#9c179e"
            ],
            [
             0.4444444444444444,
             "#bd3786"
            ],
            [
             0.5555555555555556,
             "#d8576b"
            ],
            [
             0.6666666666666666,
             "#ed7953"
            ],
            [
             0.7777777777777778,
             "#fb9f3a"
            ],
            [
             0.8888888888888888,
             "#fdca26"
            ],
            [
             1,
             "#f0f921"
            ]
           ],
           "sequentialminus": [
            [
             0,
             "#0d0887"
            ],
            [
             0.1111111111111111,
             "#46039f"
            ],
            [
             0.2222222222222222,
             "#7201a8"
            ],
            [
             0.3333333333333333,
             "#9c179e"
            ],
            [
             0.4444444444444444,
             "#bd3786"
            ],
            [
             0.5555555555555556,
             "#d8576b"
            ],
            [
             0.6666666666666666,
             "#ed7953"
            ],
            [
             0.7777777777777778,
             "#fb9f3a"
            ],
            [
             0.8888888888888888,
             "#fdca26"
            ],
            [
             1,
             "#f0f921"
            ]
           ]
          },
          "colorway": [
           "#636efa",
           "#EF553B",
           "#00cc96",
           "#ab63fa",
           "#FFA15A",
           "#19d3f3",
           "#FF6692",
           "#B6E880",
           "#FF97FF",
           "#FECB52"
          ],
          "font": {
           "color": "#2a3f5f"
          },
          "geo": {
           "bgcolor": "white",
           "lakecolor": "white",
           "landcolor": "#E5ECF6",
           "showlakes": true,
           "showland": true,
           "subunitcolor": "white"
          },
          "hoverlabel": {
           "align": "left"
          },
          "hovermode": "closest",
          "mapbox": {
           "style": "light"
          },
          "paper_bgcolor": "white",
          "plot_bgcolor": "#E5ECF6",
          "polar": {
           "angularaxis": {
            "gridcolor": "white",
            "linecolor": "white",
            "ticks": ""
           },
           "bgcolor": "#E5ECF6",
           "radialaxis": {
            "gridcolor": "white",
            "linecolor": "white",
            "ticks": ""
           }
          },
          "scene": {
           "xaxis": {
            "backgroundcolor": "#E5ECF6",
            "gridcolor": "white",
            "gridwidth": 2,
            "linecolor": "white",
            "showbackground": true,
            "ticks": "",
            "zerolinecolor": "white"
           },
           "yaxis": {
            "backgroundcolor": "#E5ECF6",
            "gridcolor": "white",
            "gridwidth": 2,
            "linecolor": "white",
            "showbackground": true,
            "ticks": "",
            "zerolinecolor": "white"
           },
           "zaxis": {
            "backgroundcolor": "#E5ECF6",
            "gridcolor": "white",
            "gridwidth": 2,
            "linecolor": "white",
            "showbackground": true,
            "ticks": "",
            "zerolinecolor": "white"
           }
          },
          "shapedefaults": {
           "line": {
            "color": "#2a3f5f"
           }
          },
          "ternary": {
           "aaxis": {
            "gridcolor": "white",
            "linecolor": "white",
            "ticks": ""
           },
           "baxis": {
            "gridcolor": "white",
            "linecolor": "white",
            "ticks": ""
           },
           "bgcolor": "#E5ECF6",
           "caxis": {
            "gridcolor": "white",
            "linecolor": "white",
            "ticks": ""
           }
          },
          "title": {
           "x": 0.05
          },
          "xaxis": {
           "automargin": true,
           "gridcolor": "white",
           "linecolor": "white",
           "ticks": "",
           "title": {
            "standoff": 15
           },
           "zerolinecolor": "white",
           "zerolinewidth": 2
          },
          "yaxis": {
           "automargin": true,
           "gridcolor": "white",
           "linecolor": "white",
           "ticks": "",
           "title": {
            "standoff": 15
           },
           "zerolinecolor": "white",
           "zerolinewidth": 2
          }
         }
        },
        "title": {
         "font": {
          "color": "#4D5663"
         }
        },
        "xaxis": {
         "gridcolor": "#E1E5ED",
         "showgrid": true,
         "tickfont": {
          "color": "#4D5663"
         },
         "title": {
          "font": {
           "color": "#4D5663"
          },
          "text": ""
         },
         "zerolinecolor": "#E1E5ED"
        },
        "yaxis": {
         "gridcolor": "#E1E5ED",
         "showgrid": true,
         "tickfont": {
          "color": "#4D5663"
         },
         "title": {
          "font": {
           "color": "#4D5663"
          },
          "text": ""
         },
         "zerolinecolor": "#E1E5ED"
        }
       }
      },
      "text/html": [
       "<div>                            <div id=\"a0f244f3-355d-4b01-ad48-06ead513e9d0\" class=\"plotly-graph-div\" style=\"height:525px; width:100%;\"></div>            <script type=\"text/javascript\">                require([\"plotly\"], function(Plotly) {                    window.PLOTLYENV=window.PLOTLYENV || {};\n",
       "                    window.PLOTLYENV.BASE_URL='https://plot.ly';                                    if (document.getElementById(\"a0f244f3-355d-4b01-ad48-06ead513e9d0\")) {                    Plotly.newPlot(                        \"a0f244f3-355d-4b01-ad48-06ead513e9d0\",                        [{\"marker\":{\"color\":\"rgba(255, 153, 51, 0.6)\",\"line\":{\"color\":\"rgba(255, 153, 51, 1.0)\",\"width\":1}},\"name\":\"None\",\"orientation\":\"v\",\"text\":\"\",\"x\":[\"A\",\"B\",\"C\",\"D\"],\"y\":[-1.6549245703348647,4.543002753291656,7.345442078142487,6.741306979922152],\"type\":\"bar\"}],                        {\"legend\":{\"bgcolor\":\"#F5F6F9\",\"font\":{\"color\":\"#4D5663\"}},\"paper_bgcolor\":\"#F5F6F9\",\"plot_bgcolor\":\"#F5F6F9\",\"template\":{\"data\":{\"barpolar\":[{\"marker\":{\"line\":{\"color\":\"#E5ECF6\",\"width\":0.5},\"pattern\":{\"fillmode\":\"overlay\",\"size\":10,\"solidity\":0.2}},\"type\":\"barpolar\"}],\"bar\":[{\"error_x\":{\"color\":\"#2a3f5f\"},\"error_y\":{\"color\":\"#2a3f5f\"},\"marker\":{\"line\":{\"color\":\"#E5ECF6\",\"width\":0.5},\"pattern\":{\"fillmode\":\"overlay\",\"size\":10,\"solidity\":0.2}},\"type\":\"bar\"}],\"carpet\":[{\"aaxis\":{\"endlinecolor\":\"#2a3f5f\",\"gridcolor\":\"white\",\"linecolor\":\"white\",\"minorgridcolor\":\"white\",\"startlinecolor\":\"#2a3f5f\"},\"baxis\":{\"endlinecolor\":\"#2a3f5f\",\"gridcolor\":\"white\",\"linecolor\":\"white\",\"minorgridcolor\":\"white\",\"startlinecolor\":\"#2a3f5f\"},\"type\":\"carpet\"}],\"choropleth\":[{\"colorbar\":{\"outlinewidth\":0,\"ticks\":\"\"},\"type\":\"choropleth\"}],\"contourcarpet\":[{\"colorbar\":{\"outlinewidth\":0,\"ticks\":\"\"},\"type\":\"contourcarpet\"}],\"contour\":[{\"colorbar\":{\"outlinewidth\":0,\"ticks\":\"\"},\"colorscale\":[[0.0,\"#0d0887\"],[0.1111111111111111,\"#46039f\"],[0.2222222222222222,\"#7201a8\"],[0.3333333333333333,\"#9c179e\"],[0.4444444444444444,\"#bd3786\"],[0.5555555555555556,\"#d8576b\"],[0.6666666666666666,\"#ed7953\"],[0.7777777777777778,\"#fb9f3a\"],[0.8888888888888888,\"#fdca26\"],[1.0,\"#f0f921\"]],\"type\":\"contour\"}],\"heatmapgl\":[{\"colorbar\":{\"outlinewidth\":0,\"ticks\":\"\"},\"colorscale\":[[0.0,\"#0d0887\"],[0.1111111111111111,\"#46039f\"],[0.2222222222222222,\"#7201a8\"],[0.3333333333333333,\"#9c179e\"],[0.4444444444444444,\"#bd3786\"],[0.5555555555555556,\"#d8576b\"],[0.6666666666666666,\"#ed7953\"],[0.7777777777777778,\"#fb9f3a\"],[0.8888888888888888,\"#fdca26\"],[1.0,\"#f0f921\"]],\"type\":\"heatmapgl\"}],\"heatmap\":[{\"colorbar\":{\"outlinewidth\":0,\"ticks\":\"\"},\"colorscale\":[[0.0,\"#0d0887\"],[0.1111111111111111,\"#46039f\"],[0.2222222222222222,\"#7201a8\"],[0.3333333333333333,\"#9c179e\"],[0.4444444444444444,\"#bd3786\"],[0.5555555555555556,\"#d8576b\"],[0.6666666666666666,\"#ed7953\"],[0.7777777777777778,\"#fb9f3a\"],[0.8888888888888888,\"#fdca26\"],[1.0,\"#f0f921\"]],\"type\":\"heatmap\"}],\"histogram2dcontour\":[{\"colorbar\":{\"outlinewidth\":0,\"ticks\":\"\"},\"colorscale\":[[0.0,\"#0d0887\"],[0.1111111111111111,\"#46039f\"],[0.2222222222222222,\"#7201a8\"],[0.3333333333333333,\"#9c179e\"],[0.4444444444444444,\"#bd3786\"],[0.5555555555555556,\"#d8576b\"],[0.6666666666666666,\"#ed7953\"],[0.7777777777777778,\"#fb9f3a\"],[0.8888888888888888,\"#fdca26\"],[1.0,\"#f0f921\"]],\"type\":\"histogram2dcontour\"}],\"histogram2d\":[{\"colorbar\":{\"outlinewidth\":0,\"ticks\":\"\"},\"colorscale\":[[0.0,\"#0d0887\"],[0.1111111111111111,\"#46039f\"],[0.2222222222222222,\"#7201a8\"],[0.3333333333333333,\"#9c179e\"],[0.4444444444444444,\"#bd3786\"],[0.5555555555555556,\"#d8576b\"],[0.6666666666666666,\"#ed7953\"],[0.7777777777777778,\"#fb9f3a\"],[0.8888888888888888,\"#fdca26\"],[1.0,\"#f0f921\"]],\"type\":\"histogram2d\"}],\"histogram\":[{\"marker\":{\"pattern\":{\"fillmode\":\"overlay\",\"size\":10,\"solidity\":0.2}},\"type\":\"histogram\"}],\"mesh3d\":[{\"colorbar\":{\"outlinewidth\":0,\"ticks\":\"\"},\"type\":\"mesh3d\"}],\"parcoords\":[{\"line\":{\"colorbar\":{\"outlinewidth\":0,\"ticks\":\"\"}},\"type\":\"parcoords\"}],\"pie\":[{\"automargin\":true,\"type\":\"pie\"}],\"scatter3d\":[{\"line\":{\"colorbar\":{\"outlinewidth\":0,\"ticks\":\"\"}},\"marker\":{\"colorbar\":{\"outlinewidth\":0,\"ticks\":\"\"}},\"type\":\"scatter3d\"}],\"scattercarpet\":[{\"marker\":{\"colorbar\":{\"outlinewidth\":0,\"ticks\":\"\"}},\"type\":\"scattercarpet\"}],\"scattergeo\":[{\"marker\":{\"colorbar\":{\"outlinewidth\":0,\"ticks\":\"\"}},\"type\":\"scattergeo\"}],\"scattergl\":[{\"marker\":{\"colorbar\":{\"outlinewidth\":0,\"ticks\":\"\"}},\"type\":\"scattergl\"}],\"scattermapbox\":[{\"marker\":{\"colorbar\":{\"outlinewidth\":0,\"ticks\":\"\"}},\"type\":\"scattermapbox\"}],\"scatterpolargl\":[{\"marker\":{\"colorbar\":{\"outlinewidth\":0,\"ticks\":\"\"}},\"type\":\"scatterpolargl\"}],\"scatterpolar\":[{\"marker\":{\"colorbar\":{\"outlinewidth\":0,\"ticks\":\"\"}},\"type\":\"scatterpolar\"}],\"scatter\":[{\"marker\":{\"colorbar\":{\"outlinewidth\":0,\"ticks\":\"\"}},\"type\":\"scatter\"}],\"scatterternary\":[{\"marker\":{\"colorbar\":{\"outlinewidth\":0,\"ticks\":\"\"}},\"type\":\"scatterternary\"}],\"surface\":[{\"colorbar\":{\"outlinewidth\":0,\"ticks\":\"\"},\"colorscale\":[[0.0,\"#0d0887\"],[0.1111111111111111,\"#46039f\"],[0.2222222222222222,\"#7201a8\"],[0.3333333333333333,\"#9c179e\"],[0.4444444444444444,\"#bd3786\"],[0.5555555555555556,\"#d8576b\"],[0.6666666666666666,\"#ed7953\"],[0.7777777777777778,\"#fb9f3a\"],[0.8888888888888888,\"#fdca26\"],[1.0,\"#f0f921\"]],\"type\":\"surface\"}],\"table\":[{\"cells\":{\"fill\":{\"color\":\"#EBF0F8\"},\"line\":{\"color\":\"white\"}},\"header\":{\"fill\":{\"color\":\"#C8D4E3\"},\"line\":{\"color\":\"white\"}},\"type\":\"table\"}]},\"layout\":{\"annotationdefaults\":{\"arrowcolor\":\"#2a3f5f\",\"arrowhead\":0,\"arrowwidth\":1},\"autotypenumbers\":\"strict\",\"coloraxis\":{\"colorbar\":{\"outlinewidth\":0,\"ticks\":\"\"}},\"colorscale\":{\"diverging\":[[0,\"#8e0152\"],[0.1,\"#c51b7d\"],[0.2,\"#de77ae\"],[0.3,\"#f1b6da\"],[0.4,\"#fde0ef\"],[0.5,\"#f7f7f7\"],[0.6,\"#e6f5d0\"],[0.7,\"#b8e186\"],[0.8,\"#7fbc41\"],[0.9,\"#4d9221\"],[1,\"#276419\"]],\"sequential\":[[0.0,\"#0d0887\"],[0.1111111111111111,\"#46039f\"],[0.2222222222222222,\"#7201a8\"],[0.3333333333333333,\"#9c179e\"],[0.4444444444444444,\"#bd3786\"],[0.5555555555555556,\"#d8576b\"],[0.6666666666666666,\"#ed7953\"],[0.7777777777777778,\"#fb9f3a\"],[0.8888888888888888,\"#fdca26\"],[1.0,\"#f0f921\"]],\"sequentialminus\":[[0.0,\"#0d0887\"],[0.1111111111111111,\"#46039f\"],[0.2222222222222222,\"#7201a8\"],[0.3333333333333333,\"#9c179e\"],[0.4444444444444444,\"#bd3786\"],[0.5555555555555556,\"#d8576b\"],[0.6666666666666666,\"#ed7953\"],[0.7777777777777778,\"#fb9f3a\"],[0.8888888888888888,\"#fdca26\"],[1.0,\"#f0f921\"]]},\"colorway\":[\"#636efa\",\"#EF553B\",\"#00cc96\",\"#ab63fa\",\"#FFA15A\",\"#19d3f3\",\"#FF6692\",\"#B6E880\",\"#FF97FF\",\"#FECB52\"],\"font\":{\"color\":\"#2a3f5f\"},\"geo\":{\"bgcolor\":\"white\",\"lakecolor\":\"white\",\"landcolor\":\"#E5ECF6\",\"showlakes\":true,\"showland\":true,\"subunitcolor\":\"white\"},\"hoverlabel\":{\"align\":\"left\"},\"hovermode\":\"closest\",\"mapbox\":{\"style\":\"light\"},\"paper_bgcolor\":\"white\",\"plot_bgcolor\":\"#E5ECF6\",\"polar\":{\"angularaxis\":{\"gridcolor\":\"white\",\"linecolor\":\"white\",\"ticks\":\"\"},\"bgcolor\":\"#E5ECF6\",\"radialaxis\":{\"gridcolor\":\"white\",\"linecolor\":\"white\",\"ticks\":\"\"}},\"scene\":{\"xaxis\":{\"backgroundcolor\":\"#E5ECF6\",\"gridcolor\":\"white\",\"gridwidth\":2,\"linecolor\":\"white\",\"showbackground\":true,\"ticks\":\"\",\"zerolinecolor\":\"white\"},\"yaxis\":{\"backgroundcolor\":\"#E5ECF6\",\"gridcolor\":\"white\",\"gridwidth\":2,\"linecolor\":\"white\",\"showbackground\":true,\"ticks\":\"\",\"zerolinecolor\":\"white\"},\"zaxis\":{\"backgroundcolor\":\"#E5ECF6\",\"gridcolor\":\"white\",\"gridwidth\":2,\"linecolor\":\"white\",\"showbackground\":true,\"ticks\":\"\",\"zerolinecolor\":\"white\"}},\"shapedefaults\":{\"line\":{\"color\":\"#2a3f5f\"}},\"ternary\":{\"aaxis\":{\"gridcolor\":\"white\",\"linecolor\":\"white\",\"ticks\":\"\"},\"baxis\":{\"gridcolor\":\"white\",\"linecolor\":\"white\",\"ticks\":\"\"},\"bgcolor\":\"#E5ECF6\",\"caxis\":{\"gridcolor\":\"white\",\"linecolor\":\"white\",\"ticks\":\"\"}},\"title\":{\"x\":0.05},\"xaxis\":{\"automargin\":true,\"gridcolor\":\"white\",\"linecolor\":\"white\",\"ticks\":\"\",\"title\":{\"standoff\":15},\"zerolinecolor\":\"white\",\"zerolinewidth\":2},\"yaxis\":{\"automargin\":true,\"gridcolor\":\"white\",\"linecolor\":\"white\",\"ticks\":\"\",\"title\":{\"standoff\":15},\"zerolinecolor\":\"white\",\"zerolinewidth\":2}}},\"title\":{\"font\":{\"color\":\"#4D5663\"}},\"xaxis\":{\"gridcolor\":\"#E1E5ED\",\"showgrid\":true,\"tickfont\":{\"color\":\"#4D5663\"},\"title\":{\"font\":{\"color\":\"#4D5663\"},\"text\":\"\"},\"zerolinecolor\":\"#E1E5ED\"},\"yaxis\":{\"gridcolor\":\"#E1E5ED\",\"showgrid\":true,\"tickfont\":{\"color\":\"#4D5663\"},\"title\":{\"font\":{\"color\":\"#4D5663\"},\"text\":\"\"},\"zerolinecolor\":\"#E1E5ED\"}},                        {\"showLink\": true, \"linkText\": \"Export to plot.ly\", \"plotlyServerURL\": \"https://plot.ly\", \"responsive\": true}                    ).then(function(){\n",
       "                            \n",
       "var gd = document.getElementById('a0f244f3-355d-4b01-ad48-06ead513e9d0');\n",
       "var x = new MutationObserver(function (mutations, observer) {{\n",
       "        var display = window.getComputedStyle(gd).display;\n",
       "        if (!display || display === 'none') {{\n",
       "            console.log([gd, 'removed!']);\n",
       "            Plotly.purge(gd);\n",
       "            observer.disconnect();\n",
       "        }}\n",
       "}});\n",
       "\n",
       "// Listen for the removal of the full notebook cells\n",
       "var notebookContainer = gd.closest('#notebook-container');\n",
       "if (notebookContainer) {{\n",
       "    x.observe(notebookContainer, {childList: true});\n",
       "}}\n",
       "\n",
       "// Listen for the clearing of the current output cell\n",
       "var outputEl = gd.closest('.output');\n",
       "if (outputEl) {{\n",
       "    x.observe(outputEl, {childList: true});\n",
       "}}\n",
       "\n",
       "                        })                };                });            </script>        </div>"
      ]
     },
     "metadata": {},
     "output_type": "display_data"
    }
   ],
   "source": [
    "df.sum().iplot(kind='bar')"
   ]
  },
  {
   "cell_type": "markdown",
   "metadata": {},
   "source": [
    "## Boxplots"
   ]
  },
  {
   "cell_type": "code",
   "execution_count": 14,
   "metadata": {
    "collapsed": false
   },
   "outputs": [
    {
     "data": {
      "application/vnd.plotly.v1+json": {
       "config": {
        "linkText": "Export to plot.ly",
        "plotlyServerURL": "https://plot.ly",
        "showLink": true
       },
       "data": [
        {
         "boxpoints": false,
         "line": {
          "width": 1.3
         },
         "marker": {
          "color": "rgba(255, 153, 51, 1.0)"
         },
         "name": "A",
         "orientation": "v",
         "type": "box",
         "y": [
          -0.3497734254771835,
          0.5583236144971976,
          1.0210338390182403,
          0.7833067604547665,
          1.6462849509104058,
          -0.7372755607522767,
          0.9881508966271882,
          0.14398838038901476,
          -0.6395676601793224,
          0.6291591032308805,
          1.3470169543296011,
          0.60968541723478,
          1.7636746057249477,
          -0.8968347110563231,
          1.1061992371572222,
          0.44411579330015866,
          -0.4910466503882815,
          -0.46352959198906274,
          -1.381458377602349,
          0.8509163423647723,
          1.4268676166900143,
          1.2007370070130767,
          0.3090613141255533,
          -0.3209463480469782,
          1.0765472388705708,
          1.5095524793854327,
          0.11806543873081181,
          1.8566919692700568,
          -0.8220431176199894,
          -0.8557816023136964,
          -1.9698929315893803,
          -0.2645274617925079,
          0.4674957207486842,
          -0.7598034286404655,
          -0.09316392607820459,
          -0.11288405529306757,
          -0.7718474232824881,
          -0.30971869052360046,
          0.3188546937996816,
          -0.3833733336548828,
          -1.26409683214929,
          -0.260610568878272,
          -0.8724907032434537,
          -0.6843172926825293,
          0.9410366903204676,
          0.5674477518189098,
          -0.07158642241174541,
          -1.8124280141646631,
          -1.4928103512959483,
          1.643157157597684,
          0.6093130094966801,
          -0.9776498459499772,
          -0.6637523839034207,
          0.44044446528203607,
          -1.8459802910301286,
          0.9930741770617006,
          0.41774133566523103,
          -0.09330237801047414,
          -0.7229100824409184,
          -0.16409341879725245,
          -1.2503439337761084,
          -0.5470496191739559,
          2.0386594730120065,
          -0.36908233025570886,
          -0.9250062299172206,
          -1.049546627000459,
          0.33175448123373075,
          0.9583714991373541,
          -2.1414378743802054,
          0.029573053775218225,
          -0.37324905528350794,
          1.42743012206251,
          -1.0404331204863992,
          1.334297972923157,
          0.8687276958286853,
          -0.2657337201171915,
          -0.6483819246588316,
          -0.24411340590570904,
          0.8505625725136822,
          -0.9179899937538808,
          0.8837406184286677,
          1.2499050427703942,
          0.33803720522963754,
          -0.6719806178223434,
          -1.4049437087691334,
          0.7386471634448698,
          0.9459537223565966,
          -0.6158054534571311,
          -1.0153312336632523,
          0.0924594831228007,
          0.17288858565747628,
          0.15420059591782365,
          -0.9485218735971477,
          -0.7324767569691258,
          0.17741031455593906,
          -0.590903068024523,
          -2.305888866671554,
          -0.6263816050863013,
          -0.0159640671396924,
          1.2145738337263368
         ]
        },
        {
         "boxpoints": false,
         "line": {
          "width": 1.3
         },
         "marker": {
          "color": "rgba(55, 128, 191, 1.0)"
         },
         "name": "B",
         "orientation": "v",
         "type": "box",
         "y": [
          1.1700434818844438,
          1.0751258509099173,
          -1.0083558806672341,
          -1.0207489561575065,
          2.449361100561767,
          -0.7175292061587076,
          -0.368063200704348,
          -0.2069764602363649,
          -0.5852792240627692,
          0.21418680003139948,
          3.5417689407035073,
          -0.8937838034366977,
          -0.450364359714211,
          -0.48201024793974095,
          -1.1477346930123722,
          -0.4551181416866834,
          0.39689090096151236,
          -1.085332249768537,
          -0.3330302827084691,
          -0.09164557937808074,
          0.8209906788667682,
          -0.18259882874169228,
          1.414664742141667,
          -1.3168984602931946,
          -1.0673751875441888,
          -0.8811015444791677,
          1.1573950121989691,
          -1.9420689925822388,
          0.15254426213926583,
          -0.5106440815180584,
          -1.1407698919771738,
          0.9658187833865867,
          0.09032980787959194,
          0.5105956795061436,
          -1.5445015493646832,
          -0.529670046477799,
          -1.2951546206741757,
          -2.26897320406101,
          2.0647400026491787,
          0.7912257586064879,
          -0.9435855795774132,
          -0.0792530039589136,
          -0.701391406857763,
          0.3904899555187702,
          -0.12401867350010902,
          -1.1770981578075772,
          1.3699958165123711,
          1.1383701335229368,
          1.0753035171938106,
          2.3566664850434185,
          0.28328978448650277,
          -0.2278154516210515,
          -1.5229891887572231,
          1.6115199927052717,
          -0.4770954007952236,
          -0.03244258909954915,
          -0.01973863081231562,
          -0.9240201466956118,
          -0.7018806548826212,
          1.116257598901643,
          -2.374321527801769,
          2.1079872052410247,
          0.6982011140111537,
          -1.0555114969250081,
          -0.3897723937818329,
          1.1925231381245627,
          1.2237381227711939,
          0.5989850587870378,
          -0.8991782314803098,
          0.5255067693703722,
          2.7586264976767483,
          -0.0788469074477344,
          -0.853278412662128,
          -1.2219390892924478,
          0.10246149478772258,
          0.6284426117915223,
          0.512062339056357,
          -0.9386584410755775,
          1.6755332861886518,
          -0.8947338550700419,
          -0.4122518141392201,
          0.32106067012965067,
          2.1975821633476937,
          0.9364725716982593,
          -1.00268240741226,
          -1.9229183584789276,
          0.843620878659984,
          1.4771597910462655,
          -1.1347015325896048,
          0.9918722842152485,
          0.013184538681476031,
          0.44169861274054656,
          0.583312537359923,
          -0.8523979073270433,
          -0.910846088535007,
          -0.6928852005666618,
          0.9272107055521642,
          1.1217693677540292,
          1.1415382607103743,
          -0.5431411104261837
         ]
        },
        {
         "boxpoints": false,
         "line": {
          "width": 1.3
         },
         "marker": {
          "color": "rgba(50, 171, 96, 1.0)"
         },
         "name": "C",
         "orientation": "v",
         "type": "box",
         "y": [
          1.473083332255314,
          0.9258496787072514,
          1.8967152084603263,
          0.5094757693900035,
          0.7146004798243432,
          -1.1536876350709635,
          0.18548193530260024,
          -0.5075062148515169,
          -1.5268904269312875,
          0.6327675065365713,
          -1.742833178440796,
          -0.17760792279074386,
          -0.42993561146729475,
          -0.1179318962451331,
          -0.21883793411321237,
          0.21035180606533244,
          0.6456782916462754,
          0.497836559419002,
          -0.22454369521798712,
          1.0002162002607486,
          -0.27976775514967345,
          -2.056135470053321,
          -0.3511032564122926,
          0.4882445400939479,
          -0.6959759103681386,
          0.23140989326553035,
          0.12838188251732172,
          0.1474251727868586,
          -1.028327141684152,
          -0.37662685279761027,
          0.7161771806860826,
          -0.693620953106078,
          0.7365791592639287,
          1.5664657691276676,
          -0.76605114693056,
          0.037460110483771805,
          -0.4545069367144243,
          -2.816201515590873,
          0.44476014461409424,
          3.987028889778592,
          0.2382839959031368,
          0.1544714297602142,
          -1.1839143285918141,
          -0.04325443245265641,
          -0.08472937679164963,
          -0.39019797024732433,
          0.5403505042879775,
          0.4784431651531812,
          0.8283730166762587,
          -0.2132079379782824,
          0.10906692402751189,
          1.0681804289532224,
          -1.0209083394130125,
          0.5206690130888805,
          -0.27918154735984085,
          0.29200225134038177,
          1.905288479546918,
          0.3997104096709477,
          0.5013842971397798,
          -1.1656804407539827,
          0.6455516818425268,
          1.541026740339318,
          2.6996725442982576,
          0.6193919600500564,
          1.2594267228801967,
          2.03764182392081,
          2.02358563544627,
          0.1372364950453501,
          -1.1538969677054436,
          -1.2251744553445316,
          1.1821627669887178,
          1.362524384554462,
          -1.1512441351555531,
          -1.097578509925831,
          -0.6364242289158625,
          -1.1886913836996127,
          -0.9538117092849445,
          -0.9603629932333726,
          0.14755689083253284,
          0.6680012472139528,
          0.6544043421773577,
          -0.10335629168952583,
          0.521061728181091,
          -0.08728947758018604,
          0.3836813455518674,
          -0.3644919329855644,
          0.5486957487826961,
          0.13757325737363496,
          -0.48418748892721414,
          0.4568733162095446,
          -1.5496006269331533,
          -0.06743847782881852,
          -0.2061053566554512,
          -0.29416175176257753,
          1.051303153982947,
          -0.8479007078060758,
          -0.9464950884751328,
          0.3658755855969737,
          -0.5155006411077879,
          -1.4771406666187883
         ]
        },
        {
         "boxpoints": false,
         "line": {
          "width": 1.3
         },
         "marker": {
          "color": "rgba(128, 0, 128, 1.0)"
         },
         "name": "D",
         "orientation": "v",
         "type": "box",
         "y": [
          -0.09003317590129503,
          1.0457917887062516,
          -0.29423220585512144,
          0.9574203445353496,
          -0.616241572606183,
          -0.5534767167714887,
          -0.402317520418005,
          -0.3198694237949411,
          -0.20986129184730268,
          -0.48481591628900955,
          0.3108071402504388,
          -2.1263382754100926,
          0.5837854118415968,
          1.0774759457251781,
          -0.12690922521057807,
          -1.032326010492601,
          0.621589276294923,
          -0.7558846540535813,
          0.5632004862443952,
          0.49559126946667226,
          0.27007365672731926,
          -0.23087880885944598,
          -1.3508501568502214,
          0.6288045519625935,
          0.06070987626653908,
          0.5965206752027222,
          -0.3990050270985692,
          0.11016658644061711,
          0.9663052119247858,
          0.35598252226894833,
          1.181185378826927,
          -2.3542627344060123,
          -0.09989175348051689,
          -1.2864459617402262,
          0.7288787403538859,
          1.0275471483629939,
          0.3171744183826212,
          0.15292413156519483,
          0.4550521613937916,
          0.5213790352963008,
          0.20318742251749508,
          0.48968368411199914,
          1.0769271256618655,
          -0.7208314446177871,
          -0.30430270873146514,
          -0.2690205310950531,
          1.0670149019246906,
          -0.894036317760341,
          0.42233411240554236,
          0.09463389593503285,
          0.3147842006938459,
          0.4856944509627888,
          2.822214131806755,
          0.31877350771443885,
          -0.8737946052935149,
          0.41233255732261115,
          -0.258945595402433,
          -0.9787725054168861,
          -0.41951840428865167,
          1.5049078192404473,
          -0.6002948664947724,
          -1.0402769229253626,
          -2.209506979417579,
          0.4007706232758198,
          0.6827919523767328,
          -0.7605663558840473,
          1.5466680829995878,
          0.2620314303239416,
          -1.4394773540690347,
          -0.6648546447808864,
          1.9603814736896064,
          0.2407875553980244,
          -0.5352119766189058,
          0.46096472752861317,
          1.3972868847907869,
          1.2890455957248392,
          0.48194092192672566,
          -0.8358341932639045,
          2.3004323348148605,
          1.5090343332030582,
          1.065422354286108,
          0.05754205364635004,
          0.05680937623707559,
          -0.5364577596823272,
          -0.6415186288104496,
          -0.9744011481401438,
          1.3155933877242785,
          -0.9683416732732715,
          0.07031433648700804,
          -0.9387365342791136,
          0.274963338186455,
          0.6173360180172238,
          -0.5768096481829308,
          -0.5853500394299408,
          -0.5456480354585667,
          -0.7215920562298185,
          1.2157961289744859,
          -0.19076909957151217,
          0.9379843244981523,
          -1.4249333623212475
         ]
        }
       ],
       "layout": {
        "legend": {
         "bgcolor": "#F5F6F9",
         "font": {
          "color": "#4D5663"
         }
        },
        "paper_bgcolor": "#F5F6F9",
        "plot_bgcolor": "#F5F6F9",
        "template": {
         "data": {
          "bar": [
           {
            "error_x": {
             "color": "#2a3f5f"
            },
            "error_y": {
             "color": "#2a3f5f"
            },
            "marker": {
             "line": {
              "color": "#E5ECF6",
              "width": 0.5
             },
             "pattern": {
              "fillmode": "overlay",
              "size": 10,
              "solidity": 0.2
             }
            },
            "type": "bar"
           }
          ],
          "barpolar": [
           {
            "marker": {
             "line": {
              "color": "#E5ECF6",
              "width": 0.5
             },
             "pattern": {
              "fillmode": "overlay",
              "size": 10,
              "solidity": 0.2
             }
            },
            "type": "barpolar"
           }
          ],
          "carpet": [
           {
            "aaxis": {
             "endlinecolor": "#2a3f5f",
             "gridcolor": "white",
             "linecolor": "white",
             "minorgridcolor": "white",
             "startlinecolor": "#2a3f5f"
            },
            "baxis": {
             "endlinecolor": "#2a3f5f",
             "gridcolor": "white",
             "linecolor": "white",
             "minorgridcolor": "white",
             "startlinecolor": "#2a3f5f"
            },
            "type": "carpet"
           }
          ],
          "choropleth": [
           {
            "colorbar": {
             "outlinewidth": 0,
             "ticks": ""
            },
            "type": "choropleth"
           }
          ],
          "contour": [
           {
            "colorbar": {
             "outlinewidth": 0,
             "ticks": ""
            },
            "colorscale": [
             [
              0,
              "#0d0887"
             ],
             [
              0.1111111111111111,
              "#46039f"
             ],
             [
              0.2222222222222222,
              "#7201a8"
             ],
             [
              0.3333333333333333,
              "#9c179e"
             ],
             [
              0.4444444444444444,
              "#bd3786"
             ],
             [
              0.5555555555555556,
              "#d8576b"
             ],
             [
              0.6666666666666666,
              "#ed7953"
             ],
             [
              0.7777777777777778,
              "#fb9f3a"
             ],
             [
              0.8888888888888888,
              "#fdca26"
             ],
             [
              1,
              "#f0f921"
             ]
            ],
            "type": "contour"
           }
          ],
          "contourcarpet": [
           {
            "colorbar": {
             "outlinewidth": 0,
             "ticks": ""
            },
            "type": "contourcarpet"
           }
          ],
          "heatmap": [
           {
            "colorbar": {
             "outlinewidth": 0,
             "ticks": ""
            },
            "colorscale": [
             [
              0,
              "#0d0887"
             ],
             [
              0.1111111111111111,
              "#46039f"
             ],
             [
              0.2222222222222222,
              "#7201a8"
             ],
             [
              0.3333333333333333,
              "#9c179e"
             ],
             [
              0.4444444444444444,
              "#bd3786"
             ],
             [
              0.5555555555555556,
              "#d8576b"
             ],
             [
              0.6666666666666666,
              "#ed7953"
             ],
             [
              0.7777777777777778,
              "#fb9f3a"
             ],
             [
              0.8888888888888888,
              "#fdca26"
             ],
             [
              1,
              "#f0f921"
             ]
            ],
            "type": "heatmap"
           }
          ],
          "heatmapgl": [
           {
            "colorbar": {
             "outlinewidth": 0,
             "ticks": ""
            },
            "colorscale": [
             [
              0,
              "#0d0887"
             ],
             [
              0.1111111111111111,
              "#46039f"
             ],
             [
              0.2222222222222222,
              "#7201a8"
             ],
             [
              0.3333333333333333,
              "#9c179e"
             ],
             [
              0.4444444444444444,
              "#bd3786"
             ],
             [
              0.5555555555555556,
              "#d8576b"
             ],
             [
              0.6666666666666666,
              "#ed7953"
             ],
             [
              0.7777777777777778,
              "#fb9f3a"
             ],
             [
              0.8888888888888888,
              "#fdca26"
             ],
             [
              1,
              "#f0f921"
             ]
            ],
            "type": "heatmapgl"
           }
          ],
          "histogram": [
           {
            "marker": {
             "pattern": {
              "fillmode": "overlay",
              "size": 10,
              "solidity": 0.2
             }
            },
            "type": "histogram"
           }
          ],
          "histogram2d": [
           {
            "colorbar": {
             "outlinewidth": 0,
             "ticks": ""
            },
            "colorscale": [
             [
              0,
              "#0d0887"
             ],
             [
              0.1111111111111111,
              "#46039f"
             ],
             [
              0.2222222222222222,
              "#7201a8"
             ],
             [
              0.3333333333333333,
              "#9c179e"
             ],
             [
              0.4444444444444444,
              "#bd3786"
             ],
             [
              0.5555555555555556,
              "#d8576b"
             ],
             [
              0.6666666666666666,
              "#ed7953"
             ],
             [
              0.7777777777777778,
              "#fb9f3a"
             ],
             [
              0.8888888888888888,
              "#fdca26"
             ],
             [
              1,
              "#f0f921"
             ]
            ],
            "type": "histogram2d"
           }
          ],
          "histogram2dcontour": [
           {
            "colorbar": {
             "outlinewidth": 0,
             "ticks": ""
            },
            "colorscale": [
             [
              0,
              "#0d0887"
             ],
             [
              0.1111111111111111,
              "#46039f"
             ],
             [
              0.2222222222222222,
              "#7201a8"
             ],
             [
              0.3333333333333333,
              "#9c179e"
             ],
             [
              0.4444444444444444,
              "#bd3786"
             ],
             [
              0.5555555555555556,
              "#d8576b"
             ],
             [
              0.6666666666666666,
              "#ed7953"
             ],
             [
              0.7777777777777778,
              "#fb9f3a"
             ],
             [
              0.8888888888888888,
              "#fdca26"
             ],
             [
              1,
              "#f0f921"
             ]
            ],
            "type": "histogram2dcontour"
           }
          ],
          "mesh3d": [
           {
            "colorbar": {
             "outlinewidth": 0,
             "ticks": ""
            },
            "type": "mesh3d"
           }
          ],
          "parcoords": [
           {
            "line": {
             "colorbar": {
              "outlinewidth": 0,
              "ticks": ""
             }
            },
            "type": "parcoords"
           }
          ],
          "pie": [
           {
            "automargin": true,
            "type": "pie"
           }
          ],
          "scatter": [
           {
            "marker": {
             "colorbar": {
              "outlinewidth": 0,
              "ticks": ""
             }
            },
            "type": "scatter"
           }
          ],
          "scatter3d": [
           {
            "line": {
             "colorbar": {
              "outlinewidth": 0,
              "ticks": ""
             }
            },
            "marker": {
             "colorbar": {
              "outlinewidth": 0,
              "ticks": ""
             }
            },
            "type": "scatter3d"
           }
          ],
          "scattercarpet": [
           {
            "marker": {
             "colorbar": {
              "outlinewidth": 0,
              "ticks": ""
             }
            },
            "type": "scattercarpet"
           }
          ],
          "scattergeo": [
           {
            "marker": {
             "colorbar": {
              "outlinewidth": 0,
              "ticks": ""
             }
            },
            "type": "scattergeo"
           }
          ],
          "scattergl": [
           {
            "marker": {
             "colorbar": {
              "outlinewidth": 0,
              "ticks": ""
             }
            },
            "type": "scattergl"
           }
          ],
          "scattermapbox": [
           {
            "marker": {
             "colorbar": {
              "outlinewidth": 0,
              "ticks": ""
             }
            },
            "type": "scattermapbox"
           }
          ],
          "scatterpolar": [
           {
            "marker": {
             "colorbar": {
              "outlinewidth": 0,
              "ticks": ""
             }
            },
            "type": "scatterpolar"
           }
          ],
          "scatterpolargl": [
           {
            "marker": {
             "colorbar": {
              "outlinewidth": 0,
              "ticks": ""
             }
            },
            "type": "scatterpolargl"
           }
          ],
          "scatterternary": [
           {
            "marker": {
             "colorbar": {
              "outlinewidth": 0,
              "ticks": ""
             }
            },
            "type": "scatterternary"
           }
          ],
          "surface": [
           {
            "colorbar": {
             "outlinewidth": 0,
             "ticks": ""
            },
            "colorscale": [
             [
              0,
              "#0d0887"
             ],
             [
              0.1111111111111111,
              "#46039f"
             ],
             [
              0.2222222222222222,
              "#7201a8"
             ],
             [
              0.3333333333333333,
              "#9c179e"
             ],
             [
              0.4444444444444444,
              "#bd3786"
             ],
             [
              0.5555555555555556,
              "#d8576b"
             ],
             [
              0.6666666666666666,
              "#ed7953"
             ],
             [
              0.7777777777777778,
              "#fb9f3a"
             ],
             [
              0.8888888888888888,
              "#fdca26"
             ],
             [
              1,
              "#f0f921"
             ]
            ],
            "type": "surface"
           }
          ],
          "table": [
           {
            "cells": {
             "fill": {
              "color": "#EBF0F8"
             },
             "line": {
              "color": "white"
             }
            },
            "header": {
             "fill": {
              "color": "#C8D4E3"
             },
             "line": {
              "color": "white"
             }
            },
            "type": "table"
           }
          ]
         },
         "layout": {
          "annotationdefaults": {
           "arrowcolor": "#2a3f5f",
           "arrowhead": 0,
           "arrowwidth": 1
          },
          "autotypenumbers": "strict",
          "coloraxis": {
           "colorbar": {
            "outlinewidth": 0,
            "ticks": ""
           }
          },
          "colorscale": {
           "diverging": [
            [
             0,
             "#8e0152"
            ],
            [
             0.1,
             "#c51b7d"
            ],
            [
             0.2,
             "#de77ae"
            ],
            [
             0.3,
             "#f1b6da"
            ],
            [
             0.4,
             "#fde0ef"
            ],
            [
             0.5,
             "#f7f7f7"
            ],
            [
             0.6,
             "#e6f5d0"
            ],
            [
             0.7,
             "#b8e186"
            ],
            [
             0.8,
             "#7fbc41"
            ],
            [
             0.9,
             "#4d9221"
            ],
            [
             1,
             "#276419"
            ]
           ],
           "sequential": [
            [
             0,
             "#0d0887"
            ],
            [
             0.1111111111111111,
             "#46039f"
            ],
            [
             0.2222222222222222,
             "#7201a8"
            ],
            [
             0.3333333333333333,
             "#9c179e"
            ],
            [
             0.4444444444444444,
             "#bd3786"
            ],
            [
             0.5555555555555556,
             "#d8576b"
            ],
            [
             0.6666666666666666,
             "#ed7953"
            ],
            [
             0.7777777777777778,
             "#fb9f3a"
            ],
            [
             0.8888888888888888,
             "#fdca26"
            ],
            [
             1,
             "#f0f921"
            ]
           ],
           "sequentialminus": [
            [
             0,
             "#0d0887"
            ],
            [
             0.1111111111111111,
             "#46039f"
            ],
            [
             0.2222222222222222,
             "#7201a8"
            ],
            [
             0.3333333333333333,
             "#9c179e"
            ],
            [
             0.4444444444444444,
             "#bd3786"
            ],
            [
             0.5555555555555556,
             "#d8576b"
            ],
            [
             0.6666666666666666,
             "#ed7953"
            ],
            [
             0.7777777777777778,
             "#fb9f3a"
            ],
            [
             0.8888888888888888,
             "#fdca26"
            ],
            [
             1,
             "#f0f921"
            ]
           ]
          },
          "colorway": [
           "#636efa",
           "#EF553B",
           "#00cc96",
           "#ab63fa",
           "#FFA15A",
           "#19d3f3",
           "#FF6692",
           "#B6E880",
           "#FF97FF",
           "#FECB52"
          ],
          "font": {
           "color": "#2a3f5f"
          },
          "geo": {
           "bgcolor": "white",
           "lakecolor": "white",
           "landcolor": "#E5ECF6",
           "showlakes": true,
           "showland": true,
           "subunitcolor": "white"
          },
          "hoverlabel": {
           "align": "left"
          },
          "hovermode": "closest",
          "mapbox": {
           "style": "light"
          },
          "paper_bgcolor": "white",
          "plot_bgcolor": "#E5ECF6",
          "polar": {
           "angularaxis": {
            "gridcolor": "white",
            "linecolor": "white",
            "ticks": ""
           },
           "bgcolor": "#E5ECF6",
           "radialaxis": {
            "gridcolor": "white",
            "linecolor": "white",
            "ticks": ""
           }
          },
          "scene": {
           "xaxis": {
            "backgroundcolor": "#E5ECF6",
            "gridcolor": "white",
            "gridwidth": 2,
            "linecolor": "white",
            "showbackground": true,
            "ticks": "",
            "zerolinecolor": "white"
           },
           "yaxis": {
            "backgroundcolor": "#E5ECF6",
            "gridcolor": "white",
            "gridwidth": 2,
            "linecolor": "white",
            "showbackground": true,
            "ticks": "",
            "zerolinecolor": "white"
           },
           "zaxis": {
            "backgroundcolor": "#E5ECF6",
            "gridcolor": "white",
            "gridwidth": 2,
            "linecolor": "white",
            "showbackground": true,
            "ticks": "",
            "zerolinecolor": "white"
           }
          },
          "shapedefaults": {
           "line": {
            "color": "#2a3f5f"
           }
          },
          "ternary": {
           "aaxis": {
            "gridcolor": "white",
            "linecolor": "white",
            "ticks": ""
           },
           "baxis": {
            "gridcolor": "white",
            "linecolor": "white",
            "ticks": ""
           },
           "bgcolor": "#E5ECF6",
           "caxis": {
            "gridcolor": "white",
            "linecolor": "white",
            "ticks": ""
           }
          },
          "title": {
           "x": 0.05
          },
          "xaxis": {
           "automargin": true,
           "gridcolor": "white",
           "linecolor": "white",
           "ticks": "",
           "title": {
            "standoff": 15
           },
           "zerolinecolor": "white",
           "zerolinewidth": 2
          },
          "yaxis": {
           "automargin": true,
           "gridcolor": "white",
           "linecolor": "white",
           "ticks": "",
           "title": {
            "standoff": 15
           },
           "zerolinecolor": "white",
           "zerolinewidth": 2
          }
         }
        },
        "title": {
         "font": {
          "color": "#4D5663"
         }
        },
        "xaxis": {
         "gridcolor": "#E1E5ED",
         "showgrid": true,
         "tickfont": {
          "color": "#4D5663"
         },
         "title": {
          "font": {
           "color": "#4D5663"
          },
          "text": ""
         },
         "zerolinecolor": "#E1E5ED"
        },
        "yaxis": {
         "gridcolor": "#E1E5ED",
         "showgrid": true,
         "tickfont": {
          "color": "#4D5663"
         },
         "title": {
          "font": {
           "color": "#4D5663"
          },
          "text": ""
         },
         "zerolinecolor": "#E1E5ED"
        }
       }
      },
      "text/html": [
       "<div>                            <div id=\"ec1dca9f-26a9-40ff-8b23-55501e756fc1\" class=\"plotly-graph-div\" style=\"height:525px; width:100%;\"></div>            <script type=\"text/javascript\">                require([\"plotly\"], function(Plotly) {                    window.PLOTLYENV=window.PLOTLYENV || {};\n",
       "                    window.PLOTLYENV.BASE_URL='https://plot.ly';                                    if (document.getElementById(\"ec1dca9f-26a9-40ff-8b23-55501e756fc1\")) {                    Plotly.newPlot(                        \"ec1dca9f-26a9-40ff-8b23-55501e756fc1\",                        [{\"boxpoints\":false,\"line\":{\"width\":1.3},\"marker\":{\"color\":\"rgba(255, 153, 51, 1.0)\"},\"name\":\"A\",\"orientation\":\"v\",\"y\":[-0.3497734254771835,0.5583236144971976,1.0210338390182403,0.7833067604547665,1.6462849509104058,-0.7372755607522767,0.9881508966271882,0.14398838038901476,-0.6395676601793224,0.6291591032308805,1.3470169543296011,0.60968541723478,1.7636746057249477,-0.8968347110563231,1.1061992371572222,0.44411579330015866,-0.4910466503882815,-0.46352959198906274,-1.381458377602349,0.8509163423647723,1.4268676166900143,1.2007370070130767,0.3090613141255533,-0.3209463480469782,1.0765472388705708,1.5095524793854327,0.11806543873081181,1.8566919692700568,-0.8220431176199894,-0.8557816023136964,-1.9698929315893803,-0.2645274617925079,0.4674957207486842,-0.7598034286404655,-0.09316392607820459,-0.11288405529306757,-0.7718474232824881,-0.30971869052360046,0.3188546937996816,-0.3833733336548828,-1.26409683214929,-0.260610568878272,-0.8724907032434537,-0.6843172926825293,0.9410366903204676,0.5674477518189098,-0.07158642241174541,-1.8124280141646631,-1.4928103512959483,1.643157157597684,0.6093130094966801,-0.9776498459499772,-0.6637523839034207,0.44044446528203607,-1.8459802910301286,0.9930741770617006,0.41774133566523103,-0.09330237801047414,-0.7229100824409184,-0.16409341879725245,-1.2503439337761084,-0.5470496191739559,2.0386594730120065,-0.36908233025570886,-0.9250062299172206,-1.049546627000459,0.33175448123373075,0.9583714991373541,-2.1414378743802054,0.029573053775218225,-0.37324905528350794,1.42743012206251,-1.0404331204863992,1.334297972923157,0.8687276958286853,-0.2657337201171915,-0.6483819246588316,-0.24411340590570904,0.8505625725136822,-0.9179899937538808,0.8837406184286677,1.2499050427703942,0.33803720522963754,-0.6719806178223434,-1.4049437087691334,0.7386471634448698,0.9459537223565966,-0.6158054534571311,-1.0153312336632523,0.0924594831228007,0.17288858565747628,0.15420059591782365,-0.9485218735971477,-0.7324767569691258,0.17741031455593906,-0.590903068024523,-2.305888866671554,-0.6263816050863013,-0.0159640671396924,1.2145738337263368],\"type\":\"box\"},{\"boxpoints\":false,\"line\":{\"width\":1.3},\"marker\":{\"color\":\"rgba(55, 128, 191, 1.0)\"},\"name\":\"B\",\"orientation\":\"v\",\"y\":[1.1700434818844438,1.0751258509099173,-1.0083558806672341,-1.0207489561575065,2.449361100561767,-0.7175292061587076,-0.368063200704348,-0.2069764602363649,-0.5852792240627692,0.21418680003139948,3.5417689407035073,-0.8937838034366977,-0.450364359714211,-0.48201024793974095,-1.1477346930123722,-0.4551181416866834,0.39689090096151236,-1.085332249768537,-0.3330302827084691,-0.09164557937808074,0.8209906788667682,-0.18259882874169228,1.414664742141667,-1.3168984602931946,-1.0673751875441888,-0.8811015444791677,1.1573950121989691,-1.9420689925822388,0.15254426213926583,-0.5106440815180584,-1.1407698919771738,0.9658187833865867,0.09032980787959194,0.5105956795061436,-1.5445015493646832,-0.529670046477799,-1.2951546206741757,-2.26897320406101,2.0647400026491787,0.7912257586064879,-0.9435855795774132,-0.0792530039589136,-0.701391406857763,0.3904899555187702,-0.12401867350010902,-1.1770981578075772,1.3699958165123711,1.1383701335229368,1.0753035171938106,2.3566664850434185,0.28328978448650277,-0.2278154516210515,-1.5229891887572231,1.6115199927052717,-0.4770954007952236,-0.03244258909954915,-0.01973863081231562,-0.9240201466956118,-0.7018806548826212,1.116257598901643,-2.374321527801769,2.1079872052410247,0.6982011140111537,-1.0555114969250081,-0.3897723937818329,1.1925231381245627,1.2237381227711939,0.5989850587870378,-0.8991782314803098,0.5255067693703722,2.7586264976767483,-0.0788469074477344,-0.853278412662128,-1.2219390892924478,0.10246149478772258,0.6284426117915223,0.512062339056357,-0.9386584410755775,1.6755332861886518,-0.8947338550700419,-0.4122518141392201,0.32106067012965067,2.1975821633476937,0.9364725716982593,-1.00268240741226,-1.9229183584789276,0.843620878659984,1.4771597910462655,-1.1347015325896048,0.9918722842152485,0.013184538681476031,0.44169861274054656,0.583312537359923,-0.8523979073270433,-0.910846088535007,-0.6928852005666618,0.9272107055521642,1.1217693677540292,1.1415382607103743,-0.5431411104261837],\"type\":\"box\"},{\"boxpoints\":false,\"line\":{\"width\":1.3},\"marker\":{\"color\":\"rgba(50, 171, 96, 1.0)\"},\"name\":\"C\",\"orientation\":\"v\",\"y\":[1.473083332255314,0.9258496787072514,1.8967152084603263,0.5094757693900035,0.7146004798243432,-1.1536876350709635,0.18548193530260024,-0.5075062148515169,-1.5268904269312875,0.6327675065365713,-1.742833178440796,-0.17760792279074386,-0.42993561146729475,-0.1179318962451331,-0.21883793411321237,0.21035180606533244,0.6456782916462754,0.497836559419002,-0.22454369521798712,1.0002162002607486,-0.27976775514967345,-2.056135470053321,-0.3511032564122926,0.4882445400939479,-0.6959759103681386,0.23140989326553035,0.12838188251732172,0.1474251727868586,-1.028327141684152,-0.37662685279761027,0.7161771806860826,-0.693620953106078,0.7365791592639287,1.5664657691276676,-0.76605114693056,0.037460110483771805,-0.4545069367144243,-2.816201515590873,0.44476014461409424,3.987028889778592,0.2382839959031368,0.1544714297602142,-1.1839143285918141,-0.04325443245265641,-0.08472937679164963,-0.39019797024732433,0.5403505042879775,0.4784431651531812,0.8283730166762587,-0.2132079379782824,0.10906692402751189,1.0681804289532224,-1.0209083394130125,0.5206690130888805,-0.27918154735984085,0.29200225134038177,1.905288479546918,0.3997104096709477,0.5013842971397798,-1.1656804407539827,0.6455516818425268,1.541026740339318,2.6996725442982576,0.6193919600500564,1.2594267228801967,2.03764182392081,2.02358563544627,0.1372364950453501,-1.1538969677054436,-1.2251744553445316,1.1821627669887178,1.362524384554462,-1.1512441351555531,-1.097578509925831,-0.6364242289158625,-1.1886913836996127,-0.9538117092849445,-0.9603629932333726,0.14755689083253284,0.6680012472139528,0.6544043421773577,-0.10335629168952583,0.521061728181091,-0.08728947758018604,0.3836813455518674,-0.3644919329855644,0.5486957487826961,0.13757325737363496,-0.48418748892721414,0.4568733162095446,-1.5496006269331533,-0.06743847782881852,-0.2061053566554512,-0.29416175176257753,1.051303153982947,-0.8479007078060758,-0.9464950884751328,0.3658755855969737,-0.5155006411077879,-1.4771406666187883],\"type\":\"box\"},{\"boxpoints\":false,\"line\":{\"width\":1.3},\"marker\":{\"color\":\"rgba(128, 0, 128, 1.0)\"},\"name\":\"D\",\"orientation\":\"v\",\"y\":[-0.09003317590129503,1.0457917887062516,-0.29423220585512144,0.9574203445353496,-0.616241572606183,-0.5534767167714887,-0.402317520418005,-0.3198694237949411,-0.20986129184730268,-0.48481591628900955,0.3108071402504388,-2.1263382754100926,0.5837854118415968,1.0774759457251781,-0.12690922521057807,-1.032326010492601,0.621589276294923,-0.7558846540535813,0.5632004862443952,0.49559126946667226,0.27007365672731926,-0.23087880885944598,-1.3508501568502214,0.6288045519625935,0.06070987626653908,0.5965206752027222,-0.3990050270985692,0.11016658644061711,0.9663052119247858,0.35598252226894833,1.181185378826927,-2.3542627344060123,-0.09989175348051689,-1.2864459617402262,0.7288787403538859,1.0275471483629939,0.3171744183826212,0.15292413156519483,0.4550521613937916,0.5213790352963008,0.20318742251749508,0.48968368411199914,1.0769271256618655,-0.7208314446177871,-0.30430270873146514,-0.2690205310950531,1.0670149019246906,-0.894036317760341,0.42233411240554236,0.09463389593503285,0.3147842006938459,0.4856944509627888,2.822214131806755,0.31877350771443885,-0.8737946052935149,0.41233255732261115,-0.258945595402433,-0.9787725054168861,-0.41951840428865167,1.5049078192404473,-0.6002948664947724,-1.0402769229253626,-2.209506979417579,0.4007706232758198,0.6827919523767328,-0.7605663558840473,1.5466680829995878,0.2620314303239416,-1.4394773540690347,-0.6648546447808864,1.9603814736896064,0.2407875553980244,-0.5352119766189058,0.46096472752861317,1.3972868847907869,1.2890455957248392,0.48194092192672566,-0.8358341932639045,2.3004323348148605,1.5090343332030582,1.065422354286108,0.05754205364635004,0.05680937623707559,-0.5364577596823272,-0.6415186288104496,-0.9744011481401438,1.3155933877242785,-0.9683416732732715,0.07031433648700804,-0.9387365342791136,0.274963338186455,0.6173360180172238,-0.5768096481829308,-0.5853500394299408,-0.5456480354585667,-0.7215920562298185,1.2157961289744859,-0.19076909957151217,0.9379843244981523,-1.4249333623212475],\"type\":\"box\"}],                        {\"legend\":{\"bgcolor\":\"#F5F6F9\",\"font\":{\"color\":\"#4D5663\"}},\"paper_bgcolor\":\"#F5F6F9\",\"plot_bgcolor\":\"#F5F6F9\",\"template\":{\"data\":{\"barpolar\":[{\"marker\":{\"line\":{\"color\":\"#E5ECF6\",\"width\":0.5},\"pattern\":{\"fillmode\":\"overlay\",\"size\":10,\"solidity\":0.2}},\"type\":\"barpolar\"}],\"bar\":[{\"error_x\":{\"color\":\"#2a3f5f\"},\"error_y\":{\"color\":\"#2a3f5f\"},\"marker\":{\"line\":{\"color\":\"#E5ECF6\",\"width\":0.5},\"pattern\":{\"fillmode\":\"overlay\",\"size\":10,\"solidity\":0.2}},\"type\":\"bar\"}],\"carpet\":[{\"aaxis\":{\"endlinecolor\":\"#2a3f5f\",\"gridcolor\":\"white\",\"linecolor\":\"white\",\"minorgridcolor\":\"white\",\"startlinecolor\":\"#2a3f5f\"},\"baxis\":{\"endlinecolor\":\"#2a3f5f\",\"gridcolor\":\"white\",\"linecolor\":\"white\",\"minorgridcolor\":\"white\",\"startlinecolor\":\"#2a3f5f\"},\"type\":\"carpet\"}],\"choropleth\":[{\"colorbar\":{\"outlinewidth\":0,\"ticks\":\"\"},\"type\":\"choropleth\"}],\"contourcarpet\":[{\"colorbar\":{\"outlinewidth\":0,\"ticks\":\"\"},\"type\":\"contourcarpet\"}],\"contour\":[{\"colorbar\":{\"outlinewidth\":0,\"ticks\":\"\"},\"colorscale\":[[0.0,\"#0d0887\"],[0.1111111111111111,\"#46039f\"],[0.2222222222222222,\"#7201a8\"],[0.3333333333333333,\"#9c179e\"],[0.4444444444444444,\"#bd3786\"],[0.5555555555555556,\"#d8576b\"],[0.6666666666666666,\"#ed7953\"],[0.7777777777777778,\"#fb9f3a\"],[0.8888888888888888,\"#fdca26\"],[1.0,\"#f0f921\"]],\"type\":\"contour\"}],\"heatmapgl\":[{\"colorbar\":{\"outlinewidth\":0,\"ticks\":\"\"},\"colorscale\":[[0.0,\"#0d0887\"],[0.1111111111111111,\"#46039f\"],[0.2222222222222222,\"#7201a8\"],[0.3333333333333333,\"#9c179e\"],[0.4444444444444444,\"#bd3786\"],[0.5555555555555556,\"#d8576b\"],[0.6666666666666666,\"#ed7953\"],[0.7777777777777778,\"#fb9f3a\"],[0.8888888888888888,\"#fdca26\"],[1.0,\"#f0f921\"]],\"type\":\"heatmapgl\"}],\"heatmap\":[{\"colorbar\":{\"outlinewidth\":0,\"ticks\":\"\"},\"colorscale\":[[0.0,\"#0d0887\"],[0.1111111111111111,\"#46039f\"],[0.2222222222222222,\"#7201a8\"],[0.3333333333333333,\"#9c179e\"],[0.4444444444444444,\"#bd3786\"],[0.5555555555555556,\"#d8576b\"],[0.6666666666666666,\"#ed7953\"],[0.7777777777777778,\"#fb9f3a\"],[0.8888888888888888,\"#fdca26\"],[1.0,\"#f0f921\"]],\"type\":\"heatmap\"}],\"histogram2dcontour\":[{\"colorbar\":{\"outlinewidth\":0,\"ticks\":\"\"},\"colorscale\":[[0.0,\"#0d0887\"],[0.1111111111111111,\"#46039f\"],[0.2222222222222222,\"#7201a8\"],[0.3333333333333333,\"#9c179e\"],[0.4444444444444444,\"#bd3786\"],[0.5555555555555556,\"#d8576b\"],[0.6666666666666666,\"#ed7953\"],[0.7777777777777778,\"#fb9f3a\"],[0.8888888888888888,\"#fdca26\"],[1.0,\"#f0f921\"]],\"type\":\"histogram2dcontour\"}],\"histogram2d\":[{\"colorbar\":{\"outlinewidth\":0,\"ticks\":\"\"},\"colorscale\":[[0.0,\"#0d0887\"],[0.1111111111111111,\"#46039f\"],[0.2222222222222222,\"#7201a8\"],[0.3333333333333333,\"#9c179e\"],[0.4444444444444444,\"#bd3786\"],[0.5555555555555556,\"#d8576b\"],[0.6666666666666666,\"#ed7953\"],[0.7777777777777778,\"#fb9f3a\"],[0.8888888888888888,\"#fdca26\"],[1.0,\"#f0f921\"]],\"type\":\"histogram2d\"}],\"histogram\":[{\"marker\":{\"pattern\":{\"fillmode\":\"overlay\",\"size\":10,\"solidity\":0.2}},\"type\":\"histogram\"}],\"mesh3d\":[{\"colorbar\":{\"outlinewidth\":0,\"ticks\":\"\"},\"type\":\"mesh3d\"}],\"parcoords\":[{\"line\":{\"colorbar\":{\"outlinewidth\":0,\"ticks\":\"\"}},\"type\":\"parcoords\"}],\"pie\":[{\"automargin\":true,\"type\":\"pie\"}],\"scatter3d\":[{\"line\":{\"colorbar\":{\"outlinewidth\":0,\"ticks\":\"\"}},\"marker\":{\"colorbar\":{\"outlinewidth\":0,\"ticks\":\"\"}},\"type\":\"scatter3d\"}],\"scattercarpet\":[{\"marker\":{\"colorbar\":{\"outlinewidth\":0,\"ticks\":\"\"}},\"type\":\"scattercarpet\"}],\"scattergeo\":[{\"marker\":{\"colorbar\":{\"outlinewidth\":0,\"ticks\":\"\"}},\"type\":\"scattergeo\"}],\"scattergl\":[{\"marker\":{\"colorbar\":{\"outlinewidth\":0,\"ticks\":\"\"}},\"type\":\"scattergl\"}],\"scattermapbox\":[{\"marker\":{\"colorbar\":{\"outlinewidth\":0,\"ticks\":\"\"}},\"type\":\"scattermapbox\"}],\"scatterpolargl\":[{\"marker\":{\"colorbar\":{\"outlinewidth\":0,\"ticks\":\"\"}},\"type\":\"scatterpolargl\"}],\"scatterpolar\":[{\"marker\":{\"colorbar\":{\"outlinewidth\":0,\"ticks\":\"\"}},\"type\":\"scatterpolar\"}],\"scatter\":[{\"marker\":{\"colorbar\":{\"outlinewidth\":0,\"ticks\":\"\"}},\"type\":\"scatter\"}],\"scatterternary\":[{\"marker\":{\"colorbar\":{\"outlinewidth\":0,\"ticks\":\"\"}},\"type\":\"scatterternary\"}],\"surface\":[{\"colorbar\":{\"outlinewidth\":0,\"ticks\":\"\"},\"colorscale\":[[0.0,\"#0d0887\"],[0.1111111111111111,\"#46039f\"],[0.2222222222222222,\"#7201a8\"],[0.3333333333333333,\"#9c179e\"],[0.4444444444444444,\"#bd3786\"],[0.5555555555555556,\"#d8576b\"],[0.6666666666666666,\"#ed7953\"],[0.7777777777777778,\"#fb9f3a\"],[0.8888888888888888,\"#fdca26\"],[1.0,\"#f0f921\"]],\"type\":\"surface\"}],\"table\":[{\"cells\":{\"fill\":{\"color\":\"#EBF0F8\"},\"line\":{\"color\":\"white\"}},\"header\":{\"fill\":{\"color\":\"#C8D4E3\"},\"line\":{\"color\":\"white\"}},\"type\":\"table\"}]},\"layout\":{\"annotationdefaults\":{\"arrowcolor\":\"#2a3f5f\",\"arrowhead\":0,\"arrowwidth\":1},\"autotypenumbers\":\"strict\",\"coloraxis\":{\"colorbar\":{\"outlinewidth\":0,\"ticks\":\"\"}},\"colorscale\":{\"diverging\":[[0,\"#8e0152\"],[0.1,\"#c51b7d\"],[0.2,\"#de77ae\"],[0.3,\"#f1b6da\"],[0.4,\"#fde0ef\"],[0.5,\"#f7f7f7\"],[0.6,\"#e6f5d0\"],[0.7,\"#b8e186\"],[0.8,\"#7fbc41\"],[0.9,\"#4d9221\"],[1,\"#276419\"]],\"sequential\":[[0.0,\"#0d0887\"],[0.1111111111111111,\"#46039f\"],[0.2222222222222222,\"#7201a8\"],[0.3333333333333333,\"#9c179e\"],[0.4444444444444444,\"#bd3786\"],[0.5555555555555556,\"#d8576b\"],[0.6666666666666666,\"#ed7953\"],[0.7777777777777778,\"#fb9f3a\"],[0.8888888888888888,\"#fdca26\"],[1.0,\"#f0f921\"]],\"sequentialminus\":[[0.0,\"#0d0887\"],[0.1111111111111111,\"#46039f\"],[0.2222222222222222,\"#7201a8\"],[0.3333333333333333,\"#9c179e\"],[0.4444444444444444,\"#bd3786\"],[0.5555555555555556,\"#d8576b\"],[0.6666666666666666,\"#ed7953\"],[0.7777777777777778,\"#fb9f3a\"],[0.8888888888888888,\"#fdca26\"],[1.0,\"#f0f921\"]]},\"colorway\":[\"#636efa\",\"#EF553B\",\"#00cc96\",\"#ab63fa\",\"#FFA15A\",\"#19d3f3\",\"#FF6692\",\"#B6E880\",\"#FF97FF\",\"#FECB52\"],\"font\":{\"color\":\"#2a3f5f\"},\"geo\":{\"bgcolor\":\"white\",\"lakecolor\":\"white\",\"landcolor\":\"#E5ECF6\",\"showlakes\":true,\"showland\":true,\"subunitcolor\":\"white\"},\"hoverlabel\":{\"align\":\"left\"},\"hovermode\":\"closest\",\"mapbox\":{\"style\":\"light\"},\"paper_bgcolor\":\"white\",\"plot_bgcolor\":\"#E5ECF6\",\"polar\":{\"angularaxis\":{\"gridcolor\":\"white\",\"linecolor\":\"white\",\"ticks\":\"\"},\"bgcolor\":\"#E5ECF6\",\"radialaxis\":{\"gridcolor\":\"white\",\"linecolor\":\"white\",\"ticks\":\"\"}},\"scene\":{\"xaxis\":{\"backgroundcolor\":\"#E5ECF6\",\"gridcolor\":\"white\",\"gridwidth\":2,\"linecolor\":\"white\",\"showbackground\":true,\"ticks\":\"\",\"zerolinecolor\":\"white\"},\"yaxis\":{\"backgroundcolor\":\"#E5ECF6\",\"gridcolor\":\"white\",\"gridwidth\":2,\"linecolor\":\"white\",\"showbackground\":true,\"ticks\":\"\",\"zerolinecolor\":\"white\"},\"zaxis\":{\"backgroundcolor\":\"#E5ECF6\",\"gridcolor\":\"white\",\"gridwidth\":2,\"linecolor\":\"white\",\"showbackground\":true,\"ticks\":\"\",\"zerolinecolor\":\"white\"}},\"shapedefaults\":{\"line\":{\"color\":\"#2a3f5f\"}},\"ternary\":{\"aaxis\":{\"gridcolor\":\"white\",\"linecolor\":\"white\",\"ticks\":\"\"},\"baxis\":{\"gridcolor\":\"white\",\"linecolor\":\"white\",\"ticks\":\"\"},\"bgcolor\":\"#E5ECF6\",\"caxis\":{\"gridcolor\":\"white\",\"linecolor\":\"white\",\"ticks\":\"\"}},\"title\":{\"x\":0.05},\"xaxis\":{\"automargin\":true,\"gridcolor\":\"white\",\"linecolor\":\"white\",\"ticks\":\"\",\"title\":{\"standoff\":15},\"zerolinecolor\":\"white\",\"zerolinewidth\":2},\"yaxis\":{\"automargin\":true,\"gridcolor\":\"white\",\"linecolor\":\"white\",\"ticks\":\"\",\"title\":{\"standoff\":15},\"zerolinecolor\":\"white\",\"zerolinewidth\":2}}},\"title\":{\"font\":{\"color\":\"#4D5663\"}},\"xaxis\":{\"gridcolor\":\"#E1E5ED\",\"showgrid\":true,\"tickfont\":{\"color\":\"#4D5663\"},\"title\":{\"font\":{\"color\":\"#4D5663\"},\"text\":\"\"},\"zerolinecolor\":\"#E1E5ED\"},\"yaxis\":{\"gridcolor\":\"#E1E5ED\",\"showgrid\":true,\"tickfont\":{\"color\":\"#4D5663\"},\"title\":{\"font\":{\"color\":\"#4D5663\"},\"text\":\"\"},\"zerolinecolor\":\"#E1E5ED\"}},                        {\"showLink\": true, \"linkText\": \"Export to plot.ly\", \"plotlyServerURL\": \"https://plot.ly\", \"responsive\": true}                    ).then(function(){\n",
       "                            \n",
       "var gd = document.getElementById('ec1dca9f-26a9-40ff-8b23-55501e756fc1');\n",
       "var x = new MutationObserver(function (mutations, observer) {{\n",
       "        var display = window.getComputedStyle(gd).display;\n",
       "        if (!display || display === 'none') {{\n",
       "            console.log([gd, 'removed!']);\n",
       "            Plotly.purge(gd);\n",
       "            observer.disconnect();\n",
       "        }}\n",
       "}});\n",
       "\n",
       "// Listen for the removal of the full notebook cells\n",
       "var notebookContainer = gd.closest('#notebook-container');\n",
       "if (notebookContainer) {{\n",
       "    x.observe(notebookContainer, {childList: true});\n",
       "}}\n",
       "\n",
       "// Listen for the clearing of the current output cell\n",
       "var outputEl = gd.closest('.output');\n",
       "if (outputEl) {{\n",
       "    x.observe(outputEl, {childList: true});\n",
       "}}\n",
       "\n",
       "                        })                };                });            </script>        </div>"
      ]
     },
     "metadata": {},
     "output_type": "display_data"
    }
   ],
   "source": [
    "df.iplot(kind='box')"
   ]
  },
  {
   "cell_type": "markdown",
   "metadata": {},
   "source": [
    "## 3d Surface"
   ]
  },
  {
   "cell_type": "code",
   "execution_count": 15,
   "metadata": {
    "collapsed": false
   },
   "outputs": [
    {
     "data": {
      "application/vnd.plotly.v1+json": {
       "config": {
        "linkText": "Export to plot.ly",
        "plotlyServerURL": "https://plot.ly",
        "showLink": true
       },
       "data": [
        {
         "colorscale": [
          [
           0,
           "rgb(165,0,38)"
          ],
          [
           0.1,
           "rgb(215,48,39)"
          ],
          [
           0.2,
           "rgb(244,109,67)"
          ],
          [
           0.3,
           "rgb(253,174,97)"
          ],
          [
           0.4,
           "rgb(254,224,144)"
          ],
          [
           0.5,
           "rgb(255,255,191)"
          ],
          [
           0.6,
           "rgb(224,243,248)"
          ],
          [
           0.7,
           "rgb(171,217,233)"
          ],
          [
           0.8,
           "rgb(116,173,209)"
          ],
          [
           0.9,
           "rgb(69,117,180)"
          ],
          [
           1,
           "rgb(49,54,149)"
          ]
         ],
         "type": "surface",
         "x": [
          0,
          1,
          2,
          3,
          4
         ],
         "y": [
          "x",
          "y",
          "z"
         ],
         "z": [
          [
           1,
           2,
           3,
           4,
           5
          ],
          [
           10,
           20,
           30,
           20,
           10
          ],
          [
           5,
           4,
           3,
           2,
           1
          ]
         ]
        }
       ],
       "layout": {
        "legend": {
         "bgcolor": "#F5F6F9",
         "font": {
          "color": "#4D5663"
         }
        },
        "paper_bgcolor": "#F5F6F9",
        "plot_bgcolor": "#F5F6F9",
        "template": {
         "data": {
          "bar": [
           {
            "error_x": {
             "color": "#2a3f5f"
            },
            "error_y": {
             "color": "#2a3f5f"
            },
            "marker": {
             "line": {
              "color": "#E5ECF6",
              "width": 0.5
             },
             "pattern": {
              "fillmode": "overlay",
              "size": 10,
              "solidity": 0.2
             }
            },
            "type": "bar"
           }
          ],
          "barpolar": [
           {
            "marker": {
             "line": {
              "color": "#E5ECF6",
              "width": 0.5
             },
             "pattern": {
              "fillmode": "overlay",
              "size": 10,
              "solidity": 0.2
             }
            },
            "type": "barpolar"
           }
          ],
          "carpet": [
           {
            "aaxis": {
             "endlinecolor": "#2a3f5f",
             "gridcolor": "white",
             "linecolor": "white",
             "minorgridcolor": "white",
             "startlinecolor": "#2a3f5f"
            },
            "baxis": {
             "endlinecolor": "#2a3f5f",
             "gridcolor": "white",
             "linecolor": "white",
             "minorgridcolor": "white",
             "startlinecolor": "#2a3f5f"
            },
            "type": "carpet"
           }
          ],
          "choropleth": [
           {
            "colorbar": {
             "outlinewidth": 0,
             "ticks": ""
            },
            "type": "choropleth"
           }
          ],
          "contour": [
           {
            "colorbar": {
             "outlinewidth": 0,
             "ticks": ""
            },
            "colorscale": [
             [
              0,
              "#0d0887"
             ],
             [
              0.1111111111111111,
              "#46039f"
             ],
             [
              0.2222222222222222,
              "#7201a8"
             ],
             [
              0.3333333333333333,
              "#9c179e"
             ],
             [
              0.4444444444444444,
              "#bd3786"
             ],
             [
              0.5555555555555556,
              "#d8576b"
             ],
             [
              0.6666666666666666,
              "#ed7953"
             ],
             [
              0.7777777777777778,
              "#fb9f3a"
             ],
             [
              0.8888888888888888,
              "#fdca26"
             ],
             [
              1,
              "#f0f921"
             ]
            ],
            "type": "contour"
           }
          ],
          "contourcarpet": [
           {
            "colorbar": {
             "outlinewidth": 0,
             "ticks": ""
            },
            "type": "contourcarpet"
           }
          ],
          "heatmap": [
           {
            "colorbar": {
             "outlinewidth": 0,
             "ticks": ""
            },
            "colorscale": [
             [
              0,
              "#0d0887"
             ],
             [
              0.1111111111111111,
              "#46039f"
             ],
             [
              0.2222222222222222,
              "#7201a8"
             ],
             [
              0.3333333333333333,
              "#9c179e"
             ],
             [
              0.4444444444444444,
              "#bd3786"
             ],
             [
              0.5555555555555556,
              "#d8576b"
             ],
             [
              0.6666666666666666,
              "#ed7953"
             ],
             [
              0.7777777777777778,
              "#fb9f3a"
             ],
             [
              0.8888888888888888,
              "#fdca26"
             ],
             [
              1,
              "#f0f921"
             ]
            ],
            "type": "heatmap"
           }
          ],
          "heatmapgl": [
           {
            "colorbar": {
             "outlinewidth": 0,
             "ticks": ""
            },
            "colorscale": [
             [
              0,
              "#0d0887"
             ],
             [
              0.1111111111111111,
              "#46039f"
             ],
             [
              0.2222222222222222,
              "#7201a8"
             ],
             [
              0.3333333333333333,
              "#9c179e"
             ],
             [
              0.4444444444444444,
              "#bd3786"
             ],
             [
              0.5555555555555556,
              "#d8576b"
             ],
             [
              0.6666666666666666,
              "#ed7953"
             ],
             [
              0.7777777777777778,
              "#fb9f3a"
             ],
             [
              0.8888888888888888,
              "#fdca26"
             ],
             [
              1,
              "#f0f921"
             ]
            ],
            "type": "heatmapgl"
           }
          ],
          "histogram": [
           {
            "marker": {
             "pattern": {
              "fillmode": "overlay",
              "size": 10,
              "solidity": 0.2
             }
            },
            "type": "histogram"
           }
          ],
          "histogram2d": [
           {
            "colorbar": {
             "outlinewidth": 0,
             "ticks": ""
            },
            "colorscale": [
             [
              0,
              "#0d0887"
             ],
             [
              0.1111111111111111,
              "#46039f"
             ],
             [
              0.2222222222222222,
              "#7201a8"
             ],
             [
              0.3333333333333333,
              "#9c179e"
             ],
             [
              0.4444444444444444,
              "#bd3786"
             ],
             [
              0.5555555555555556,
              "#d8576b"
             ],
             [
              0.6666666666666666,
              "#ed7953"
             ],
             [
              0.7777777777777778,
              "#fb9f3a"
             ],
             [
              0.8888888888888888,
              "#fdca26"
             ],
             [
              1,
              "#f0f921"
             ]
            ],
            "type": "histogram2d"
           }
          ],
          "histogram2dcontour": [
           {
            "colorbar": {
             "outlinewidth": 0,
             "ticks": ""
            },
            "colorscale": [
             [
              0,
              "#0d0887"
             ],
             [
              0.1111111111111111,
              "#46039f"
             ],
             [
              0.2222222222222222,
              "#7201a8"
             ],
             [
              0.3333333333333333,
              "#9c179e"
             ],
             [
              0.4444444444444444,
              "#bd3786"
             ],
             [
              0.5555555555555556,
              "#d8576b"
             ],
             [
              0.6666666666666666,
              "#ed7953"
             ],
             [
              0.7777777777777778,
              "#fb9f3a"
             ],
             [
              0.8888888888888888,
              "#fdca26"
             ],
             [
              1,
              "#f0f921"
             ]
            ],
            "type": "histogram2dcontour"
           }
          ],
          "mesh3d": [
           {
            "colorbar": {
             "outlinewidth": 0,
             "ticks": ""
            },
            "type": "mesh3d"
           }
          ],
          "parcoords": [
           {
            "line": {
             "colorbar": {
              "outlinewidth": 0,
              "ticks": ""
             }
            },
            "type": "parcoords"
           }
          ],
          "pie": [
           {
            "automargin": true,
            "type": "pie"
           }
          ],
          "scatter": [
           {
            "marker": {
             "colorbar": {
              "outlinewidth": 0,
              "ticks": ""
             }
            },
            "type": "scatter"
           }
          ],
          "scatter3d": [
           {
            "line": {
             "colorbar": {
              "outlinewidth": 0,
              "ticks": ""
             }
            },
            "marker": {
             "colorbar": {
              "outlinewidth": 0,
              "ticks": ""
             }
            },
            "type": "scatter3d"
           }
          ],
          "scattercarpet": [
           {
            "marker": {
             "colorbar": {
              "outlinewidth": 0,
              "ticks": ""
             }
            },
            "type": "scattercarpet"
           }
          ],
          "scattergeo": [
           {
            "marker": {
             "colorbar": {
              "outlinewidth": 0,
              "ticks": ""
             }
            },
            "type": "scattergeo"
           }
          ],
          "scattergl": [
           {
            "marker": {
             "colorbar": {
              "outlinewidth": 0,
              "ticks": ""
             }
            },
            "type": "scattergl"
           }
          ],
          "scattermapbox": [
           {
            "marker": {
             "colorbar": {
              "outlinewidth": 0,
              "ticks": ""
             }
            },
            "type": "scattermapbox"
           }
          ],
          "scatterpolar": [
           {
            "marker": {
             "colorbar": {
              "outlinewidth": 0,
              "ticks": ""
             }
            },
            "type": "scatterpolar"
           }
          ],
          "scatterpolargl": [
           {
            "marker": {
             "colorbar": {
              "outlinewidth": 0,
              "ticks": ""
             }
            },
            "type": "scatterpolargl"
           }
          ],
          "scatterternary": [
           {
            "marker": {
             "colorbar": {
              "outlinewidth": 0,
              "ticks": ""
             }
            },
            "type": "scatterternary"
           }
          ],
          "surface": [
           {
            "colorbar": {
             "outlinewidth": 0,
             "ticks": ""
            },
            "colorscale": [
             [
              0,
              "#0d0887"
             ],
             [
              0.1111111111111111,
              "#46039f"
             ],
             [
              0.2222222222222222,
              "#7201a8"
             ],
             [
              0.3333333333333333,
              "#9c179e"
             ],
             [
              0.4444444444444444,
              "#bd3786"
             ],
             [
              0.5555555555555556,
              "#d8576b"
             ],
             [
              0.6666666666666666,
              "#ed7953"
             ],
             [
              0.7777777777777778,
              "#fb9f3a"
             ],
             [
              0.8888888888888888,
              "#fdca26"
             ],
             [
              1,
              "#f0f921"
             ]
            ],
            "type": "surface"
           }
          ],
          "table": [
           {
            "cells": {
             "fill": {
              "color": "#EBF0F8"
             },
             "line": {
              "color": "white"
             }
            },
            "header": {
             "fill": {
              "color": "#C8D4E3"
             },
             "line": {
              "color": "white"
             }
            },
            "type": "table"
           }
          ]
         },
         "layout": {
          "annotationdefaults": {
           "arrowcolor": "#2a3f5f",
           "arrowhead": 0,
           "arrowwidth": 1
          },
          "autotypenumbers": "strict",
          "coloraxis": {
           "colorbar": {
            "outlinewidth": 0,
            "ticks": ""
           }
          },
          "colorscale": {
           "diverging": [
            [
             0,
             "#8e0152"
            ],
            [
             0.1,
             "#c51b7d"
            ],
            [
             0.2,
             "#de77ae"
            ],
            [
             0.3,
             "#f1b6da"
            ],
            [
             0.4,
             "#fde0ef"
            ],
            [
             0.5,
             "#f7f7f7"
            ],
            [
             0.6,
             "#e6f5d0"
            ],
            [
             0.7,
             "#b8e186"
            ],
            [
             0.8,
             "#7fbc41"
            ],
            [
             0.9,
             "#4d9221"
            ],
            [
             1,
             "#276419"
            ]
           ],
           "sequential": [
            [
             0,
             "#0d0887"
            ],
            [
             0.1111111111111111,
             "#46039f"
            ],
            [
             0.2222222222222222,
             "#7201a8"
            ],
            [
             0.3333333333333333,
             "#9c179e"
            ],
            [
             0.4444444444444444,
             "#bd3786"
            ],
            [
             0.5555555555555556,
             "#d8576b"
            ],
            [
             0.6666666666666666,
             "#ed7953"
            ],
            [
             0.7777777777777778,
             "#fb9f3a"
            ],
            [
             0.8888888888888888,
             "#fdca26"
            ],
            [
             1,
             "#f0f921"
            ]
           ],
           "sequentialminus": [
            [
             0,
             "#0d0887"
            ],
            [
             0.1111111111111111,
             "#46039f"
            ],
            [
             0.2222222222222222,
             "#7201a8"
            ],
            [
             0.3333333333333333,
             "#9c179e"
            ],
            [
             0.4444444444444444,
             "#bd3786"
            ],
            [
             0.5555555555555556,
             "#d8576b"
            ],
            [
             0.6666666666666666,
             "#ed7953"
            ],
            [
             0.7777777777777778,
             "#fb9f3a"
            ],
            [
             0.8888888888888888,
             "#fdca26"
            ],
            [
             1,
             "#f0f921"
            ]
           ]
          },
          "colorway": [
           "#636efa",
           "#EF553B",
           "#00cc96",
           "#ab63fa",
           "#FFA15A",
           "#19d3f3",
           "#FF6692",
           "#B6E880",
           "#FF97FF",
           "#FECB52"
          ],
          "font": {
           "color": "#2a3f5f"
          },
          "geo": {
           "bgcolor": "white",
           "lakecolor": "white",
           "landcolor": "#E5ECF6",
           "showlakes": true,
           "showland": true,
           "subunitcolor": "white"
          },
          "hoverlabel": {
           "align": "left"
          },
          "hovermode": "closest",
          "mapbox": {
           "style": "light"
          },
          "paper_bgcolor": "white",
          "plot_bgcolor": "#E5ECF6",
          "polar": {
           "angularaxis": {
            "gridcolor": "white",
            "linecolor": "white",
            "ticks": ""
           },
           "bgcolor": "#E5ECF6",
           "radialaxis": {
            "gridcolor": "white",
            "linecolor": "white",
            "ticks": ""
           }
          },
          "scene": {
           "xaxis": {
            "backgroundcolor": "#E5ECF6",
            "gridcolor": "white",
            "gridwidth": 2,
            "linecolor": "white",
            "showbackground": true,
            "ticks": "",
            "zerolinecolor": "white"
           },
           "yaxis": {
            "backgroundcolor": "#E5ECF6",
            "gridcolor": "white",
            "gridwidth": 2,
            "linecolor": "white",
            "showbackground": true,
            "ticks": "",
            "zerolinecolor": "white"
           },
           "zaxis": {
            "backgroundcolor": "#E5ECF6",
            "gridcolor": "white",
            "gridwidth": 2,
            "linecolor": "white",
            "showbackground": true,
            "ticks": "",
            "zerolinecolor": "white"
           }
          },
          "shapedefaults": {
           "line": {
            "color": "#2a3f5f"
           }
          },
          "ternary": {
           "aaxis": {
            "gridcolor": "white",
            "linecolor": "white",
            "ticks": ""
           },
           "baxis": {
            "gridcolor": "white",
            "linecolor": "white",
            "ticks": ""
           },
           "bgcolor": "#E5ECF6",
           "caxis": {
            "gridcolor": "white",
            "linecolor": "white",
            "ticks": ""
           }
          },
          "title": {
           "x": 0.05
          },
          "xaxis": {
           "automargin": true,
           "gridcolor": "white",
           "linecolor": "white",
           "ticks": "",
           "title": {
            "standoff": 15
           },
           "zerolinecolor": "white",
           "zerolinewidth": 2
          },
          "yaxis": {
           "automargin": true,
           "gridcolor": "white",
           "linecolor": "white",
           "ticks": "",
           "title": {
            "standoff": 15
           },
           "zerolinecolor": "white",
           "zerolinewidth": 2
          }
         }
        },
        "title": {
         "font": {
          "color": "#4D5663"
         }
        },
        "xaxis": {
         "gridcolor": "#E1E5ED",
         "showgrid": true,
         "tickfont": {
          "color": "#4D5663"
         },
         "title": {
          "font": {
           "color": "#4D5663"
          },
          "text": ""
         },
         "zerolinecolor": "#E1E5ED"
        },
        "yaxis": {
         "gridcolor": "#E1E5ED",
         "showgrid": true,
         "tickfont": {
          "color": "#4D5663"
         },
         "title": {
          "font": {
           "color": "#4D5663"
          },
          "text": ""
         },
         "zerolinecolor": "#E1E5ED"
        }
       }
      },
      "text/html": [
       "<div>                            <div id=\"e86ea959-5e58-47ac-a0a1-b4fb75a42c09\" class=\"plotly-graph-div\" style=\"height:525px; width:100%;\"></div>            <script type=\"text/javascript\">                require([\"plotly\"], function(Plotly) {                    window.PLOTLYENV=window.PLOTLYENV || {};\n",
       "                    window.PLOTLYENV.BASE_URL='https://plot.ly';                                    if (document.getElementById(\"e86ea959-5e58-47ac-a0a1-b4fb75a42c09\")) {                    Plotly.newPlot(                        \"e86ea959-5e58-47ac-a0a1-b4fb75a42c09\",                        [{\"colorscale\":[[0.0,\"rgb(165,0,38)\"],[0.1,\"rgb(215,48,39)\"],[0.2,\"rgb(244,109,67)\"],[0.3,\"rgb(253,174,97)\"],[0.4,\"rgb(254,224,144)\"],[0.5,\"rgb(255,255,191)\"],[0.6,\"rgb(224,243,248)\"],[0.7,\"rgb(171,217,233)\"],[0.8,\"rgb(116,173,209)\"],[0.9,\"rgb(69,117,180)\"],[1.0,\"rgb(49,54,149)\"]],\"x\":[0,1,2,3,4],\"y\":[\"x\",\"y\",\"z\"],\"z\":[[1,2,3,4,5],[10,20,30,20,10],[5,4,3,2,1]],\"type\":\"surface\"}],                        {\"legend\":{\"bgcolor\":\"#F5F6F9\",\"font\":{\"color\":\"#4D5663\"}},\"paper_bgcolor\":\"#F5F6F9\",\"plot_bgcolor\":\"#F5F6F9\",\"template\":{\"data\":{\"barpolar\":[{\"marker\":{\"line\":{\"color\":\"#E5ECF6\",\"width\":0.5},\"pattern\":{\"fillmode\":\"overlay\",\"size\":10,\"solidity\":0.2}},\"type\":\"barpolar\"}],\"bar\":[{\"error_x\":{\"color\":\"#2a3f5f\"},\"error_y\":{\"color\":\"#2a3f5f\"},\"marker\":{\"line\":{\"color\":\"#E5ECF6\",\"width\":0.5},\"pattern\":{\"fillmode\":\"overlay\",\"size\":10,\"solidity\":0.2}},\"type\":\"bar\"}],\"carpet\":[{\"aaxis\":{\"endlinecolor\":\"#2a3f5f\",\"gridcolor\":\"white\",\"linecolor\":\"white\",\"minorgridcolor\":\"white\",\"startlinecolor\":\"#2a3f5f\"},\"baxis\":{\"endlinecolor\":\"#2a3f5f\",\"gridcolor\":\"white\",\"linecolor\":\"white\",\"minorgridcolor\":\"white\",\"startlinecolor\":\"#2a3f5f\"},\"type\":\"carpet\"}],\"choropleth\":[{\"colorbar\":{\"outlinewidth\":0,\"ticks\":\"\"},\"type\":\"choropleth\"}],\"contourcarpet\":[{\"colorbar\":{\"outlinewidth\":0,\"ticks\":\"\"},\"type\":\"contourcarpet\"}],\"contour\":[{\"colorbar\":{\"outlinewidth\":0,\"ticks\":\"\"},\"colorscale\":[[0.0,\"#0d0887\"],[0.1111111111111111,\"#46039f\"],[0.2222222222222222,\"#7201a8\"],[0.3333333333333333,\"#9c179e\"],[0.4444444444444444,\"#bd3786\"],[0.5555555555555556,\"#d8576b\"],[0.6666666666666666,\"#ed7953\"],[0.7777777777777778,\"#fb9f3a\"],[0.8888888888888888,\"#fdca26\"],[1.0,\"#f0f921\"]],\"type\":\"contour\"}],\"heatmapgl\":[{\"colorbar\":{\"outlinewidth\":0,\"ticks\":\"\"},\"colorscale\":[[0.0,\"#0d0887\"],[0.1111111111111111,\"#46039f\"],[0.2222222222222222,\"#7201a8\"],[0.3333333333333333,\"#9c179e\"],[0.4444444444444444,\"#bd3786\"],[0.5555555555555556,\"#d8576b\"],[0.6666666666666666,\"#ed7953\"],[0.7777777777777778,\"#fb9f3a\"],[0.8888888888888888,\"#fdca26\"],[1.0,\"#f0f921\"]],\"type\":\"heatmapgl\"}],\"heatmap\":[{\"colorbar\":{\"outlinewidth\":0,\"ticks\":\"\"},\"colorscale\":[[0.0,\"#0d0887\"],[0.1111111111111111,\"#46039f\"],[0.2222222222222222,\"#7201a8\"],[0.3333333333333333,\"#9c179e\"],[0.4444444444444444,\"#bd3786\"],[0.5555555555555556,\"#d8576b\"],[0.6666666666666666,\"#ed7953\"],[0.7777777777777778,\"#fb9f3a\"],[0.8888888888888888,\"#fdca26\"],[1.0,\"#f0f921\"]],\"type\":\"heatmap\"}],\"histogram2dcontour\":[{\"colorbar\":{\"outlinewidth\":0,\"ticks\":\"\"},\"colorscale\":[[0.0,\"#0d0887\"],[0.1111111111111111,\"#46039f\"],[0.2222222222222222,\"#7201a8\"],[0.3333333333333333,\"#9c179e\"],[0.4444444444444444,\"#bd3786\"],[0.5555555555555556,\"#d8576b\"],[0.6666666666666666,\"#ed7953\"],[0.7777777777777778,\"#fb9f3a\"],[0.8888888888888888,\"#fdca26\"],[1.0,\"#f0f921\"]],\"type\":\"histogram2dcontour\"}],\"histogram2d\":[{\"colorbar\":{\"outlinewidth\":0,\"ticks\":\"\"},\"colorscale\":[[0.0,\"#0d0887\"],[0.1111111111111111,\"#46039f\"],[0.2222222222222222,\"#7201a8\"],[0.3333333333333333,\"#9c179e\"],[0.4444444444444444,\"#bd3786\"],[0.5555555555555556,\"#d8576b\"],[0.6666666666666666,\"#ed7953\"],[0.7777777777777778,\"#fb9f3a\"],[0.8888888888888888,\"#fdca26\"],[1.0,\"#f0f921\"]],\"type\":\"histogram2d\"}],\"histogram\":[{\"marker\":{\"pattern\":{\"fillmode\":\"overlay\",\"size\":10,\"solidity\":0.2}},\"type\":\"histogram\"}],\"mesh3d\":[{\"colorbar\":{\"outlinewidth\":0,\"ticks\":\"\"},\"type\":\"mesh3d\"}],\"parcoords\":[{\"line\":{\"colorbar\":{\"outlinewidth\":0,\"ticks\":\"\"}},\"type\":\"parcoords\"}],\"pie\":[{\"automargin\":true,\"type\":\"pie\"}],\"scatter3d\":[{\"line\":{\"colorbar\":{\"outlinewidth\":0,\"ticks\":\"\"}},\"marker\":{\"colorbar\":{\"outlinewidth\":0,\"ticks\":\"\"}},\"type\":\"scatter3d\"}],\"scattercarpet\":[{\"marker\":{\"colorbar\":{\"outlinewidth\":0,\"ticks\":\"\"}},\"type\":\"scattercarpet\"}],\"scattergeo\":[{\"marker\":{\"colorbar\":{\"outlinewidth\":0,\"ticks\":\"\"}},\"type\":\"scattergeo\"}],\"scattergl\":[{\"marker\":{\"colorbar\":{\"outlinewidth\":0,\"ticks\":\"\"}},\"type\":\"scattergl\"}],\"scattermapbox\":[{\"marker\":{\"colorbar\":{\"outlinewidth\":0,\"ticks\":\"\"}},\"type\":\"scattermapbox\"}],\"scatterpolargl\":[{\"marker\":{\"colorbar\":{\"outlinewidth\":0,\"ticks\":\"\"}},\"type\":\"scatterpolargl\"}],\"scatterpolar\":[{\"marker\":{\"colorbar\":{\"outlinewidth\":0,\"ticks\":\"\"}},\"type\":\"scatterpolar\"}],\"scatter\":[{\"marker\":{\"colorbar\":{\"outlinewidth\":0,\"ticks\":\"\"}},\"type\":\"scatter\"}],\"scatterternary\":[{\"marker\":{\"colorbar\":{\"outlinewidth\":0,\"ticks\":\"\"}},\"type\":\"scatterternary\"}],\"surface\":[{\"colorbar\":{\"outlinewidth\":0,\"ticks\":\"\"},\"colorscale\":[[0.0,\"#0d0887\"],[0.1111111111111111,\"#46039f\"],[0.2222222222222222,\"#7201a8\"],[0.3333333333333333,\"#9c179e\"],[0.4444444444444444,\"#bd3786\"],[0.5555555555555556,\"#d8576b\"],[0.6666666666666666,\"#ed7953\"],[0.7777777777777778,\"#fb9f3a\"],[0.8888888888888888,\"#fdca26\"],[1.0,\"#f0f921\"]],\"type\":\"surface\"}],\"table\":[{\"cells\":{\"fill\":{\"color\":\"#EBF0F8\"},\"line\":{\"color\":\"white\"}},\"header\":{\"fill\":{\"color\":\"#C8D4E3\"},\"line\":{\"color\":\"white\"}},\"type\":\"table\"}]},\"layout\":{\"annotationdefaults\":{\"arrowcolor\":\"#2a3f5f\",\"arrowhead\":0,\"arrowwidth\":1},\"autotypenumbers\":\"strict\",\"coloraxis\":{\"colorbar\":{\"outlinewidth\":0,\"ticks\":\"\"}},\"colorscale\":{\"diverging\":[[0,\"#8e0152\"],[0.1,\"#c51b7d\"],[0.2,\"#de77ae\"],[0.3,\"#f1b6da\"],[0.4,\"#fde0ef\"],[0.5,\"#f7f7f7\"],[0.6,\"#e6f5d0\"],[0.7,\"#b8e186\"],[0.8,\"#7fbc41\"],[0.9,\"#4d9221\"],[1,\"#276419\"]],\"sequential\":[[0.0,\"#0d0887\"],[0.1111111111111111,\"#46039f\"],[0.2222222222222222,\"#7201a8\"],[0.3333333333333333,\"#9c179e\"],[0.4444444444444444,\"#bd3786\"],[0.5555555555555556,\"#d8576b\"],[0.6666666666666666,\"#ed7953\"],[0.7777777777777778,\"#fb9f3a\"],[0.8888888888888888,\"#fdca26\"],[1.0,\"#f0f921\"]],\"sequentialminus\":[[0.0,\"#0d0887\"],[0.1111111111111111,\"#46039f\"],[0.2222222222222222,\"#7201a8\"],[0.3333333333333333,\"#9c179e\"],[0.4444444444444444,\"#bd3786\"],[0.5555555555555556,\"#d8576b\"],[0.6666666666666666,\"#ed7953\"],[0.7777777777777778,\"#fb9f3a\"],[0.8888888888888888,\"#fdca26\"],[1.0,\"#f0f921\"]]},\"colorway\":[\"#636efa\",\"#EF553B\",\"#00cc96\",\"#ab63fa\",\"#FFA15A\",\"#19d3f3\",\"#FF6692\",\"#B6E880\",\"#FF97FF\",\"#FECB52\"],\"font\":{\"color\":\"#2a3f5f\"},\"geo\":{\"bgcolor\":\"white\",\"lakecolor\":\"white\",\"landcolor\":\"#E5ECF6\",\"showlakes\":true,\"showland\":true,\"subunitcolor\":\"white\"},\"hoverlabel\":{\"align\":\"left\"},\"hovermode\":\"closest\",\"mapbox\":{\"style\":\"light\"},\"paper_bgcolor\":\"white\",\"plot_bgcolor\":\"#E5ECF6\",\"polar\":{\"angularaxis\":{\"gridcolor\":\"white\",\"linecolor\":\"white\",\"ticks\":\"\"},\"bgcolor\":\"#E5ECF6\",\"radialaxis\":{\"gridcolor\":\"white\",\"linecolor\":\"white\",\"ticks\":\"\"}},\"scene\":{\"xaxis\":{\"backgroundcolor\":\"#E5ECF6\",\"gridcolor\":\"white\",\"gridwidth\":2,\"linecolor\":\"white\",\"showbackground\":true,\"ticks\":\"\",\"zerolinecolor\":\"white\"},\"yaxis\":{\"backgroundcolor\":\"#E5ECF6\",\"gridcolor\":\"white\",\"gridwidth\":2,\"linecolor\":\"white\",\"showbackground\":true,\"ticks\":\"\",\"zerolinecolor\":\"white\"},\"zaxis\":{\"backgroundcolor\":\"#E5ECF6\",\"gridcolor\":\"white\",\"gridwidth\":2,\"linecolor\":\"white\",\"showbackground\":true,\"ticks\":\"\",\"zerolinecolor\":\"white\"}},\"shapedefaults\":{\"line\":{\"color\":\"#2a3f5f\"}},\"ternary\":{\"aaxis\":{\"gridcolor\":\"white\",\"linecolor\":\"white\",\"ticks\":\"\"},\"baxis\":{\"gridcolor\":\"white\",\"linecolor\":\"white\",\"ticks\":\"\"},\"bgcolor\":\"#E5ECF6\",\"caxis\":{\"gridcolor\":\"white\",\"linecolor\":\"white\",\"ticks\":\"\"}},\"title\":{\"x\":0.05},\"xaxis\":{\"automargin\":true,\"gridcolor\":\"white\",\"linecolor\":\"white\",\"ticks\":\"\",\"title\":{\"standoff\":15},\"zerolinecolor\":\"white\",\"zerolinewidth\":2},\"yaxis\":{\"automargin\":true,\"gridcolor\":\"white\",\"linecolor\":\"white\",\"ticks\":\"\",\"title\":{\"standoff\":15},\"zerolinecolor\":\"white\",\"zerolinewidth\":2}}},\"title\":{\"font\":{\"color\":\"#4D5663\"}},\"xaxis\":{\"gridcolor\":\"#E1E5ED\",\"showgrid\":true,\"tickfont\":{\"color\":\"#4D5663\"},\"title\":{\"font\":{\"color\":\"#4D5663\"},\"text\":\"\"},\"zerolinecolor\":\"#E1E5ED\"},\"yaxis\":{\"gridcolor\":\"#E1E5ED\",\"showgrid\":true,\"tickfont\":{\"color\":\"#4D5663\"},\"title\":{\"font\":{\"color\":\"#4D5663\"},\"text\":\"\"},\"zerolinecolor\":\"#E1E5ED\"}},                        {\"showLink\": true, \"linkText\": \"Export to plot.ly\", \"plotlyServerURL\": \"https://plot.ly\", \"responsive\": true}                    ).then(function(){\n",
       "                            \n",
       "var gd = document.getElementById('e86ea959-5e58-47ac-a0a1-b4fb75a42c09');\n",
       "var x = new MutationObserver(function (mutations, observer) {{\n",
       "        var display = window.getComputedStyle(gd).display;\n",
       "        if (!display || display === 'none') {{\n",
       "            console.log([gd, 'removed!']);\n",
       "            Plotly.purge(gd);\n",
       "            observer.disconnect();\n",
       "        }}\n",
       "}});\n",
       "\n",
       "// Listen for the removal of the full notebook cells\n",
       "var notebookContainer = gd.closest('#notebook-container');\n",
       "if (notebookContainer) {{\n",
       "    x.observe(notebookContainer, {childList: true});\n",
       "}}\n",
       "\n",
       "// Listen for the clearing of the current output cell\n",
       "var outputEl = gd.closest('.output');\n",
       "if (outputEl) {{\n",
       "    x.observe(outputEl, {childList: true});\n",
       "}}\n",
       "\n",
       "                        })                };                });            </script>        </div>"
      ]
     },
     "metadata": {},
     "output_type": "display_data"
    }
   ],
   "source": [
    "df3 = pd.DataFrame({'x':[1,2,3,4,5],'y':[10,20,30,20,10],'z':[5,4,3,2,1]})\n",
    "df3.iplot(kind='surface',colorscale='rdylbu')"
   ]
  },
  {
   "cell_type": "markdown",
   "metadata": {},
   "source": [
    "## Spread"
   ]
  },
  {
   "cell_type": "code",
   "execution_count": 17,
   "metadata": {
    "collapsed": false
   },
   "outputs": [
    {
     "name": "stderr",
     "output_type": "stream",
     "text": [
      "/Users/CarlSchick/opt/anaconda3/lib/python3.8/site-packages/cufflinks/plotlytools.py:849: FutureWarning:\n",
      "\n",
      "The pandas.np module is deprecated and will be removed from pandas in a future version. Import numpy directly instead\n",
      "\n",
      "/Users/CarlSchick/opt/anaconda3/lib/python3.8/site-packages/cufflinks/plotlytools.py:850: FutureWarning:\n",
      "\n",
      "The pandas.np module is deprecated and will be removed from pandas in a future version. Import numpy directly instead\n",
      "\n"
     ]
    },
    {
     "data": {
      "application/vnd.plotly.v1+json": {
       "config": {
        "linkText": "Export to plot.ly",
        "plotlyServerURL": "https://plot.ly",
        "showLink": true
       },
       "data": [
        {
         "line": {
          "color": "rgba(255, 153, 51, 1.0)",
          "dash": "solid",
          "shape": "linear",
          "width": 1.3
         },
         "mode": "lines",
         "name": "A",
         "text": "",
         "type": "scatter",
         "x": [
          0,
          1,
          2,
          3,
          4,
          5,
          6,
          7,
          8,
          9,
          10,
          11,
          12,
          13,
          14,
          15,
          16,
          17,
          18,
          19,
          20,
          21,
          22,
          23,
          24,
          25,
          26,
          27,
          28,
          29,
          30,
          31,
          32,
          33,
          34,
          35,
          36,
          37,
          38,
          39,
          40,
          41,
          42,
          43,
          44,
          45,
          46,
          47,
          48,
          49,
          50,
          51,
          52,
          53,
          54,
          55,
          56,
          57,
          58,
          59,
          60,
          61,
          62,
          63,
          64,
          65,
          66,
          67,
          68,
          69,
          70,
          71,
          72,
          73,
          74,
          75,
          76,
          77,
          78,
          79,
          80,
          81,
          82,
          83,
          84,
          85,
          86,
          87,
          88,
          89,
          90,
          91,
          92,
          93,
          94,
          95,
          96,
          97,
          98,
          99
         ],
         "y": [
          -0.3497734254771835,
          0.5583236144971976,
          1.0210338390182403,
          0.7833067604547665,
          1.6462849509104058,
          -0.7372755607522767,
          0.9881508966271882,
          0.14398838038901476,
          -0.6395676601793224,
          0.6291591032308805,
          1.3470169543296011,
          0.60968541723478,
          1.7636746057249477,
          -0.8968347110563231,
          1.1061992371572222,
          0.44411579330015866,
          -0.4910466503882815,
          -0.46352959198906274,
          -1.381458377602349,
          0.8509163423647723,
          1.4268676166900143,
          1.2007370070130767,
          0.3090613141255533,
          -0.3209463480469782,
          1.0765472388705708,
          1.5095524793854327,
          0.11806543873081181,
          1.8566919692700568,
          -0.8220431176199894,
          -0.8557816023136964,
          -1.9698929315893803,
          -0.2645274617925079,
          0.4674957207486842,
          -0.7598034286404655,
          -0.09316392607820459,
          -0.11288405529306757,
          -0.7718474232824881,
          -0.30971869052360046,
          0.3188546937996816,
          -0.3833733336548828,
          -1.26409683214929,
          -0.260610568878272,
          -0.8724907032434537,
          -0.6843172926825293,
          0.9410366903204676,
          0.5674477518189098,
          -0.07158642241174541,
          -1.8124280141646631,
          -1.4928103512959483,
          1.643157157597684,
          0.6093130094966801,
          -0.9776498459499772,
          -0.6637523839034207,
          0.44044446528203607,
          -1.8459802910301286,
          0.9930741770617006,
          0.41774133566523103,
          -0.09330237801047414,
          -0.7229100824409184,
          -0.16409341879725245,
          -1.2503439337761084,
          -0.5470496191739559,
          2.0386594730120065,
          -0.36908233025570886,
          -0.9250062299172206,
          -1.049546627000459,
          0.33175448123373075,
          0.9583714991373541,
          -2.1414378743802054,
          0.029573053775218225,
          -0.37324905528350794,
          1.42743012206251,
          -1.0404331204863992,
          1.334297972923157,
          0.8687276958286853,
          -0.2657337201171915,
          -0.6483819246588316,
          -0.24411340590570904,
          0.8505625725136822,
          -0.9179899937538808,
          0.8837406184286677,
          1.2499050427703942,
          0.33803720522963754,
          -0.6719806178223434,
          -1.4049437087691334,
          0.7386471634448698,
          0.9459537223565966,
          -0.6158054534571311,
          -1.0153312336632523,
          0.0924594831228007,
          0.17288858565747628,
          0.15420059591782365,
          -0.9485218735971477,
          -0.7324767569691258,
          0.17741031455593906,
          -0.590903068024523,
          -2.305888866671554,
          -0.6263816050863013,
          -0.0159640671396924,
          1.2145738337263368
         ]
        },
        {
         "line": {
          "color": "rgba(55, 128, 191, 1.0)",
          "dash": "solid",
          "shape": "linear",
          "width": 1.3
         },
         "mode": "lines",
         "name": "B",
         "text": "",
         "type": "scatter",
         "x": [
          0,
          1,
          2,
          3,
          4,
          5,
          6,
          7,
          8,
          9,
          10,
          11,
          12,
          13,
          14,
          15,
          16,
          17,
          18,
          19,
          20,
          21,
          22,
          23,
          24,
          25,
          26,
          27,
          28,
          29,
          30,
          31,
          32,
          33,
          34,
          35,
          36,
          37,
          38,
          39,
          40,
          41,
          42,
          43,
          44,
          45,
          46,
          47,
          48,
          49,
          50,
          51,
          52,
          53,
          54,
          55,
          56,
          57,
          58,
          59,
          60,
          61,
          62,
          63,
          64,
          65,
          66,
          67,
          68,
          69,
          70,
          71,
          72,
          73,
          74,
          75,
          76,
          77,
          78,
          79,
          80,
          81,
          82,
          83,
          84,
          85,
          86,
          87,
          88,
          89,
          90,
          91,
          92,
          93,
          94,
          95,
          96,
          97,
          98,
          99
         ],
         "y": [
          1.1700434818844438,
          1.0751258509099173,
          -1.0083558806672341,
          -1.0207489561575065,
          2.449361100561767,
          -0.7175292061587076,
          -0.368063200704348,
          -0.2069764602363649,
          -0.5852792240627692,
          0.21418680003139948,
          3.5417689407035073,
          -0.8937838034366977,
          -0.450364359714211,
          -0.48201024793974095,
          -1.1477346930123722,
          -0.4551181416866834,
          0.39689090096151236,
          -1.085332249768537,
          -0.3330302827084691,
          -0.09164557937808074,
          0.8209906788667682,
          -0.18259882874169228,
          1.414664742141667,
          -1.3168984602931946,
          -1.0673751875441888,
          -0.8811015444791677,
          1.1573950121989691,
          -1.9420689925822388,
          0.15254426213926583,
          -0.5106440815180584,
          -1.1407698919771738,
          0.9658187833865867,
          0.09032980787959194,
          0.5105956795061436,
          -1.5445015493646832,
          -0.529670046477799,
          -1.2951546206741757,
          -2.26897320406101,
          2.0647400026491787,
          0.7912257586064879,
          -0.9435855795774132,
          -0.0792530039589136,
          -0.701391406857763,
          0.3904899555187702,
          -0.12401867350010902,
          -1.1770981578075772,
          1.3699958165123711,
          1.1383701335229368,
          1.0753035171938106,
          2.3566664850434185,
          0.28328978448650277,
          -0.2278154516210515,
          -1.5229891887572231,
          1.6115199927052717,
          -0.4770954007952236,
          -0.03244258909954915,
          -0.01973863081231562,
          -0.9240201466956118,
          -0.7018806548826212,
          1.116257598901643,
          -2.374321527801769,
          2.1079872052410247,
          0.6982011140111537,
          -1.0555114969250081,
          -0.3897723937818329,
          1.1925231381245627,
          1.2237381227711939,
          0.5989850587870378,
          -0.8991782314803098,
          0.5255067693703722,
          2.7586264976767483,
          -0.0788469074477344,
          -0.853278412662128,
          -1.2219390892924478,
          0.10246149478772258,
          0.6284426117915223,
          0.512062339056357,
          -0.9386584410755775,
          1.6755332861886518,
          -0.8947338550700419,
          -0.4122518141392201,
          0.32106067012965067,
          2.1975821633476937,
          0.9364725716982593,
          -1.00268240741226,
          -1.9229183584789276,
          0.843620878659984,
          1.4771597910462655,
          -1.1347015325896048,
          0.9918722842152485,
          0.013184538681476031,
          0.44169861274054656,
          0.583312537359923,
          -0.8523979073270433,
          -0.910846088535007,
          -0.6928852005666618,
          0.9272107055521642,
          1.1217693677540292,
          1.1415382607103743,
          -0.5431411104261837
         ]
        },
        {
         "connectgaps": false,
         "fill": "tozeroy",
         "line": {
          "color": "green",
          "dash": "solid",
          "shape": "linear",
          "width": 0.5
         },
         "mode": "lines",
         "name": "Spread",
         "showlegend": false,
         "type": "scatter",
         "x": [
          0,
          1,
          2,
          3,
          4,
          5,
          6,
          7,
          8,
          9,
          10,
          11,
          12,
          13,
          14,
          15,
          16,
          17,
          18,
          19,
          20,
          21,
          22,
          23,
          24,
          25,
          26,
          27,
          28,
          29,
          30,
          31,
          32,
          33,
          34,
          35,
          36,
          37,
          38,
          39,
          40,
          41,
          42,
          43,
          44,
          45,
          46,
          47,
          48,
          49,
          50,
          51,
          52,
          53,
          54,
          55,
          56,
          57,
          58,
          59,
          60,
          61,
          62,
          63,
          64,
          65,
          66,
          67,
          68,
          69,
          70,
          71,
          72,
          73,
          74,
          75,
          76,
          77,
          78,
          79,
          80,
          81,
          82,
          83,
          84,
          85,
          86,
          87,
          88,
          89,
          90,
          91,
          92,
          93,
          94,
          95,
          96,
          97,
          98,
          99
         ],
         "xaxis": "x2",
         "y": [
          "",
          "",
          2.0293897196854744,
          1.804055716612273,
          "",
          "",
          1.3562140973315362,
          0.3509648406253797,
          "",
          0.4149723031994811,
          "",
          1.5034692206714777,
          2.214038965439159,
          "",
          2.2539339301695946,
          0.8992339349868421,
          "",
          0.6218026577794742,
          "",
          0.942561921742853,
          0.605876937823246,
          1.383335835754769,
          "",
          0.9959521122462164,
          2.1439224264147594,
          2.3906540238646006,
          "",
          3.7987609618522953,
          "",
          "",
          "",
          "",
          0.37716591286909223,
          "",
          1.4513376232864785,
          0.4167859911847315,
          0.5233071973916876,
          1.9592545135374098,
          "",
          "",
          "",
          "",
          "",
          "",
          1.0650553638205766,
          1.744545909626487,
          "",
          "",
          "",
          "",
          0.32602322501017733,
          "",
          0.8592368048538024,
          "",
          "",
          1.0255167661612499,
          0.43747996647754667,
          0.8307177686851377,
          "",
          "",
          1.1239775940256607,
          "",
          1.3404583590008528,
          0.6864291666692992,
          "",
          "",
          "",
          0.3593864403503163,
          "",
          "",
          "",
          1.5062770295102446,
          "",
          2.5562370622156045,
          0.7662662010409627,
          "",
          "",
          0.6945450351698684,
          "",
          "",
          1.2959924325678878,
          0.9288443726407435,
          "",
          "",
          "",
          2.6615655219237975,
          0.10233284369661255,
          "",
          0.11937029892635254,
          "",
          0.15970404697600024,
          "",
          "",
          0.1199211503579175,
          1.088256403090946,
          0.10198213254213884,
          "",
          "",
          "",
          1.7577149441525206
         ],
         "yaxis": "y2"
        },
        {
         "connectgaps": false,
         "fill": "tozeroy",
         "line": {
          "color": "red",
          "dash": "solid",
          "shape": "linear",
          "width": 0.5
         },
         "mode": "lines",
         "name": "Spread",
         "showlegend": false,
         "type": "scatter",
         "x": [
          0,
          1,
          2,
          3,
          4,
          5,
          6,
          7,
          8,
          9,
          10,
          11,
          12,
          13,
          14,
          15,
          16,
          17,
          18,
          19,
          20,
          21,
          22,
          23,
          24,
          25,
          26,
          27,
          28,
          29,
          30,
          31,
          32,
          33,
          34,
          35,
          36,
          37,
          38,
          39,
          40,
          41,
          42,
          43,
          44,
          45,
          46,
          47,
          48,
          49,
          50,
          51,
          52,
          53,
          54,
          55,
          56,
          57,
          58,
          59,
          60,
          61,
          62,
          63,
          64,
          65,
          66,
          67,
          68,
          69,
          70,
          71,
          72,
          73,
          74,
          75,
          76,
          77,
          78,
          79,
          80,
          81,
          82,
          83,
          84,
          85,
          86,
          87,
          88,
          89,
          90,
          91,
          92,
          93,
          94,
          95,
          96,
          97,
          98,
          99
         ],
         "xaxis": "x2",
         "y": [
          -1.5198169073616272,
          -0.5168022364127197,
          "",
          "",
          -0.8030761496513612,
          -0.019746354593569104,
          "",
          "",
          -0.05428843611655321,
          "",
          -2.1947519863739062,
          "",
          "",
          -0.4148244631165821,
          "",
          "",
          -0.8879375513497938,
          "",
          -1.0484280948938798,
          "",
          "",
          "",
          -1.1056034280161136,
          "",
          "",
          "",
          -1.0393295734681574,
          "",
          -0.9745873797592552,
          -0.345137520795638,
          -0.8291230396122065,
          -1.2303462451790945,
          "",
          -1.270399108146609,
          "",
          "",
          "",
          "",
          -1.745885308849497,
          -1.1745990922613707,
          -0.32051125257187685,
          -0.1813575649193584,
          -0.17109929638569066,
          -1.0748072482012994,
          "",
          "",
          -1.4415822389241166,
          -2.9507981476875997,
          -2.5681138684897586,
          -0.7135093274457345,
          "",
          -0.7498343943289256,
          "",
          -1.1710755274232356,
          -1.368884890234905,
          "",
          "",
          "",
          -0.021029427558297176,
          -1.2803510176988955,
          "",
          -2.6550368244149807,
          "",
          "",
          -0.5352338361353877,
          -2.242069765125022,
          -0.8919836415374631,
          "",
          -1.2422596428998955,
          -0.495933715595154,
          -3.131875552960256,
          "",
          -0.18715470782427124,
          "",
          "",
          -0.8941763319087137,
          -1.1604442637151886,
          "",
          -0.8249707136749697,
          -0.02325613868383891,
          "",
          "",
          -1.859544958118056,
          -1.6084531895206027,
          -0.40226130135687344,
          "",
          "",
          -2.0929652445033966,
          "",
          -0.8994128010924478,
          "",
          -0.2874980168227229,
          -1.5318344109570705,
          "",
          "",
          "",
          -3.2330995722237184,
          -1.7481509728403304,
          -1.1575023278500667,
          ""
         ],
         "yaxis": "y2"
        }
       ],
       "layout": {
        "hovermode": "x",
        "legend": {
         "bgcolor": "#F5F6F9",
         "font": {
          "color": "#4D5663"
         }
        },
        "paper_bgcolor": "#F5F6F9",
        "plot_bgcolor": "#F5F6F9",
        "template": {
         "data": {
          "bar": [
           {
            "error_x": {
             "color": "#2a3f5f"
            },
            "error_y": {
             "color": "#2a3f5f"
            },
            "marker": {
             "line": {
              "color": "#E5ECF6",
              "width": 0.5
             },
             "pattern": {
              "fillmode": "overlay",
              "size": 10,
              "solidity": 0.2
             }
            },
            "type": "bar"
           }
          ],
          "barpolar": [
           {
            "marker": {
             "line": {
              "color": "#E5ECF6",
              "width": 0.5
             },
             "pattern": {
              "fillmode": "overlay",
              "size": 10,
              "solidity": 0.2
             }
            },
            "type": "barpolar"
           }
          ],
          "carpet": [
           {
            "aaxis": {
             "endlinecolor": "#2a3f5f",
             "gridcolor": "white",
             "linecolor": "white",
             "minorgridcolor": "white",
             "startlinecolor": "#2a3f5f"
            },
            "baxis": {
             "endlinecolor": "#2a3f5f",
             "gridcolor": "white",
             "linecolor": "white",
             "minorgridcolor": "white",
             "startlinecolor": "#2a3f5f"
            },
            "type": "carpet"
           }
          ],
          "choropleth": [
           {
            "colorbar": {
             "outlinewidth": 0,
             "ticks": ""
            },
            "type": "choropleth"
           }
          ],
          "contour": [
           {
            "colorbar": {
             "outlinewidth": 0,
             "ticks": ""
            },
            "colorscale": [
             [
              0,
              "#0d0887"
             ],
             [
              0.1111111111111111,
              "#46039f"
             ],
             [
              0.2222222222222222,
              "#7201a8"
             ],
             [
              0.3333333333333333,
              "#9c179e"
             ],
             [
              0.4444444444444444,
              "#bd3786"
             ],
             [
              0.5555555555555556,
              "#d8576b"
             ],
             [
              0.6666666666666666,
              "#ed7953"
             ],
             [
              0.7777777777777778,
              "#fb9f3a"
             ],
             [
              0.8888888888888888,
              "#fdca26"
             ],
             [
              1,
              "#f0f921"
             ]
            ],
            "type": "contour"
           }
          ],
          "contourcarpet": [
           {
            "colorbar": {
             "outlinewidth": 0,
             "ticks": ""
            },
            "type": "contourcarpet"
           }
          ],
          "heatmap": [
           {
            "colorbar": {
             "outlinewidth": 0,
             "ticks": ""
            },
            "colorscale": [
             [
              0,
              "#0d0887"
             ],
             [
              0.1111111111111111,
              "#46039f"
             ],
             [
              0.2222222222222222,
              "#7201a8"
             ],
             [
              0.3333333333333333,
              "#9c179e"
             ],
             [
              0.4444444444444444,
              "#bd3786"
             ],
             [
              0.5555555555555556,
              "#d8576b"
             ],
             [
              0.6666666666666666,
              "#ed7953"
             ],
             [
              0.7777777777777778,
              "#fb9f3a"
             ],
             [
              0.8888888888888888,
              "#fdca26"
             ],
             [
              1,
              "#f0f921"
             ]
            ],
            "type": "heatmap"
           }
          ],
          "heatmapgl": [
           {
            "colorbar": {
             "outlinewidth": 0,
             "ticks": ""
            },
            "colorscale": [
             [
              0,
              "#0d0887"
             ],
             [
              0.1111111111111111,
              "#46039f"
             ],
             [
              0.2222222222222222,
              "#7201a8"
             ],
             [
              0.3333333333333333,
              "#9c179e"
             ],
             [
              0.4444444444444444,
              "#bd3786"
             ],
             [
              0.5555555555555556,
              "#d8576b"
             ],
             [
              0.6666666666666666,
              "#ed7953"
             ],
             [
              0.7777777777777778,
              "#fb9f3a"
             ],
             [
              0.8888888888888888,
              "#fdca26"
             ],
             [
              1,
              "#f0f921"
             ]
            ],
            "type": "heatmapgl"
           }
          ],
          "histogram": [
           {
            "marker": {
             "pattern": {
              "fillmode": "overlay",
              "size": 10,
              "solidity": 0.2
             }
            },
            "type": "histogram"
           }
          ],
          "histogram2d": [
           {
            "colorbar": {
             "outlinewidth": 0,
             "ticks": ""
            },
            "colorscale": [
             [
              0,
              "#0d0887"
             ],
             [
              0.1111111111111111,
              "#46039f"
             ],
             [
              0.2222222222222222,
              "#7201a8"
             ],
             [
              0.3333333333333333,
              "#9c179e"
             ],
             [
              0.4444444444444444,
              "#bd3786"
             ],
             [
              0.5555555555555556,
              "#d8576b"
             ],
             [
              0.6666666666666666,
              "#ed7953"
             ],
             [
              0.7777777777777778,
              "#fb9f3a"
             ],
             [
              0.8888888888888888,
              "#fdca26"
             ],
             [
              1,
              "#f0f921"
             ]
            ],
            "type": "histogram2d"
           }
          ],
          "histogram2dcontour": [
           {
            "colorbar": {
             "outlinewidth": 0,
             "ticks": ""
            },
            "colorscale": [
             [
              0,
              "#0d0887"
             ],
             [
              0.1111111111111111,
              "#46039f"
             ],
             [
              0.2222222222222222,
              "#7201a8"
             ],
             [
              0.3333333333333333,
              "#9c179e"
             ],
             [
              0.4444444444444444,
              "#bd3786"
             ],
             [
              0.5555555555555556,
              "#d8576b"
             ],
             [
              0.6666666666666666,
              "#ed7953"
             ],
             [
              0.7777777777777778,
              "#fb9f3a"
             ],
             [
              0.8888888888888888,
              "#fdca26"
             ],
             [
              1,
              "#f0f921"
             ]
            ],
            "type": "histogram2dcontour"
           }
          ],
          "mesh3d": [
           {
            "colorbar": {
             "outlinewidth": 0,
             "ticks": ""
            },
            "type": "mesh3d"
           }
          ],
          "parcoords": [
           {
            "line": {
             "colorbar": {
              "outlinewidth": 0,
              "ticks": ""
             }
            },
            "type": "parcoords"
           }
          ],
          "pie": [
           {
            "automargin": true,
            "type": "pie"
           }
          ],
          "scatter": [
           {
            "marker": {
             "colorbar": {
              "outlinewidth": 0,
              "ticks": ""
             }
            },
            "type": "scatter"
           }
          ],
          "scatter3d": [
           {
            "line": {
             "colorbar": {
              "outlinewidth": 0,
              "ticks": ""
             }
            },
            "marker": {
             "colorbar": {
              "outlinewidth": 0,
              "ticks": ""
             }
            },
            "type": "scatter3d"
           }
          ],
          "scattercarpet": [
           {
            "marker": {
             "colorbar": {
              "outlinewidth": 0,
              "ticks": ""
             }
            },
            "type": "scattercarpet"
           }
          ],
          "scattergeo": [
           {
            "marker": {
             "colorbar": {
              "outlinewidth": 0,
              "ticks": ""
             }
            },
            "type": "scattergeo"
           }
          ],
          "scattergl": [
           {
            "marker": {
             "colorbar": {
              "outlinewidth": 0,
              "ticks": ""
             }
            },
            "type": "scattergl"
           }
          ],
          "scattermapbox": [
           {
            "marker": {
             "colorbar": {
              "outlinewidth": 0,
              "ticks": ""
             }
            },
            "type": "scattermapbox"
           }
          ],
          "scatterpolar": [
           {
            "marker": {
             "colorbar": {
              "outlinewidth": 0,
              "ticks": ""
             }
            },
            "type": "scatterpolar"
           }
          ],
          "scatterpolargl": [
           {
            "marker": {
             "colorbar": {
              "outlinewidth": 0,
              "ticks": ""
             }
            },
            "type": "scatterpolargl"
           }
          ],
          "scatterternary": [
           {
            "marker": {
             "colorbar": {
              "outlinewidth": 0,
              "ticks": ""
             }
            },
            "type": "scatterternary"
           }
          ],
          "surface": [
           {
            "colorbar": {
             "outlinewidth": 0,
             "ticks": ""
            },
            "colorscale": [
             [
              0,
              "#0d0887"
             ],
             [
              0.1111111111111111,
              "#46039f"
             ],
             [
              0.2222222222222222,
              "#7201a8"
             ],
             [
              0.3333333333333333,
              "#9c179e"
             ],
             [
              0.4444444444444444,
              "#bd3786"
             ],
             [
              0.5555555555555556,
              "#d8576b"
             ],
             [
              0.6666666666666666,
              "#ed7953"
             ],
             [
              0.7777777777777778,
              "#fb9f3a"
             ],
             [
              0.8888888888888888,
              "#fdca26"
             ],
             [
              1,
              "#f0f921"
             ]
            ],
            "type": "surface"
           }
          ],
          "table": [
           {
            "cells": {
             "fill": {
              "color": "#EBF0F8"
             },
             "line": {
              "color": "white"
             }
            },
            "header": {
             "fill": {
              "color": "#C8D4E3"
             },
             "line": {
              "color": "white"
             }
            },
            "type": "table"
           }
          ]
         },
         "layout": {
          "annotationdefaults": {
           "arrowcolor": "#2a3f5f",
           "arrowhead": 0,
           "arrowwidth": 1
          },
          "autotypenumbers": "strict",
          "coloraxis": {
           "colorbar": {
            "outlinewidth": 0,
            "ticks": ""
           }
          },
          "colorscale": {
           "diverging": [
            [
             0,
             "#8e0152"
            ],
            [
             0.1,
             "#c51b7d"
            ],
            [
             0.2,
             "#de77ae"
            ],
            [
             0.3,
             "#f1b6da"
            ],
            [
             0.4,
             "#fde0ef"
            ],
            [
             0.5,
             "#f7f7f7"
            ],
            [
             0.6,
             "#e6f5d0"
            ],
            [
             0.7,
             "#b8e186"
            ],
            [
             0.8,
             "#7fbc41"
            ],
            [
             0.9,
             "#4d9221"
            ],
            [
             1,
             "#276419"
            ]
           ],
           "sequential": [
            [
             0,
             "#0d0887"
            ],
            [
             0.1111111111111111,
             "#46039f"
            ],
            [
             0.2222222222222222,
             "#7201a8"
            ],
            [
             0.3333333333333333,
             "#9c179e"
            ],
            [
             0.4444444444444444,
             "#bd3786"
            ],
            [
             0.5555555555555556,
             "#d8576b"
            ],
            [
             0.6666666666666666,
             "#ed7953"
            ],
            [
             0.7777777777777778,
             "#fb9f3a"
            ],
            [
             0.8888888888888888,
             "#fdca26"
            ],
            [
             1,
             "#f0f921"
            ]
           ],
           "sequentialminus": [
            [
             0,
             "#0d0887"
            ],
            [
             0.1111111111111111,
             "#46039f"
            ],
            [
             0.2222222222222222,
             "#7201a8"
            ],
            [
             0.3333333333333333,
             "#9c179e"
            ],
            [
             0.4444444444444444,
             "#bd3786"
            ],
            [
             0.5555555555555556,
             "#d8576b"
            ],
            [
             0.6666666666666666,
             "#ed7953"
            ],
            [
             0.7777777777777778,
             "#fb9f3a"
            ],
            [
             0.8888888888888888,
             "#fdca26"
            ],
            [
             1,
             "#f0f921"
            ]
           ]
          },
          "colorway": [
           "#636efa",
           "#EF553B",
           "#00cc96",
           "#ab63fa",
           "#FFA15A",
           "#19d3f3",
           "#FF6692",
           "#B6E880",
           "#FF97FF",
           "#FECB52"
          ],
          "font": {
           "color": "#2a3f5f"
          },
          "geo": {
           "bgcolor": "white",
           "lakecolor": "white",
           "landcolor": "#E5ECF6",
           "showlakes": true,
           "showland": true,
           "subunitcolor": "white"
          },
          "hoverlabel": {
           "align": "left"
          },
          "hovermode": "closest",
          "mapbox": {
           "style": "light"
          },
          "paper_bgcolor": "white",
          "plot_bgcolor": "#E5ECF6",
          "polar": {
           "angularaxis": {
            "gridcolor": "white",
            "linecolor": "white",
            "ticks": ""
           },
           "bgcolor": "#E5ECF6",
           "radialaxis": {
            "gridcolor": "white",
            "linecolor": "white",
            "ticks": ""
           }
          },
          "scene": {
           "xaxis": {
            "backgroundcolor": "#E5ECF6",
            "gridcolor": "white",
            "gridwidth": 2,
            "linecolor": "white",
            "showbackground": true,
            "ticks": "",
            "zerolinecolor": "white"
           },
           "yaxis": {
            "backgroundcolor": "#E5ECF6",
            "gridcolor": "white",
            "gridwidth": 2,
            "linecolor": "white",
            "showbackground": true,
            "ticks": "",
            "zerolinecolor": "white"
           },
           "zaxis": {
            "backgroundcolor": "#E5ECF6",
            "gridcolor": "white",
            "gridwidth": 2,
            "linecolor": "white",
            "showbackground": true,
            "ticks": "",
            "zerolinecolor": "white"
           }
          },
          "shapedefaults": {
           "line": {
            "color": "#2a3f5f"
           }
          },
          "ternary": {
           "aaxis": {
            "gridcolor": "white",
            "linecolor": "white",
            "ticks": ""
           },
           "baxis": {
            "gridcolor": "white",
            "linecolor": "white",
            "ticks": ""
           },
           "bgcolor": "#E5ECF6",
           "caxis": {
            "gridcolor": "white",
            "linecolor": "white",
            "ticks": ""
           }
          },
          "title": {
           "x": 0.05
          },
          "xaxis": {
           "automargin": true,
           "gridcolor": "white",
           "linecolor": "white",
           "ticks": "",
           "title": {
            "standoff": 15
           },
           "zerolinecolor": "white",
           "zerolinewidth": 2
          },
          "yaxis": {
           "automargin": true,
           "gridcolor": "white",
           "linecolor": "white",
           "ticks": "",
           "title": {
            "standoff": 15
           },
           "zerolinecolor": "white",
           "zerolinewidth": 2
          }
         }
        },
        "title": {
         "font": {
          "color": "#4D5663"
         }
        },
        "xaxis": {
         "gridcolor": "#E1E5ED",
         "showgrid": true,
         "tickfont": {
          "color": "#4D5663"
         },
         "title": {
          "font": {
           "color": "#4D5663"
          },
          "text": ""
         },
         "zerolinecolor": "#E1E5ED"
        },
        "xaxis2": {
         "anchor": "y2",
         "gridcolor": "#E1E5ED",
         "showgrid": true,
         "showticklabels": false,
         "tickfont": {
          "color": "#4D5663"
         },
         "title": {
          "font": {
           "color": "#4D5663"
          },
          "text": ""
         },
         "zerolinecolor": "#E1E5ED"
        },
        "yaxis": {
         "domain": [
          0.3,
          1
         ],
         "gridcolor": "#E1E5ED",
         "showgrid": true,
         "tickfont": {
          "color": "#4D5663"
         },
         "title": {
          "font": {
           "color": "#4D5663"
          },
          "text": ""
         },
         "zerolinecolor": "#E1E5ED"
        },
        "yaxis2": {
         "domain": [
          0,
          0.25
         ],
         "gridcolor": "#E1E5ED",
         "showgrid": true,
         "tickfont": {
          "color": "#4D5663"
         },
         "title": {
          "font": {
           "color": "#4D5663"
          },
          "text": "Spread"
         },
         "zerolinecolor": "#E1E5ED"
        }
       }
      },
      "text/html": [
       "<div>                            <div id=\"c2da24ac-d49d-47f0-b759-a69df19d15f5\" class=\"plotly-graph-div\" style=\"height:525px; width:100%;\"></div>            <script type=\"text/javascript\">                require([\"plotly\"], function(Plotly) {                    window.PLOTLYENV=window.PLOTLYENV || {};\n",
       "                    window.PLOTLYENV.BASE_URL='https://plot.ly';                                    if (document.getElementById(\"c2da24ac-d49d-47f0-b759-a69df19d15f5\")) {                    Plotly.newPlot(                        \"c2da24ac-d49d-47f0-b759-a69df19d15f5\",                        [{\"line\":{\"color\":\"rgba(255, 153, 51, 1.0)\",\"dash\":\"solid\",\"shape\":\"linear\",\"width\":1.3},\"mode\":\"lines\",\"name\":\"A\",\"text\":\"\",\"x\":[0,1,2,3,4,5,6,7,8,9,10,11,12,13,14,15,16,17,18,19,20,21,22,23,24,25,26,27,28,29,30,31,32,33,34,35,36,37,38,39,40,41,42,43,44,45,46,47,48,49,50,51,52,53,54,55,56,57,58,59,60,61,62,63,64,65,66,67,68,69,70,71,72,73,74,75,76,77,78,79,80,81,82,83,84,85,86,87,88,89,90,91,92,93,94,95,96,97,98,99],\"y\":[-0.3497734254771835,0.5583236144971976,1.0210338390182403,0.7833067604547665,1.6462849509104058,-0.7372755607522767,0.9881508966271882,0.14398838038901476,-0.6395676601793224,0.6291591032308805,1.3470169543296011,0.60968541723478,1.7636746057249477,-0.8968347110563231,1.1061992371572222,0.44411579330015866,-0.4910466503882815,-0.46352959198906274,-1.381458377602349,0.8509163423647723,1.4268676166900143,1.2007370070130767,0.3090613141255533,-0.3209463480469782,1.0765472388705708,1.5095524793854327,0.11806543873081181,1.8566919692700568,-0.8220431176199894,-0.8557816023136964,-1.9698929315893803,-0.2645274617925079,0.4674957207486842,-0.7598034286404655,-0.09316392607820459,-0.11288405529306757,-0.7718474232824881,-0.30971869052360046,0.3188546937996816,-0.3833733336548828,-1.26409683214929,-0.260610568878272,-0.8724907032434537,-0.6843172926825293,0.9410366903204676,0.5674477518189098,-0.07158642241174541,-1.8124280141646631,-1.4928103512959483,1.643157157597684,0.6093130094966801,-0.9776498459499772,-0.6637523839034207,0.44044446528203607,-1.8459802910301286,0.9930741770617006,0.41774133566523103,-0.09330237801047414,-0.7229100824409184,-0.16409341879725245,-1.2503439337761084,-0.5470496191739559,2.0386594730120065,-0.36908233025570886,-0.9250062299172206,-1.049546627000459,0.33175448123373075,0.9583714991373541,-2.1414378743802054,0.029573053775218225,-0.37324905528350794,1.42743012206251,-1.0404331204863992,1.334297972923157,0.8687276958286853,-0.2657337201171915,-0.6483819246588316,-0.24411340590570904,0.8505625725136822,-0.9179899937538808,0.8837406184286677,1.2499050427703942,0.33803720522963754,-0.6719806178223434,-1.4049437087691334,0.7386471634448698,0.9459537223565966,-0.6158054534571311,-1.0153312336632523,0.0924594831228007,0.17288858565747628,0.15420059591782365,-0.9485218735971477,-0.7324767569691258,0.17741031455593906,-0.590903068024523,-2.305888866671554,-0.6263816050863013,-0.0159640671396924,1.2145738337263368],\"type\":\"scatter\"},{\"line\":{\"color\":\"rgba(55, 128, 191, 1.0)\",\"dash\":\"solid\",\"shape\":\"linear\",\"width\":1.3},\"mode\":\"lines\",\"name\":\"B\",\"text\":\"\",\"x\":[0,1,2,3,4,5,6,7,8,9,10,11,12,13,14,15,16,17,18,19,20,21,22,23,24,25,26,27,28,29,30,31,32,33,34,35,36,37,38,39,40,41,42,43,44,45,46,47,48,49,50,51,52,53,54,55,56,57,58,59,60,61,62,63,64,65,66,67,68,69,70,71,72,73,74,75,76,77,78,79,80,81,82,83,84,85,86,87,88,89,90,91,92,93,94,95,96,97,98,99],\"y\":[1.1700434818844438,1.0751258509099173,-1.0083558806672341,-1.0207489561575065,2.449361100561767,-0.7175292061587076,-0.368063200704348,-0.2069764602363649,-0.5852792240627692,0.21418680003139948,3.5417689407035073,-0.8937838034366977,-0.450364359714211,-0.48201024793974095,-1.1477346930123722,-0.4551181416866834,0.39689090096151236,-1.085332249768537,-0.3330302827084691,-0.09164557937808074,0.8209906788667682,-0.18259882874169228,1.414664742141667,-1.3168984602931946,-1.0673751875441888,-0.8811015444791677,1.1573950121989691,-1.9420689925822388,0.15254426213926583,-0.5106440815180584,-1.1407698919771738,0.9658187833865867,0.09032980787959194,0.5105956795061436,-1.5445015493646832,-0.529670046477799,-1.2951546206741757,-2.26897320406101,2.0647400026491787,0.7912257586064879,-0.9435855795774132,-0.0792530039589136,-0.701391406857763,0.3904899555187702,-0.12401867350010902,-1.1770981578075772,1.3699958165123711,1.1383701335229368,1.0753035171938106,2.3566664850434185,0.28328978448650277,-0.2278154516210515,-1.5229891887572231,1.6115199927052717,-0.4770954007952236,-0.03244258909954915,-0.01973863081231562,-0.9240201466956118,-0.7018806548826212,1.116257598901643,-2.374321527801769,2.1079872052410247,0.6982011140111537,-1.0555114969250081,-0.3897723937818329,1.1925231381245627,1.2237381227711939,0.5989850587870378,-0.8991782314803098,0.5255067693703722,2.7586264976767483,-0.0788469074477344,-0.853278412662128,-1.2219390892924478,0.10246149478772258,0.6284426117915223,0.512062339056357,-0.9386584410755775,1.6755332861886518,-0.8947338550700419,-0.4122518141392201,0.32106067012965067,2.1975821633476937,0.9364725716982593,-1.00268240741226,-1.9229183584789276,0.843620878659984,1.4771597910462655,-1.1347015325896048,0.9918722842152485,0.013184538681476031,0.44169861274054656,0.583312537359923,-0.8523979073270433,-0.910846088535007,-0.6928852005666618,0.9272107055521642,1.1217693677540292,1.1415382607103743,-0.5431411104261837],\"type\":\"scatter\"},{\"connectgaps\":false,\"fill\":\"tozeroy\",\"line\":{\"color\":\"green\",\"dash\":\"solid\",\"shape\":\"linear\",\"width\":0.5},\"mode\":\"lines\",\"name\":\"Spread\",\"showlegend\":false,\"x\":[0,1,2,3,4,5,6,7,8,9,10,11,12,13,14,15,16,17,18,19,20,21,22,23,24,25,26,27,28,29,30,31,32,33,34,35,36,37,38,39,40,41,42,43,44,45,46,47,48,49,50,51,52,53,54,55,56,57,58,59,60,61,62,63,64,65,66,67,68,69,70,71,72,73,74,75,76,77,78,79,80,81,82,83,84,85,86,87,88,89,90,91,92,93,94,95,96,97,98,99],\"xaxis\":\"x2\",\"y\":[\"\",\"\",2.0293897196854744,1.804055716612273,\"\",\"\",1.3562140973315362,0.3509648406253797,\"\",0.4149723031994811,\"\",1.5034692206714777,2.214038965439159,\"\",2.2539339301695946,0.8992339349868421,\"\",0.6218026577794742,\"\",0.942561921742853,0.605876937823246,1.383335835754769,\"\",0.9959521122462164,2.1439224264147594,2.3906540238646006,\"\",3.7987609618522953,\"\",\"\",\"\",\"\",0.37716591286909223,\"\",1.4513376232864785,0.4167859911847315,0.5233071973916876,1.9592545135374098,\"\",\"\",\"\",\"\",\"\",\"\",1.0650553638205766,1.744545909626487,\"\",\"\",\"\",\"\",0.32602322501017733,\"\",0.8592368048538024,\"\",\"\",1.0255167661612499,0.43747996647754667,0.8307177686851377,\"\",\"\",1.1239775940256607,\"\",1.3404583590008528,0.6864291666692992,\"\",\"\",\"\",0.3593864403503163,\"\",\"\",\"\",1.5062770295102446,\"\",2.5562370622156045,0.7662662010409627,\"\",\"\",0.6945450351698684,\"\",\"\",1.2959924325678878,0.9288443726407435,\"\",\"\",\"\",2.6615655219237975,0.10233284369661255,\"\",0.11937029892635254,\"\",0.15970404697600024,\"\",\"\",0.1199211503579175,1.088256403090946,0.10198213254213884,\"\",\"\",\"\",1.7577149441525206],\"yaxis\":\"y2\",\"type\":\"scatter\"},{\"connectgaps\":false,\"fill\":\"tozeroy\",\"line\":{\"color\":\"red\",\"dash\":\"solid\",\"shape\":\"linear\",\"width\":0.5},\"mode\":\"lines\",\"name\":\"Spread\",\"showlegend\":false,\"x\":[0,1,2,3,4,5,6,7,8,9,10,11,12,13,14,15,16,17,18,19,20,21,22,23,24,25,26,27,28,29,30,31,32,33,34,35,36,37,38,39,40,41,42,43,44,45,46,47,48,49,50,51,52,53,54,55,56,57,58,59,60,61,62,63,64,65,66,67,68,69,70,71,72,73,74,75,76,77,78,79,80,81,82,83,84,85,86,87,88,89,90,91,92,93,94,95,96,97,98,99],\"xaxis\":\"x2\",\"y\":[-1.5198169073616272,-0.5168022364127197,\"\",\"\",-0.8030761496513612,-0.019746354593569104,\"\",\"\",-0.05428843611655321,\"\",-2.1947519863739062,\"\",\"\",-0.4148244631165821,\"\",\"\",-0.8879375513497938,\"\",-1.0484280948938798,\"\",\"\",\"\",-1.1056034280161136,\"\",\"\",\"\",-1.0393295734681574,\"\",-0.9745873797592552,-0.345137520795638,-0.8291230396122065,-1.2303462451790945,\"\",-1.270399108146609,\"\",\"\",\"\",\"\",-1.745885308849497,-1.1745990922613707,-0.32051125257187685,-0.1813575649193584,-0.17109929638569066,-1.0748072482012994,\"\",\"\",-1.4415822389241166,-2.9507981476875997,-2.5681138684897586,-0.7135093274457345,\"\",-0.7498343943289256,\"\",-1.1710755274232356,-1.368884890234905,\"\",\"\",\"\",-0.021029427558297176,-1.2803510176988955,\"\",-2.6550368244149807,\"\",\"\",-0.5352338361353877,-2.242069765125022,-0.8919836415374631,\"\",-1.2422596428998955,-0.495933715595154,-3.131875552960256,\"\",-0.18715470782427124,\"\",\"\",-0.8941763319087137,-1.1604442637151886,\"\",-0.8249707136749697,-0.02325613868383891,\"\",\"\",-1.859544958118056,-1.6084531895206027,-0.40226130135687344,\"\",\"\",-2.0929652445033966,\"\",-0.8994128010924478,\"\",-0.2874980168227229,-1.5318344109570705,\"\",\"\",\"\",-3.2330995722237184,-1.7481509728403304,-1.1575023278500667,\"\"],\"yaxis\":\"y2\",\"type\":\"scatter\"}],                        {\"hovermode\":\"x\",\"legend\":{\"bgcolor\":\"#F5F6F9\",\"font\":{\"color\":\"#4D5663\"}},\"paper_bgcolor\":\"#F5F6F9\",\"plot_bgcolor\":\"#F5F6F9\",\"template\":{\"data\":{\"barpolar\":[{\"marker\":{\"line\":{\"color\":\"#E5ECF6\",\"width\":0.5},\"pattern\":{\"fillmode\":\"overlay\",\"size\":10,\"solidity\":0.2}},\"type\":\"barpolar\"}],\"bar\":[{\"error_x\":{\"color\":\"#2a3f5f\"},\"error_y\":{\"color\":\"#2a3f5f\"},\"marker\":{\"line\":{\"color\":\"#E5ECF6\",\"width\":0.5},\"pattern\":{\"fillmode\":\"overlay\",\"size\":10,\"solidity\":0.2}},\"type\":\"bar\"}],\"carpet\":[{\"aaxis\":{\"endlinecolor\":\"#2a3f5f\",\"gridcolor\":\"white\",\"linecolor\":\"white\",\"minorgridcolor\":\"white\",\"startlinecolor\":\"#2a3f5f\"},\"baxis\":{\"endlinecolor\":\"#2a3f5f\",\"gridcolor\":\"white\",\"linecolor\":\"white\",\"minorgridcolor\":\"white\",\"startlinecolor\":\"#2a3f5f\"},\"type\":\"carpet\"}],\"choropleth\":[{\"colorbar\":{\"outlinewidth\":0,\"ticks\":\"\"},\"type\":\"choropleth\"}],\"contourcarpet\":[{\"colorbar\":{\"outlinewidth\":0,\"ticks\":\"\"},\"type\":\"contourcarpet\"}],\"contour\":[{\"colorbar\":{\"outlinewidth\":0,\"ticks\":\"\"},\"colorscale\":[[0.0,\"#0d0887\"],[0.1111111111111111,\"#46039f\"],[0.2222222222222222,\"#7201a8\"],[0.3333333333333333,\"#9c179e\"],[0.4444444444444444,\"#bd3786\"],[0.5555555555555556,\"#d8576b\"],[0.6666666666666666,\"#ed7953\"],[0.7777777777777778,\"#fb9f3a\"],[0.8888888888888888,\"#fdca26\"],[1.0,\"#f0f921\"]],\"type\":\"contour\"}],\"heatmapgl\":[{\"colorbar\":{\"outlinewidth\":0,\"ticks\":\"\"},\"colorscale\":[[0.0,\"#0d0887\"],[0.1111111111111111,\"#46039f\"],[0.2222222222222222,\"#7201a8\"],[0.3333333333333333,\"#9c179e\"],[0.4444444444444444,\"#bd3786\"],[0.5555555555555556,\"#d8576b\"],[0.6666666666666666,\"#ed7953\"],[0.7777777777777778,\"#fb9f3a\"],[0.8888888888888888,\"#fdca26\"],[1.0,\"#f0f921\"]],\"type\":\"heatmapgl\"}],\"heatmap\":[{\"colorbar\":{\"outlinewidth\":0,\"ticks\":\"\"},\"colorscale\":[[0.0,\"#0d0887\"],[0.1111111111111111,\"#46039f\"],[0.2222222222222222,\"#7201a8\"],[0.3333333333333333,\"#9c179e\"],[0.4444444444444444,\"#bd3786\"],[0.5555555555555556,\"#d8576b\"],[0.6666666666666666,\"#ed7953\"],[0.7777777777777778,\"#fb9f3a\"],[0.8888888888888888,\"#fdca26\"],[1.0,\"#f0f921\"]],\"type\":\"heatmap\"}],\"histogram2dcontour\":[{\"colorbar\":{\"outlinewidth\":0,\"ticks\":\"\"},\"colorscale\":[[0.0,\"#0d0887\"],[0.1111111111111111,\"#46039f\"],[0.2222222222222222,\"#7201a8\"],[0.3333333333333333,\"#9c179e\"],[0.4444444444444444,\"#bd3786\"],[0.5555555555555556,\"#d8576b\"],[0.6666666666666666,\"#ed7953\"],[0.7777777777777778,\"#fb9f3a\"],[0.8888888888888888,\"#fdca26\"],[1.0,\"#f0f921\"]],\"type\":\"histogram2dcontour\"}],\"histogram2d\":[{\"colorbar\":{\"outlinewidth\":0,\"ticks\":\"\"},\"colorscale\":[[0.0,\"#0d0887\"],[0.1111111111111111,\"#46039f\"],[0.2222222222222222,\"#7201a8\"],[0.3333333333333333,\"#9c179e\"],[0.4444444444444444,\"#bd3786\"],[0.5555555555555556,\"#d8576b\"],[0.6666666666666666,\"#ed7953\"],[0.7777777777777778,\"#fb9f3a\"],[0.8888888888888888,\"#fdca26\"],[1.0,\"#f0f921\"]],\"type\":\"histogram2d\"}],\"histogram\":[{\"marker\":{\"pattern\":{\"fillmode\":\"overlay\",\"size\":10,\"solidity\":0.2}},\"type\":\"histogram\"}],\"mesh3d\":[{\"colorbar\":{\"outlinewidth\":0,\"ticks\":\"\"},\"type\":\"mesh3d\"}],\"parcoords\":[{\"line\":{\"colorbar\":{\"outlinewidth\":0,\"ticks\":\"\"}},\"type\":\"parcoords\"}],\"pie\":[{\"automargin\":true,\"type\":\"pie\"}],\"scatter3d\":[{\"line\":{\"colorbar\":{\"outlinewidth\":0,\"ticks\":\"\"}},\"marker\":{\"colorbar\":{\"outlinewidth\":0,\"ticks\":\"\"}},\"type\":\"scatter3d\"}],\"scattercarpet\":[{\"marker\":{\"colorbar\":{\"outlinewidth\":0,\"ticks\":\"\"}},\"type\":\"scattercarpet\"}],\"scattergeo\":[{\"marker\":{\"colorbar\":{\"outlinewidth\":0,\"ticks\":\"\"}},\"type\":\"scattergeo\"}],\"scattergl\":[{\"marker\":{\"colorbar\":{\"outlinewidth\":0,\"ticks\":\"\"}},\"type\":\"scattergl\"}],\"scattermapbox\":[{\"marker\":{\"colorbar\":{\"outlinewidth\":0,\"ticks\":\"\"}},\"type\":\"scattermapbox\"}],\"scatterpolargl\":[{\"marker\":{\"colorbar\":{\"outlinewidth\":0,\"ticks\":\"\"}},\"type\":\"scatterpolargl\"}],\"scatterpolar\":[{\"marker\":{\"colorbar\":{\"outlinewidth\":0,\"ticks\":\"\"}},\"type\":\"scatterpolar\"}],\"scatter\":[{\"marker\":{\"colorbar\":{\"outlinewidth\":0,\"ticks\":\"\"}},\"type\":\"scatter\"}],\"scatterternary\":[{\"marker\":{\"colorbar\":{\"outlinewidth\":0,\"ticks\":\"\"}},\"type\":\"scatterternary\"}],\"surface\":[{\"colorbar\":{\"outlinewidth\":0,\"ticks\":\"\"},\"colorscale\":[[0.0,\"#0d0887\"],[0.1111111111111111,\"#46039f\"],[0.2222222222222222,\"#7201a8\"],[0.3333333333333333,\"#9c179e\"],[0.4444444444444444,\"#bd3786\"],[0.5555555555555556,\"#d8576b\"],[0.6666666666666666,\"#ed7953\"],[0.7777777777777778,\"#fb9f3a\"],[0.8888888888888888,\"#fdca26\"],[1.0,\"#f0f921\"]],\"type\":\"surface\"}],\"table\":[{\"cells\":{\"fill\":{\"color\":\"#EBF0F8\"},\"line\":{\"color\":\"white\"}},\"header\":{\"fill\":{\"color\":\"#C8D4E3\"},\"line\":{\"color\":\"white\"}},\"type\":\"table\"}]},\"layout\":{\"annotationdefaults\":{\"arrowcolor\":\"#2a3f5f\",\"arrowhead\":0,\"arrowwidth\":1},\"autotypenumbers\":\"strict\",\"coloraxis\":{\"colorbar\":{\"outlinewidth\":0,\"ticks\":\"\"}},\"colorscale\":{\"diverging\":[[0,\"#8e0152\"],[0.1,\"#c51b7d\"],[0.2,\"#de77ae\"],[0.3,\"#f1b6da\"],[0.4,\"#fde0ef\"],[0.5,\"#f7f7f7\"],[0.6,\"#e6f5d0\"],[0.7,\"#b8e186\"],[0.8,\"#7fbc41\"],[0.9,\"#4d9221\"],[1,\"#276419\"]],\"sequential\":[[0.0,\"#0d0887\"],[0.1111111111111111,\"#46039f\"],[0.2222222222222222,\"#7201a8\"],[0.3333333333333333,\"#9c179e\"],[0.4444444444444444,\"#bd3786\"],[0.5555555555555556,\"#d8576b\"],[0.6666666666666666,\"#ed7953\"],[0.7777777777777778,\"#fb9f3a\"],[0.8888888888888888,\"#fdca26\"],[1.0,\"#f0f921\"]],\"sequentialminus\":[[0.0,\"#0d0887\"],[0.1111111111111111,\"#46039f\"],[0.2222222222222222,\"#7201a8\"],[0.3333333333333333,\"#9c179e\"],[0.4444444444444444,\"#bd3786\"],[0.5555555555555556,\"#d8576b\"],[0.6666666666666666,\"#ed7953\"],[0.7777777777777778,\"#fb9f3a\"],[0.8888888888888888,\"#fdca26\"],[1.0,\"#f0f921\"]]},\"colorway\":[\"#636efa\",\"#EF553B\",\"#00cc96\",\"#ab63fa\",\"#FFA15A\",\"#19d3f3\",\"#FF6692\",\"#B6E880\",\"#FF97FF\",\"#FECB52\"],\"font\":{\"color\":\"#2a3f5f\"},\"geo\":{\"bgcolor\":\"white\",\"lakecolor\":\"white\",\"landcolor\":\"#E5ECF6\",\"showlakes\":true,\"showland\":true,\"subunitcolor\":\"white\"},\"hoverlabel\":{\"align\":\"left\"},\"hovermode\":\"closest\",\"mapbox\":{\"style\":\"light\"},\"paper_bgcolor\":\"white\",\"plot_bgcolor\":\"#E5ECF6\",\"polar\":{\"angularaxis\":{\"gridcolor\":\"white\",\"linecolor\":\"white\",\"ticks\":\"\"},\"bgcolor\":\"#E5ECF6\",\"radialaxis\":{\"gridcolor\":\"white\",\"linecolor\":\"white\",\"ticks\":\"\"}},\"scene\":{\"xaxis\":{\"backgroundcolor\":\"#E5ECF6\",\"gridcolor\":\"white\",\"gridwidth\":2,\"linecolor\":\"white\",\"showbackground\":true,\"ticks\":\"\",\"zerolinecolor\":\"white\"},\"yaxis\":{\"backgroundcolor\":\"#E5ECF6\",\"gridcolor\":\"white\",\"gridwidth\":2,\"linecolor\":\"white\",\"showbackground\":true,\"ticks\":\"\",\"zerolinecolor\":\"white\"},\"zaxis\":{\"backgroundcolor\":\"#E5ECF6\",\"gridcolor\":\"white\",\"gridwidth\":2,\"linecolor\":\"white\",\"showbackground\":true,\"ticks\":\"\",\"zerolinecolor\":\"white\"}},\"shapedefaults\":{\"line\":{\"color\":\"#2a3f5f\"}},\"ternary\":{\"aaxis\":{\"gridcolor\":\"white\",\"linecolor\":\"white\",\"ticks\":\"\"},\"baxis\":{\"gridcolor\":\"white\",\"linecolor\":\"white\",\"ticks\":\"\"},\"bgcolor\":\"#E5ECF6\",\"caxis\":{\"gridcolor\":\"white\",\"linecolor\":\"white\",\"ticks\":\"\"}},\"title\":{\"x\":0.05},\"xaxis\":{\"automargin\":true,\"gridcolor\":\"white\",\"linecolor\":\"white\",\"ticks\":\"\",\"title\":{\"standoff\":15},\"zerolinecolor\":\"white\",\"zerolinewidth\":2},\"yaxis\":{\"automargin\":true,\"gridcolor\":\"white\",\"linecolor\":\"white\",\"ticks\":\"\",\"title\":{\"standoff\":15},\"zerolinecolor\":\"white\",\"zerolinewidth\":2}}},\"title\":{\"font\":{\"color\":\"#4D5663\"}},\"xaxis\":{\"gridcolor\":\"#E1E5ED\",\"showgrid\":true,\"tickfont\":{\"color\":\"#4D5663\"},\"title\":{\"font\":{\"color\":\"#4D5663\"},\"text\":\"\"},\"zerolinecolor\":\"#E1E5ED\"},\"yaxis\":{\"domain\":[0.3,1],\"gridcolor\":\"#E1E5ED\",\"showgrid\":true,\"tickfont\":{\"color\":\"#4D5663\"},\"title\":{\"font\":{\"color\":\"#4D5663\"},\"text\":\"\"},\"zerolinecolor\":\"#E1E5ED\"},\"yaxis2\":{\"domain\":[0,0.25],\"gridcolor\":\"#E1E5ED\",\"showgrid\":true,\"tickfont\":{\"color\":\"#4D5663\"},\"title\":{\"font\":{\"color\":\"#4D5663\"},\"text\":\"Spread\"},\"zerolinecolor\":\"#E1E5ED\"},\"xaxis2\":{\"anchor\":\"y2\",\"gridcolor\":\"#E1E5ED\",\"showgrid\":true,\"showticklabels\":false,\"tickfont\":{\"color\":\"#4D5663\"},\"title\":{\"font\":{\"color\":\"#4D5663\"},\"text\":\"\"},\"zerolinecolor\":\"#E1E5ED\"}},                        {\"showLink\": true, \"linkText\": \"Export to plot.ly\", \"plotlyServerURL\": \"https://plot.ly\", \"responsive\": true}                    ).then(function(){\n",
       "                            \n",
       "var gd = document.getElementById('c2da24ac-d49d-47f0-b759-a69df19d15f5');\n",
       "var x = new MutationObserver(function (mutations, observer) {{\n",
       "        var display = window.getComputedStyle(gd).display;\n",
       "        if (!display || display === 'none') {{\n",
       "            console.log([gd, 'removed!']);\n",
       "            Plotly.purge(gd);\n",
       "            observer.disconnect();\n",
       "        }}\n",
       "}});\n",
       "\n",
       "// Listen for the removal of the full notebook cells\n",
       "var notebookContainer = gd.closest('#notebook-container');\n",
       "if (notebookContainer) {{\n",
       "    x.observe(notebookContainer, {childList: true});\n",
       "}}\n",
       "\n",
       "// Listen for the clearing of the current output cell\n",
       "var outputEl = gd.closest('.output');\n",
       "if (outputEl) {{\n",
       "    x.observe(outputEl, {childList: true});\n",
       "}}\n",
       "\n",
       "                        })                };                });            </script>        </div>"
      ]
     },
     "metadata": {},
     "output_type": "display_data"
    }
   ],
   "source": [
    "df[['A','B']].iplot(kind='spread')"
   ]
  },
  {
   "cell_type": "markdown",
   "metadata": {},
   "source": [
    "## histogram"
   ]
  },
  {
   "cell_type": "code",
   "execution_count": 22,
   "metadata": {
    "collapsed": false
   },
   "outputs": [
    {
     "data": {
      "application/vnd.plotly.v1+json": {
       "config": {
        "linkText": "Export to plot.ly",
        "plotlyServerURL": "https://plot.ly",
        "showLink": true
       },
       "data": [
        {
         "histfunc": "count",
         "histnorm": "",
         "marker": {
          "color": "rgba(255, 153, 51, 1.0)",
          "line": {
           "color": "#4D5663",
           "width": 1.3
          }
         },
         "name": "A",
         "nbinsx": 25,
         "opacity": 0.8,
         "orientation": "v",
         "type": "histogram",
         "x": [
          -0.3497734254771835,
          0.5583236144971976,
          1.0210338390182403,
          0.7833067604547665,
          1.6462849509104058,
          -0.7372755607522767,
          0.9881508966271882,
          0.14398838038901476,
          -0.6395676601793224,
          0.6291591032308805,
          1.3470169543296011,
          0.60968541723478,
          1.7636746057249477,
          -0.8968347110563231,
          1.1061992371572222,
          0.44411579330015866,
          -0.4910466503882815,
          -0.46352959198906274,
          -1.381458377602349,
          0.8509163423647723,
          1.4268676166900143,
          1.2007370070130767,
          0.3090613141255533,
          -0.3209463480469782,
          1.0765472388705708,
          1.5095524793854327,
          0.11806543873081181,
          1.8566919692700568,
          -0.8220431176199894,
          -0.8557816023136964,
          -1.9698929315893803,
          -0.2645274617925079,
          0.4674957207486842,
          -0.7598034286404655,
          -0.09316392607820459,
          -0.11288405529306757,
          -0.7718474232824881,
          -0.30971869052360046,
          0.3188546937996816,
          -0.3833733336548828,
          -1.26409683214929,
          -0.260610568878272,
          -0.8724907032434537,
          -0.6843172926825293,
          0.9410366903204676,
          0.5674477518189098,
          -0.07158642241174541,
          -1.8124280141646631,
          -1.4928103512959483,
          1.643157157597684,
          0.6093130094966801,
          -0.9776498459499772,
          -0.6637523839034207,
          0.44044446528203607,
          -1.8459802910301286,
          0.9930741770617006,
          0.41774133566523103,
          -0.09330237801047414,
          -0.7229100824409184,
          -0.16409341879725245,
          -1.2503439337761084,
          -0.5470496191739559,
          2.0386594730120065,
          -0.36908233025570886,
          -0.9250062299172206,
          -1.049546627000459,
          0.33175448123373075,
          0.9583714991373541,
          -2.1414378743802054,
          0.029573053775218225,
          -0.37324905528350794,
          1.42743012206251,
          -1.0404331204863992,
          1.334297972923157,
          0.8687276958286853,
          -0.2657337201171915,
          -0.6483819246588316,
          -0.24411340590570904,
          0.8505625725136822,
          -0.9179899937538808,
          0.8837406184286677,
          1.2499050427703942,
          0.33803720522963754,
          -0.6719806178223434,
          -1.4049437087691334,
          0.7386471634448698,
          0.9459537223565966,
          -0.6158054534571311,
          -1.0153312336632523,
          0.0924594831228007,
          0.17288858565747628,
          0.15420059591782365,
          -0.9485218735971477,
          -0.7324767569691258,
          0.17741031455593906,
          -0.590903068024523,
          -2.305888866671554,
          -0.6263816050863013,
          -0.0159640671396924,
          1.2145738337263368
         ]
        }
       ],
       "layout": {
        "barmode": "overlay",
        "legend": {
         "bgcolor": "#F5F6F9",
         "font": {
          "color": "#4D5663"
         }
        },
        "paper_bgcolor": "#F5F6F9",
        "plot_bgcolor": "#F5F6F9",
        "template": {
         "data": {
          "bar": [
           {
            "error_x": {
             "color": "#2a3f5f"
            },
            "error_y": {
             "color": "#2a3f5f"
            },
            "marker": {
             "line": {
              "color": "#E5ECF6",
              "width": 0.5
             },
             "pattern": {
              "fillmode": "overlay",
              "size": 10,
              "solidity": 0.2
             }
            },
            "type": "bar"
           }
          ],
          "barpolar": [
           {
            "marker": {
             "line": {
              "color": "#E5ECF6",
              "width": 0.5
             },
             "pattern": {
              "fillmode": "overlay",
              "size": 10,
              "solidity": 0.2
             }
            },
            "type": "barpolar"
           }
          ],
          "carpet": [
           {
            "aaxis": {
             "endlinecolor": "#2a3f5f",
             "gridcolor": "white",
             "linecolor": "white",
             "minorgridcolor": "white",
             "startlinecolor": "#2a3f5f"
            },
            "baxis": {
             "endlinecolor": "#2a3f5f",
             "gridcolor": "white",
             "linecolor": "white",
             "minorgridcolor": "white",
             "startlinecolor": "#2a3f5f"
            },
            "type": "carpet"
           }
          ],
          "choropleth": [
           {
            "colorbar": {
             "outlinewidth": 0,
             "ticks": ""
            },
            "type": "choropleth"
           }
          ],
          "contour": [
           {
            "colorbar": {
             "outlinewidth": 0,
             "ticks": ""
            },
            "colorscale": [
             [
              0,
              "#0d0887"
             ],
             [
              0.1111111111111111,
              "#46039f"
             ],
             [
              0.2222222222222222,
              "#7201a8"
             ],
             [
              0.3333333333333333,
              "#9c179e"
             ],
             [
              0.4444444444444444,
              "#bd3786"
             ],
             [
              0.5555555555555556,
              "#d8576b"
             ],
             [
              0.6666666666666666,
              "#ed7953"
             ],
             [
              0.7777777777777778,
              "#fb9f3a"
             ],
             [
              0.8888888888888888,
              "#fdca26"
             ],
             [
              1,
              "#f0f921"
             ]
            ],
            "type": "contour"
           }
          ],
          "contourcarpet": [
           {
            "colorbar": {
             "outlinewidth": 0,
             "ticks": ""
            },
            "type": "contourcarpet"
           }
          ],
          "heatmap": [
           {
            "colorbar": {
             "outlinewidth": 0,
             "ticks": ""
            },
            "colorscale": [
             [
              0,
              "#0d0887"
             ],
             [
              0.1111111111111111,
              "#46039f"
             ],
             [
              0.2222222222222222,
              "#7201a8"
             ],
             [
              0.3333333333333333,
              "#9c179e"
             ],
             [
              0.4444444444444444,
              "#bd3786"
             ],
             [
              0.5555555555555556,
              "#d8576b"
             ],
             [
              0.6666666666666666,
              "#ed7953"
             ],
             [
              0.7777777777777778,
              "#fb9f3a"
             ],
             [
              0.8888888888888888,
              "#fdca26"
             ],
             [
              1,
              "#f0f921"
             ]
            ],
            "type": "heatmap"
           }
          ],
          "heatmapgl": [
           {
            "colorbar": {
             "outlinewidth": 0,
             "ticks": ""
            },
            "colorscale": [
             [
              0,
              "#0d0887"
             ],
             [
              0.1111111111111111,
              "#46039f"
             ],
             [
              0.2222222222222222,
              "#7201a8"
             ],
             [
              0.3333333333333333,
              "#9c179e"
             ],
             [
              0.4444444444444444,
              "#bd3786"
             ],
             [
              0.5555555555555556,
              "#d8576b"
             ],
             [
              0.6666666666666666,
              "#ed7953"
             ],
             [
              0.7777777777777778,
              "#fb9f3a"
             ],
             [
              0.8888888888888888,
              "#fdca26"
             ],
             [
              1,
              "#f0f921"
             ]
            ],
            "type": "heatmapgl"
           }
          ],
          "histogram": [
           {
            "marker": {
             "pattern": {
              "fillmode": "overlay",
              "size": 10,
              "solidity": 0.2
             }
            },
            "type": "histogram"
           }
          ],
          "histogram2d": [
           {
            "colorbar": {
             "outlinewidth": 0,
             "ticks": ""
            },
            "colorscale": [
             [
              0,
              "#0d0887"
             ],
             [
              0.1111111111111111,
              "#46039f"
             ],
             [
              0.2222222222222222,
              "#7201a8"
             ],
             [
              0.3333333333333333,
              "#9c179e"
             ],
             [
              0.4444444444444444,
              "#bd3786"
             ],
             [
              0.5555555555555556,
              "#d8576b"
             ],
             [
              0.6666666666666666,
              "#ed7953"
             ],
             [
              0.7777777777777778,
              "#fb9f3a"
             ],
             [
              0.8888888888888888,
              "#fdca26"
             ],
             [
              1,
              "#f0f921"
             ]
            ],
            "type": "histogram2d"
           }
          ],
          "histogram2dcontour": [
           {
            "colorbar": {
             "outlinewidth": 0,
             "ticks": ""
            },
            "colorscale": [
             [
              0,
              "#0d0887"
             ],
             [
              0.1111111111111111,
              "#46039f"
             ],
             [
              0.2222222222222222,
              "#7201a8"
             ],
             [
              0.3333333333333333,
              "#9c179e"
             ],
             [
              0.4444444444444444,
              "#bd3786"
             ],
             [
              0.5555555555555556,
              "#d8576b"
             ],
             [
              0.6666666666666666,
              "#ed7953"
             ],
             [
              0.7777777777777778,
              "#fb9f3a"
             ],
             [
              0.8888888888888888,
              "#fdca26"
             ],
             [
              1,
              "#f0f921"
             ]
            ],
            "type": "histogram2dcontour"
           }
          ],
          "mesh3d": [
           {
            "colorbar": {
             "outlinewidth": 0,
             "ticks": ""
            },
            "type": "mesh3d"
           }
          ],
          "parcoords": [
           {
            "line": {
             "colorbar": {
              "outlinewidth": 0,
              "ticks": ""
             }
            },
            "type": "parcoords"
           }
          ],
          "pie": [
           {
            "automargin": true,
            "type": "pie"
           }
          ],
          "scatter": [
           {
            "marker": {
             "colorbar": {
              "outlinewidth": 0,
              "ticks": ""
             }
            },
            "type": "scatter"
           }
          ],
          "scatter3d": [
           {
            "line": {
             "colorbar": {
              "outlinewidth": 0,
              "ticks": ""
             }
            },
            "marker": {
             "colorbar": {
              "outlinewidth": 0,
              "ticks": ""
             }
            },
            "type": "scatter3d"
           }
          ],
          "scattercarpet": [
           {
            "marker": {
             "colorbar": {
              "outlinewidth": 0,
              "ticks": ""
             }
            },
            "type": "scattercarpet"
           }
          ],
          "scattergeo": [
           {
            "marker": {
             "colorbar": {
              "outlinewidth": 0,
              "ticks": ""
             }
            },
            "type": "scattergeo"
           }
          ],
          "scattergl": [
           {
            "marker": {
             "colorbar": {
              "outlinewidth": 0,
              "ticks": ""
             }
            },
            "type": "scattergl"
           }
          ],
          "scattermapbox": [
           {
            "marker": {
             "colorbar": {
              "outlinewidth": 0,
              "ticks": ""
             }
            },
            "type": "scattermapbox"
           }
          ],
          "scatterpolar": [
           {
            "marker": {
             "colorbar": {
              "outlinewidth": 0,
              "ticks": ""
             }
            },
            "type": "scatterpolar"
           }
          ],
          "scatterpolargl": [
           {
            "marker": {
             "colorbar": {
              "outlinewidth": 0,
              "ticks": ""
             }
            },
            "type": "scatterpolargl"
           }
          ],
          "scatterternary": [
           {
            "marker": {
             "colorbar": {
              "outlinewidth": 0,
              "ticks": ""
             }
            },
            "type": "scatterternary"
           }
          ],
          "surface": [
           {
            "colorbar": {
             "outlinewidth": 0,
             "ticks": ""
            },
            "colorscale": [
             [
              0,
              "#0d0887"
             ],
             [
              0.1111111111111111,
              "#46039f"
             ],
             [
              0.2222222222222222,
              "#7201a8"
             ],
             [
              0.3333333333333333,
              "#9c179e"
             ],
             [
              0.4444444444444444,
              "#bd3786"
             ],
             [
              0.5555555555555556,
              "#d8576b"
             ],
             [
              0.6666666666666666,
              "#ed7953"
             ],
             [
              0.7777777777777778,
              "#fb9f3a"
             ],
             [
              0.8888888888888888,
              "#fdca26"
             ],
             [
              1,
              "#f0f921"
             ]
            ],
            "type": "surface"
           }
          ],
          "table": [
           {
            "cells": {
             "fill": {
              "color": "#EBF0F8"
             },
             "line": {
              "color": "white"
             }
            },
            "header": {
             "fill": {
              "color": "#C8D4E3"
             },
             "line": {
              "color": "white"
             }
            },
            "type": "table"
           }
          ]
         },
         "layout": {
          "annotationdefaults": {
           "arrowcolor": "#2a3f5f",
           "arrowhead": 0,
           "arrowwidth": 1
          },
          "autotypenumbers": "strict",
          "coloraxis": {
           "colorbar": {
            "outlinewidth": 0,
            "ticks": ""
           }
          },
          "colorscale": {
           "diverging": [
            [
             0,
             "#8e0152"
            ],
            [
             0.1,
             "#c51b7d"
            ],
            [
             0.2,
             "#de77ae"
            ],
            [
             0.3,
             "#f1b6da"
            ],
            [
             0.4,
             "#fde0ef"
            ],
            [
             0.5,
             "#f7f7f7"
            ],
            [
             0.6,
             "#e6f5d0"
            ],
            [
             0.7,
             "#b8e186"
            ],
            [
             0.8,
             "#7fbc41"
            ],
            [
             0.9,
             "#4d9221"
            ],
            [
             1,
             "#276419"
            ]
           ],
           "sequential": [
            [
             0,
             "#0d0887"
            ],
            [
             0.1111111111111111,
             "#46039f"
            ],
            [
             0.2222222222222222,
             "#7201a8"
            ],
            [
             0.3333333333333333,
             "#9c179e"
            ],
            [
             0.4444444444444444,
             "#bd3786"
            ],
            [
             0.5555555555555556,
             "#d8576b"
            ],
            [
             0.6666666666666666,
             "#ed7953"
            ],
            [
             0.7777777777777778,
             "#fb9f3a"
            ],
            [
             0.8888888888888888,
             "#fdca26"
            ],
            [
             1,
             "#f0f921"
            ]
           ],
           "sequentialminus": [
            [
             0,
             "#0d0887"
            ],
            [
             0.1111111111111111,
             "#46039f"
            ],
            [
             0.2222222222222222,
             "#7201a8"
            ],
            [
             0.3333333333333333,
             "#9c179e"
            ],
            [
             0.4444444444444444,
             "#bd3786"
            ],
            [
             0.5555555555555556,
             "#d8576b"
            ],
            [
             0.6666666666666666,
             "#ed7953"
            ],
            [
             0.7777777777777778,
             "#fb9f3a"
            ],
            [
             0.8888888888888888,
             "#fdca26"
            ],
            [
             1,
             "#f0f921"
            ]
           ]
          },
          "colorway": [
           "#636efa",
           "#EF553B",
           "#00cc96",
           "#ab63fa",
           "#FFA15A",
           "#19d3f3",
           "#FF6692",
           "#B6E880",
           "#FF97FF",
           "#FECB52"
          ],
          "font": {
           "color": "#2a3f5f"
          },
          "geo": {
           "bgcolor": "white",
           "lakecolor": "white",
           "landcolor": "#E5ECF6",
           "showlakes": true,
           "showland": true,
           "subunitcolor": "white"
          },
          "hoverlabel": {
           "align": "left"
          },
          "hovermode": "closest",
          "mapbox": {
           "style": "light"
          },
          "paper_bgcolor": "white",
          "plot_bgcolor": "#E5ECF6",
          "polar": {
           "angularaxis": {
            "gridcolor": "white",
            "linecolor": "white",
            "ticks": ""
           },
           "bgcolor": "#E5ECF6",
           "radialaxis": {
            "gridcolor": "white",
            "linecolor": "white",
            "ticks": ""
           }
          },
          "scene": {
           "xaxis": {
            "backgroundcolor": "#E5ECF6",
            "gridcolor": "white",
            "gridwidth": 2,
            "linecolor": "white",
            "showbackground": true,
            "ticks": "",
            "zerolinecolor": "white"
           },
           "yaxis": {
            "backgroundcolor": "#E5ECF6",
            "gridcolor": "white",
            "gridwidth": 2,
            "linecolor": "white",
            "showbackground": true,
            "ticks": "",
            "zerolinecolor": "white"
           },
           "zaxis": {
            "backgroundcolor": "#E5ECF6",
            "gridcolor": "white",
            "gridwidth": 2,
            "linecolor": "white",
            "showbackground": true,
            "ticks": "",
            "zerolinecolor": "white"
           }
          },
          "shapedefaults": {
           "line": {
            "color": "#2a3f5f"
           }
          },
          "ternary": {
           "aaxis": {
            "gridcolor": "white",
            "linecolor": "white",
            "ticks": ""
           },
           "baxis": {
            "gridcolor": "white",
            "linecolor": "white",
            "ticks": ""
           },
           "bgcolor": "#E5ECF6",
           "caxis": {
            "gridcolor": "white",
            "linecolor": "white",
            "ticks": ""
           }
          },
          "title": {
           "x": 0.05
          },
          "xaxis": {
           "automargin": true,
           "gridcolor": "white",
           "linecolor": "white",
           "ticks": "",
           "title": {
            "standoff": 15
           },
           "zerolinecolor": "white",
           "zerolinewidth": 2
          },
          "yaxis": {
           "automargin": true,
           "gridcolor": "white",
           "linecolor": "white",
           "ticks": "",
           "title": {
            "standoff": 15
           },
           "zerolinecolor": "white",
           "zerolinewidth": 2
          }
         }
        },
        "title": {
         "font": {
          "color": "#4D5663"
         }
        },
        "xaxis": {
         "gridcolor": "#E1E5ED",
         "showgrid": true,
         "tickfont": {
          "color": "#4D5663"
         },
         "title": {
          "font": {
           "color": "#4D5663"
          },
          "text": ""
         },
         "zerolinecolor": "#E1E5ED"
        },
        "yaxis": {
         "gridcolor": "#E1E5ED",
         "showgrid": true,
         "tickfont": {
          "color": "#4D5663"
         },
         "title": {
          "font": {
           "color": "#4D5663"
          },
          "text": ""
         },
         "zerolinecolor": "#E1E5ED"
        }
       }
      },
      "text/html": [
       "<div>                            <div id=\"f5c6ee21-4d34-4977-88b5-e387e6c80a6f\" class=\"plotly-graph-div\" style=\"height:525px; width:100%;\"></div>            <script type=\"text/javascript\">                require([\"plotly\"], function(Plotly) {                    window.PLOTLYENV=window.PLOTLYENV || {};\n",
       "                    window.PLOTLYENV.BASE_URL='https://plot.ly';                                    if (document.getElementById(\"f5c6ee21-4d34-4977-88b5-e387e6c80a6f\")) {                    Plotly.newPlot(                        \"f5c6ee21-4d34-4977-88b5-e387e6c80a6f\",                        [{\"histfunc\":\"count\",\"histnorm\":\"\",\"marker\":{\"color\":\"rgba(255, 153, 51, 1.0)\",\"line\":{\"color\":\"#4D5663\",\"width\":1.3}},\"name\":\"A\",\"nbinsx\":25,\"opacity\":0.8,\"orientation\":\"v\",\"x\":[-0.3497734254771835,0.5583236144971976,1.0210338390182403,0.7833067604547665,1.6462849509104058,-0.7372755607522767,0.9881508966271882,0.14398838038901476,-0.6395676601793224,0.6291591032308805,1.3470169543296011,0.60968541723478,1.7636746057249477,-0.8968347110563231,1.1061992371572222,0.44411579330015866,-0.4910466503882815,-0.46352959198906274,-1.381458377602349,0.8509163423647723,1.4268676166900143,1.2007370070130767,0.3090613141255533,-0.3209463480469782,1.0765472388705708,1.5095524793854327,0.11806543873081181,1.8566919692700568,-0.8220431176199894,-0.8557816023136964,-1.9698929315893803,-0.2645274617925079,0.4674957207486842,-0.7598034286404655,-0.09316392607820459,-0.11288405529306757,-0.7718474232824881,-0.30971869052360046,0.3188546937996816,-0.3833733336548828,-1.26409683214929,-0.260610568878272,-0.8724907032434537,-0.6843172926825293,0.9410366903204676,0.5674477518189098,-0.07158642241174541,-1.8124280141646631,-1.4928103512959483,1.643157157597684,0.6093130094966801,-0.9776498459499772,-0.6637523839034207,0.44044446528203607,-1.8459802910301286,0.9930741770617006,0.41774133566523103,-0.09330237801047414,-0.7229100824409184,-0.16409341879725245,-1.2503439337761084,-0.5470496191739559,2.0386594730120065,-0.36908233025570886,-0.9250062299172206,-1.049546627000459,0.33175448123373075,0.9583714991373541,-2.1414378743802054,0.029573053775218225,-0.37324905528350794,1.42743012206251,-1.0404331204863992,1.334297972923157,0.8687276958286853,-0.2657337201171915,-0.6483819246588316,-0.24411340590570904,0.8505625725136822,-0.9179899937538808,0.8837406184286677,1.2499050427703942,0.33803720522963754,-0.6719806178223434,-1.4049437087691334,0.7386471634448698,0.9459537223565966,-0.6158054534571311,-1.0153312336632523,0.0924594831228007,0.17288858565747628,0.15420059591782365,-0.9485218735971477,-0.7324767569691258,0.17741031455593906,-0.590903068024523,-2.305888866671554,-0.6263816050863013,-0.0159640671396924,1.2145738337263368],\"type\":\"histogram\"}],                        {\"barmode\":\"overlay\",\"legend\":{\"bgcolor\":\"#F5F6F9\",\"font\":{\"color\":\"#4D5663\"}},\"paper_bgcolor\":\"#F5F6F9\",\"plot_bgcolor\":\"#F5F6F9\",\"template\":{\"data\":{\"barpolar\":[{\"marker\":{\"line\":{\"color\":\"#E5ECF6\",\"width\":0.5},\"pattern\":{\"fillmode\":\"overlay\",\"size\":10,\"solidity\":0.2}},\"type\":\"barpolar\"}],\"bar\":[{\"error_x\":{\"color\":\"#2a3f5f\"},\"error_y\":{\"color\":\"#2a3f5f\"},\"marker\":{\"line\":{\"color\":\"#E5ECF6\",\"width\":0.5},\"pattern\":{\"fillmode\":\"overlay\",\"size\":10,\"solidity\":0.2}},\"type\":\"bar\"}],\"carpet\":[{\"aaxis\":{\"endlinecolor\":\"#2a3f5f\",\"gridcolor\":\"white\",\"linecolor\":\"white\",\"minorgridcolor\":\"white\",\"startlinecolor\":\"#2a3f5f\"},\"baxis\":{\"endlinecolor\":\"#2a3f5f\",\"gridcolor\":\"white\",\"linecolor\":\"white\",\"minorgridcolor\":\"white\",\"startlinecolor\":\"#2a3f5f\"},\"type\":\"carpet\"}],\"choropleth\":[{\"colorbar\":{\"outlinewidth\":0,\"ticks\":\"\"},\"type\":\"choropleth\"}],\"contourcarpet\":[{\"colorbar\":{\"outlinewidth\":0,\"ticks\":\"\"},\"type\":\"contourcarpet\"}],\"contour\":[{\"colorbar\":{\"outlinewidth\":0,\"ticks\":\"\"},\"colorscale\":[[0.0,\"#0d0887\"],[0.1111111111111111,\"#46039f\"],[0.2222222222222222,\"#7201a8\"],[0.3333333333333333,\"#9c179e\"],[0.4444444444444444,\"#bd3786\"],[0.5555555555555556,\"#d8576b\"],[0.6666666666666666,\"#ed7953\"],[0.7777777777777778,\"#fb9f3a\"],[0.8888888888888888,\"#fdca26\"],[1.0,\"#f0f921\"]],\"type\":\"contour\"}],\"heatmapgl\":[{\"colorbar\":{\"outlinewidth\":0,\"ticks\":\"\"},\"colorscale\":[[0.0,\"#0d0887\"],[0.1111111111111111,\"#46039f\"],[0.2222222222222222,\"#7201a8\"],[0.3333333333333333,\"#9c179e\"],[0.4444444444444444,\"#bd3786\"],[0.5555555555555556,\"#d8576b\"],[0.6666666666666666,\"#ed7953\"],[0.7777777777777778,\"#fb9f3a\"],[0.8888888888888888,\"#fdca26\"],[1.0,\"#f0f921\"]],\"type\":\"heatmapgl\"}],\"heatmap\":[{\"colorbar\":{\"outlinewidth\":0,\"ticks\":\"\"},\"colorscale\":[[0.0,\"#0d0887\"],[0.1111111111111111,\"#46039f\"],[0.2222222222222222,\"#7201a8\"],[0.3333333333333333,\"#9c179e\"],[0.4444444444444444,\"#bd3786\"],[0.5555555555555556,\"#d8576b\"],[0.6666666666666666,\"#ed7953\"],[0.7777777777777778,\"#fb9f3a\"],[0.8888888888888888,\"#fdca26\"],[1.0,\"#f0f921\"]],\"type\":\"heatmap\"}],\"histogram2dcontour\":[{\"colorbar\":{\"outlinewidth\":0,\"ticks\":\"\"},\"colorscale\":[[0.0,\"#0d0887\"],[0.1111111111111111,\"#46039f\"],[0.2222222222222222,\"#7201a8\"],[0.3333333333333333,\"#9c179e\"],[0.4444444444444444,\"#bd3786\"],[0.5555555555555556,\"#d8576b\"],[0.6666666666666666,\"#ed7953\"],[0.7777777777777778,\"#fb9f3a\"],[0.8888888888888888,\"#fdca26\"],[1.0,\"#f0f921\"]],\"type\":\"histogram2dcontour\"}],\"histogram2d\":[{\"colorbar\":{\"outlinewidth\":0,\"ticks\":\"\"},\"colorscale\":[[0.0,\"#0d0887\"],[0.1111111111111111,\"#46039f\"],[0.2222222222222222,\"#7201a8\"],[0.3333333333333333,\"#9c179e\"],[0.4444444444444444,\"#bd3786\"],[0.5555555555555556,\"#d8576b\"],[0.6666666666666666,\"#ed7953\"],[0.7777777777777778,\"#fb9f3a\"],[0.8888888888888888,\"#fdca26\"],[1.0,\"#f0f921\"]],\"type\":\"histogram2d\"}],\"histogram\":[{\"marker\":{\"pattern\":{\"fillmode\":\"overlay\",\"size\":10,\"solidity\":0.2}},\"type\":\"histogram\"}],\"mesh3d\":[{\"colorbar\":{\"outlinewidth\":0,\"ticks\":\"\"},\"type\":\"mesh3d\"}],\"parcoords\":[{\"line\":{\"colorbar\":{\"outlinewidth\":0,\"ticks\":\"\"}},\"type\":\"parcoords\"}],\"pie\":[{\"automargin\":true,\"type\":\"pie\"}],\"scatter3d\":[{\"line\":{\"colorbar\":{\"outlinewidth\":0,\"ticks\":\"\"}},\"marker\":{\"colorbar\":{\"outlinewidth\":0,\"ticks\":\"\"}},\"type\":\"scatter3d\"}],\"scattercarpet\":[{\"marker\":{\"colorbar\":{\"outlinewidth\":0,\"ticks\":\"\"}},\"type\":\"scattercarpet\"}],\"scattergeo\":[{\"marker\":{\"colorbar\":{\"outlinewidth\":0,\"ticks\":\"\"}},\"type\":\"scattergeo\"}],\"scattergl\":[{\"marker\":{\"colorbar\":{\"outlinewidth\":0,\"ticks\":\"\"}},\"type\":\"scattergl\"}],\"scattermapbox\":[{\"marker\":{\"colorbar\":{\"outlinewidth\":0,\"ticks\":\"\"}},\"type\":\"scattermapbox\"}],\"scatterpolargl\":[{\"marker\":{\"colorbar\":{\"outlinewidth\":0,\"ticks\":\"\"}},\"type\":\"scatterpolargl\"}],\"scatterpolar\":[{\"marker\":{\"colorbar\":{\"outlinewidth\":0,\"ticks\":\"\"}},\"type\":\"scatterpolar\"}],\"scatter\":[{\"marker\":{\"colorbar\":{\"outlinewidth\":0,\"ticks\":\"\"}},\"type\":\"scatter\"}],\"scatterternary\":[{\"marker\":{\"colorbar\":{\"outlinewidth\":0,\"ticks\":\"\"}},\"type\":\"scatterternary\"}],\"surface\":[{\"colorbar\":{\"outlinewidth\":0,\"ticks\":\"\"},\"colorscale\":[[0.0,\"#0d0887\"],[0.1111111111111111,\"#46039f\"],[0.2222222222222222,\"#7201a8\"],[0.3333333333333333,\"#9c179e\"],[0.4444444444444444,\"#bd3786\"],[0.5555555555555556,\"#d8576b\"],[0.6666666666666666,\"#ed7953\"],[0.7777777777777778,\"#fb9f3a\"],[0.8888888888888888,\"#fdca26\"],[1.0,\"#f0f921\"]],\"type\":\"surface\"}],\"table\":[{\"cells\":{\"fill\":{\"color\":\"#EBF0F8\"},\"line\":{\"color\":\"white\"}},\"header\":{\"fill\":{\"color\":\"#C8D4E3\"},\"line\":{\"color\":\"white\"}},\"type\":\"table\"}]},\"layout\":{\"annotationdefaults\":{\"arrowcolor\":\"#2a3f5f\",\"arrowhead\":0,\"arrowwidth\":1},\"autotypenumbers\":\"strict\",\"coloraxis\":{\"colorbar\":{\"outlinewidth\":0,\"ticks\":\"\"}},\"colorscale\":{\"diverging\":[[0,\"#8e0152\"],[0.1,\"#c51b7d\"],[0.2,\"#de77ae\"],[0.3,\"#f1b6da\"],[0.4,\"#fde0ef\"],[0.5,\"#f7f7f7\"],[0.6,\"#e6f5d0\"],[0.7,\"#b8e186\"],[0.8,\"#7fbc41\"],[0.9,\"#4d9221\"],[1,\"#276419\"]],\"sequential\":[[0.0,\"#0d0887\"],[0.1111111111111111,\"#46039f\"],[0.2222222222222222,\"#7201a8\"],[0.3333333333333333,\"#9c179e\"],[0.4444444444444444,\"#bd3786\"],[0.5555555555555556,\"#d8576b\"],[0.6666666666666666,\"#ed7953\"],[0.7777777777777778,\"#fb9f3a\"],[0.8888888888888888,\"#fdca26\"],[1.0,\"#f0f921\"]],\"sequentialminus\":[[0.0,\"#0d0887\"],[0.1111111111111111,\"#46039f\"],[0.2222222222222222,\"#7201a8\"],[0.3333333333333333,\"#9c179e\"],[0.4444444444444444,\"#bd3786\"],[0.5555555555555556,\"#d8576b\"],[0.6666666666666666,\"#ed7953\"],[0.7777777777777778,\"#fb9f3a\"],[0.8888888888888888,\"#fdca26\"],[1.0,\"#f0f921\"]]},\"colorway\":[\"#636efa\",\"#EF553B\",\"#00cc96\",\"#ab63fa\",\"#FFA15A\",\"#19d3f3\",\"#FF6692\",\"#B6E880\",\"#FF97FF\",\"#FECB52\"],\"font\":{\"color\":\"#2a3f5f\"},\"geo\":{\"bgcolor\":\"white\",\"lakecolor\":\"white\",\"landcolor\":\"#E5ECF6\",\"showlakes\":true,\"showland\":true,\"subunitcolor\":\"white\"},\"hoverlabel\":{\"align\":\"left\"},\"hovermode\":\"closest\",\"mapbox\":{\"style\":\"light\"},\"paper_bgcolor\":\"white\",\"plot_bgcolor\":\"#E5ECF6\",\"polar\":{\"angularaxis\":{\"gridcolor\":\"white\",\"linecolor\":\"white\",\"ticks\":\"\"},\"bgcolor\":\"#E5ECF6\",\"radialaxis\":{\"gridcolor\":\"white\",\"linecolor\":\"white\",\"ticks\":\"\"}},\"scene\":{\"xaxis\":{\"backgroundcolor\":\"#E5ECF6\",\"gridcolor\":\"white\",\"gridwidth\":2,\"linecolor\":\"white\",\"showbackground\":true,\"ticks\":\"\",\"zerolinecolor\":\"white\"},\"yaxis\":{\"backgroundcolor\":\"#E5ECF6\",\"gridcolor\":\"white\",\"gridwidth\":2,\"linecolor\":\"white\",\"showbackground\":true,\"ticks\":\"\",\"zerolinecolor\":\"white\"},\"zaxis\":{\"backgroundcolor\":\"#E5ECF6\",\"gridcolor\":\"white\",\"gridwidth\":2,\"linecolor\":\"white\",\"showbackground\":true,\"ticks\":\"\",\"zerolinecolor\":\"white\"}},\"shapedefaults\":{\"line\":{\"color\":\"#2a3f5f\"}},\"ternary\":{\"aaxis\":{\"gridcolor\":\"white\",\"linecolor\":\"white\",\"ticks\":\"\"},\"baxis\":{\"gridcolor\":\"white\",\"linecolor\":\"white\",\"ticks\":\"\"},\"bgcolor\":\"#E5ECF6\",\"caxis\":{\"gridcolor\":\"white\",\"linecolor\":\"white\",\"ticks\":\"\"}},\"title\":{\"x\":0.05},\"xaxis\":{\"automargin\":true,\"gridcolor\":\"white\",\"linecolor\":\"white\",\"ticks\":\"\",\"title\":{\"standoff\":15},\"zerolinecolor\":\"white\",\"zerolinewidth\":2},\"yaxis\":{\"automargin\":true,\"gridcolor\":\"white\",\"linecolor\":\"white\",\"ticks\":\"\",\"title\":{\"standoff\":15},\"zerolinecolor\":\"white\",\"zerolinewidth\":2}}},\"title\":{\"font\":{\"color\":\"#4D5663\"}},\"xaxis\":{\"gridcolor\":\"#E1E5ED\",\"showgrid\":true,\"tickfont\":{\"color\":\"#4D5663\"},\"title\":{\"font\":{\"color\":\"#4D5663\"},\"text\":\"\"},\"zerolinecolor\":\"#E1E5ED\"},\"yaxis\":{\"gridcolor\":\"#E1E5ED\",\"showgrid\":true,\"tickfont\":{\"color\":\"#4D5663\"},\"title\":{\"font\":{\"color\":\"#4D5663\"},\"text\":\"\"},\"zerolinecolor\":\"#E1E5ED\"}},                        {\"showLink\": true, \"linkText\": \"Export to plot.ly\", \"plotlyServerURL\": \"https://plot.ly\", \"responsive\": true}                    ).then(function(){\n",
       "                            \n",
       "var gd = document.getElementById('f5c6ee21-4d34-4977-88b5-e387e6c80a6f');\n",
       "var x = new MutationObserver(function (mutations, observer) {{\n",
       "        var display = window.getComputedStyle(gd).display;\n",
       "        if (!display || display === 'none') {{\n",
       "            console.log([gd, 'removed!']);\n",
       "            Plotly.purge(gd);\n",
       "            observer.disconnect();\n",
       "        }}\n",
       "}});\n",
       "\n",
       "// Listen for the removal of the full notebook cells\n",
       "var notebookContainer = gd.closest('#notebook-container');\n",
       "if (notebookContainer) {{\n",
       "    x.observe(notebookContainer, {childList: true});\n",
       "}}\n",
       "\n",
       "// Listen for the clearing of the current output cell\n",
       "var outputEl = gd.closest('.output');\n",
       "if (outputEl) {{\n",
       "    x.observe(outputEl, {childList: true});\n",
       "}}\n",
       "\n",
       "                        })                };                });            </script>        </div>"
      ]
     },
     "metadata": {},
     "output_type": "display_data"
    }
   ],
   "source": [
    "df['A'].iplot(kind='hist',bins=25)"
   ]
  },
  {
   "cell_type": "code",
   "execution_count": 19,
   "metadata": {
    "collapsed": false
   },
   "outputs": [
    {
     "data": {
      "application/vnd.plotly.v1+json": {
       "config": {
        "linkText": "Export to plot.ly",
        "plotlyServerURL": "https://plot.ly",
        "showLink": true
       },
       "data": [
        {
         "marker": {
          "color": [
           "rgb(255, 153, 51)",
           "rgb(55, 128, 191)",
           "rgb(50, 171, 96)",
           "rgb(128, 0, 128)",
           "rgb(219, 64, 82)",
           "rgb(0, 128, 128)",
           "rgb(255, 255, 51)",
           "rgb(128, 128, 0)",
           "rgb(251, 128, 114)",
           "rgb(128, 177, 211)"
          ],
          "line": {
           "width": 1.3
          },
          "size": [
           75,
           67,
           81,
           60,
           63,
           36,
           56,
           45,
           30,
           62,
           27,
           50,
           47,
           51,
           50,
           56,
           62,
           60,
           50,
           68,
           49,
           23,
           48,
           60,
           43,
           56,
           55,
           55,
           38,
           47,
           63,
           43,
           64,
           76,
           42,
           53,
           46,
           12,
           59,
           112,
           56,
           55,
           35,
           52,
           52,
           47,
           61,
           60,
           65,
           50,
           54,
           69,
           38,
           61,
           49,
           57,
           81,
           59,
           60,
           36,
           62,
           76,
           93,
           62,
           71,
           83,
           83,
           55,
           36,
           35,
           70,
           73,
           36,
           37,
           44,
           35,
           39,
           39,
           55,
           63,
           63,
           51,
           61,
           52,
           59,
           48,
           61,
           55,
           46,
           60,
           30,
           52,
           50,
           49,
           68,
           40,
           39,
           58,
           45,
           31
          ],
          "symbol": "circle"
         },
         "mode": "markers",
         "text": "",
         "type": "scatter",
         "x": [
          -0.3497734254771835,
          0.5583236144971976,
          1.0210338390182403,
          0.7833067604547665,
          1.6462849509104058,
          -0.7372755607522767,
          0.9881508966271882,
          0.14398838038901476,
          -0.6395676601793224,
          0.6291591032308805,
          1.3470169543296011,
          0.60968541723478,
          1.7636746057249477,
          -0.8968347110563231,
          1.1061992371572222,
          0.44411579330015866,
          -0.4910466503882815,
          -0.46352959198906274,
          -1.381458377602349,
          0.8509163423647723,
          1.4268676166900143,
          1.2007370070130767,
          0.3090613141255533,
          -0.3209463480469782,
          1.0765472388705708,
          1.5095524793854327,
          0.11806543873081181,
          1.8566919692700568,
          -0.8220431176199894,
          -0.8557816023136964,
          -1.9698929315893803,
          -0.2645274617925079,
          0.4674957207486842,
          -0.7598034286404655,
          -0.09316392607820459,
          -0.11288405529306757,
          -0.7718474232824881,
          -0.30971869052360046,
          0.3188546937996816,
          -0.3833733336548828,
          -1.26409683214929,
          -0.260610568878272,
          -0.8724907032434537,
          -0.6843172926825293,
          0.9410366903204676,
          0.5674477518189098,
          -0.07158642241174541,
          -1.8124280141646631,
          -1.4928103512959483,
          1.643157157597684,
          0.6093130094966801,
          -0.9776498459499772,
          -0.6637523839034207,
          0.44044446528203607,
          -1.8459802910301286,
          0.9930741770617006,
          0.41774133566523103,
          -0.09330237801047414,
          -0.7229100824409184,
          -0.16409341879725245,
          -1.2503439337761084,
          -0.5470496191739559,
          2.0386594730120065,
          -0.36908233025570886,
          -0.9250062299172206,
          -1.049546627000459,
          0.33175448123373075,
          0.9583714991373541,
          -2.1414378743802054,
          0.029573053775218225,
          -0.37324905528350794,
          1.42743012206251,
          -1.0404331204863992,
          1.334297972923157,
          0.8687276958286853,
          -0.2657337201171915,
          -0.6483819246588316,
          -0.24411340590570904,
          0.8505625725136822,
          -0.9179899937538808,
          0.8837406184286677,
          1.2499050427703942,
          0.33803720522963754,
          -0.6719806178223434,
          -1.4049437087691334,
          0.7386471634448698,
          0.9459537223565966,
          -0.6158054534571311,
          -1.0153312336632523,
          0.0924594831228007,
          0.17288858565747628,
          0.15420059591782365,
          -0.9485218735971477,
          -0.7324767569691258,
          0.17741031455593906,
          -0.590903068024523,
          -2.305888866671554,
          -0.6263816050863013,
          -0.0159640671396924,
          1.2145738337263368
         ],
         "y": [
          1.1700434818844438,
          1.0751258509099173,
          -1.0083558806672341,
          -1.0207489561575065,
          2.449361100561767,
          -0.7175292061587076,
          -0.368063200704348,
          -0.2069764602363649,
          -0.5852792240627692,
          0.21418680003139948,
          3.5417689407035073,
          -0.8937838034366977,
          -0.450364359714211,
          -0.48201024793974095,
          -1.1477346930123722,
          -0.4551181416866834,
          0.39689090096151236,
          -1.085332249768537,
          -0.3330302827084691,
          -0.09164557937808074,
          0.8209906788667682,
          -0.18259882874169228,
          1.414664742141667,
          -1.3168984602931946,
          -1.0673751875441888,
          -0.8811015444791677,
          1.1573950121989691,
          -1.9420689925822388,
          0.15254426213926583,
          -0.5106440815180584,
          -1.1407698919771738,
          0.9658187833865867,
          0.09032980787959194,
          0.5105956795061436,
          -1.5445015493646832,
          -0.529670046477799,
          -1.2951546206741757,
          -2.26897320406101,
          2.0647400026491787,
          0.7912257586064879,
          -0.9435855795774132,
          -0.0792530039589136,
          -0.701391406857763,
          0.3904899555187702,
          -0.12401867350010902,
          -1.1770981578075772,
          1.3699958165123711,
          1.1383701335229368,
          1.0753035171938106,
          2.3566664850434185,
          0.28328978448650277,
          -0.2278154516210515,
          -1.5229891887572231,
          1.6115199927052717,
          -0.4770954007952236,
          -0.03244258909954915,
          -0.01973863081231562,
          -0.9240201466956118,
          -0.7018806548826212,
          1.116257598901643,
          -2.374321527801769,
          2.1079872052410247,
          0.6982011140111537,
          -1.0555114969250081,
          -0.3897723937818329,
          1.1925231381245627,
          1.2237381227711939,
          0.5989850587870378,
          -0.8991782314803098,
          0.5255067693703722,
          2.7586264976767483,
          -0.0788469074477344,
          -0.853278412662128,
          -1.2219390892924478,
          0.10246149478772258,
          0.6284426117915223,
          0.512062339056357,
          -0.9386584410755775,
          1.6755332861886518,
          -0.8947338550700419,
          -0.4122518141392201,
          0.32106067012965067,
          2.1975821633476937,
          0.9364725716982593,
          -1.00268240741226,
          -1.9229183584789276,
          0.843620878659984,
          1.4771597910462655,
          -1.1347015325896048,
          0.9918722842152485,
          0.013184538681476031,
          0.44169861274054656,
          0.583312537359923,
          -0.8523979073270433,
          -0.910846088535007,
          -0.6928852005666618,
          0.9272107055521642,
          1.1217693677540292,
          1.1415382607103743,
          -0.5431411104261837
         ]
        }
       ],
       "layout": {
        "legend": {
         "bgcolor": "#F5F6F9",
         "font": {
          "color": "#4D5663"
         }
        },
        "paper_bgcolor": "#F5F6F9",
        "plot_bgcolor": "#F5F6F9",
        "template": {
         "data": {
          "bar": [
           {
            "error_x": {
             "color": "#2a3f5f"
            },
            "error_y": {
             "color": "#2a3f5f"
            },
            "marker": {
             "line": {
              "color": "#E5ECF6",
              "width": 0.5
             },
             "pattern": {
              "fillmode": "overlay",
              "size": 10,
              "solidity": 0.2
             }
            },
            "type": "bar"
           }
          ],
          "barpolar": [
           {
            "marker": {
             "line": {
              "color": "#E5ECF6",
              "width": 0.5
             },
             "pattern": {
              "fillmode": "overlay",
              "size": 10,
              "solidity": 0.2
             }
            },
            "type": "barpolar"
           }
          ],
          "carpet": [
           {
            "aaxis": {
             "endlinecolor": "#2a3f5f",
             "gridcolor": "white",
             "linecolor": "white",
             "minorgridcolor": "white",
             "startlinecolor": "#2a3f5f"
            },
            "baxis": {
             "endlinecolor": "#2a3f5f",
             "gridcolor": "white",
             "linecolor": "white",
             "minorgridcolor": "white",
             "startlinecolor": "#2a3f5f"
            },
            "type": "carpet"
           }
          ],
          "choropleth": [
           {
            "colorbar": {
             "outlinewidth": 0,
             "ticks": ""
            },
            "type": "choropleth"
           }
          ],
          "contour": [
           {
            "colorbar": {
             "outlinewidth": 0,
             "ticks": ""
            },
            "colorscale": [
             [
              0,
              "#0d0887"
             ],
             [
              0.1111111111111111,
              "#46039f"
             ],
             [
              0.2222222222222222,
              "#7201a8"
             ],
             [
              0.3333333333333333,
              "#9c179e"
             ],
             [
              0.4444444444444444,
              "#bd3786"
             ],
             [
              0.5555555555555556,
              "#d8576b"
             ],
             [
              0.6666666666666666,
              "#ed7953"
             ],
             [
              0.7777777777777778,
              "#fb9f3a"
             ],
             [
              0.8888888888888888,
              "#fdca26"
             ],
             [
              1,
              "#f0f921"
             ]
            ],
            "type": "contour"
           }
          ],
          "contourcarpet": [
           {
            "colorbar": {
             "outlinewidth": 0,
             "ticks": ""
            },
            "type": "contourcarpet"
           }
          ],
          "heatmap": [
           {
            "colorbar": {
             "outlinewidth": 0,
             "ticks": ""
            },
            "colorscale": [
             [
              0,
              "#0d0887"
             ],
             [
              0.1111111111111111,
              "#46039f"
             ],
             [
              0.2222222222222222,
              "#7201a8"
             ],
             [
              0.3333333333333333,
              "#9c179e"
             ],
             [
              0.4444444444444444,
              "#bd3786"
             ],
             [
              0.5555555555555556,
              "#d8576b"
             ],
             [
              0.6666666666666666,
              "#ed7953"
             ],
             [
              0.7777777777777778,
              "#fb9f3a"
             ],
             [
              0.8888888888888888,
              "#fdca26"
             ],
             [
              1,
              "#f0f921"
             ]
            ],
            "type": "heatmap"
           }
          ],
          "heatmapgl": [
           {
            "colorbar": {
             "outlinewidth": 0,
             "ticks": ""
            },
            "colorscale": [
             [
              0,
              "#0d0887"
             ],
             [
              0.1111111111111111,
              "#46039f"
             ],
             [
              0.2222222222222222,
              "#7201a8"
             ],
             [
              0.3333333333333333,
              "#9c179e"
             ],
             [
              0.4444444444444444,
              "#bd3786"
             ],
             [
              0.5555555555555556,
              "#d8576b"
             ],
             [
              0.6666666666666666,
              "#ed7953"
             ],
             [
              0.7777777777777778,
              "#fb9f3a"
             ],
             [
              0.8888888888888888,
              "#fdca26"
             ],
             [
              1,
              "#f0f921"
             ]
            ],
            "type": "heatmapgl"
           }
          ],
          "histogram": [
           {
            "marker": {
             "pattern": {
              "fillmode": "overlay",
              "size": 10,
              "solidity": 0.2
             }
            },
            "type": "histogram"
           }
          ],
          "histogram2d": [
           {
            "colorbar": {
             "outlinewidth": 0,
             "ticks": ""
            },
            "colorscale": [
             [
              0,
              "#0d0887"
             ],
             [
              0.1111111111111111,
              "#46039f"
             ],
             [
              0.2222222222222222,
              "#7201a8"
             ],
             [
              0.3333333333333333,
              "#9c179e"
             ],
             [
              0.4444444444444444,
              "#bd3786"
             ],
             [
              0.5555555555555556,
              "#d8576b"
             ],
             [
              0.6666666666666666,
              "#ed7953"
             ],
             [
              0.7777777777777778,
              "#fb9f3a"
             ],
             [
              0.8888888888888888,
              "#fdca26"
             ],
             [
              1,
              "#f0f921"
             ]
            ],
            "type": "histogram2d"
           }
          ],
          "histogram2dcontour": [
           {
            "colorbar": {
             "outlinewidth": 0,
             "ticks": ""
            },
            "colorscale": [
             [
              0,
              "#0d0887"
             ],
             [
              0.1111111111111111,
              "#46039f"
             ],
             [
              0.2222222222222222,
              "#7201a8"
             ],
             [
              0.3333333333333333,
              "#9c179e"
             ],
             [
              0.4444444444444444,
              "#bd3786"
             ],
             [
              0.5555555555555556,
              "#d8576b"
             ],
             [
              0.6666666666666666,
              "#ed7953"
             ],
             [
              0.7777777777777778,
              "#fb9f3a"
             ],
             [
              0.8888888888888888,
              "#fdca26"
             ],
             [
              1,
              "#f0f921"
             ]
            ],
            "type": "histogram2dcontour"
           }
          ],
          "mesh3d": [
           {
            "colorbar": {
             "outlinewidth": 0,
             "ticks": ""
            },
            "type": "mesh3d"
           }
          ],
          "parcoords": [
           {
            "line": {
             "colorbar": {
              "outlinewidth": 0,
              "ticks": ""
             }
            },
            "type": "parcoords"
           }
          ],
          "pie": [
           {
            "automargin": true,
            "type": "pie"
           }
          ],
          "scatter": [
           {
            "marker": {
             "colorbar": {
              "outlinewidth": 0,
              "ticks": ""
             }
            },
            "type": "scatter"
           }
          ],
          "scatter3d": [
           {
            "line": {
             "colorbar": {
              "outlinewidth": 0,
              "ticks": ""
             }
            },
            "marker": {
             "colorbar": {
              "outlinewidth": 0,
              "ticks": ""
             }
            },
            "type": "scatter3d"
           }
          ],
          "scattercarpet": [
           {
            "marker": {
             "colorbar": {
              "outlinewidth": 0,
              "ticks": ""
             }
            },
            "type": "scattercarpet"
           }
          ],
          "scattergeo": [
           {
            "marker": {
             "colorbar": {
              "outlinewidth": 0,
              "ticks": ""
             }
            },
            "type": "scattergeo"
           }
          ],
          "scattergl": [
           {
            "marker": {
             "colorbar": {
              "outlinewidth": 0,
              "ticks": ""
             }
            },
            "type": "scattergl"
           }
          ],
          "scattermapbox": [
           {
            "marker": {
             "colorbar": {
              "outlinewidth": 0,
              "ticks": ""
             }
            },
            "type": "scattermapbox"
           }
          ],
          "scatterpolar": [
           {
            "marker": {
             "colorbar": {
              "outlinewidth": 0,
              "ticks": ""
             }
            },
            "type": "scatterpolar"
           }
          ],
          "scatterpolargl": [
           {
            "marker": {
             "colorbar": {
              "outlinewidth": 0,
              "ticks": ""
             }
            },
            "type": "scatterpolargl"
           }
          ],
          "scatterternary": [
           {
            "marker": {
             "colorbar": {
              "outlinewidth": 0,
              "ticks": ""
             }
            },
            "type": "scatterternary"
           }
          ],
          "surface": [
           {
            "colorbar": {
             "outlinewidth": 0,
             "ticks": ""
            },
            "colorscale": [
             [
              0,
              "#0d0887"
             ],
             [
              0.1111111111111111,
              "#46039f"
             ],
             [
              0.2222222222222222,
              "#7201a8"
             ],
             [
              0.3333333333333333,
              "#9c179e"
             ],
             [
              0.4444444444444444,
              "#bd3786"
             ],
             [
              0.5555555555555556,
              "#d8576b"
             ],
             [
              0.6666666666666666,
              "#ed7953"
             ],
             [
              0.7777777777777778,
              "#fb9f3a"
             ],
             [
              0.8888888888888888,
              "#fdca26"
             ],
             [
              1,
              "#f0f921"
             ]
            ],
            "type": "surface"
           }
          ],
          "table": [
           {
            "cells": {
             "fill": {
              "color": "#EBF0F8"
             },
             "line": {
              "color": "white"
             }
            },
            "header": {
             "fill": {
              "color": "#C8D4E3"
             },
             "line": {
              "color": "white"
             }
            },
            "type": "table"
           }
          ]
         },
         "layout": {
          "annotationdefaults": {
           "arrowcolor": "#2a3f5f",
           "arrowhead": 0,
           "arrowwidth": 1
          },
          "autotypenumbers": "strict",
          "coloraxis": {
           "colorbar": {
            "outlinewidth": 0,
            "ticks": ""
           }
          },
          "colorscale": {
           "diverging": [
            [
             0,
             "#8e0152"
            ],
            [
             0.1,
             "#c51b7d"
            ],
            [
             0.2,
             "#de77ae"
            ],
            [
             0.3,
             "#f1b6da"
            ],
            [
             0.4,
             "#fde0ef"
            ],
            [
             0.5,
             "#f7f7f7"
            ],
            [
             0.6,
             "#e6f5d0"
            ],
            [
             0.7,
             "#b8e186"
            ],
            [
             0.8,
             "#7fbc41"
            ],
            [
             0.9,
             "#4d9221"
            ],
            [
             1,
             "#276419"
            ]
           ],
           "sequential": [
            [
             0,
             "#0d0887"
            ],
            [
             0.1111111111111111,
             "#46039f"
            ],
            [
             0.2222222222222222,
             "#7201a8"
            ],
            [
             0.3333333333333333,
             "#9c179e"
            ],
            [
             0.4444444444444444,
             "#bd3786"
            ],
            [
             0.5555555555555556,
             "#d8576b"
            ],
            [
             0.6666666666666666,
             "#ed7953"
            ],
            [
             0.7777777777777778,
             "#fb9f3a"
            ],
            [
             0.8888888888888888,
             "#fdca26"
            ],
            [
             1,
             "#f0f921"
            ]
           ],
           "sequentialminus": [
            [
             0,
             "#0d0887"
            ],
            [
             0.1111111111111111,
             "#46039f"
            ],
            [
             0.2222222222222222,
             "#7201a8"
            ],
            [
             0.3333333333333333,
             "#9c179e"
            ],
            [
             0.4444444444444444,
             "#bd3786"
            ],
            [
             0.5555555555555556,
             "#d8576b"
            ],
            [
             0.6666666666666666,
             "#ed7953"
            ],
            [
             0.7777777777777778,
             "#fb9f3a"
            ],
            [
             0.8888888888888888,
             "#fdca26"
            ],
            [
             1,
             "#f0f921"
            ]
           ]
          },
          "colorway": [
           "#636efa",
           "#EF553B",
           "#00cc96",
           "#ab63fa",
           "#FFA15A",
           "#19d3f3",
           "#FF6692",
           "#B6E880",
           "#FF97FF",
           "#FECB52"
          ],
          "font": {
           "color": "#2a3f5f"
          },
          "geo": {
           "bgcolor": "white",
           "lakecolor": "white",
           "landcolor": "#E5ECF6",
           "showlakes": true,
           "showland": true,
           "subunitcolor": "white"
          },
          "hoverlabel": {
           "align": "left"
          },
          "hovermode": "closest",
          "mapbox": {
           "style": "light"
          },
          "paper_bgcolor": "white",
          "plot_bgcolor": "#E5ECF6",
          "polar": {
           "angularaxis": {
            "gridcolor": "white",
            "linecolor": "white",
            "ticks": ""
           },
           "bgcolor": "#E5ECF6",
           "radialaxis": {
            "gridcolor": "white",
            "linecolor": "white",
            "ticks": ""
           }
          },
          "scene": {
           "xaxis": {
            "backgroundcolor": "#E5ECF6",
            "gridcolor": "white",
            "gridwidth": 2,
            "linecolor": "white",
            "showbackground": true,
            "ticks": "",
            "zerolinecolor": "white"
           },
           "yaxis": {
            "backgroundcolor": "#E5ECF6",
            "gridcolor": "white",
            "gridwidth": 2,
            "linecolor": "white",
            "showbackground": true,
            "ticks": "",
            "zerolinecolor": "white"
           },
           "zaxis": {
            "backgroundcolor": "#E5ECF6",
            "gridcolor": "white",
            "gridwidth": 2,
            "linecolor": "white",
            "showbackground": true,
            "ticks": "",
            "zerolinecolor": "white"
           }
          },
          "shapedefaults": {
           "line": {
            "color": "#2a3f5f"
           }
          },
          "ternary": {
           "aaxis": {
            "gridcolor": "white",
            "linecolor": "white",
            "ticks": ""
           },
           "baxis": {
            "gridcolor": "white",
            "linecolor": "white",
            "ticks": ""
           },
           "bgcolor": "#E5ECF6",
           "caxis": {
            "gridcolor": "white",
            "linecolor": "white",
            "ticks": ""
           }
          },
          "title": {
           "x": 0.05
          },
          "xaxis": {
           "automargin": true,
           "gridcolor": "white",
           "linecolor": "white",
           "ticks": "",
           "title": {
            "standoff": 15
           },
           "zerolinecolor": "white",
           "zerolinewidth": 2
          },
          "yaxis": {
           "automargin": true,
           "gridcolor": "white",
           "linecolor": "white",
           "ticks": "",
           "title": {
            "standoff": 15
           },
           "zerolinecolor": "white",
           "zerolinewidth": 2
          }
         }
        },
        "title": {
         "font": {
          "color": "#4D5663"
         }
        },
        "xaxis": {
         "gridcolor": "#E1E5ED",
         "showgrid": true,
         "tickfont": {
          "color": "#4D5663"
         },
         "title": {
          "font": {
           "color": "#4D5663"
          },
          "text": ""
         },
         "zerolinecolor": "#E1E5ED"
        },
        "yaxis": {
         "gridcolor": "#E1E5ED",
         "showgrid": true,
         "tickfont": {
          "color": "#4D5663"
         },
         "title": {
          "font": {
           "color": "#4D5663"
          },
          "text": ""
         },
         "zerolinecolor": "#E1E5ED"
        }
       }
      },
      "text/html": [
       "<div>                            <div id=\"4968f01c-ae65-4976-8ba1-2078fd8863d8\" class=\"plotly-graph-div\" style=\"height:525px; width:100%;\"></div>            <script type=\"text/javascript\">                require([\"plotly\"], function(Plotly) {                    window.PLOTLYENV=window.PLOTLYENV || {};\n",
       "                    window.PLOTLYENV.BASE_URL='https://plot.ly';                                    if (document.getElementById(\"4968f01c-ae65-4976-8ba1-2078fd8863d8\")) {                    Plotly.newPlot(                        \"4968f01c-ae65-4976-8ba1-2078fd8863d8\",                        [{\"marker\":{\"color\":[\"rgb(255, 153, 51)\",\"rgb(55, 128, 191)\",\"rgb(50, 171, 96)\",\"rgb(128, 0, 128)\",\"rgb(219, 64, 82)\",\"rgb(0, 128, 128)\",\"rgb(255, 255, 51)\",\"rgb(128, 128, 0)\",\"rgb(251, 128, 114)\",\"rgb(128, 177, 211)\"],\"line\":{\"width\":1.3},\"size\":[75,67,81,60,63,36,56,45,30,62,27,50,47,51,50,56,62,60,50,68,49,23,48,60,43,56,55,55,38,47,63,43,64,76,42,53,46,12,59,112,56,55,35,52,52,47,61,60,65,50,54,69,38,61,49,57,81,59,60,36,62,76,93,62,71,83,83,55,36,35,70,73,36,37,44,35,39,39,55,63,63,51,61,52,59,48,61,55,46,60,30,52,50,49,68,40,39,58,45,31],\"symbol\":\"circle\"},\"mode\":\"markers\",\"text\":\"\",\"x\":[-0.3497734254771835,0.5583236144971976,1.0210338390182403,0.7833067604547665,1.6462849509104058,-0.7372755607522767,0.9881508966271882,0.14398838038901476,-0.6395676601793224,0.6291591032308805,1.3470169543296011,0.60968541723478,1.7636746057249477,-0.8968347110563231,1.1061992371572222,0.44411579330015866,-0.4910466503882815,-0.46352959198906274,-1.381458377602349,0.8509163423647723,1.4268676166900143,1.2007370070130767,0.3090613141255533,-0.3209463480469782,1.0765472388705708,1.5095524793854327,0.11806543873081181,1.8566919692700568,-0.8220431176199894,-0.8557816023136964,-1.9698929315893803,-0.2645274617925079,0.4674957207486842,-0.7598034286404655,-0.09316392607820459,-0.11288405529306757,-0.7718474232824881,-0.30971869052360046,0.3188546937996816,-0.3833733336548828,-1.26409683214929,-0.260610568878272,-0.8724907032434537,-0.6843172926825293,0.9410366903204676,0.5674477518189098,-0.07158642241174541,-1.8124280141646631,-1.4928103512959483,1.643157157597684,0.6093130094966801,-0.9776498459499772,-0.6637523839034207,0.44044446528203607,-1.8459802910301286,0.9930741770617006,0.41774133566523103,-0.09330237801047414,-0.7229100824409184,-0.16409341879725245,-1.2503439337761084,-0.5470496191739559,2.0386594730120065,-0.36908233025570886,-0.9250062299172206,-1.049546627000459,0.33175448123373075,0.9583714991373541,-2.1414378743802054,0.029573053775218225,-0.37324905528350794,1.42743012206251,-1.0404331204863992,1.334297972923157,0.8687276958286853,-0.2657337201171915,-0.6483819246588316,-0.24411340590570904,0.8505625725136822,-0.9179899937538808,0.8837406184286677,1.2499050427703942,0.33803720522963754,-0.6719806178223434,-1.4049437087691334,0.7386471634448698,0.9459537223565966,-0.6158054534571311,-1.0153312336632523,0.0924594831228007,0.17288858565747628,0.15420059591782365,-0.9485218735971477,-0.7324767569691258,0.17741031455593906,-0.590903068024523,-2.305888866671554,-0.6263816050863013,-0.0159640671396924,1.2145738337263368],\"y\":[1.1700434818844438,1.0751258509099173,-1.0083558806672341,-1.0207489561575065,2.449361100561767,-0.7175292061587076,-0.368063200704348,-0.2069764602363649,-0.5852792240627692,0.21418680003139948,3.5417689407035073,-0.8937838034366977,-0.450364359714211,-0.48201024793974095,-1.1477346930123722,-0.4551181416866834,0.39689090096151236,-1.085332249768537,-0.3330302827084691,-0.09164557937808074,0.8209906788667682,-0.18259882874169228,1.414664742141667,-1.3168984602931946,-1.0673751875441888,-0.8811015444791677,1.1573950121989691,-1.9420689925822388,0.15254426213926583,-0.5106440815180584,-1.1407698919771738,0.9658187833865867,0.09032980787959194,0.5105956795061436,-1.5445015493646832,-0.529670046477799,-1.2951546206741757,-2.26897320406101,2.0647400026491787,0.7912257586064879,-0.9435855795774132,-0.0792530039589136,-0.701391406857763,0.3904899555187702,-0.12401867350010902,-1.1770981578075772,1.3699958165123711,1.1383701335229368,1.0753035171938106,2.3566664850434185,0.28328978448650277,-0.2278154516210515,-1.5229891887572231,1.6115199927052717,-0.4770954007952236,-0.03244258909954915,-0.01973863081231562,-0.9240201466956118,-0.7018806548826212,1.116257598901643,-2.374321527801769,2.1079872052410247,0.6982011140111537,-1.0555114969250081,-0.3897723937818329,1.1925231381245627,1.2237381227711939,0.5989850587870378,-0.8991782314803098,0.5255067693703722,2.7586264976767483,-0.0788469074477344,-0.853278412662128,-1.2219390892924478,0.10246149478772258,0.6284426117915223,0.512062339056357,-0.9386584410755775,1.6755332861886518,-0.8947338550700419,-0.4122518141392201,0.32106067012965067,2.1975821633476937,0.9364725716982593,-1.00268240741226,-1.9229183584789276,0.843620878659984,1.4771597910462655,-1.1347015325896048,0.9918722842152485,0.013184538681476031,0.44169861274054656,0.583312537359923,-0.8523979073270433,-0.910846088535007,-0.6928852005666618,0.9272107055521642,1.1217693677540292,1.1415382607103743,-0.5431411104261837],\"type\":\"scatter\"}],                        {\"legend\":{\"bgcolor\":\"#F5F6F9\",\"font\":{\"color\":\"#4D5663\"}},\"paper_bgcolor\":\"#F5F6F9\",\"plot_bgcolor\":\"#F5F6F9\",\"template\":{\"data\":{\"barpolar\":[{\"marker\":{\"line\":{\"color\":\"#E5ECF6\",\"width\":0.5},\"pattern\":{\"fillmode\":\"overlay\",\"size\":10,\"solidity\":0.2}},\"type\":\"barpolar\"}],\"bar\":[{\"error_x\":{\"color\":\"#2a3f5f\"},\"error_y\":{\"color\":\"#2a3f5f\"},\"marker\":{\"line\":{\"color\":\"#E5ECF6\",\"width\":0.5},\"pattern\":{\"fillmode\":\"overlay\",\"size\":10,\"solidity\":0.2}},\"type\":\"bar\"}],\"carpet\":[{\"aaxis\":{\"endlinecolor\":\"#2a3f5f\",\"gridcolor\":\"white\",\"linecolor\":\"white\",\"minorgridcolor\":\"white\",\"startlinecolor\":\"#2a3f5f\"},\"baxis\":{\"endlinecolor\":\"#2a3f5f\",\"gridcolor\":\"white\",\"linecolor\":\"white\",\"minorgridcolor\":\"white\",\"startlinecolor\":\"#2a3f5f\"},\"type\":\"carpet\"}],\"choropleth\":[{\"colorbar\":{\"outlinewidth\":0,\"ticks\":\"\"},\"type\":\"choropleth\"}],\"contourcarpet\":[{\"colorbar\":{\"outlinewidth\":0,\"ticks\":\"\"},\"type\":\"contourcarpet\"}],\"contour\":[{\"colorbar\":{\"outlinewidth\":0,\"ticks\":\"\"},\"colorscale\":[[0.0,\"#0d0887\"],[0.1111111111111111,\"#46039f\"],[0.2222222222222222,\"#7201a8\"],[0.3333333333333333,\"#9c179e\"],[0.4444444444444444,\"#bd3786\"],[0.5555555555555556,\"#d8576b\"],[0.6666666666666666,\"#ed7953\"],[0.7777777777777778,\"#fb9f3a\"],[0.8888888888888888,\"#fdca26\"],[1.0,\"#f0f921\"]],\"type\":\"contour\"}],\"heatmapgl\":[{\"colorbar\":{\"outlinewidth\":0,\"ticks\":\"\"},\"colorscale\":[[0.0,\"#0d0887\"],[0.1111111111111111,\"#46039f\"],[0.2222222222222222,\"#7201a8\"],[0.3333333333333333,\"#9c179e\"],[0.4444444444444444,\"#bd3786\"],[0.5555555555555556,\"#d8576b\"],[0.6666666666666666,\"#ed7953\"],[0.7777777777777778,\"#fb9f3a\"],[0.8888888888888888,\"#fdca26\"],[1.0,\"#f0f921\"]],\"type\":\"heatmapgl\"}],\"heatmap\":[{\"colorbar\":{\"outlinewidth\":0,\"ticks\":\"\"},\"colorscale\":[[0.0,\"#0d0887\"],[0.1111111111111111,\"#46039f\"],[0.2222222222222222,\"#7201a8\"],[0.3333333333333333,\"#9c179e\"],[0.4444444444444444,\"#bd3786\"],[0.5555555555555556,\"#d8576b\"],[0.6666666666666666,\"#ed7953\"],[0.7777777777777778,\"#fb9f3a\"],[0.8888888888888888,\"#fdca26\"],[1.0,\"#f0f921\"]],\"type\":\"heatmap\"}],\"histogram2dcontour\":[{\"colorbar\":{\"outlinewidth\":0,\"ticks\":\"\"},\"colorscale\":[[0.0,\"#0d0887\"],[0.1111111111111111,\"#46039f\"],[0.2222222222222222,\"#7201a8\"],[0.3333333333333333,\"#9c179e\"],[0.4444444444444444,\"#bd3786\"],[0.5555555555555556,\"#d8576b\"],[0.6666666666666666,\"#ed7953\"],[0.7777777777777778,\"#fb9f3a\"],[0.8888888888888888,\"#fdca26\"],[1.0,\"#f0f921\"]],\"type\":\"histogram2dcontour\"}],\"histogram2d\":[{\"colorbar\":{\"outlinewidth\":0,\"ticks\":\"\"},\"colorscale\":[[0.0,\"#0d0887\"],[0.1111111111111111,\"#46039f\"],[0.2222222222222222,\"#7201a8\"],[0.3333333333333333,\"#9c179e\"],[0.4444444444444444,\"#bd3786\"],[0.5555555555555556,\"#d8576b\"],[0.6666666666666666,\"#ed7953\"],[0.7777777777777778,\"#fb9f3a\"],[0.8888888888888888,\"#fdca26\"],[1.0,\"#f0f921\"]],\"type\":\"histogram2d\"}],\"histogram\":[{\"marker\":{\"pattern\":{\"fillmode\":\"overlay\",\"size\":10,\"solidity\":0.2}},\"type\":\"histogram\"}],\"mesh3d\":[{\"colorbar\":{\"outlinewidth\":0,\"ticks\":\"\"},\"type\":\"mesh3d\"}],\"parcoords\":[{\"line\":{\"colorbar\":{\"outlinewidth\":0,\"ticks\":\"\"}},\"type\":\"parcoords\"}],\"pie\":[{\"automargin\":true,\"type\":\"pie\"}],\"scatter3d\":[{\"line\":{\"colorbar\":{\"outlinewidth\":0,\"ticks\":\"\"}},\"marker\":{\"colorbar\":{\"outlinewidth\":0,\"ticks\":\"\"}},\"type\":\"scatter3d\"}],\"scattercarpet\":[{\"marker\":{\"colorbar\":{\"outlinewidth\":0,\"ticks\":\"\"}},\"type\":\"scattercarpet\"}],\"scattergeo\":[{\"marker\":{\"colorbar\":{\"outlinewidth\":0,\"ticks\":\"\"}},\"type\":\"scattergeo\"}],\"scattergl\":[{\"marker\":{\"colorbar\":{\"outlinewidth\":0,\"ticks\":\"\"}},\"type\":\"scattergl\"}],\"scattermapbox\":[{\"marker\":{\"colorbar\":{\"outlinewidth\":0,\"ticks\":\"\"}},\"type\":\"scattermapbox\"}],\"scatterpolargl\":[{\"marker\":{\"colorbar\":{\"outlinewidth\":0,\"ticks\":\"\"}},\"type\":\"scatterpolargl\"}],\"scatterpolar\":[{\"marker\":{\"colorbar\":{\"outlinewidth\":0,\"ticks\":\"\"}},\"type\":\"scatterpolar\"}],\"scatter\":[{\"marker\":{\"colorbar\":{\"outlinewidth\":0,\"ticks\":\"\"}},\"type\":\"scatter\"}],\"scatterternary\":[{\"marker\":{\"colorbar\":{\"outlinewidth\":0,\"ticks\":\"\"}},\"type\":\"scatterternary\"}],\"surface\":[{\"colorbar\":{\"outlinewidth\":0,\"ticks\":\"\"},\"colorscale\":[[0.0,\"#0d0887\"],[0.1111111111111111,\"#46039f\"],[0.2222222222222222,\"#7201a8\"],[0.3333333333333333,\"#9c179e\"],[0.4444444444444444,\"#bd3786\"],[0.5555555555555556,\"#d8576b\"],[0.6666666666666666,\"#ed7953\"],[0.7777777777777778,\"#fb9f3a\"],[0.8888888888888888,\"#fdca26\"],[1.0,\"#f0f921\"]],\"type\":\"surface\"}],\"table\":[{\"cells\":{\"fill\":{\"color\":\"#EBF0F8\"},\"line\":{\"color\":\"white\"}},\"header\":{\"fill\":{\"color\":\"#C8D4E3\"},\"line\":{\"color\":\"white\"}},\"type\":\"table\"}]},\"layout\":{\"annotationdefaults\":{\"arrowcolor\":\"#2a3f5f\",\"arrowhead\":0,\"arrowwidth\":1},\"autotypenumbers\":\"strict\",\"coloraxis\":{\"colorbar\":{\"outlinewidth\":0,\"ticks\":\"\"}},\"colorscale\":{\"diverging\":[[0,\"#8e0152\"],[0.1,\"#c51b7d\"],[0.2,\"#de77ae\"],[0.3,\"#f1b6da\"],[0.4,\"#fde0ef\"],[0.5,\"#f7f7f7\"],[0.6,\"#e6f5d0\"],[0.7,\"#b8e186\"],[0.8,\"#7fbc41\"],[0.9,\"#4d9221\"],[1,\"#276419\"]],\"sequential\":[[0.0,\"#0d0887\"],[0.1111111111111111,\"#46039f\"],[0.2222222222222222,\"#7201a8\"],[0.3333333333333333,\"#9c179e\"],[0.4444444444444444,\"#bd3786\"],[0.5555555555555556,\"#d8576b\"],[0.6666666666666666,\"#ed7953\"],[0.7777777777777778,\"#fb9f3a\"],[0.8888888888888888,\"#fdca26\"],[1.0,\"#f0f921\"]],\"sequentialminus\":[[0.0,\"#0d0887\"],[0.1111111111111111,\"#46039f\"],[0.2222222222222222,\"#7201a8\"],[0.3333333333333333,\"#9c179e\"],[0.4444444444444444,\"#bd3786\"],[0.5555555555555556,\"#d8576b\"],[0.6666666666666666,\"#ed7953\"],[0.7777777777777778,\"#fb9f3a\"],[0.8888888888888888,\"#fdca26\"],[1.0,\"#f0f921\"]]},\"colorway\":[\"#636efa\",\"#EF553B\",\"#00cc96\",\"#ab63fa\",\"#FFA15A\",\"#19d3f3\",\"#FF6692\",\"#B6E880\",\"#FF97FF\",\"#FECB52\"],\"font\":{\"color\":\"#2a3f5f\"},\"geo\":{\"bgcolor\":\"white\",\"lakecolor\":\"white\",\"landcolor\":\"#E5ECF6\",\"showlakes\":true,\"showland\":true,\"subunitcolor\":\"white\"},\"hoverlabel\":{\"align\":\"left\"},\"hovermode\":\"closest\",\"mapbox\":{\"style\":\"light\"},\"paper_bgcolor\":\"white\",\"plot_bgcolor\":\"#E5ECF6\",\"polar\":{\"angularaxis\":{\"gridcolor\":\"white\",\"linecolor\":\"white\",\"ticks\":\"\"},\"bgcolor\":\"#E5ECF6\",\"radialaxis\":{\"gridcolor\":\"white\",\"linecolor\":\"white\",\"ticks\":\"\"}},\"scene\":{\"xaxis\":{\"backgroundcolor\":\"#E5ECF6\",\"gridcolor\":\"white\",\"gridwidth\":2,\"linecolor\":\"white\",\"showbackground\":true,\"ticks\":\"\",\"zerolinecolor\":\"white\"},\"yaxis\":{\"backgroundcolor\":\"#E5ECF6\",\"gridcolor\":\"white\",\"gridwidth\":2,\"linecolor\":\"white\",\"showbackground\":true,\"ticks\":\"\",\"zerolinecolor\":\"white\"},\"zaxis\":{\"backgroundcolor\":\"#E5ECF6\",\"gridcolor\":\"white\",\"gridwidth\":2,\"linecolor\":\"white\",\"showbackground\":true,\"ticks\":\"\",\"zerolinecolor\":\"white\"}},\"shapedefaults\":{\"line\":{\"color\":\"#2a3f5f\"}},\"ternary\":{\"aaxis\":{\"gridcolor\":\"white\",\"linecolor\":\"white\",\"ticks\":\"\"},\"baxis\":{\"gridcolor\":\"white\",\"linecolor\":\"white\",\"ticks\":\"\"},\"bgcolor\":\"#E5ECF6\",\"caxis\":{\"gridcolor\":\"white\",\"linecolor\":\"white\",\"ticks\":\"\"}},\"title\":{\"x\":0.05},\"xaxis\":{\"automargin\":true,\"gridcolor\":\"white\",\"linecolor\":\"white\",\"ticks\":\"\",\"title\":{\"standoff\":15},\"zerolinecolor\":\"white\",\"zerolinewidth\":2},\"yaxis\":{\"automargin\":true,\"gridcolor\":\"white\",\"linecolor\":\"white\",\"ticks\":\"\",\"title\":{\"standoff\":15},\"zerolinecolor\":\"white\",\"zerolinewidth\":2}}},\"title\":{\"font\":{\"color\":\"#4D5663\"}},\"xaxis\":{\"gridcolor\":\"#E1E5ED\",\"showgrid\":true,\"tickfont\":{\"color\":\"#4D5663\"},\"title\":{\"font\":{\"color\":\"#4D5663\"},\"text\":\"\"},\"zerolinecolor\":\"#E1E5ED\"},\"yaxis\":{\"gridcolor\":\"#E1E5ED\",\"showgrid\":true,\"tickfont\":{\"color\":\"#4D5663\"},\"title\":{\"font\":{\"color\":\"#4D5663\"},\"text\":\"\"},\"zerolinecolor\":\"#E1E5ED\"}},                        {\"showLink\": true, \"linkText\": \"Export to plot.ly\", \"plotlyServerURL\": \"https://plot.ly\", \"responsive\": true}                    ).then(function(){\n",
       "                            \n",
       "var gd = document.getElementById('4968f01c-ae65-4976-8ba1-2078fd8863d8');\n",
       "var x = new MutationObserver(function (mutations, observer) {{\n",
       "        var display = window.getComputedStyle(gd).display;\n",
       "        if (!display || display === 'none') {{\n",
       "            console.log([gd, 'removed!']);\n",
       "            Plotly.purge(gd);\n",
       "            observer.disconnect();\n",
       "        }}\n",
       "}});\n",
       "\n",
       "// Listen for the removal of the full notebook cells\n",
       "var notebookContainer = gd.closest('#notebook-container');\n",
       "if (notebookContainer) {{\n",
       "    x.observe(notebookContainer, {childList: true});\n",
       "}}\n",
       "\n",
       "// Listen for the clearing of the current output cell\n",
       "var outputEl = gd.closest('.output');\n",
       "if (outputEl) {{\n",
       "    x.observe(outputEl, {childList: true});\n",
       "}}\n",
       "\n",
       "                        })                };                });            </script>        </div>"
      ]
     },
     "metadata": {},
     "output_type": "display_data"
    }
   ],
   "source": [
    "df.iplot(kind='bubble',x='A',y='B',size='C')"
   ]
  },
  {
   "cell_type": "markdown",
   "metadata": {},
   "source": [
    "## scatter_matrix()\n",
    "\n",
    "Similar to sns.pairplot()"
   ]
  },
  {
   "cell_type": "code",
   "execution_count": 23,
   "metadata": {
    "collapsed": false
   },
   "outputs": [
    {
     "data": {
      "application/vnd.plotly.v1+json": {
       "config": {
        "linkText": "Export to plot.ly",
        "plotlyServerURL": "https://plot.ly",
        "showLink": true
       },
       "data": [
        {
         "histfunc": "count",
         "histnorm": "",
         "marker": {
          "color": "rgba(255, 153, 51, 1.0)",
          "line": {
           "color": "#4D5663",
           "width": 1.3
          }
         },
         "name": "A",
         "nbinsx": 10,
         "opacity": 0.8,
         "orientation": "v",
         "type": "histogram",
         "x": [
          -0.3497734254771835,
          0.5583236144971976,
          1.0210338390182403,
          0.7833067604547665,
          1.6462849509104058,
          -0.7372755607522767,
          0.9881508966271882,
          0.14398838038901476,
          -0.6395676601793224,
          0.6291591032308805,
          1.3470169543296011,
          0.60968541723478,
          1.7636746057249477,
          -0.8968347110563231,
          1.1061992371572222,
          0.44411579330015866,
          -0.4910466503882815,
          -0.46352959198906274,
          -1.381458377602349,
          0.8509163423647723,
          1.4268676166900143,
          1.2007370070130767,
          0.3090613141255533,
          -0.3209463480469782,
          1.0765472388705708,
          1.5095524793854327,
          0.11806543873081181,
          1.8566919692700568,
          -0.8220431176199894,
          -0.8557816023136964,
          -1.9698929315893803,
          -0.2645274617925079,
          0.4674957207486842,
          -0.7598034286404655,
          -0.09316392607820459,
          -0.11288405529306757,
          -0.7718474232824881,
          -0.30971869052360046,
          0.3188546937996816,
          -0.3833733336548828,
          -1.26409683214929,
          -0.260610568878272,
          -0.8724907032434537,
          -0.6843172926825293,
          0.9410366903204676,
          0.5674477518189098,
          -0.07158642241174541,
          -1.8124280141646631,
          -1.4928103512959483,
          1.643157157597684,
          0.6093130094966801,
          -0.9776498459499772,
          -0.6637523839034207,
          0.44044446528203607,
          -1.8459802910301286,
          0.9930741770617006,
          0.41774133566523103,
          -0.09330237801047414,
          -0.7229100824409184,
          -0.16409341879725245,
          -1.2503439337761084,
          -0.5470496191739559,
          2.0386594730120065,
          -0.36908233025570886,
          -0.9250062299172206,
          -1.049546627000459,
          0.33175448123373075,
          0.9583714991373541,
          -2.1414378743802054,
          0.029573053775218225,
          -0.37324905528350794,
          1.42743012206251,
          -1.0404331204863992,
          1.334297972923157,
          0.8687276958286853,
          -0.2657337201171915,
          -0.6483819246588316,
          -0.24411340590570904,
          0.8505625725136822,
          -0.9179899937538808,
          0.8837406184286677,
          1.2499050427703942,
          0.33803720522963754,
          -0.6719806178223434,
          -1.4049437087691334,
          0.7386471634448698,
          0.9459537223565966,
          -0.6158054534571311,
          -1.0153312336632523,
          0.0924594831228007,
          0.17288858565747628,
          0.15420059591782365,
          -0.9485218735971477,
          -0.7324767569691258,
          0.17741031455593906,
          -0.590903068024523,
          -2.305888866671554,
          -0.6263816050863013,
          -0.0159640671396924,
          1.2145738337263368
         ],
         "xaxis": "x",
         "yaxis": "y"
        },
        {
         "line": {
          "color": "rgba(128, 128, 128, 1.0)",
          "dash": "solid",
          "shape": "linear",
          "width": 1.3
         },
         "marker": {
          "size": 2,
          "symbol": "circle"
         },
         "mode": "markers",
         "name": "A",
         "text": "",
         "type": "scatter",
         "x": [
          1.1700434818844438,
          1.0751258509099173,
          -1.0083558806672341,
          -1.0207489561575065,
          2.449361100561767,
          -0.7175292061587076,
          -0.368063200704348,
          -0.2069764602363649,
          -0.5852792240627692,
          0.21418680003139948,
          3.5417689407035073,
          -0.8937838034366977,
          -0.450364359714211,
          -0.48201024793974095,
          -1.1477346930123722,
          -0.4551181416866834,
          0.39689090096151236,
          -1.085332249768537,
          -0.3330302827084691,
          -0.09164557937808074,
          0.8209906788667682,
          -0.18259882874169228,
          1.414664742141667,
          -1.3168984602931946,
          -1.0673751875441888,
          -0.8811015444791677,
          1.1573950121989691,
          -1.9420689925822388,
          0.15254426213926583,
          -0.5106440815180584,
          -1.1407698919771738,
          0.9658187833865867,
          0.09032980787959194,
          0.5105956795061436,
          -1.5445015493646832,
          -0.529670046477799,
          -1.2951546206741757,
          -2.26897320406101,
          2.0647400026491787,
          0.7912257586064879,
          -0.9435855795774132,
          -0.0792530039589136,
          -0.701391406857763,
          0.3904899555187702,
          -0.12401867350010902,
          -1.1770981578075772,
          1.3699958165123711,
          1.1383701335229368,
          1.0753035171938106,
          2.3566664850434185,
          0.28328978448650277,
          -0.2278154516210515,
          -1.5229891887572231,
          1.6115199927052717,
          -0.4770954007952236,
          -0.03244258909954915,
          -0.01973863081231562,
          -0.9240201466956118,
          -0.7018806548826212,
          1.116257598901643,
          -2.374321527801769,
          2.1079872052410247,
          0.6982011140111537,
          -1.0555114969250081,
          -0.3897723937818329,
          1.1925231381245627,
          1.2237381227711939,
          0.5989850587870378,
          -0.8991782314803098,
          0.5255067693703722,
          2.7586264976767483,
          -0.0788469074477344,
          -0.853278412662128,
          -1.2219390892924478,
          0.10246149478772258,
          0.6284426117915223,
          0.512062339056357,
          -0.9386584410755775,
          1.6755332861886518,
          -0.8947338550700419,
          -0.4122518141392201,
          0.32106067012965067,
          2.1975821633476937,
          0.9364725716982593,
          -1.00268240741226,
          -1.9229183584789276,
          0.843620878659984,
          1.4771597910462655,
          -1.1347015325896048,
          0.9918722842152485,
          0.013184538681476031,
          0.44169861274054656,
          0.583312537359923,
          -0.8523979073270433,
          -0.910846088535007,
          -0.6928852005666618,
          0.9272107055521642,
          1.1217693677540292,
          1.1415382607103743,
          -0.5431411104261837
         ],
         "xaxis": "x2",
         "y": [
          -0.3497734254771835,
          0.5583236144971976,
          1.0210338390182403,
          0.7833067604547665,
          1.6462849509104058,
          -0.7372755607522767,
          0.9881508966271882,
          0.14398838038901476,
          -0.6395676601793224,
          0.6291591032308805,
          1.3470169543296011,
          0.60968541723478,
          1.7636746057249477,
          -0.8968347110563231,
          1.1061992371572222,
          0.44411579330015866,
          -0.4910466503882815,
          -0.46352959198906274,
          -1.381458377602349,
          0.8509163423647723,
          1.4268676166900143,
          1.2007370070130767,
          0.3090613141255533,
          -0.3209463480469782,
          1.0765472388705708,
          1.5095524793854327,
          0.11806543873081181,
          1.8566919692700568,
          -0.8220431176199894,
          -0.8557816023136964,
          -1.9698929315893803,
          -0.2645274617925079,
          0.4674957207486842,
          -0.7598034286404655,
          -0.09316392607820459,
          -0.11288405529306757,
          -0.7718474232824881,
          -0.30971869052360046,
          0.3188546937996816,
          -0.3833733336548828,
          -1.26409683214929,
          -0.260610568878272,
          -0.8724907032434537,
          -0.6843172926825293,
          0.9410366903204676,
          0.5674477518189098,
          -0.07158642241174541,
          -1.8124280141646631,
          -1.4928103512959483,
          1.643157157597684,
          0.6093130094966801,
          -0.9776498459499772,
          -0.6637523839034207,
          0.44044446528203607,
          -1.8459802910301286,
          0.9930741770617006,
          0.41774133566523103,
          -0.09330237801047414,
          -0.7229100824409184,
          -0.16409341879725245,
          -1.2503439337761084,
          -0.5470496191739559,
          2.0386594730120065,
          -0.36908233025570886,
          -0.9250062299172206,
          -1.049546627000459,
          0.33175448123373075,
          0.9583714991373541,
          -2.1414378743802054,
          0.029573053775218225,
          -0.37324905528350794,
          1.42743012206251,
          -1.0404331204863992,
          1.334297972923157,
          0.8687276958286853,
          -0.2657337201171915,
          -0.6483819246588316,
          -0.24411340590570904,
          0.8505625725136822,
          -0.9179899937538808,
          0.8837406184286677,
          1.2499050427703942,
          0.33803720522963754,
          -0.6719806178223434,
          -1.4049437087691334,
          0.7386471634448698,
          0.9459537223565966,
          -0.6158054534571311,
          -1.0153312336632523,
          0.0924594831228007,
          0.17288858565747628,
          0.15420059591782365,
          -0.9485218735971477,
          -0.7324767569691258,
          0.17741031455593906,
          -0.590903068024523,
          -2.305888866671554,
          -0.6263816050863013,
          -0.0159640671396924,
          1.2145738337263368
         ],
         "yaxis": "y2"
        },
        {
         "line": {
          "color": "rgba(128, 128, 128, 1.0)",
          "dash": "solid",
          "shape": "linear",
          "width": 1.3
         },
         "marker": {
          "size": 2,
          "symbol": "circle"
         },
         "mode": "markers",
         "name": "A",
         "text": "",
         "type": "scatter",
         "x": [
          1.473083332255314,
          0.9258496787072514,
          1.8967152084603263,
          0.5094757693900035,
          0.7146004798243432,
          -1.1536876350709635,
          0.18548193530260024,
          -0.5075062148515169,
          -1.5268904269312875,
          0.6327675065365713,
          -1.742833178440796,
          -0.17760792279074386,
          -0.42993561146729475,
          -0.1179318962451331,
          -0.21883793411321237,
          0.21035180606533244,
          0.6456782916462754,
          0.497836559419002,
          -0.22454369521798712,
          1.0002162002607486,
          -0.27976775514967345,
          -2.056135470053321,
          -0.3511032564122926,
          0.4882445400939479,
          -0.6959759103681386,
          0.23140989326553035,
          0.12838188251732172,
          0.1474251727868586,
          -1.028327141684152,
          -0.37662685279761027,
          0.7161771806860826,
          -0.693620953106078,
          0.7365791592639287,
          1.5664657691276676,
          -0.76605114693056,
          0.037460110483771805,
          -0.4545069367144243,
          -2.816201515590873,
          0.44476014461409424,
          3.987028889778592,
          0.2382839959031368,
          0.1544714297602142,
          -1.1839143285918141,
          -0.04325443245265641,
          -0.08472937679164963,
          -0.39019797024732433,
          0.5403505042879775,
          0.4784431651531812,
          0.8283730166762587,
          -0.2132079379782824,
          0.10906692402751189,
          1.0681804289532224,
          -1.0209083394130125,
          0.5206690130888805,
          -0.27918154735984085,
          0.29200225134038177,
          1.905288479546918,
          0.3997104096709477,
          0.5013842971397798,
          -1.1656804407539827,
          0.6455516818425268,
          1.541026740339318,
          2.6996725442982576,
          0.6193919600500564,
          1.2594267228801967,
          2.03764182392081,
          2.02358563544627,
          0.1372364950453501,
          -1.1538969677054436,
          -1.2251744553445316,
          1.1821627669887178,
          1.362524384554462,
          -1.1512441351555531,
          -1.097578509925831,
          -0.6364242289158625,
          -1.1886913836996127,
          -0.9538117092849445,
          -0.9603629932333726,
          0.14755689083253284,
          0.6680012472139528,
          0.6544043421773577,
          -0.10335629168952583,
          0.521061728181091,
          -0.08728947758018604,
          0.3836813455518674,
          -0.3644919329855644,
          0.5486957487826961,
          0.13757325737363496,
          -0.48418748892721414,
          0.4568733162095446,
          -1.5496006269331533,
          -0.06743847782881852,
          -0.2061053566554512,
          -0.29416175176257753,
          1.051303153982947,
          -0.8479007078060758,
          -0.9464950884751328,
          0.3658755855969737,
          -0.5155006411077879,
          -1.4771406666187883
         ],
         "xaxis": "x3",
         "y": [
          -0.3497734254771835,
          0.5583236144971976,
          1.0210338390182403,
          0.7833067604547665,
          1.6462849509104058,
          -0.7372755607522767,
          0.9881508966271882,
          0.14398838038901476,
          -0.6395676601793224,
          0.6291591032308805,
          1.3470169543296011,
          0.60968541723478,
          1.7636746057249477,
          -0.8968347110563231,
          1.1061992371572222,
          0.44411579330015866,
          -0.4910466503882815,
          -0.46352959198906274,
          -1.381458377602349,
          0.8509163423647723,
          1.4268676166900143,
          1.2007370070130767,
          0.3090613141255533,
          -0.3209463480469782,
          1.0765472388705708,
          1.5095524793854327,
          0.11806543873081181,
          1.8566919692700568,
          -0.8220431176199894,
          -0.8557816023136964,
          -1.9698929315893803,
          -0.2645274617925079,
          0.4674957207486842,
          -0.7598034286404655,
          -0.09316392607820459,
          -0.11288405529306757,
          -0.7718474232824881,
          -0.30971869052360046,
          0.3188546937996816,
          -0.3833733336548828,
          -1.26409683214929,
          -0.260610568878272,
          -0.8724907032434537,
          -0.6843172926825293,
          0.9410366903204676,
          0.5674477518189098,
          -0.07158642241174541,
          -1.8124280141646631,
          -1.4928103512959483,
          1.643157157597684,
          0.6093130094966801,
          -0.9776498459499772,
          -0.6637523839034207,
          0.44044446528203607,
          -1.8459802910301286,
          0.9930741770617006,
          0.41774133566523103,
          -0.09330237801047414,
          -0.7229100824409184,
          -0.16409341879725245,
          -1.2503439337761084,
          -0.5470496191739559,
          2.0386594730120065,
          -0.36908233025570886,
          -0.9250062299172206,
          -1.049546627000459,
          0.33175448123373075,
          0.9583714991373541,
          -2.1414378743802054,
          0.029573053775218225,
          -0.37324905528350794,
          1.42743012206251,
          -1.0404331204863992,
          1.334297972923157,
          0.8687276958286853,
          -0.2657337201171915,
          -0.6483819246588316,
          -0.24411340590570904,
          0.8505625725136822,
          -0.9179899937538808,
          0.8837406184286677,
          1.2499050427703942,
          0.33803720522963754,
          -0.6719806178223434,
          -1.4049437087691334,
          0.7386471634448698,
          0.9459537223565966,
          -0.6158054534571311,
          -1.0153312336632523,
          0.0924594831228007,
          0.17288858565747628,
          0.15420059591782365,
          -0.9485218735971477,
          -0.7324767569691258,
          0.17741031455593906,
          -0.590903068024523,
          -2.305888866671554,
          -0.6263816050863013,
          -0.0159640671396924,
          1.2145738337263368
         ],
         "yaxis": "y3"
        },
        {
         "line": {
          "color": "rgba(128, 128, 128, 1.0)",
          "dash": "solid",
          "shape": "linear",
          "width": 1.3
         },
         "marker": {
          "size": 2,
          "symbol": "circle"
         },
         "mode": "markers",
         "name": "A",
         "text": "",
         "type": "scatter",
         "x": [
          -0.09003317590129503,
          1.0457917887062516,
          -0.29423220585512144,
          0.9574203445353496,
          -0.616241572606183,
          -0.5534767167714887,
          -0.402317520418005,
          -0.3198694237949411,
          -0.20986129184730268,
          -0.48481591628900955,
          0.3108071402504388,
          -2.1263382754100926,
          0.5837854118415968,
          1.0774759457251781,
          -0.12690922521057807,
          -1.032326010492601,
          0.621589276294923,
          -0.7558846540535813,
          0.5632004862443952,
          0.49559126946667226,
          0.27007365672731926,
          -0.23087880885944598,
          -1.3508501568502214,
          0.6288045519625935,
          0.06070987626653908,
          0.5965206752027222,
          -0.3990050270985692,
          0.11016658644061711,
          0.9663052119247858,
          0.35598252226894833,
          1.181185378826927,
          -2.3542627344060123,
          -0.09989175348051689,
          -1.2864459617402262,
          0.7288787403538859,
          1.0275471483629939,
          0.3171744183826212,
          0.15292413156519483,
          0.4550521613937916,
          0.5213790352963008,
          0.20318742251749508,
          0.48968368411199914,
          1.0769271256618655,
          -0.7208314446177871,
          -0.30430270873146514,
          -0.2690205310950531,
          1.0670149019246906,
          -0.894036317760341,
          0.42233411240554236,
          0.09463389593503285,
          0.3147842006938459,
          0.4856944509627888,
          2.822214131806755,
          0.31877350771443885,
          -0.8737946052935149,
          0.41233255732261115,
          -0.258945595402433,
          -0.9787725054168861,
          -0.41951840428865167,
          1.5049078192404473,
          -0.6002948664947724,
          -1.0402769229253626,
          -2.209506979417579,
          0.4007706232758198,
          0.6827919523767328,
          -0.7605663558840473,
          1.5466680829995878,
          0.2620314303239416,
          -1.4394773540690347,
          -0.6648546447808864,
          1.9603814736896064,
          0.2407875553980244,
          -0.5352119766189058,
          0.46096472752861317,
          1.3972868847907869,
          1.2890455957248392,
          0.48194092192672566,
          -0.8358341932639045,
          2.3004323348148605,
          1.5090343332030582,
          1.065422354286108,
          0.05754205364635004,
          0.05680937623707559,
          -0.5364577596823272,
          -0.6415186288104496,
          -0.9744011481401438,
          1.3155933877242785,
          -0.9683416732732715,
          0.07031433648700804,
          -0.9387365342791136,
          0.274963338186455,
          0.6173360180172238,
          -0.5768096481829308,
          -0.5853500394299408,
          -0.5456480354585667,
          -0.7215920562298185,
          1.2157961289744859,
          -0.19076909957151217,
          0.9379843244981523,
          -1.4249333623212475
         ],
         "xaxis": "x4",
         "y": [
          -0.3497734254771835,
          0.5583236144971976,
          1.0210338390182403,
          0.7833067604547665,
          1.6462849509104058,
          -0.7372755607522767,
          0.9881508966271882,
          0.14398838038901476,
          -0.6395676601793224,
          0.6291591032308805,
          1.3470169543296011,
          0.60968541723478,
          1.7636746057249477,
          -0.8968347110563231,
          1.1061992371572222,
          0.44411579330015866,
          -0.4910466503882815,
          -0.46352959198906274,
          -1.381458377602349,
          0.8509163423647723,
          1.4268676166900143,
          1.2007370070130767,
          0.3090613141255533,
          -0.3209463480469782,
          1.0765472388705708,
          1.5095524793854327,
          0.11806543873081181,
          1.8566919692700568,
          -0.8220431176199894,
          -0.8557816023136964,
          -1.9698929315893803,
          -0.2645274617925079,
          0.4674957207486842,
          -0.7598034286404655,
          -0.09316392607820459,
          -0.11288405529306757,
          -0.7718474232824881,
          -0.30971869052360046,
          0.3188546937996816,
          -0.3833733336548828,
          -1.26409683214929,
          -0.260610568878272,
          -0.8724907032434537,
          -0.6843172926825293,
          0.9410366903204676,
          0.5674477518189098,
          -0.07158642241174541,
          -1.8124280141646631,
          -1.4928103512959483,
          1.643157157597684,
          0.6093130094966801,
          -0.9776498459499772,
          -0.6637523839034207,
          0.44044446528203607,
          -1.8459802910301286,
          0.9930741770617006,
          0.41774133566523103,
          -0.09330237801047414,
          -0.7229100824409184,
          -0.16409341879725245,
          -1.2503439337761084,
          -0.5470496191739559,
          2.0386594730120065,
          -0.36908233025570886,
          -0.9250062299172206,
          -1.049546627000459,
          0.33175448123373075,
          0.9583714991373541,
          -2.1414378743802054,
          0.029573053775218225,
          -0.37324905528350794,
          1.42743012206251,
          -1.0404331204863992,
          1.334297972923157,
          0.8687276958286853,
          -0.2657337201171915,
          -0.6483819246588316,
          -0.24411340590570904,
          0.8505625725136822,
          -0.9179899937538808,
          0.8837406184286677,
          1.2499050427703942,
          0.33803720522963754,
          -0.6719806178223434,
          -1.4049437087691334,
          0.7386471634448698,
          0.9459537223565966,
          -0.6158054534571311,
          -1.0153312336632523,
          0.0924594831228007,
          0.17288858565747628,
          0.15420059591782365,
          -0.9485218735971477,
          -0.7324767569691258,
          0.17741031455593906,
          -0.590903068024523,
          -2.305888866671554,
          -0.6263816050863013,
          -0.0159640671396924,
          1.2145738337263368
         ],
         "yaxis": "y4"
        },
        {
         "line": {
          "color": "rgba(128, 128, 128, 1.0)",
          "dash": "solid",
          "shape": "linear",
          "width": 1.3
         },
         "marker": {
          "size": 2,
          "symbol": "circle"
         },
         "mode": "markers",
         "name": "B",
         "text": "",
         "type": "scatter",
         "x": [
          -0.3497734254771835,
          0.5583236144971976,
          1.0210338390182403,
          0.7833067604547665,
          1.6462849509104058,
          -0.7372755607522767,
          0.9881508966271882,
          0.14398838038901476,
          -0.6395676601793224,
          0.6291591032308805,
          1.3470169543296011,
          0.60968541723478,
          1.7636746057249477,
          -0.8968347110563231,
          1.1061992371572222,
          0.44411579330015866,
          -0.4910466503882815,
          -0.46352959198906274,
          -1.381458377602349,
          0.8509163423647723,
          1.4268676166900143,
          1.2007370070130767,
          0.3090613141255533,
          -0.3209463480469782,
          1.0765472388705708,
          1.5095524793854327,
          0.11806543873081181,
          1.8566919692700568,
          -0.8220431176199894,
          -0.8557816023136964,
          -1.9698929315893803,
          -0.2645274617925079,
          0.4674957207486842,
          -0.7598034286404655,
          -0.09316392607820459,
          -0.11288405529306757,
          -0.7718474232824881,
          -0.30971869052360046,
          0.3188546937996816,
          -0.3833733336548828,
          -1.26409683214929,
          -0.260610568878272,
          -0.8724907032434537,
          -0.6843172926825293,
          0.9410366903204676,
          0.5674477518189098,
          -0.07158642241174541,
          -1.8124280141646631,
          -1.4928103512959483,
          1.643157157597684,
          0.6093130094966801,
          -0.9776498459499772,
          -0.6637523839034207,
          0.44044446528203607,
          -1.8459802910301286,
          0.9930741770617006,
          0.41774133566523103,
          -0.09330237801047414,
          -0.7229100824409184,
          -0.16409341879725245,
          -1.2503439337761084,
          -0.5470496191739559,
          2.0386594730120065,
          -0.36908233025570886,
          -0.9250062299172206,
          -1.049546627000459,
          0.33175448123373075,
          0.9583714991373541,
          -2.1414378743802054,
          0.029573053775218225,
          -0.37324905528350794,
          1.42743012206251,
          -1.0404331204863992,
          1.334297972923157,
          0.8687276958286853,
          -0.2657337201171915,
          -0.6483819246588316,
          -0.24411340590570904,
          0.8505625725136822,
          -0.9179899937538808,
          0.8837406184286677,
          1.2499050427703942,
          0.33803720522963754,
          -0.6719806178223434,
          -1.4049437087691334,
          0.7386471634448698,
          0.9459537223565966,
          -0.6158054534571311,
          -1.0153312336632523,
          0.0924594831228007,
          0.17288858565747628,
          0.15420059591782365,
          -0.9485218735971477,
          -0.7324767569691258,
          0.17741031455593906,
          -0.590903068024523,
          -2.305888866671554,
          -0.6263816050863013,
          -0.0159640671396924,
          1.2145738337263368
         ],
         "xaxis": "x5",
         "y": [
          1.1700434818844438,
          1.0751258509099173,
          -1.0083558806672341,
          -1.0207489561575065,
          2.449361100561767,
          -0.7175292061587076,
          -0.368063200704348,
          -0.2069764602363649,
          -0.5852792240627692,
          0.21418680003139948,
          3.5417689407035073,
          -0.8937838034366977,
          -0.450364359714211,
          -0.48201024793974095,
          -1.1477346930123722,
          -0.4551181416866834,
          0.39689090096151236,
          -1.085332249768537,
          -0.3330302827084691,
          -0.09164557937808074,
          0.8209906788667682,
          -0.18259882874169228,
          1.414664742141667,
          -1.3168984602931946,
          -1.0673751875441888,
          -0.8811015444791677,
          1.1573950121989691,
          -1.9420689925822388,
          0.15254426213926583,
          -0.5106440815180584,
          -1.1407698919771738,
          0.9658187833865867,
          0.09032980787959194,
          0.5105956795061436,
          -1.5445015493646832,
          -0.529670046477799,
          -1.2951546206741757,
          -2.26897320406101,
          2.0647400026491787,
          0.7912257586064879,
          -0.9435855795774132,
          -0.0792530039589136,
          -0.701391406857763,
          0.3904899555187702,
          -0.12401867350010902,
          -1.1770981578075772,
          1.3699958165123711,
          1.1383701335229368,
          1.0753035171938106,
          2.3566664850434185,
          0.28328978448650277,
          -0.2278154516210515,
          -1.5229891887572231,
          1.6115199927052717,
          -0.4770954007952236,
          -0.03244258909954915,
          -0.01973863081231562,
          -0.9240201466956118,
          -0.7018806548826212,
          1.116257598901643,
          -2.374321527801769,
          2.1079872052410247,
          0.6982011140111537,
          -1.0555114969250081,
          -0.3897723937818329,
          1.1925231381245627,
          1.2237381227711939,
          0.5989850587870378,
          -0.8991782314803098,
          0.5255067693703722,
          2.7586264976767483,
          -0.0788469074477344,
          -0.853278412662128,
          -1.2219390892924478,
          0.10246149478772258,
          0.6284426117915223,
          0.512062339056357,
          -0.9386584410755775,
          1.6755332861886518,
          -0.8947338550700419,
          -0.4122518141392201,
          0.32106067012965067,
          2.1975821633476937,
          0.9364725716982593,
          -1.00268240741226,
          -1.9229183584789276,
          0.843620878659984,
          1.4771597910462655,
          -1.1347015325896048,
          0.9918722842152485,
          0.013184538681476031,
          0.44169861274054656,
          0.583312537359923,
          -0.8523979073270433,
          -0.910846088535007,
          -0.6928852005666618,
          0.9272107055521642,
          1.1217693677540292,
          1.1415382607103743,
          -0.5431411104261837
         ],
         "yaxis": "y5"
        },
        {
         "histfunc": "count",
         "histnorm": "",
         "marker": {
          "color": "rgba(55, 128, 191, 1.0)",
          "line": {
           "color": "#4D5663",
           "width": 1.3
          }
         },
         "name": "B",
         "nbinsx": 10,
         "opacity": 0.8,
         "orientation": "v",
         "type": "histogram",
         "x": [
          1.1700434818844438,
          1.0751258509099173,
          -1.0083558806672341,
          -1.0207489561575065,
          2.449361100561767,
          -0.7175292061587076,
          -0.368063200704348,
          -0.2069764602363649,
          -0.5852792240627692,
          0.21418680003139948,
          3.5417689407035073,
          -0.8937838034366977,
          -0.450364359714211,
          -0.48201024793974095,
          -1.1477346930123722,
          -0.4551181416866834,
          0.39689090096151236,
          -1.085332249768537,
          -0.3330302827084691,
          -0.09164557937808074,
          0.8209906788667682,
          -0.18259882874169228,
          1.414664742141667,
          -1.3168984602931946,
          -1.0673751875441888,
          -0.8811015444791677,
          1.1573950121989691,
          -1.9420689925822388,
          0.15254426213926583,
          -0.5106440815180584,
          -1.1407698919771738,
          0.9658187833865867,
          0.09032980787959194,
          0.5105956795061436,
          -1.5445015493646832,
          -0.529670046477799,
          -1.2951546206741757,
          -2.26897320406101,
          2.0647400026491787,
          0.7912257586064879,
          -0.9435855795774132,
          -0.0792530039589136,
          -0.701391406857763,
          0.3904899555187702,
          -0.12401867350010902,
          -1.1770981578075772,
          1.3699958165123711,
          1.1383701335229368,
          1.0753035171938106,
          2.3566664850434185,
          0.28328978448650277,
          -0.2278154516210515,
          -1.5229891887572231,
          1.6115199927052717,
          -0.4770954007952236,
          -0.03244258909954915,
          -0.01973863081231562,
          -0.9240201466956118,
          -0.7018806548826212,
          1.116257598901643,
          -2.374321527801769,
          2.1079872052410247,
          0.6982011140111537,
          -1.0555114969250081,
          -0.3897723937818329,
          1.1925231381245627,
          1.2237381227711939,
          0.5989850587870378,
          -0.8991782314803098,
          0.5255067693703722,
          2.7586264976767483,
          -0.0788469074477344,
          -0.853278412662128,
          -1.2219390892924478,
          0.10246149478772258,
          0.6284426117915223,
          0.512062339056357,
          -0.9386584410755775,
          1.6755332861886518,
          -0.8947338550700419,
          -0.4122518141392201,
          0.32106067012965067,
          2.1975821633476937,
          0.9364725716982593,
          -1.00268240741226,
          -1.9229183584789276,
          0.843620878659984,
          1.4771597910462655,
          -1.1347015325896048,
          0.9918722842152485,
          0.013184538681476031,
          0.44169861274054656,
          0.583312537359923,
          -0.8523979073270433,
          -0.910846088535007,
          -0.6928852005666618,
          0.9272107055521642,
          1.1217693677540292,
          1.1415382607103743,
          -0.5431411104261837
         ],
         "xaxis": "x6",
         "yaxis": "y6"
        },
        {
         "line": {
          "color": "rgba(128, 128, 128, 1.0)",
          "dash": "solid",
          "shape": "linear",
          "width": 1.3
         },
         "marker": {
          "size": 2,
          "symbol": "circle"
         },
         "mode": "markers",
         "name": "B",
         "text": "",
         "type": "scatter",
         "x": [
          1.473083332255314,
          0.9258496787072514,
          1.8967152084603263,
          0.5094757693900035,
          0.7146004798243432,
          -1.1536876350709635,
          0.18548193530260024,
          -0.5075062148515169,
          -1.5268904269312875,
          0.6327675065365713,
          -1.742833178440796,
          -0.17760792279074386,
          -0.42993561146729475,
          -0.1179318962451331,
          -0.21883793411321237,
          0.21035180606533244,
          0.6456782916462754,
          0.497836559419002,
          -0.22454369521798712,
          1.0002162002607486,
          -0.27976775514967345,
          -2.056135470053321,
          -0.3511032564122926,
          0.4882445400939479,
          -0.6959759103681386,
          0.23140989326553035,
          0.12838188251732172,
          0.1474251727868586,
          -1.028327141684152,
          -0.37662685279761027,
          0.7161771806860826,
          -0.693620953106078,
          0.7365791592639287,
          1.5664657691276676,
          -0.76605114693056,
          0.037460110483771805,
          -0.4545069367144243,
          -2.816201515590873,
          0.44476014461409424,
          3.987028889778592,
          0.2382839959031368,
          0.1544714297602142,
          -1.1839143285918141,
          -0.04325443245265641,
          -0.08472937679164963,
          -0.39019797024732433,
          0.5403505042879775,
          0.4784431651531812,
          0.8283730166762587,
          -0.2132079379782824,
          0.10906692402751189,
          1.0681804289532224,
          -1.0209083394130125,
          0.5206690130888805,
          -0.27918154735984085,
          0.29200225134038177,
          1.905288479546918,
          0.3997104096709477,
          0.5013842971397798,
          -1.1656804407539827,
          0.6455516818425268,
          1.541026740339318,
          2.6996725442982576,
          0.6193919600500564,
          1.2594267228801967,
          2.03764182392081,
          2.02358563544627,
          0.1372364950453501,
          -1.1538969677054436,
          -1.2251744553445316,
          1.1821627669887178,
          1.362524384554462,
          -1.1512441351555531,
          -1.097578509925831,
          -0.6364242289158625,
          -1.1886913836996127,
          -0.9538117092849445,
          -0.9603629932333726,
          0.14755689083253284,
          0.6680012472139528,
          0.6544043421773577,
          -0.10335629168952583,
          0.521061728181091,
          -0.08728947758018604,
          0.3836813455518674,
          -0.3644919329855644,
          0.5486957487826961,
          0.13757325737363496,
          -0.48418748892721414,
          0.4568733162095446,
          -1.5496006269331533,
          -0.06743847782881852,
          -0.2061053566554512,
          -0.29416175176257753,
          1.051303153982947,
          -0.8479007078060758,
          -0.9464950884751328,
          0.3658755855969737,
          -0.5155006411077879,
          -1.4771406666187883
         ],
         "xaxis": "x7",
         "y": [
          1.1700434818844438,
          1.0751258509099173,
          -1.0083558806672341,
          -1.0207489561575065,
          2.449361100561767,
          -0.7175292061587076,
          -0.368063200704348,
          -0.2069764602363649,
          -0.5852792240627692,
          0.21418680003139948,
          3.5417689407035073,
          -0.8937838034366977,
          -0.450364359714211,
          -0.48201024793974095,
          -1.1477346930123722,
          -0.4551181416866834,
          0.39689090096151236,
          -1.085332249768537,
          -0.3330302827084691,
          -0.09164557937808074,
          0.8209906788667682,
          -0.18259882874169228,
          1.414664742141667,
          -1.3168984602931946,
          -1.0673751875441888,
          -0.8811015444791677,
          1.1573950121989691,
          -1.9420689925822388,
          0.15254426213926583,
          -0.5106440815180584,
          -1.1407698919771738,
          0.9658187833865867,
          0.09032980787959194,
          0.5105956795061436,
          -1.5445015493646832,
          -0.529670046477799,
          -1.2951546206741757,
          -2.26897320406101,
          2.0647400026491787,
          0.7912257586064879,
          -0.9435855795774132,
          -0.0792530039589136,
          -0.701391406857763,
          0.3904899555187702,
          -0.12401867350010902,
          -1.1770981578075772,
          1.3699958165123711,
          1.1383701335229368,
          1.0753035171938106,
          2.3566664850434185,
          0.28328978448650277,
          -0.2278154516210515,
          -1.5229891887572231,
          1.6115199927052717,
          -0.4770954007952236,
          -0.03244258909954915,
          -0.01973863081231562,
          -0.9240201466956118,
          -0.7018806548826212,
          1.116257598901643,
          -2.374321527801769,
          2.1079872052410247,
          0.6982011140111537,
          -1.0555114969250081,
          -0.3897723937818329,
          1.1925231381245627,
          1.2237381227711939,
          0.5989850587870378,
          -0.8991782314803098,
          0.5255067693703722,
          2.7586264976767483,
          -0.0788469074477344,
          -0.853278412662128,
          -1.2219390892924478,
          0.10246149478772258,
          0.6284426117915223,
          0.512062339056357,
          -0.9386584410755775,
          1.6755332861886518,
          -0.8947338550700419,
          -0.4122518141392201,
          0.32106067012965067,
          2.1975821633476937,
          0.9364725716982593,
          -1.00268240741226,
          -1.9229183584789276,
          0.843620878659984,
          1.4771597910462655,
          -1.1347015325896048,
          0.9918722842152485,
          0.013184538681476031,
          0.44169861274054656,
          0.583312537359923,
          -0.8523979073270433,
          -0.910846088535007,
          -0.6928852005666618,
          0.9272107055521642,
          1.1217693677540292,
          1.1415382607103743,
          -0.5431411104261837
         ],
         "yaxis": "y7"
        },
        {
         "line": {
          "color": "rgba(128, 128, 128, 1.0)",
          "dash": "solid",
          "shape": "linear",
          "width": 1.3
         },
         "marker": {
          "size": 2,
          "symbol": "circle"
         },
         "mode": "markers",
         "name": "B",
         "text": "",
         "type": "scatter",
         "x": [
          -0.09003317590129503,
          1.0457917887062516,
          -0.29423220585512144,
          0.9574203445353496,
          -0.616241572606183,
          -0.5534767167714887,
          -0.402317520418005,
          -0.3198694237949411,
          -0.20986129184730268,
          -0.48481591628900955,
          0.3108071402504388,
          -2.1263382754100926,
          0.5837854118415968,
          1.0774759457251781,
          -0.12690922521057807,
          -1.032326010492601,
          0.621589276294923,
          -0.7558846540535813,
          0.5632004862443952,
          0.49559126946667226,
          0.27007365672731926,
          -0.23087880885944598,
          -1.3508501568502214,
          0.6288045519625935,
          0.06070987626653908,
          0.5965206752027222,
          -0.3990050270985692,
          0.11016658644061711,
          0.9663052119247858,
          0.35598252226894833,
          1.181185378826927,
          -2.3542627344060123,
          -0.09989175348051689,
          -1.2864459617402262,
          0.7288787403538859,
          1.0275471483629939,
          0.3171744183826212,
          0.15292413156519483,
          0.4550521613937916,
          0.5213790352963008,
          0.20318742251749508,
          0.48968368411199914,
          1.0769271256618655,
          -0.7208314446177871,
          -0.30430270873146514,
          -0.2690205310950531,
          1.0670149019246906,
          -0.894036317760341,
          0.42233411240554236,
          0.09463389593503285,
          0.3147842006938459,
          0.4856944509627888,
          2.822214131806755,
          0.31877350771443885,
          -0.8737946052935149,
          0.41233255732261115,
          -0.258945595402433,
          -0.9787725054168861,
          -0.41951840428865167,
          1.5049078192404473,
          -0.6002948664947724,
          -1.0402769229253626,
          -2.209506979417579,
          0.4007706232758198,
          0.6827919523767328,
          -0.7605663558840473,
          1.5466680829995878,
          0.2620314303239416,
          -1.4394773540690347,
          -0.6648546447808864,
          1.9603814736896064,
          0.2407875553980244,
          -0.5352119766189058,
          0.46096472752861317,
          1.3972868847907869,
          1.2890455957248392,
          0.48194092192672566,
          -0.8358341932639045,
          2.3004323348148605,
          1.5090343332030582,
          1.065422354286108,
          0.05754205364635004,
          0.05680937623707559,
          -0.5364577596823272,
          -0.6415186288104496,
          -0.9744011481401438,
          1.3155933877242785,
          -0.9683416732732715,
          0.07031433648700804,
          -0.9387365342791136,
          0.274963338186455,
          0.6173360180172238,
          -0.5768096481829308,
          -0.5853500394299408,
          -0.5456480354585667,
          -0.7215920562298185,
          1.2157961289744859,
          -0.19076909957151217,
          0.9379843244981523,
          -1.4249333623212475
         ],
         "xaxis": "x8",
         "y": [
          1.1700434818844438,
          1.0751258509099173,
          -1.0083558806672341,
          -1.0207489561575065,
          2.449361100561767,
          -0.7175292061587076,
          -0.368063200704348,
          -0.2069764602363649,
          -0.5852792240627692,
          0.21418680003139948,
          3.5417689407035073,
          -0.8937838034366977,
          -0.450364359714211,
          -0.48201024793974095,
          -1.1477346930123722,
          -0.4551181416866834,
          0.39689090096151236,
          -1.085332249768537,
          -0.3330302827084691,
          -0.09164557937808074,
          0.8209906788667682,
          -0.18259882874169228,
          1.414664742141667,
          -1.3168984602931946,
          -1.0673751875441888,
          -0.8811015444791677,
          1.1573950121989691,
          -1.9420689925822388,
          0.15254426213926583,
          -0.5106440815180584,
          -1.1407698919771738,
          0.9658187833865867,
          0.09032980787959194,
          0.5105956795061436,
          -1.5445015493646832,
          -0.529670046477799,
          -1.2951546206741757,
          -2.26897320406101,
          2.0647400026491787,
          0.7912257586064879,
          -0.9435855795774132,
          -0.0792530039589136,
          -0.701391406857763,
          0.3904899555187702,
          -0.12401867350010902,
          -1.1770981578075772,
          1.3699958165123711,
          1.1383701335229368,
          1.0753035171938106,
          2.3566664850434185,
          0.28328978448650277,
          -0.2278154516210515,
          -1.5229891887572231,
          1.6115199927052717,
          -0.4770954007952236,
          -0.03244258909954915,
          -0.01973863081231562,
          -0.9240201466956118,
          -0.7018806548826212,
          1.116257598901643,
          -2.374321527801769,
          2.1079872052410247,
          0.6982011140111537,
          -1.0555114969250081,
          -0.3897723937818329,
          1.1925231381245627,
          1.2237381227711939,
          0.5989850587870378,
          -0.8991782314803098,
          0.5255067693703722,
          2.7586264976767483,
          -0.0788469074477344,
          -0.853278412662128,
          -1.2219390892924478,
          0.10246149478772258,
          0.6284426117915223,
          0.512062339056357,
          -0.9386584410755775,
          1.6755332861886518,
          -0.8947338550700419,
          -0.4122518141392201,
          0.32106067012965067,
          2.1975821633476937,
          0.9364725716982593,
          -1.00268240741226,
          -1.9229183584789276,
          0.843620878659984,
          1.4771597910462655,
          -1.1347015325896048,
          0.9918722842152485,
          0.013184538681476031,
          0.44169861274054656,
          0.583312537359923,
          -0.8523979073270433,
          -0.910846088535007,
          -0.6928852005666618,
          0.9272107055521642,
          1.1217693677540292,
          1.1415382607103743,
          -0.5431411104261837
         ],
         "yaxis": "y8"
        },
        {
         "line": {
          "color": "rgba(128, 128, 128, 1.0)",
          "dash": "solid",
          "shape": "linear",
          "width": 1.3
         },
         "marker": {
          "size": 2,
          "symbol": "circle"
         },
         "mode": "markers",
         "name": "C",
         "text": "",
         "type": "scatter",
         "x": [
          -0.3497734254771835,
          0.5583236144971976,
          1.0210338390182403,
          0.7833067604547665,
          1.6462849509104058,
          -0.7372755607522767,
          0.9881508966271882,
          0.14398838038901476,
          -0.6395676601793224,
          0.6291591032308805,
          1.3470169543296011,
          0.60968541723478,
          1.7636746057249477,
          -0.8968347110563231,
          1.1061992371572222,
          0.44411579330015866,
          -0.4910466503882815,
          -0.46352959198906274,
          -1.381458377602349,
          0.8509163423647723,
          1.4268676166900143,
          1.2007370070130767,
          0.3090613141255533,
          -0.3209463480469782,
          1.0765472388705708,
          1.5095524793854327,
          0.11806543873081181,
          1.8566919692700568,
          -0.8220431176199894,
          -0.8557816023136964,
          -1.9698929315893803,
          -0.2645274617925079,
          0.4674957207486842,
          -0.7598034286404655,
          -0.09316392607820459,
          -0.11288405529306757,
          -0.7718474232824881,
          -0.30971869052360046,
          0.3188546937996816,
          -0.3833733336548828,
          -1.26409683214929,
          -0.260610568878272,
          -0.8724907032434537,
          -0.6843172926825293,
          0.9410366903204676,
          0.5674477518189098,
          -0.07158642241174541,
          -1.8124280141646631,
          -1.4928103512959483,
          1.643157157597684,
          0.6093130094966801,
          -0.9776498459499772,
          -0.6637523839034207,
          0.44044446528203607,
          -1.8459802910301286,
          0.9930741770617006,
          0.41774133566523103,
          -0.09330237801047414,
          -0.7229100824409184,
          -0.16409341879725245,
          -1.2503439337761084,
          -0.5470496191739559,
          2.0386594730120065,
          -0.36908233025570886,
          -0.9250062299172206,
          -1.049546627000459,
          0.33175448123373075,
          0.9583714991373541,
          -2.1414378743802054,
          0.029573053775218225,
          -0.37324905528350794,
          1.42743012206251,
          -1.0404331204863992,
          1.334297972923157,
          0.8687276958286853,
          -0.2657337201171915,
          -0.6483819246588316,
          -0.24411340590570904,
          0.8505625725136822,
          -0.9179899937538808,
          0.8837406184286677,
          1.2499050427703942,
          0.33803720522963754,
          -0.6719806178223434,
          -1.4049437087691334,
          0.7386471634448698,
          0.9459537223565966,
          -0.6158054534571311,
          -1.0153312336632523,
          0.0924594831228007,
          0.17288858565747628,
          0.15420059591782365,
          -0.9485218735971477,
          -0.7324767569691258,
          0.17741031455593906,
          -0.590903068024523,
          -2.305888866671554,
          -0.6263816050863013,
          -0.0159640671396924,
          1.2145738337263368
         ],
         "xaxis": "x9",
         "y": [
          1.473083332255314,
          0.9258496787072514,
          1.8967152084603263,
          0.5094757693900035,
          0.7146004798243432,
          -1.1536876350709635,
          0.18548193530260024,
          -0.5075062148515169,
          -1.5268904269312875,
          0.6327675065365713,
          -1.742833178440796,
          -0.17760792279074386,
          -0.42993561146729475,
          -0.1179318962451331,
          -0.21883793411321237,
          0.21035180606533244,
          0.6456782916462754,
          0.497836559419002,
          -0.22454369521798712,
          1.0002162002607486,
          -0.27976775514967345,
          -2.056135470053321,
          -0.3511032564122926,
          0.4882445400939479,
          -0.6959759103681386,
          0.23140989326553035,
          0.12838188251732172,
          0.1474251727868586,
          -1.028327141684152,
          -0.37662685279761027,
          0.7161771806860826,
          -0.693620953106078,
          0.7365791592639287,
          1.5664657691276676,
          -0.76605114693056,
          0.037460110483771805,
          -0.4545069367144243,
          -2.816201515590873,
          0.44476014461409424,
          3.987028889778592,
          0.2382839959031368,
          0.1544714297602142,
          -1.1839143285918141,
          -0.04325443245265641,
          -0.08472937679164963,
          -0.39019797024732433,
          0.5403505042879775,
          0.4784431651531812,
          0.8283730166762587,
          -0.2132079379782824,
          0.10906692402751189,
          1.0681804289532224,
          -1.0209083394130125,
          0.5206690130888805,
          -0.27918154735984085,
          0.29200225134038177,
          1.905288479546918,
          0.3997104096709477,
          0.5013842971397798,
          -1.1656804407539827,
          0.6455516818425268,
          1.541026740339318,
          2.6996725442982576,
          0.6193919600500564,
          1.2594267228801967,
          2.03764182392081,
          2.02358563544627,
          0.1372364950453501,
          -1.1538969677054436,
          -1.2251744553445316,
          1.1821627669887178,
          1.362524384554462,
          -1.1512441351555531,
          -1.097578509925831,
          -0.6364242289158625,
          -1.1886913836996127,
          -0.9538117092849445,
          -0.9603629932333726,
          0.14755689083253284,
          0.6680012472139528,
          0.6544043421773577,
          -0.10335629168952583,
          0.521061728181091,
          -0.08728947758018604,
          0.3836813455518674,
          -0.3644919329855644,
          0.5486957487826961,
          0.13757325737363496,
          -0.48418748892721414,
          0.4568733162095446,
          -1.5496006269331533,
          -0.06743847782881852,
          -0.2061053566554512,
          -0.29416175176257753,
          1.051303153982947,
          -0.8479007078060758,
          -0.9464950884751328,
          0.3658755855969737,
          -0.5155006411077879,
          -1.4771406666187883
         ],
         "yaxis": "y9"
        },
        {
         "line": {
          "color": "rgba(128, 128, 128, 1.0)",
          "dash": "solid",
          "shape": "linear",
          "width": 1.3
         },
         "marker": {
          "size": 2,
          "symbol": "circle"
         },
         "mode": "markers",
         "name": "C",
         "text": "",
         "type": "scatter",
         "x": [
          1.1700434818844438,
          1.0751258509099173,
          -1.0083558806672341,
          -1.0207489561575065,
          2.449361100561767,
          -0.7175292061587076,
          -0.368063200704348,
          -0.2069764602363649,
          -0.5852792240627692,
          0.21418680003139948,
          3.5417689407035073,
          -0.8937838034366977,
          -0.450364359714211,
          -0.48201024793974095,
          -1.1477346930123722,
          -0.4551181416866834,
          0.39689090096151236,
          -1.085332249768537,
          -0.3330302827084691,
          -0.09164557937808074,
          0.8209906788667682,
          -0.18259882874169228,
          1.414664742141667,
          -1.3168984602931946,
          -1.0673751875441888,
          -0.8811015444791677,
          1.1573950121989691,
          -1.9420689925822388,
          0.15254426213926583,
          -0.5106440815180584,
          -1.1407698919771738,
          0.9658187833865867,
          0.09032980787959194,
          0.5105956795061436,
          -1.5445015493646832,
          -0.529670046477799,
          -1.2951546206741757,
          -2.26897320406101,
          2.0647400026491787,
          0.7912257586064879,
          -0.9435855795774132,
          -0.0792530039589136,
          -0.701391406857763,
          0.3904899555187702,
          -0.12401867350010902,
          -1.1770981578075772,
          1.3699958165123711,
          1.1383701335229368,
          1.0753035171938106,
          2.3566664850434185,
          0.28328978448650277,
          -0.2278154516210515,
          -1.5229891887572231,
          1.6115199927052717,
          -0.4770954007952236,
          -0.03244258909954915,
          -0.01973863081231562,
          -0.9240201466956118,
          -0.7018806548826212,
          1.116257598901643,
          -2.374321527801769,
          2.1079872052410247,
          0.6982011140111537,
          -1.0555114969250081,
          -0.3897723937818329,
          1.1925231381245627,
          1.2237381227711939,
          0.5989850587870378,
          -0.8991782314803098,
          0.5255067693703722,
          2.7586264976767483,
          -0.0788469074477344,
          -0.853278412662128,
          -1.2219390892924478,
          0.10246149478772258,
          0.6284426117915223,
          0.512062339056357,
          -0.9386584410755775,
          1.6755332861886518,
          -0.8947338550700419,
          -0.4122518141392201,
          0.32106067012965067,
          2.1975821633476937,
          0.9364725716982593,
          -1.00268240741226,
          -1.9229183584789276,
          0.843620878659984,
          1.4771597910462655,
          -1.1347015325896048,
          0.9918722842152485,
          0.013184538681476031,
          0.44169861274054656,
          0.583312537359923,
          -0.8523979073270433,
          -0.910846088535007,
          -0.6928852005666618,
          0.9272107055521642,
          1.1217693677540292,
          1.1415382607103743,
          -0.5431411104261837
         ],
         "xaxis": "x10",
         "y": [
          1.473083332255314,
          0.9258496787072514,
          1.8967152084603263,
          0.5094757693900035,
          0.7146004798243432,
          -1.1536876350709635,
          0.18548193530260024,
          -0.5075062148515169,
          -1.5268904269312875,
          0.6327675065365713,
          -1.742833178440796,
          -0.17760792279074386,
          -0.42993561146729475,
          -0.1179318962451331,
          -0.21883793411321237,
          0.21035180606533244,
          0.6456782916462754,
          0.497836559419002,
          -0.22454369521798712,
          1.0002162002607486,
          -0.27976775514967345,
          -2.056135470053321,
          -0.3511032564122926,
          0.4882445400939479,
          -0.6959759103681386,
          0.23140989326553035,
          0.12838188251732172,
          0.1474251727868586,
          -1.028327141684152,
          -0.37662685279761027,
          0.7161771806860826,
          -0.693620953106078,
          0.7365791592639287,
          1.5664657691276676,
          -0.76605114693056,
          0.037460110483771805,
          -0.4545069367144243,
          -2.816201515590873,
          0.44476014461409424,
          3.987028889778592,
          0.2382839959031368,
          0.1544714297602142,
          -1.1839143285918141,
          -0.04325443245265641,
          -0.08472937679164963,
          -0.39019797024732433,
          0.5403505042879775,
          0.4784431651531812,
          0.8283730166762587,
          -0.2132079379782824,
          0.10906692402751189,
          1.0681804289532224,
          -1.0209083394130125,
          0.5206690130888805,
          -0.27918154735984085,
          0.29200225134038177,
          1.905288479546918,
          0.3997104096709477,
          0.5013842971397798,
          -1.1656804407539827,
          0.6455516818425268,
          1.541026740339318,
          2.6996725442982576,
          0.6193919600500564,
          1.2594267228801967,
          2.03764182392081,
          2.02358563544627,
          0.1372364950453501,
          -1.1538969677054436,
          -1.2251744553445316,
          1.1821627669887178,
          1.362524384554462,
          -1.1512441351555531,
          -1.097578509925831,
          -0.6364242289158625,
          -1.1886913836996127,
          -0.9538117092849445,
          -0.9603629932333726,
          0.14755689083253284,
          0.6680012472139528,
          0.6544043421773577,
          -0.10335629168952583,
          0.521061728181091,
          -0.08728947758018604,
          0.3836813455518674,
          -0.3644919329855644,
          0.5486957487826961,
          0.13757325737363496,
          -0.48418748892721414,
          0.4568733162095446,
          -1.5496006269331533,
          -0.06743847782881852,
          -0.2061053566554512,
          -0.29416175176257753,
          1.051303153982947,
          -0.8479007078060758,
          -0.9464950884751328,
          0.3658755855969737,
          -0.5155006411077879,
          -1.4771406666187883
         ],
         "yaxis": "y10"
        },
        {
         "histfunc": "count",
         "histnorm": "",
         "marker": {
          "color": "rgba(50, 171, 96, 1.0)",
          "line": {
           "color": "#4D5663",
           "width": 1.3
          }
         },
         "name": "C",
         "nbinsx": 10,
         "opacity": 0.8,
         "orientation": "v",
         "type": "histogram",
         "x": [
          1.473083332255314,
          0.9258496787072514,
          1.8967152084603263,
          0.5094757693900035,
          0.7146004798243432,
          -1.1536876350709635,
          0.18548193530260024,
          -0.5075062148515169,
          -1.5268904269312875,
          0.6327675065365713,
          -1.742833178440796,
          -0.17760792279074386,
          -0.42993561146729475,
          -0.1179318962451331,
          -0.21883793411321237,
          0.21035180606533244,
          0.6456782916462754,
          0.497836559419002,
          -0.22454369521798712,
          1.0002162002607486,
          -0.27976775514967345,
          -2.056135470053321,
          -0.3511032564122926,
          0.4882445400939479,
          -0.6959759103681386,
          0.23140989326553035,
          0.12838188251732172,
          0.1474251727868586,
          -1.028327141684152,
          -0.37662685279761027,
          0.7161771806860826,
          -0.693620953106078,
          0.7365791592639287,
          1.5664657691276676,
          -0.76605114693056,
          0.037460110483771805,
          -0.4545069367144243,
          -2.816201515590873,
          0.44476014461409424,
          3.987028889778592,
          0.2382839959031368,
          0.1544714297602142,
          -1.1839143285918141,
          -0.04325443245265641,
          -0.08472937679164963,
          -0.39019797024732433,
          0.5403505042879775,
          0.4784431651531812,
          0.8283730166762587,
          -0.2132079379782824,
          0.10906692402751189,
          1.0681804289532224,
          -1.0209083394130125,
          0.5206690130888805,
          -0.27918154735984085,
          0.29200225134038177,
          1.905288479546918,
          0.3997104096709477,
          0.5013842971397798,
          -1.1656804407539827,
          0.6455516818425268,
          1.541026740339318,
          2.6996725442982576,
          0.6193919600500564,
          1.2594267228801967,
          2.03764182392081,
          2.02358563544627,
          0.1372364950453501,
          -1.1538969677054436,
          -1.2251744553445316,
          1.1821627669887178,
          1.362524384554462,
          -1.1512441351555531,
          -1.097578509925831,
          -0.6364242289158625,
          -1.1886913836996127,
          -0.9538117092849445,
          -0.9603629932333726,
          0.14755689083253284,
          0.6680012472139528,
          0.6544043421773577,
          -0.10335629168952583,
          0.521061728181091,
          -0.08728947758018604,
          0.3836813455518674,
          -0.3644919329855644,
          0.5486957487826961,
          0.13757325737363496,
          -0.48418748892721414,
          0.4568733162095446,
          -1.5496006269331533,
          -0.06743847782881852,
          -0.2061053566554512,
          -0.29416175176257753,
          1.051303153982947,
          -0.8479007078060758,
          -0.9464950884751328,
          0.3658755855969737,
          -0.5155006411077879,
          -1.4771406666187883
         ],
         "xaxis": "x11",
         "yaxis": "y11"
        },
        {
         "line": {
          "color": "rgba(128, 128, 128, 1.0)",
          "dash": "solid",
          "shape": "linear",
          "width": 1.3
         },
         "marker": {
          "size": 2,
          "symbol": "circle"
         },
         "mode": "markers",
         "name": "C",
         "text": "",
         "type": "scatter",
         "x": [
          -0.09003317590129503,
          1.0457917887062516,
          -0.29423220585512144,
          0.9574203445353496,
          -0.616241572606183,
          -0.5534767167714887,
          -0.402317520418005,
          -0.3198694237949411,
          -0.20986129184730268,
          -0.48481591628900955,
          0.3108071402504388,
          -2.1263382754100926,
          0.5837854118415968,
          1.0774759457251781,
          -0.12690922521057807,
          -1.032326010492601,
          0.621589276294923,
          -0.7558846540535813,
          0.5632004862443952,
          0.49559126946667226,
          0.27007365672731926,
          -0.23087880885944598,
          -1.3508501568502214,
          0.6288045519625935,
          0.06070987626653908,
          0.5965206752027222,
          -0.3990050270985692,
          0.11016658644061711,
          0.9663052119247858,
          0.35598252226894833,
          1.181185378826927,
          -2.3542627344060123,
          -0.09989175348051689,
          -1.2864459617402262,
          0.7288787403538859,
          1.0275471483629939,
          0.3171744183826212,
          0.15292413156519483,
          0.4550521613937916,
          0.5213790352963008,
          0.20318742251749508,
          0.48968368411199914,
          1.0769271256618655,
          -0.7208314446177871,
          -0.30430270873146514,
          -0.2690205310950531,
          1.0670149019246906,
          -0.894036317760341,
          0.42233411240554236,
          0.09463389593503285,
          0.3147842006938459,
          0.4856944509627888,
          2.822214131806755,
          0.31877350771443885,
          -0.8737946052935149,
          0.41233255732261115,
          -0.258945595402433,
          -0.9787725054168861,
          -0.41951840428865167,
          1.5049078192404473,
          -0.6002948664947724,
          -1.0402769229253626,
          -2.209506979417579,
          0.4007706232758198,
          0.6827919523767328,
          -0.7605663558840473,
          1.5466680829995878,
          0.2620314303239416,
          -1.4394773540690347,
          -0.6648546447808864,
          1.9603814736896064,
          0.2407875553980244,
          -0.5352119766189058,
          0.46096472752861317,
          1.3972868847907869,
          1.2890455957248392,
          0.48194092192672566,
          -0.8358341932639045,
          2.3004323348148605,
          1.5090343332030582,
          1.065422354286108,
          0.05754205364635004,
          0.05680937623707559,
          -0.5364577596823272,
          -0.6415186288104496,
          -0.9744011481401438,
          1.3155933877242785,
          -0.9683416732732715,
          0.07031433648700804,
          -0.9387365342791136,
          0.274963338186455,
          0.6173360180172238,
          -0.5768096481829308,
          -0.5853500394299408,
          -0.5456480354585667,
          -0.7215920562298185,
          1.2157961289744859,
          -0.19076909957151217,
          0.9379843244981523,
          -1.4249333623212475
         ],
         "xaxis": "x12",
         "y": [
          1.473083332255314,
          0.9258496787072514,
          1.8967152084603263,
          0.5094757693900035,
          0.7146004798243432,
          -1.1536876350709635,
          0.18548193530260024,
          -0.5075062148515169,
          -1.5268904269312875,
          0.6327675065365713,
          -1.742833178440796,
          -0.17760792279074386,
          -0.42993561146729475,
          -0.1179318962451331,
          -0.21883793411321237,
          0.21035180606533244,
          0.6456782916462754,
          0.497836559419002,
          -0.22454369521798712,
          1.0002162002607486,
          -0.27976775514967345,
          -2.056135470053321,
          -0.3511032564122926,
          0.4882445400939479,
          -0.6959759103681386,
          0.23140989326553035,
          0.12838188251732172,
          0.1474251727868586,
          -1.028327141684152,
          -0.37662685279761027,
          0.7161771806860826,
          -0.693620953106078,
          0.7365791592639287,
          1.5664657691276676,
          -0.76605114693056,
          0.037460110483771805,
          -0.4545069367144243,
          -2.816201515590873,
          0.44476014461409424,
          3.987028889778592,
          0.2382839959031368,
          0.1544714297602142,
          -1.1839143285918141,
          -0.04325443245265641,
          -0.08472937679164963,
          -0.39019797024732433,
          0.5403505042879775,
          0.4784431651531812,
          0.8283730166762587,
          -0.2132079379782824,
          0.10906692402751189,
          1.0681804289532224,
          -1.0209083394130125,
          0.5206690130888805,
          -0.27918154735984085,
          0.29200225134038177,
          1.905288479546918,
          0.3997104096709477,
          0.5013842971397798,
          -1.1656804407539827,
          0.6455516818425268,
          1.541026740339318,
          2.6996725442982576,
          0.6193919600500564,
          1.2594267228801967,
          2.03764182392081,
          2.02358563544627,
          0.1372364950453501,
          -1.1538969677054436,
          -1.2251744553445316,
          1.1821627669887178,
          1.362524384554462,
          -1.1512441351555531,
          -1.097578509925831,
          -0.6364242289158625,
          -1.1886913836996127,
          -0.9538117092849445,
          -0.9603629932333726,
          0.14755689083253284,
          0.6680012472139528,
          0.6544043421773577,
          -0.10335629168952583,
          0.521061728181091,
          -0.08728947758018604,
          0.3836813455518674,
          -0.3644919329855644,
          0.5486957487826961,
          0.13757325737363496,
          -0.48418748892721414,
          0.4568733162095446,
          -1.5496006269331533,
          -0.06743847782881852,
          -0.2061053566554512,
          -0.29416175176257753,
          1.051303153982947,
          -0.8479007078060758,
          -0.9464950884751328,
          0.3658755855969737,
          -0.5155006411077879,
          -1.4771406666187883
         ],
         "yaxis": "y12"
        },
        {
         "line": {
          "color": "rgba(128, 128, 128, 1.0)",
          "dash": "solid",
          "shape": "linear",
          "width": 1.3
         },
         "marker": {
          "size": 2,
          "symbol": "circle"
         },
         "mode": "markers",
         "name": "D",
         "text": "",
         "type": "scatter",
         "x": [
          -0.3497734254771835,
          0.5583236144971976,
          1.0210338390182403,
          0.7833067604547665,
          1.6462849509104058,
          -0.7372755607522767,
          0.9881508966271882,
          0.14398838038901476,
          -0.6395676601793224,
          0.6291591032308805,
          1.3470169543296011,
          0.60968541723478,
          1.7636746057249477,
          -0.8968347110563231,
          1.1061992371572222,
          0.44411579330015866,
          -0.4910466503882815,
          -0.46352959198906274,
          -1.381458377602349,
          0.8509163423647723,
          1.4268676166900143,
          1.2007370070130767,
          0.3090613141255533,
          -0.3209463480469782,
          1.0765472388705708,
          1.5095524793854327,
          0.11806543873081181,
          1.8566919692700568,
          -0.8220431176199894,
          -0.8557816023136964,
          -1.9698929315893803,
          -0.2645274617925079,
          0.4674957207486842,
          -0.7598034286404655,
          -0.09316392607820459,
          -0.11288405529306757,
          -0.7718474232824881,
          -0.30971869052360046,
          0.3188546937996816,
          -0.3833733336548828,
          -1.26409683214929,
          -0.260610568878272,
          -0.8724907032434537,
          -0.6843172926825293,
          0.9410366903204676,
          0.5674477518189098,
          -0.07158642241174541,
          -1.8124280141646631,
          -1.4928103512959483,
          1.643157157597684,
          0.6093130094966801,
          -0.9776498459499772,
          -0.6637523839034207,
          0.44044446528203607,
          -1.8459802910301286,
          0.9930741770617006,
          0.41774133566523103,
          -0.09330237801047414,
          -0.7229100824409184,
          -0.16409341879725245,
          -1.2503439337761084,
          -0.5470496191739559,
          2.0386594730120065,
          -0.36908233025570886,
          -0.9250062299172206,
          -1.049546627000459,
          0.33175448123373075,
          0.9583714991373541,
          -2.1414378743802054,
          0.029573053775218225,
          -0.37324905528350794,
          1.42743012206251,
          -1.0404331204863992,
          1.334297972923157,
          0.8687276958286853,
          -0.2657337201171915,
          -0.6483819246588316,
          -0.24411340590570904,
          0.8505625725136822,
          -0.9179899937538808,
          0.8837406184286677,
          1.2499050427703942,
          0.33803720522963754,
          -0.6719806178223434,
          -1.4049437087691334,
          0.7386471634448698,
          0.9459537223565966,
          -0.6158054534571311,
          -1.0153312336632523,
          0.0924594831228007,
          0.17288858565747628,
          0.15420059591782365,
          -0.9485218735971477,
          -0.7324767569691258,
          0.17741031455593906,
          -0.590903068024523,
          -2.305888866671554,
          -0.6263816050863013,
          -0.0159640671396924,
          1.2145738337263368
         ],
         "xaxis": "x13",
         "y": [
          -0.09003317590129503,
          1.0457917887062516,
          -0.29423220585512144,
          0.9574203445353496,
          -0.616241572606183,
          -0.5534767167714887,
          -0.402317520418005,
          -0.3198694237949411,
          -0.20986129184730268,
          -0.48481591628900955,
          0.3108071402504388,
          -2.1263382754100926,
          0.5837854118415968,
          1.0774759457251781,
          -0.12690922521057807,
          -1.032326010492601,
          0.621589276294923,
          -0.7558846540535813,
          0.5632004862443952,
          0.49559126946667226,
          0.27007365672731926,
          -0.23087880885944598,
          -1.3508501568502214,
          0.6288045519625935,
          0.06070987626653908,
          0.5965206752027222,
          -0.3990050270985692,
          0.11016658644061711,
          0.9663052119247858,
          0.35598252226894833,
          1.181185378826927,
          -2.3542627344060123,
          -0.09989175348051689,
          -1.2864459617402262,
          0.7288787403538859,
          1.0275471483629939,
          0.3171744183826212,
          0.15292413156519483,
          0.4550521613937916,
          0.5213790352963008,
          0.20318742251749508,
          0.48968368411199914,
          1.0769271256618655,
          -0.7208314446177871,
          -0.30430270873146514,
          -0.2690205310950531,
          1.0670149019246906,
          -0.894036317760341,
          0.42233411240554236,
          0.09463389593503285,
          0.3147842006938459,
          0.4856944509627888,
          2.822214131806755,
          0.31877350771443885,
          -0.8737946052935149,
          0.41233255732261115,
          -0.258945595402433,
          -0.9787725054168861,
          -0.41951840428865167,
          1.5049078192404473,
          -0.6002948664947724,
          -1.0402769229253626,
          -2.209506979417579,
          0.4007706232758198,
          0.6827919523767328,
          -0.7605663558840473,
          1.5466680829995878,
          0.2620314303239416,
          -1.4394773540690347,
          -0.6648546447808864,
          1.9603814736896064,
          0.2407875553980244,
          -0.5352119766189058,
          0.46096472752861317,
          1.3972868847907869,
          1.2890455957248392,
          0.48194092192672566,
          -0.8358341932639045,
          2.3004323348148605,
          1.5090343332030582,
          1.065422354286108,
          0.05754205364635004,
          0.05680937623707559,
          -0.5364577596823272,
          -0.6415186288104496,
          -0.9744011481401438,
          1.3155933877242785,
          -0.9683416732732715,
          0.07031433648700804,
          -0.9387365342791136,
          0.274963338186455,
          0.6173360180172238,
          -0.5768096481829308,
          -0.5853500394299408,
          -0.5456480354585667,
          -0.7215920562298185,
          1.2157961289744859,
          -0.19076909957151217,
          0.9379843244981523,
          -1.4249333623212475
         ],
         "yaxis": "y13"
        },
        {
         "line": {
          "color": "rgba(128, 128, 128, 1.0)",
          "dash": "solid",
          "shape": "linear",
          "width": 1.3
         },
         "marker": {
          "size": 2,
          "symbol": "circle"
         },
         "mode": "markers",
         "name": "D",
         "text": "",
         "type": "scatter",
         "x": [
          1.1700434818844438,
          1.0751258509099173,
          -1.0083558806672341,
          -1.0207489561575065,
          2.449361100561767,
          -0.7175292061587076,
          -0.368063200704348,
          -0.2069764602363649,
          -0.5852792240627692,
          0.21418680003139948,
          3.5417689407035073,
          -0.8937838034366977,
          -0.450364359714211,
          -0.48201024793974095,
          -1.1477346930123722,
          -0.4551181416866834,
          0.39689090096151236,
          -1.085332249768537,
          -0.3330302827084691,
          -0.09164557937808074,
          0.8209906788667682,
          -0.18259882874169228,
          1.414664742141667,
          -1.3168984602931946,
          -1.0673751875441888,
          -0.8811015444791677,
          1.1573950121989691,
          -1.9420689925822388,
          0.15254426213926583,
          -0.5106440815180584,
          -1.1407698919771738,
          0.9658187833865867,
          0.09032980787959194,
          0.5105956795061436,
          -1.5445015493646832,
          -0.529670046477799,
          -1.2951546206741757,
          -2.26897320406101,
          2.0647400026491787,
          0.7912257586064879,
          -0.9435855795774132,
          -0.0792530039589136,
          -0.701391406857763,
          0.3904899555187702,
          -0.12401867350010902,
          -1.1770981578075772,
          1.3699958165123711,
          1.1383701335229368,
          1.0753035171938106,
          2.3566664850434185,
          0.28328978448650277,
          -0.2278154516210515,
          -1.5229891887572231,
          1.6115199927052717,
          -0.4770954007952236,
          -0.03244258909954915,
          -0.01973863081231562,
          -0.9240201466956118,
          -0.7018806548826212,
          1.116257598901643,
          -2.374321527801769,
          2.1079872052410247,
          0.6982011140111537,
          -1.0555114969250081,
          -0.3897723937818329,
          1.1925231381245627,
          1.2237381227711939,
          0.5989850587870378,
          -0.8991782314803098,
          0.5255067693703722,
          2.7586264976767483,
          -0.0788469074477344,
          -0.853278412662128,
          -1.2219390892924478,
          0.10246149478772258,
          0.6284426117915223,
          0.512062339056357,
          -0.9386584410755775,
          1.6755332861886518,
          -0.8947338550700419,
          -0.4122518141392201,
          0.32106067012965067,
          2.1975821633476937,
          0.9364725716982593,
          -1.00268240741226,
          -1.9229183584789276,
          0.843620878659984,
          1.4771597910462655,
          -1.1347015325896048,
          0.9918722842152485,
          0.013184538681476031,
          0.44169861274054656,
          0.583312537359923,
          -0.8523979073270433,
          -0.910846088535007,
          -0.6928852005666618,
          0.9272107055521642,
          1.1217693677540292,
          1.1415382607103743,
          -0.5431411104261837
         ],
         "xaxis": "x14",
         "y": [
          -0.09003317590129503,
          1.0457917887062516,
          -0.29423220585512144,
          0.9574203445353496,
          -0.616241572606183,
          -0.5534767167714887,
          -0.402317520418005,
          -0.3198694237949411,
          -0.20986129184730268,
          -0.48481591628900955,
          0.3108071402504388,
          -2.1263382754100926,
          0.5837854118415968,
          1.0774759457251781,
          -0.12690922521057807,
          -1.032326010492601,
          0.621589276294923,
          -0.7558846540535813,
          0.5632004862443952,
          0.49559126946667226,
          0.27007365672731926,
          -0.23087880885944598,
          -1.3508501568502214,
          0.6288045519625935,
          0.06070987626653908,
          0.5965206752027222,
          -0.3990050270985692,
          0.11016658644061711,
          0.9663052119247858,
          0.35598252226894833,
          1.181185378826927,
          -2.3542627344060123,
          -0.09989175348051689,
          -1.2864459617402262,
          0.7288787403538859,
          1.0275471483629939,
          0.3171744183826212,
          0.15292413156519483,
          0.4550521613937916,
          0.5213790352963008,
          0.20318742251749508,
          0.48968368411199914,
          1.0769271256618655,
          -0.7208314446177871,
          -0.30430270873146514,
          -0.2690205310950531,
          1.0670149019246906,
          -0.894036317760341,
          0.42233411240554236,
          0.09463389593503285,
          0.3147842006938459,
          0.4856944509627888,
          2.822214131806755,
          0.31877350771443885,
          -0.8737946052935149,
          0.41233255732261115,
          -0.258945595402433,
          -0.9787725054168861,
          -0.41951840428865167,
          1.5049078192404473,
          -0.6002948664947724,
          -1.0402769229253626,
          -2.209506979417579,
          0.4007706232758198,
          0.6827919523767328,
          -0.7605663558840473,
          1.5466680829995878,
          0.2620314303239416,
          -1.4394773540690347,
          -0.6648546447808864,
          1.9603814736896064,
          0.2407875553980244,
          -0.5352119766189058,
          0.46096472752861317,
          1.3972868847907869,
          1.2890455957248392,
          0.48194092192672566,
          -0.8358341932639045,
          2.3004323348148605,
          1.5090343332030582,
          1.065422354286108,
          0.05754205364635004,
          0.05680937623707559,
          -0.5364577596823272,
          -0.6415186288104496,
          -0.9744011481401438,
          1.3155933877242785,
          -0.9683416732732715,
          0.07031433648700804,
          -0.9387365342791136,
          0.274963338186455,
          0.6173360180172238,
          -0.5768096481829308,
          -0.5853500394299408,
          -0.5456480354585667,
          -0.7215920562298185,
          1.2157961289744859,
          -0.19076909957151217,
          0.9379843244981523,
          -1.4249333623212475
         ],
         "yaxis": "y14"
        },
        {
         "line": {
          "color": "rgba(128, 128, 128, 1.0)",
          "dash": "solid",
          "shape": "linear",
          "width": 1.3
         },
         "marker": {
          "size": 2,
          "symbol": "circle"
         },
         "mode": "markers",
         "name": "D",
         "text": "",
         "type": "scatter",
         "x": [
          1.473083332255314,
          0.9258496787072514,
          1.8967152084603263,
          0.5094757693900035,
          0.7146004798243432,
          -1.1536876350709635,
          0.18548193530260024,
          -0.5075062148515169,
          -1.5268904269312875,
          0.6327675065365713,
          -1.742833178440796,
          -0.17760792279074386,
          -0.42993561146729475,
          -0.1179318962451331,
          -0.21883793411321237,
          0.21035180606533244,
          0.6456782916462754,
          0.497836559419002,
          -0.22454369521798712,
          1.0002162002607486,
          -0.27976775514967345,
          -2.056135470053321,
          -0.3511032564122926,
          0.4882445400939479,
          -0.6959759103681386,
          0.23140989326553035,
          0.12838188251732172,
          0.1474251727868586,
          -1.028327141684152,
          -0.37662685279761027,
          0.7161771806860826,
          -0.693620953106078,
          0.7365791592639287,
          1.5664657691276676,
          -0.76605114693056,
          0.037460110483771805,
          -0.4545069367144243,
          -2.816201515590873,
          0.44476014461409424,
          3.987028889778592,
          0.2382839959031368,
          0.1544714297602142,
          -1.1839143285918141,
          -0.04325443245265641,
          -0.08472937679164963,
          -0.39019797024732433,
          0.5403505042879775,
          0.4784431651531812,
          0.8283730166762587,
          -0.2132079379782824,
          0.10906692402751189,
          1.0681804289532224,
          -1.0209083394130125,
          0.5206690130888805,
          -0.27918154735984085,
          0.29200225134038177,
          1.905288479546918,
          0.3997104096709477,
          0.5013842971397798,
          -1.1656804407539827,
          0.6455516818425268,
          1.541026740339318,
          2.6996725442982576,
          0.6193919600500564,
          1.2594267228801967,
          2.03764182392081,
          2.02358563544627,
          0.1372364950453501,
          -1.1538969677054436,
          -1.2251744553445316,
          1.1821627669887178,
          1.362524384554462,
          -1.1512441351555531,
          -1.097578509925831,
          -0.6364242289158625,
          -1.1886913836996127,
          -0.9538117092849445,
          -0.9603629932333726,
          0.14755689083253284,
          0.6680012472139528,
          0.6544043421773577,
          -0.10335629168952583,
          0.521061728181091,
          -0.08728947758018604,
          0.3836813455518674,
          -0.3644919329855644,
          0.5486957487826961,
          0.13757325737363496,
          -0.48418748892721414,
          0.4568733162095446,
          -1.5496006269331533,
          -0.06743847782881852,
          -0.2061053566554512,
          -0.29416175176257753,
          1.051303153982947,
          -0.8479007078060758,
          -0.9464950884751328,
          0.3658755855969737,
          -0.5155006411077879,
          -1.4771406666187883
         ],
         "xaxis": "x15",
         "y": [
          -0.09003317590129503,
          1.0457917887062516,
          -0.29423220585512144,
          0.9574203445353496,
          -0.616241572606183,
          -0.5534767167714887,
          -0.402317520418005,
          -0.3198694237949411,
          -0.20986129184730268,
          -0.48481591628900955,
          0.3108071402504388,
          -2.1263382754100926,
          0.5837854118415968,
          1.0774759457251781,
          -0.12690922521057807,
          -1.032326010492601,
          0.621589276294923,
          -0.7558846540535813,
          0.5632004862443952,
          0.49559126946667226,
          0.27007365672731926,
          -0.23087880885944598,
          -1.3508501568502214,
          0.6288045519625935,
          0.06070987626653908,
          0.5965206752027222,
          -0.3990050270985692,
          0.11016658644061711,
          0.9663052119247858,
          0.35598252226894833,
          1.181185378826927,
          -2.3542627344060123,
          -0.09989175348051689,
          -1.2864459617402262,
          0.7288787403538859,
          1.0275471483629939,
          0.3171744183826212,
          0.15292413156519483,
          0.4550521613937916,
          0.5213790352963008,
          0.20318742251749508,
          0.48968368411199914,
          1.0769271256618655,
          -0.7208314446177871,
          -0.30430270873146514,
          -0.2690205310950531,
          1.0670149019246906,
          -0.894036317760341,
          0.42233411240554236,
          0.09463389593503285,
          0.3147842006938459,
          0.4856944509627888,
          2.822214131806755,
          0.31877350771443885,
          -0.8737946052935149,
          0.41233255732261115,
          -0.258945595402433,
          -0.9787725054168861,
          -0.41951840428865167,
          1.5049078192404473,
          -0.6002948664947724,
          -1.0402769229253626,
          -2.209506979417579,
          0.4007706232758198,
          0.6827919523767328,
          -0.7605663558840473,
          1.5466680829995878,
          0.2620314303239416,
          -1.4394773540690347,
          -0.6648546447808864,
          1.9603814736896064,
          0.2407875553980244,
          -0.5352119766189058,
          0.46096472752861317,
          1.3972868847907869,
          1.2890455957248392,
          0.48194092192672566,
          -0.8358341932639045,
          2.3004323348148605,
          1.5090343332030582,
          1.065422354286108,
          0.05754205364635004,
          0.05680937623707559,
          -0.5364577596823272,
          -0.6415186288104496,
          -0.9744011481401438,
          1.3155933877242785,
          -0.9683416732732715,
          0.07031433648700804,
          -0.9387365342791136,
          0.274963338186455,
          0.6173360180172238,
          -0.5768096481829308,
          -0.5853500394299408,
          -0.5456480354585667,
          -0.7215920562298185,
          1.2157961289744859,
          -0.19076909957151217,
          0.9379843244981523,
          -1.4249333623212475
         ],
         "yaxis": "y15"
        },
        {
         "histfunc": "count",
         "histnorm": "",
         "marker": {
          "color": "rgba(128, 0, 128, 1.0)",
          "line": {
           "color": "#4D5663",
           "width": 1.3
          }
         },
         "name": "D",
         "nbinsx": 10,
         "opacity": 0.8,
         "orientation": "v",
         "type": "histogram",
         "x": [
          -0.09003317590129503,
          1.0457917887062516,
          -0.29423220585512144,
          0.9574203445353496,
          -0.616241572606183,
          -0.5534767167714887,
          -0.402317520418005,
          -0.3198694237949411,
          -0.20986129184730268,
          -0.48481591628900955,
          0.3108071402504388,
          -2.1263382754100926,
          0.5837854118415968,
          1.0774759457251781,
          -0.12690922521057807,
          -1.032326010492601,
          0.621589276294923,
          -0.7558846540535813,
          0.5632004862443952,
          0.49559126946667226,
          0.27007365672731926,
          -0.23087880885944598,
          -1.3508501568502214,
          0.6288045519625935,
          0.06070987626653908,
          0.5965206752027222,
          -0.3990050270985692,
          0.11016658644061711,
          0.9663052119247858,
          0.35598252226894833,
          1.181185378826927,
          -2.3542627344060123,
          -0.09989175348051689,
          -1.2864459617402262,
          0.7288787403538859,
          1.0275471483629939,
          0.3171744183826212,
          0.15292413156519483,
          0.4550521613937916,
          0.5213790352963008,
          0.20318742251749508,
          0.48968368411199914,
          1.0769271256618655,
          -0.7208314446177871,
          -0.30430270873146514,
          -0.2690205310950531,
          1.0670149019246906,
          -0.894036317760341,
          0.42233411240554236,
          0.09463389593503285,
          0.3147842006938459,
          0.4856944509627888,
          2.822214131806755,
          0.31877350771443885,
          -0.8737946052935149,
          0.41233255732261115,
          -0.258945595402433,
          -0.9787725054168861,
          -0.41951840428865167,
          1.5049078192404473,
          -0.6002948664947724,
          -1.0402769229253626,
          -2.209506979417579,
          0.4007706232758198,
          0.6827919523767328,
          -0.7605663558840473,
          1.5466680829995878,
          0.2620314303239416,
          -1.4394773540690347,
          -0.6648546447808864,
          1.9603814736896064,
          0.2407875553980244,
          -0.5352119766189058,
          0.46096472752861317,
          1.3972868847907869,
          1.2890455957248392,
          0.48194092192672566,
          -0.8358341932639045,
          2.3004323348148605,
          1.5090343332030582,
          1.065422354286108,
          0.05754205364635004,
          0.05680937623707559,
          -0.5364577596823272,
          -0.6415186288104496,
          -0.9744011481401438,
          1.3155933877242785,
          -0.9683416732732715,
          0.07031433648700804,
          -0.9387365342791136,
          0.274963338186455,
          0.6173360180172238,
          -0.5768096481829308,
          -0.5853500394299408,
          -0.5456480354585667,
          -0.7215920562298185,
          1.2157961289744859,
          -0.19076909957151217,
          0.9379843244981523,
          -1.4249333623212475
         ],
         "xaxis": "x16",
         "yaxis": "y16"
        }
       ],
       "layout": {
        "bargap": 0.02,
        "legend": {
         "bgcolor": "#F5F6F9",
         "font": {
          "color": "#4D5663"
         }
        },
        "paper_bgcolor": "#F5F6F9",
        "plot_bgcolor": "#F5F6F9",
        "showlegend": false,
        "template": {
         "data": {
          "bar": [
           {
            "error_x": {
             "color": "#2a3f5f"
            },
            "error_y": {
             "color": "#2a3f5f"
            },
            "marker": {
             "line": {
              "color": "#E5ECF6",
              "width": 0.5
             },
             "pattern": {
              "fillmode": "overlay",
              "size": 10,
              "solidity": 0.2
             }
            },
            "type": "bar"
           }
          ],
          "barpolar": [
           {
            "marker": {
             "line": {
              "color": "#E5ECF6",
              "width": 0.5
             },
             "pattern": {
              "fillmode": "overlay",
              "size": 10,
              "solidity": 0.2
             }
            },
            "type": "barpolar"
           }
          ],
          "carpet": [
           {
            "aaxis": {
             "endlinecolor": "#2a3f5f",
             "gridcolor": "white",
             "linecolor": "white",
             "minorgridcolor": "white",
             "startlinecolor": "#2a3f5f"
            },
            "baxis": {
             "endlinecolor": "#2a3f5f",
             "gridcolor": "white",
             "linecolor": "white",
             "minorgridcolor": "white",
             "startlinecolor": "#2a3f5f"
            },
            "type": "carpet"
           }
          ],
          "choropleth": [
           {
            "colorbar": {
             "outlinewidth": 0,
             "ticks": ""
            },
            "type": "choropleth"
           }
          ],
          "contour": [
           {
            "colorbar": {
             "outlinewidth": 0,
             "ticks": ""
            },
            "colorscale": [
             [
              0,
              "#0d0887"
             ],
             [
              0.1111111111111111,
              "#46039f"
             ],
             [
              0.2222222222222222,
              "#7201a8"
             ],
             [
              0.3333333333333333,
              "#9c179e"
             ],
             [
              0.4444444444444444,
              "#bd3786"
             ],
             [
              0.5555555555555556,
              "#d8576b"
             ],
             [
              0.6666666666666666,
              "#ed7953"
             ],
             [
              0.7777777777777778,
              "#fb9f3a"
             ],
             [
              0.8888888888888888,
              "#fdca26"
             ],
             [
              1,
              "#f0f921"
             ]
            ],
            "type": "contour"
           }
          ],
          "contourcarpet": [
           {
            "colorbar": {
             "outlinewidth": 0,
             "ticks": ""
            },
            "type": "contourcarpet"
           }
          ],
          "heatmap": [
           {
            "colorbar": {
             "outlinewidth": 0,
             "ticks": ""
            },
            "colorscale": [
             [
              0,
              "#0d0887"
             ],
             [
              0.1111111111111111,
              "#46039f"
             ],
             [
              0.2222222222222222,
              "#7201a8"
             ],
             [
              0.3333333333333333,
              "#9c179e"
             ],
             [
              0.4444444444444444,
              "#bd3786"
             ],
             [
              0.5555555555555556,
              "#d8576b"
             ],
             [
              0.6666666666666666,
              "#ed7953"
             ],
             [
              0.7777777777777778,
              "#fb9f3a"
             ],
             [
              0.8888888888888888,
              "#fdca26"
             ],
             [
              1,
              "#f0f921"
             ]
            ],
            "type": "heatmap"
           }
          ],
          "heatmapgl": [
           {
            "colorbar": {
             "outlinewidth": 0,
             "ticks": ""
            },
            "colorscale": [
             [
              0,
              "#0d0887"
             ],
             [
              0.1111111111111111,
              "#46039f"
             ],
             [
              0.2222222222222222,
              "#7201a8"
             ],
             [
              0.3333333333333333,
              "#9c179e"
             ],
             [
              0.4444444444444444,
              "#bd3786"
             ],
             [
              0.5555555555555556,
              "#d8576b"
             ],
             [
              0.6666666666666666,
              "#ed7953"
             ],
             [
              0.7777777777777778,
              "#fb9f3a"
             ],
             [
              0.8888888888888888,
              "#fdca26"
             ],
             [
              1,
              "#f0f921"
             ]
            ],
            "type": "heatmapgl"
           }
          ],
          "histogram": [
           {
            "marker": {
             "pattern": {
              "fillmode": "overlay",
              "size": 10,
              "solidity": 0.2
             }
            },
            "type": "histogram"
           }
          ],
          "histogram2d": [
           {
            "colorbar": {
             "outlinewidth": 0,
             "ticks": ""
            },
            "colorscale": [
             [
              0,
              "#0d0887"
             ],
             [
              0.1111111111111111,
              "#46039f"
             ],
             [
              0.2222222222222222,
              "#7201a8"
             ],
             [
              0.3333333333333333,
              "#9c179e"
             ],
             [
              0.4444444444444444,
              "#bd3786"
             ],
             [
              0.5555555555555556,
              "#d8576b"
             ],
             [
              0.6666666666666666,
              "#ed7953"
             ],
             [
              0.7777777777777778,
              "#fb9f3a"
             ],
             [
              0.8888888888888888,
              "#fdca26"
             ],
             [
              1,
              "#f0f921"
             ]
            ],
            "type": "histogram2d"
           }
          ],
          "histogram2dcontour": [
           {
            "colorbar": {
             "outlinewidth": 0,
             "ticks": ""
            },
            "colorscale": [
             [
              0,
              "#0d0887"
             ],
             [
              0.1111111111111111,
              "#46039f"
             ],
             [
              0.2222222222222222,
              "#7201a8"
             ],
             [
              0.3333333333333333,
              "#9c179e"
             ],
             [
              0.4444444444444444,
              "#bd3786"
             ],
             [
              0.5555555555555556,
              "#d8576b"
             ],
             [
              0.6666666666666666,
              "#ed7953"
             ],
             [
              0.7777777777777778,
              "#fb9f3a"
             ],
             [
              0.8888888888888888,
              "#fdca26"
             ],
             [
              1,
              "#f0f921"
             ]
            ],
            "type": "histogram2dcontour"
           }
          ],
          "mesh3d": [
           {
            "colorbar": {
             "outlinewidth": 0,
             "ticks": ""
            },
            "type": "mesh3d"
           }
          ],
          "parcoords": [
           {
            "line": {
             "colorbar": {
              "outlinewidth": 0,
              "ticks": ""
             }
            },
            "type": "parcoords"
           }
          ],
          "pie": [
           {
            "automargin": true,
            "type": "pie"
           }
          ],
          "scatter": [
           {
            "marker": {
             "colorbar": {
              "outlinewidth": 0,
              "ticks": ""
             }
            },
            "type": "scatter"
           }
          ],
          "scatter3d": [
           {
            "line": {
             "colorbar": {
              "outlinewidth": 0,
              "ticks": ""
             }
            },
            "marker": {
             "colorbar": {
              "outlinewidth": 0,
              "ticks": ""
             }
            },
            "type": "scatter3d"
           }
          ],
          "scattercarpet": [
           {
            "marker": {
             "colorbar": {
              "outlinewidth": 0,
              "ticks": ""
             }
            },
            "type": "scattercarpet"
           }
          ],
          "scattergeo": [
           {
            "marker": {
             "colorbar": {
              "outlinewidth": 0,
              "ticks": ""
             }
            },
            "type": "scattergeo"
           }
          ],
          "scattergl": [
           {
            "marker": {
             "colorbar": {
              "outlinewidth": 0,
              "ticks": ""
             }
            },
            "type": "scattergl"
           }
          ],
          "scattermapbox": [
           {
            "marker": {
             "colorbar": {
              "outlinewidth": 0,
              "ticks": ""
             }
            },
            "type": "scattermapbox"
           }
          ],
          "scatterpolar": [
           {
            "marker": {
             "colorbar": {
              "outlinewidth": 0,
              "ticks": ""
             }
            },
            "type": "scatterpolar"
           }
          ],
          "scatterpolargl": [
           {
            "marker": {
             "colorbar": {
              "outlinewidth": 0,
              "ticks": ""
             }
            },
            "type": "scatterpolargl"
           }
          ],
          "scatterternary": [
           {
            "marker": {
             "colorbar": {
              "outlinewidth": 0,
              "ticks": ""
             }
            },
            "type": "scatterternary"
           }
          ],
          "surface": [
           {
            "colorbar": {
             "outlinewidth": 0,
             "ticks": ""
            },
            "colorscale": [
             [
              0,
              "#0d0887"
             ],
             [
              0.1111111111111111,
              "#46039f"
             ],
             [
              0.2222222222222222,
              "#7201a8"
             ],
             [
              0.3333333333333333,
              "#9c179e"
             ],
             [
              0.4444444444444444,
              "#bd3786"
             ],
             [
              0.5555555555555556,
              "#d8576b"
             ],
             [
              0.6666666666666666,
              "#ed7953"
             ],
             [
              0.7777777777777778,
              "#fb9f3a"
             ],
             [
              0.8888888888888888,
              "#fdca26"
             ],
             [
              1,
              "#f0f921"
             ]
            ],
            "type": "surface"
           }
          ],
          "table": [
           {
            "cells": {
             "fill": {
              "color": "#EBF0F8"
             },
             "line": {
              "color": "white"
             }
            },
            "header": {
             "fill": {
              "color": "#C8D4E3"
             },
             "line": {
              "color": "white"
             }
            },
            "type": "table"
           }
          ]
         },
         "layout": {
          "annotationdefaults": {
           "arrowcolor": "#2a3f5f",
           "arrowhead": 0,
           "arrowwidth": 1
          },
          "autotypenumbers": "strict",
          "coloraxis": {
           "colorbar": {
            "outlinewidth": 0,
            "ticks": ""
           }
          },
          "colorscale": {
           "diverging": [
            [
             0,
             "#8e0152"
            ],
            [
             0.1,
             "#c51b7d"
            ],
            [
             0.2,
             "#de77ae"
            ],
            [
             0.3,
             "#f1b6da"
            ],
            [
             0.4,
             "#fde0ef"
            ],
            [
             0.5,
             "#f7f7f7"
            ],
            [
             0.6,
             "#e6f5d0"
            ],
            [
             0.7,
             "#b8e186"
            ],
            [
             0.8,
             "#7fbc41"
            ],
            [
             0.9,
             "#4d9221"
            ],
            [
             1,
             "#276419"
            ]
           ],
           "sequential": [
            [
             0,
             "#0d0887"
            ],
            [
             0.1111111111111111,
             "#46039f"
            ],
            [
             0.2222222222222222,
             "#7201a8"
            ],
            [
             0.3333333333333333,
             "#9c179e"
            ],
            [
             0.4444444444444444,
             "#bd3786"
            ],
            [
             0.5555555555555556,
             "#d8576b"
            ],
            [
             0.6666666666666666,
             "#ed7953"
            ],
            [
             0.7777777777777778,
             "#fb9f3a"
            ],
            [
             0.8888888888888888,
             "#fdca26"
            ],
            [
             1,
             "#f0f921"
            ]
           ],
           "sequentialminus": [
            [
             0,
             "#0d0887"
            ],
            [
             0.1111111111111111,
             "#46039f"
            ],
            [
             0.2222222222222222,
             "#7201a8"
            ],
            [
             0.3333333333333333,
             "#9c179e"
            ],
            [
             0.4444444444444444,
             "#bd3786"
            ],
            [
             0.5555555555555556,
             "#d8576b"
            ],
            [
             0.6666666666666666,
             "#ed7953"
            ],
            [
             0.7777777777777778,
             "#fb9f3a"
            ],
            [
             0.8888888888888888,
             "#fdca26"
            ],
            [
             1,
             "#f0f921"
            ]
           ]
          },
          "colorway": [
           "#636efa",
           "#EF553B",
           "#00cc96",
           "#ab63fa",
           "#FFA15A",
           "#19d3f3",
           "#FF6692",
           "#B6E880",
           "#FF97FF",
           "#FECB52"
          ],
          "font": {
           "color": "#2a3f5f"
          },
          "geo": {
           "bgcolor": "white",
           "lakecolor": "white",
           "landcolor": "#E5ECF6",
           "showlakes": true,
           "showland": true,
           "subunitcolor": "white"
          },
          "hoverlabel": {
           "align": "left"
          },
          "hovermode": "closest",
          "mapbox": {
           "style": "light"
          },
          "paper_bgcolor": "white",
          "plot_bgcolor": "#E5ECF6",
          "polar": {
           "angularaxis": {
            "gridcolor": "white",
            "linecolor": "white",
            "ticks": ""
           },
           "bgcolor": "#E5ECF6",
           "radialaxis": {
            "gridcolor": "white",
            "linecolor": "white",
            "ticks": ""
           }
          },
          "scene": {
           "xaxis": {
            "backgroundcolor": "#E5ECF6",
            "gridcolor": "white",
            "gridwidth": 2,
            "linecolor": "white",
            "showbackground": true,
            "ticks": "",
            "zerolinecolor": "white"
           },
           "yaxis": {
            "backgroundcolor": "#E5ECF6",
            "gridcolor": "white",
            "gridwidth": 2,
            "linecolor": "white",
            "showbackground": true,
            "ticks": "",
            "zerolinecolor": "white"
           },
           "zaxis": {
            "backgroundcolor": "#E5ECF6",
            "gridcolor": "white",
            "gridwidth": 2,
            "linecolor": "white",
            "showbackground": true,
            "ticks": "",
            "zerolinecolor": "white"
           }
          },
          "shapedefaults": {
           "line": {
            "color": "#2a3f5f"
           }
          },
          "ternary": {
           "aaxis": {
            "gridcolor": "white",
            "linecolor": "white",
            "ticks": ""
           },
           "baxis": {
            "gridcolor": "white",
            "linecolor": "white",
            "ticks": ""
           },
           "bgcolor": "#E5ECF6",
           "caxis": {
            "gridcolor": "white",
            "linecolor": "white",
            "ticks": ""
           }
          },
          "title": {
           "x": 0.05
          },
          "xaxis": {
           "automargin": true,
           "gridcolor": "white",
           "linecolor": "white",
           "ticks": "",
           "title": {
            "standoff": 15
           },
           "zerolinecolor": "white",
           "zerolinewidth": 2
          },
          "yaxis": {
           "automargin": true,
           "gridcolor": "white",
           "linecolor": "white",
           "ticks": "",
           "title": {
            "standoff": 15
           },
           "zerolinecolor": "white",
           "zerolinewidth": 2
          }
         }
        },
        "title": {
         "font": {
          "color": "#4D5663"
         }
        },
        "xaxis": {
         "anchor": "y",
         "domain": [
          0,
          0.2125
         ],
         "gridcolor": "#E1E5ED",
         "showgrid": false,
         "tickfont": {
          "color": "#4D5663"
         },
         "title": {
          "font": {
           "color": "#4D5663"
          },
          "text": ""
         },
         "zerolinecolor": "#E1E5ED"
        },
        "xaxis10": {
         "anchor": "y10",
         "domain": [
          0.2625,
          0.475
         ],
         "gridcolor": "#E1E5ED",
         "showgrid": false,
         "tickfont": {
          "color": "#4D5663"
         },
         "title": {
          "font": {
           "color": "#4D5663"
          },
          "text": ""
         },
         "zerolinecolor": "#E1E5ED"
        },
        "xaxis11": {
         "anchor": "y11",
         "domain": [
          0.525,
          0.7375
         ],
         "gridcolor": "#E1E5ED",
         "showgrid": false,
         "tickfont": {
          "color": "#4D5663"
         },
         "title": {
          "font": {
           "color": "#4D5663"
          },
          "text": ""
         },
         "zerolinecolor": "#E1E5ED"
        },
        "xaxis12": {
         "anchor": "y12",
         "domain": [
          0.7875,
          1
         ],
         "gridcolor": "#E1E5ED",
         "showgrid": false,
         "tickfont": {
          "color": "#4D5663"
         },
         "title": {
          "font": {
           "color": "#4D5663"
          },
          "text": ""
         },
         "zerolinecolor": "#E1E5ED"
        },
        "xaxis13": {
         "anchor": "y13",
         "domain": [
          0,
          0.2125
         ],
         "gridcolor": "#E1E5ED",
         "showgrid": false,
         "tickfont": {
          "color": "#4D5663"
         },
         "title": {
          "font": {
           "color": "#4D5663"
          },
          "text": ""
         },
         "zerolinecolor": "#E1E5ED"
        },
        "xaxis14": {
         "anchor": "y14",
         "domain": [
          0.2625,
          0.475
         ],
         "gridcolor": "#E1E5ED",
         "showgrid": false,
         "tickfont": {
          "color": "#4D5663"
         },
         "title": {
          "font": {
           "color": "#4D5663"
          },
          "text": ""
         },
         "zerolinecolor": "#E1E5ED"
        },
        "xaxis15": {
         "anchor": "y15",
         "domain": [
          0.525,
          0.7375
         ],
         "gridcolor": "#E1E5ED",
         "showgrid": false,
         "tickfont": {
          "color": "#4D5663"
         },
         "title": {
          "font": {
           "color": "#4D5663"
          },
          "text": ""
         },
         "zerolinecolor": "#E1E5ED"
        },
        "xaxis16": {
         "anchor": "y16",
         "domain": [
          0.7875,
          1
         ],
         "gridcolor": "#E1E5ED",
         "showgrid": false,
         "tickfont": {
          "color": "#4D5663"
         },
         "title": {
          "font": {
           "color": "#4D5663"
          },
          "text": ""
         },
         "zerolinecolor": "#E1E5ED"
        },
        "xaxis2": {
         "anchor": "y2",
         "domain": [
          0.2625,
          0.475
         ],
         "gridcolor": "#E1E5ED",
         "showgrid": false,
         "tickfont": {
          "color": "#4D5663"
         },
         "title": {
          "font": {
           "color": "#4D5663"
          },
          "text": ""
         },
         "zerolinecolor": "#E1E5ED"
        },
        "xaxis3": {
         "anchor": "y3",
         "domain": [
          0.525,
          0.7375
         ],
         "gridcolor": "#E1E5ED",
         "showgrid": false,
         "tickfont": {
          "color": "#4D5663"
         },
         "title": {
          "font": {
           "color": "#4D5663"
          },
          "text": ""
         },
         "zerolinecolor": "#E1E5ED"
        },
        "xaxis4": {
         "anchor": "y4",
         "domain": [
          0.7875,
          1
         ],
         "gridcolor": "#E1E5ED",
         "showgrid": false,
         "tickfont": {
          "color": "#4D5663"
         },
         "title": {
          "font": {
           "color": "#4D5663"
          },
          "text": ""
         },
         "zerolinecolor": "#E1E5ED"
        },
        "xaxis5": {
         "anchor": "y5",
         "domain": [
          0,
          0.2125
         ],
         "gridcolor": "#E1E5ED",
         "showgrid": false,
         "tickfont": {
          "color": "#4D5663"
         },
         "title": {
          "font": {
           "color": "#4D5663"
          },
          "text": ""
         },
         "zerolinecolor": "#E1E5ED"
        },
        "xaxis6": {
         "anchor": "y6",
         "domain": [
          0.2625,
          0.475
         ],
         "gridcolor": "#E1E5ED",
         "showgrid": false,
         "tickfont": {
          "color": "#4D5663"
         },
         "title": {
          "font": {
           "color": "#4D5663"
          },
          "text": ""
         },
         "zerolinecolor": "#E1E5ED"
        },
        "xaxis7": {
         "anchor": "y7",
         "domain": [
          0.525,
          0.7375
         ],
         "gridcolor": "#E1E5ED",
         "showgrid": false,
         "tickfont": {
          "color": "#4D5663"
         },
         "title": {
          "font": {
           "color": "#4D5663"
          },
          "text": ""
         },
         "zerolinecolor": "#E1E5ED"
        },
        "xaxis8": {
         "anchor": "y8",
         "domain": [
          0.7875,
          1
         ],
         "gridcolor": "#E1E5ED",
         "showgrid": false,
         "tickfont": {
          "color": "#4D5663"
         },
         "title": {
          "font": {
           "color": "#4D5663"
          },
          "text": ""
         },
         "zerolinecolor": "#E1E5ED"
        },
        "xaxis9": {
         "anchor": "y9",
         "domain": [
          0,
          0.2125
         ],
         "gridcolor": "#E1E5ED",
         "showgrid": false,
         "tickfont": {
          "color": "#4D5663"
         },
         "title": {
          "font": {
           "color": "#4D5663"
          },
          "text": ""
         },
         "zerolinecolor": "#E1E5ED"
        },
        "yaxis": {
         "anchor": "x",
         "domain": [
          0.8025,
          1
         ],
         "gridcolor": "#E1E5ED",
         "showgrid": false,
         "tickfont": {
          "color": "#4D5663"
         },
         "title": {
          "font": {
           "color": "#4D5663"
          },
          "text": ""
         },
         "zerolinecolor": "#E1E5ED"
        },
        "yaxis10": {
         "anchor": "x10",
         "domain": [
          0.2675,
          0.465
         ],
         "gridcolor": "#E1E5ED",
         "showgrid": false,
         "tickfont": {
          "color": "#4D5663"
         },
         "title": {
          "font": {
           "color": "#4D5663"
          },
          "text": ""
         },
         "zerolinecolor": "#E1E5ED"
        },
        "yaxis11": {
         "anchor": "x11",
         "domain": [
          0.2675,
          0.465
         ],
         "gridcolor": "#E1E5ED",
         "showgrid": false,
         "tickfont": {
          "color": "#4D5663"
         },
         "title": {
          "font": {
           "color": "#4D5663"
          },
          "text": ""
         },
         "zerolinecolor": "#E1E5ED"
        },
        "yaxis12": {
         "anchor": "x12",
         "domain": [
          0.2675,
          0.465
         ],
         "gridcolor": "#E1E5ED",
         "showgrid": false,
         "tickfont": {
          "color": "#4D5663"
         },
         "title": {
          "font": {
           "color": "#4D5663"
          },
          "text": ""
         },
         "zerolinecolor": "#E1E5ED"
        },
        "yaxis13": {
         "anchor": "x13",
         "domain": [
          0,
          0.1975
         ],
         "gridcolor": "#E1E5ED",
         "showgrid": false,
         "tickfont": {
          "color": "#4D5663"
         },
         "title": {
          "font": {
           "color": "#4D5663"
          },
          "text": ""
         },
         "zerolinecolor": "#E1E5ED"
        },
        "yaxis14": {
         "anchor": "x14",
         "domain": [
          0,
          0.1975
         ],
         "gridcolor": "#E1E5ED",
         "showgrid": false,
         "tickfont": {
          "color": "#4D5663"
         },
         "title": {
          "font": {
           "color": "#4D5663"
          },
          "text": ""
         },
         "zerolinecolor": "#E1E5ED"
        },
        "yaxis15": {
         "anchor": "x15",
         "domain": [
          0,
          0.1975
         ],
         "gridcolor": "#E1E5ED",
         "showgrid": false,
         "tickfont": {
          "color": "#4D5663"
         },
         "title": {
          "font": {
           "color": "#4D5663"
          },
          "text": ""
         },
         "zerolinecolor": "#E1E5ED"
        },
        "yaxis16": {
         "anchor": "x16",
         "domain": [
          0,
          0.1975
         ],
         "gridcolor": "#E1E5ED",
         "showgrid": false,
         "tickfont": {
          "color": "#4D5663"
         },
         "title": {
          "font": {
           "color": "#4D5663"
          },
          "text": ""
         },
         "zerolinecolor": "#E1E5ED"
        },
        "yaxis2": {
         "anchor": "x2",
         "domain": [
          0.8025,
          1
         ],
         "gridcolor": "#E1E5ED",
         "showgrid": false,
         "tickfont": {
          "color": "#4D5663"
         },
         "title": {
          "font": {
           "color": "#4D5663"
          },
          "text": ""
         },
         "zerolinecolor": "#E1E5ED"
        },
        "yaxis3": {
         "anchor": "x3",
         "domain": [
          0.8025,
          1
         ],
         "gridcolor": "#E1E5ED",
         "showgrid": false,
         "tickfont": {
          "color": "#4D5663"
         },
         "title": {
          "font": {
           "color": "#4D5663"
          },
          "text": ""
         },
         "zerolinecolor": "#E1E5ED"
        },
        "yaxis4": {
         "anchor": "x4",
         "domain": [
          0.8025,
          1
         ],
         "gridcolor": "#E1E5ED",
         "showgrid": false,
         "tickfont": {
          "color": "#4D5663"
         },
         "title": {
          "font": {
           "color": "#4D5663"
          },
          "text": ""
         },
         "zerolinecolor": "#E1E5ED"
        },
        "yaxis5": {
         "anchor": "x5",
         "domain": [
          0.535,
          0.7325
         ],
         "gridcolor": "#E1E5ED",
         "showgrid": false,
         "tickfont": {
          "color": "#4D5663"
         },
         "title": {
          "font": {
           "color": "#4D5663"
          },
          "text": ""
         },
         "zerolinecolor": "#E1E5ED"
        },
        "yaxis6": {
         "anchor": "x6",
         "domain": [
          0.535,
          0.7325
         ],
         "gridcolor": "#E1E5ED",
         "showgrid": false,
         "tickfont": {
          "color": "#4D5663"
         },
         "title": {
          "font": {
           "color": "#4D5663"
          },
          "text": ""
         },
         "zerolinecolor": "#E1E5ED"
        },
        "yaxis7": {
         "anchor": "x7",
         "domain": [
          0.535,
          0.7325
         ],
         "gridcolor": "#E1E5ED",
         "showgrid": false,
         "tickfont": {
          "color": "#4D5663"
         },
         "title": {
          "font": {
           "color": "#4D5663"
          },
          "text": ""
         },
         "zerolinecolor": "#E1E5ED"
        },
        "yaxis8": {
         "anchor": "x8",
         "domain": [
          0.535,
          0.7325
         ],
         "gridcolor": "#E1E5ED",
         "showgrid": false,
         "tickfont": {
          "color": "#4D5663"
         },
         "title": {
          "font": {
           "color": "#4D5663"
          },
          "text": ""
         },
         "zerolinecolor": "#E1E5ED"
        },
        "yaxis9": {
         "anchor": "x9",
         "domain": [
          0.2675,
          0.465
         ],
         "gridcolor": "#E1E5ED",
         "showgrid": false,
         "tickfont": {
          "color": "#4D5663"
         },
         "title": {
          "font": {
           "color": "#4D5663"
          },
          "text": ""
         },
         "zerolinecolor": "#E1E5ED"
        }
       }
      },
      "text/html": [
       "<div>                            <div id=\"21ab560b-c815-42ee-81af-f4a1ba537f98\" class=\"plotly-graph-div\" style=\"height:525px; width:100%;\"></div>            <script type=\"text/javascript\">                require([\"plotly\"], function(Plotly) {                    window.PLOTLYENV=window.PLOTLYENV || {};\n",
       "                    window.PLOTLYENV.BASE_URL='https://plot.ly';                                    if (document.getElementById(\"21ab560b-c815-42ee-81af-f4a1ba537f98\")) {                    Plotly.newPlot(                        \"21ab560b-c815-42ee-81af-f4a1ba537f98\",                        [{\"histfunc\":\"count\",\"histnorm\":\"\",\"marker\":{\"color\":\"rgba(255, 153, 51, 1.0)\",\"line\":{\"color\":\"#4D5663\",\"width\":1.3}},\"name\":\"A\",\"nbinsx\":10,\"opacity\":0.8,\"orientation\":\"v\",\"x\":[-0.3497734254771835,0.5583236144971976,1.0210338390182403,0.7833067604547665,1.6462849509104058,-0.7372755607522767,0.9881508966271882,0.14398838038901476,-0.6395676601793224,0.6291591032308805,1.3470169543296011,0.60968541723478,1.7636746057249477,-0.8968347110563231,1.1061992371572222,0.44411579330015866,-0.4910466503882815,-0.46352959198906274,-1.381458377602349,0.8509163423647723,1.4268676166900143,1.2007370070130767,0.3090613141255533,-0.3209463480469782,1.0765472388705708,1.5095524793854327,0.11806543873081181,1.8566919692700568,-0.8220431176199894,-0.8557816023136964,-1.9698929315893803,-0.2645274617925079,0.4674957207486842,-0.7598034286404655,-0.09316392607820459,-0.11288405529306757,-0.7718474232824881,-0.30971869052360046,0.3188546937996816,-0.3833733336548828,-1.26409683214929,-0.260610568878272,-0.8724907032434537,-0.6843172926825293,0.9410366903204676,0.5674477518189098,-0.07158642241174541,-1.8124280141646631,-1.4928103512959483,1.643157157597684,0.6093130094966801,-0.9776498459499772,-0.6637523839034207,0.44044446528203607,-1.8459802910301286,0.9930741770617006,0.41774133566523103,-0.09330237801047414,-0.7229100824409184,-0.16409341879725245,-1.2503439337761084,-0.5470496191739559,2.0386594730120065,-0.36908233025570886,-0.9250062299172206,-1.049546627000459,0.33175448123373075,0.9583714991373541,-2.1414378743802054,0.029573053775218225,-0.37324905528350794,1.42743012206251,-1.0404331204863992,1.334297972923157,0.8687276958286853,-0.2657337201171915,-0.6483819246588316,-0.24411340590570904,0.8505625725136822,-0.9179899937538808,0.8837406184286677,1.2499050427703942,0.33803720522963754,-0.6719806178223434,-1.4049437087691334,0.7386471634448698,0.9459537223565966,-0.6158054534571311,-1.0153312336632523,0.0924594831228007,0.17288858565747628,0.15420059591782365,-0.9485218735971477,-0.7324767569691258,0.17741031455593906,-0.590903068024523,-2.305888866671554,-0.6263816050863013,-0.0159640671396924,1.2145738337263368],\"xaxis\":\"x\",\"yaxis\":\"y\",\"type\":\"histogram\"},{\"line\":{\"color\":\"rgba(128, 128, 128, 1.0)\",\"dash\":\"solid\",\"shape\":\"linear\",\"width\":1.3},\"marker\":{\"size\":2,\"symbol\":\"circle\"},\"mode\":\"markers\",\"name\":\"A\",\"text\":\"\",\"x\":[1.1700434818844438,1.0751258509099173,-1.0083558806672341,-1.0207489561575065,2.449361100561767,-0.7175292061587076,-0.368063200704348,-0.2069764602363649,-0.5852792240627692,0.21418680003139948,3.5417689407035073,-0.8937838034366977,-0.450364359714211,-0.48201024793974095,-1.1477346930123722,-0.4551181416866834,0.39689090096151236,-1.085332249768537,-0.3330302827084691,-0.09164557937808074,0.8209906788667682,-0.18259882874169228,1.414664742141667,-1.3168984602931946,-1.0673751875441888,-0.8811015444791677,1.1573950121989691,-1.9420689925822388,0.15254426213926583,-0.5106440815180584,-1.1407698919771738,0.9658187833865867,0.09032980787959194,0.5105956795061436,-1.5445015493646832,-0.529670046477799,-1.2951546206741757,-2.26897320406101,2.0647400026491787,0.7912257586064879,-0.9435855795774132,-0.0792530039589136,-0.701391406857763,0.3904899555187702,-0.12401867350010902,-1.1770981578075772,1.3699958165123711,1.1383701335229368,1.0753035171938106,2.3566664850434185,0.28328978448650277,-0.2278154516210515,-1.5229891887572231,1.6115199927052717,-0.4770954007952236,-0.03244258909954915,-0.01973863081231562,-0.9240201466956118,-0.7018806548826212,1.116257598901643,-2.374321527801769,2.1079872052410247,0.6982011140111537,-1.0555114969250081,-0.3897723937818329,1.1925231381245627,1.2237381227711939,0.5989850587870378,-0.8991782314803098,0.5255067693703722,2.7586264976767483,-0.0788469074477344,-0.853278412662128,-1.2219390892924478,0.10246149478772258,0.6284426117915223,0.512062339056357,-0.9386584410755775,1.6755332861886518,-0.8947338550700419,-0.4122518141392201,0.32106067012965067,2.1975821633476937,0.9364725716982593,-1.00268240741226,-1.9229183584789276,0.843620878659984,1.4771597910462655,-1.1347015325896048,0.9918722842152485,0.013184538681476031,0.44169861274054656,0.583312537359923,-0.8523979073270433,-0.910846088535007,-0.6928852005666618,0.9272107055521642,1.1217693677540292,1.1415382607103743,-0.5431411104261837],\"xaxis\":\"x2\",\"y\":[-0.3497734254771835,0.5583236144971976,1.0210338390182403,0.7833067604547665,1.6462849509104058,-0.7372755607522767,0.9881508966271882,0.14398838038901476,-0.6395676601793224,0.6291591032308805,1.3470169543296011,0.60968541723478,1.7636746057249477,-0.8968347110563231,1.1061992371572222,0.44411579330015866,-0.4910466503882815,-0.46352959198906274,-1.381458377602349,0.8509163423647723,1.4268676166900143,1.2007370070130767,0.3090613141255533,-0.3209463480469782,1.0765472388705708,1.5095524793854327,0.11806543873081181,1.8566919692700568,-0.8220431176199894,-0.8557816023136964,-1.9698929315893803,-0.2645274617925079,0.4674957207486842,-0.7598034286404655,-0.09316392607820459,-0.11288405529306757,-0.7718474232824881,-0.30971869052360046,0.3188546937996816,-0.3833733336548828,-1.26409683214929,-0.260610568878272,-0.8724907032434537,-0.6843172926825293,0.9410366903204676,0.5674477518189098,-0.07158642241174541,-1.8124280141646631,-1.4928103512959483,1.643157157597684,0.6093130094966801,-0.9776498459499772,-0.6637523839034207,0.44044446528203607,-1.8459802910301286,0.9930741770617006,0.41774133566523103,-0.09330237801047414,-0.7229100824409184,-0.16409341879725245,-1.2503439337761084,-0.5470496191739559,2.0386594730120065,-0.36908233025570886,-0.9250062299172206,-1.049546627000459,0.33175448123373075,0.9583714991373541,-2.1414378743802054,0.029573053775218225,-0.37324905528350794,1.42743012206251,-1.0404331204863992,1.334297972923157,0.8687276958286853,-0.2657337201171915,-0.6483819246588316,-0.24411340590570904,0.8505625725136822,-0.9179899937538808,0.8837406184286677,1.2499050427703942,0.33803720522963754,-0.6719806178223434,-1.4049437087691334,0.7386471634448698,0.9459537223565966,-0.6158054534571311,-1.0153312336632523,0.0924594831228007,0.17288858565747628,0.15420059591782365,-0.9485218735971477,-0.7324767569691258,0.17741031455593906,-0.590903068024523,-2.305888866671554,-0.6263816050863013,-0.0159640671396924,1.2145738337263368],\"yaxis\":\"y2\",\"type\":\"scatter\"},{\"line\":{\"color\":\"rgba(128, 128, 128, 1.0)\",\"dash\":\"solid\",\"shape\":\"linear\",\"width\":1.3},\"marker\":{\"size\":2,\"symbol\":\"circle\"},\"mode\":\"markers\",\"name\":\"A\",\"text\":\"\",\"x\":[1.473083332255314,0.9258496787072514,1.8967152084603263,0.5094757693900035,0.7146004798243432,-1.1536876350709635,0.18548193530260024,-0.5075062148515169,-1.5268904269312875,0.6327675065365713,-1.742833178440796,-0.17760792279074386,-0.42993561146729475,-0.1179318962451331,-0.21883793411321237,0.21035180606533244,0.6456782916462754,0.497836559419002,-0.22454369521798712,1.0002162002607486,-0.27976775514967345,-2.056135470053321,-0.3511032564122926,0.4882445400939479,-0.6959759103681386,0.23140989326553035,0.12838188251732172,0.1474251727868586,-1.028327141684152,-0.37662685279761027,0.7161771806860826,-0.693620953106078,0.7365791592639287,1.5664657691276676,-0.76605114693056,0.037460110483771805,-0.4545069367144243,-2.816201515590873,0.44476014461409424,3.987028889778592,0.2382839959031368,0.1544714297602142,-1.1839143285918141,-0.04325443245265641,-0.08472937679164963,-0.39019797024732433,0.5403505042879775,0.4784431651531812,0.8283730166762587,-0.2132079379782824,0.10906692402751189,1.0681804289532224,-1.0209083394130125,0.5206690130888805,-0.27918154735984085,0.29200225134038177,1.905288479546918,0.3997104096709477,0.5013842971397798,-1.1656804407539827,0.6455516818425268,1.541026740339318,2.6996725442982576,0.6193919600500564,1.2594267228801967,2.03764182392081,2.02358563544627,0.1372364950453501,-1.1538969677054436,-1.2251744553445316,1.1821627669887178,1.362524384554462,-1.1512441351555531,-1.097578509925831,-0.6364242289158625,-1.1886913836996127,-0.9538117092849445,-0.9603629932333726,0.14755689083253284,0.6680012472139528,0.6544043421773577,-0.10335629168952583,0.521061728181091,-0.08728947758018604,0.3836813455518674,-0.3644919329855644,0.5486957487826961,0.13757325737363496,-0.48418748892721414,0.4568733162095446,-1.5496006269331533,-0.06743847782881852,-0.2061053566554512,-0.29416175176257753,1.051303153982947,-0.8479007078060758,-0.9464950884751328,0.3658755855969737,-0.5155006411077879,-1.4771406666187883],\"xaxis\":\"x3\",\"y\":[-0.3497734254771835,0.5583236144971976,1.0210338390182403,0.7833067604547665,1.6462849509104058,-0.7372755607522767,0.9881508966271882,0.14398838038901476,-0.6395676601793224,0.6291591032308805,1.3470169543296011,0.60968541723478,1.7636746057249477,-0.8968347110563231,1.1061992371572222,0.44411579330015866,-0.4910466503882815,-0.46352959198906274,-1.381458377602349,0.8509163423647723,1.4268676166900143,1.2007370070130767,0.3090613141255533,-0.3209463480469782,1.0765472388705708,1.5095524793854327,0.11806543873081181,1.8566919692700568,-0.8220431176199894,-0.8557816023136964,-1.9698929315893803,-0.2645274617925079,0.4674957207486842,-0.7598034286404655,-0.09316392607820459,-0.11288405529306757,-0.7718474232824881,-0.30971869052360046,0.3188546937996816,-0.3833733336548828,-1.26409683214929,-0.260610568878272,-0.8724907032434537,-0.6843172926825293,0.9410366903204676,0.5674477518189098,-0.07158642241174541,-1.8124280141646631,-1.4928103512959483,1.643157157597684,0.6093130094966801,-0.9776498459499772,-0.6637523839034207,0.44044446528203607,-1.8459802910301286,0.9930741770617006,0.41774133566523103,-0.09330237801047414,-0.7229100824409184,-0.16409341879725245,-1.2503439337761084,-0.5470496191739559,2.0386594730120065,-0.36908233025570886,-0.9250062299172206,-1.049546627000459,0.33175448123373075,0.9583714991373541,-2.1414378743802054,0.029573053775218225,-0.37324905528350794,1.42743012206251,-1.0404331204863992,1.334297972923157,0.8687276958286853,-0.2657337201171915,-0.6483819246588316,-0.24411340590570904,0.8505625725136822,-0.9179899937538808,0.8837406184286677,1.2499050427703942,0.33803720522963754,-0.6719806178223434,-1.4049437087691334,0.7386471634448698,0.9459537223565966,-0.6158054534571311,-1.0153312336632523,0.0924594831228007,0.17288858565747628,0.15420059591782365,-0.9485218735971477,-0.7324767569691258,0.17741031455593906,-0.590903068024523,-2.305888866671554,-0.6263816050863013,-0.0159640671396924,1.2145738337263368],\"yaxis\":\"y3\",\"type\":\"scatter\"},{\"line\":{\"color\":\"rgba(128, 128, 128, 1.0)\",\"dash\":\"solid\",\"shape\":\"linear\",\"width\":1.3},\"marker\":{\"size\":2,\"symbol\":\"circle\"},\"mode\":\"markers\",\"name\":\"A\",\"text\":\"\",\"x\":[-0.09003317590129503,1.0457917887062516,-0.29423220585512144,0.9574203445353496,-0.616241572606183,-0.5534767167714887,-0.402317520418005,-0.3198694237949411,-0.20986129184730268,-0.48481591628900955,0.3108071402504388,-2.1263382754100926,0.5837854118415968,1.0774759457251781,-0.12690922521057807,-1.032326010492601,0.621589276294923,-0.7558846540535813,0.5632004862443952,0.49559126946667226,0.27007365672731926,-0.23087880885944598,-1.3508501568502214,0.6288045519625935,0.06070987626653908,0.5965206752027222,-0.3990050270985692,0.11016658644061711,0.9663052119247858,0.35598252226894833,1.181185378826927,-2.3542627344060123,-0.09989175348051689,-1.2864459617402262,0.7288787403538859,1.0275471483629939,0.3171744183826212,0.15292413156519483,0.4550521613937916,0.5213790352963008,0.20318742251749508,0.48968368411199914,1.0769271256618655,-0.7208314446177871,-0.30430270873146514,-0.2690205310950531,1.0670149019246906,-0.894036317760341,0.42233411240554236,0.09463389593503285,0.3147842006938459,0.4856944509627888,2.822214131806755,0.31877350771443885,-0.8737946052935149,0.41233255732261115,-0.258945595402433,-0.9787725054168861,-0.41951840428865167,1.5049078192404473,-0.6002948664947724,-1.0402769229253626,-2.209506979417579,0.4007706232758198,0.6827919523767328,-0.7605663558840473,1.5466680829995878,0.2620314303239416,-1.4394773540690347,-0.6648546447808864,1.9603814736896064,0.2407875553980244,-0.5352119766189058,0.46096472752861317,1.3972868847907869,1.2890455957248392,0.48194092192672566,-0.8358341932639045,2.3004323348148605,1.5090343332030582,1.065422354286108,0.05754205364635004,0.05680937623707559,-0.5364577596823272,-0.6415186288104496,-0.9744011481401438,1.3155933877242785,-0.9683416732732715,0.07031433648700804,-0.9387365342791136,0.274963338186455,0.6173360180172238,-0.5768096481829308,-0.5853500394299408,-0.5456480354585667,-0.7215920562298185,1.2157961289744859,-0.19076909957151217,0.9379843244981523,-1.4249333623212475],\"xaxis\":\"x4\",\"y\":[-0.3497734254771835,0.5583236144971976,1.0210338390182403,0.7833067604547665,1.6462849509104058,-0.7372755607522767,0.9881508966271882,0.14398838038901476,-0.6395676601793224,0.6291591032308805,1.3470169543296011,0.60968541723478,1.7636746057249477,-0.8968347110563231,1.1061992371572222,0.44411579330015866,-0.4910466503882815,-0.46352959198906274,-1.381458377602349,0.8509163423647723,1.4268676166900143,1.2007370070130767,0.3090613141255533,-0.3209463480469782,1.0765472388705708,1.5095524793854327,0.11806543873081181,1.8566919692700568,-0.8220431176199894,-0.8557816023136964,-1.9698929315893803,-0.2645274617925079,0.4674957207486842,-0.7598034286404655,-0.09316392607820459,-0.11288405529306757,-0.7718474232824881,-0.30971869052360046,0.3188546937996816,-0.3833733336548828,-1.26409683214929,-0.260610568878272,-0.8724907032434537,-0.6843172926825293,0.9410366903204676,0.5674477518189098,-0.07158642241174541,-1.8124280141646631,-1.4928103512959483,1.643157157597684,0.6093130094966801,-0.9776498459499772,-0.6637523839034207,0.44044446528203607,-1.8459802910301286,0.9930741770617006,0.41774133566523103,-0.09330237801047414,-0.7229100824409184,-0.16409341879725245,-1.2503439337761084,-0.5470496191739559,2.0386594730120065,-0.36908233025570886,-0.9250062299172206,-1.049546627000459,0.33175448123373075,0.9583714991373541,-2.1414378743802054,0.029573053775218225,-0.37324905528350794,1.42743012206251,-1.0404331204863992,1.334297972923157,0.8687276958286853,-0.2657337201171915,-0.6483819246588316,-0.24411340590570904,0.8505625725136822,-0.9179899937538808,0.8837406184286677,1.2499050427703942,0.33803720522963754,-0.6719806178223434,-1.4049437087691334,0.7386471634448698,0.9459537223565966,-0.6158054534571311,-1.0153312336632523,0.0924594831228007,0.17288858565747628,0.15420059591782365,-0.9485218735971477,-0.7324767569691258,0.17741031455593906,-0.590903068024523,-2.305888866671554,-0.6263816050863013,-0.0159640671396924,1.2145738337263368],\"yaxis\":\"y4\",\"type\":\"scatter\"},{\"line\":{\"color\":\"rgba(128, 128, 128, 1.0)\",\"dash\":\"solid\",\"shape\":\"linear\",\"width\":1.3},\"marker\":{\"size\":2,\"symbol\":\"circle\"},\"mode\":\"markers\",\"name\":\"B\",\"text\":\"\",\"x\":[-0.3497734254771835,0.5583236144971976,1.0210338390182403,0.7833067604547665,1.6462849509104058,-0.7372755607522767,0.9881508966271882,0.14398838038901476,-0.6395676601793224,0.6291591032308805,1.3470169543296011,0.60968541723478,1.7636746057249477,-0.8968347110563231,1.1061992371572222,0.44411579330015866,-0.4910466503882815,-0.46352959198906274,-1.381458377602349,0.8509163423647723,1.4268676166900143,1.2007370070130767,0.3090613141255533,-0.3209463480469782,1.0765472388705708,1.5095524793854327,0.11806543873081181,1.8566919692700568,-0.8220431176199894,-0.8557816023136964,-1.9698929315893803,-0.2645274617925079,0.4674957207486842,-0.7598034286404655,-0.09316392607820459,-0.11288405529306757,-0.7718474232824881,-0.30971869052360046,0.3188546937996816,-0.3833733336548828,-1.26409683214929,-0.260610568878272,-0.8724907032434537,-0.6843172926825293,0.9410366903204676,0.5674477518189098,-0.07158642241174541,-1.8124280141646631,-1.4928103512959483,1.643157157597684,0.6093130094966801,-0.9776498459499772,-0.6637523839034207,0.44044446528203607,-1.8459802910301286,0.9930741770617006,0.41774133566523103,-0.09330237801047414,-0.7229100824409184,-0.16409341879725245,-1.2503439337761084,-0.5470496191739559,2.0386594730120065,-0.36908233025570886,-0.9250062299172206,-1.049546627000459,0.33175448123373075,0.9583714991373541,-2.1414378743802054,0.029573053775218225,-0.37324905528350794,1.42743012206251,-1.0404331204863992,1.334297972923157,0.8687276958286853,-0.2657337201171915,-0.6483819246588316,-0.24411340590570904,0.8505625725136822,-0.9179899937538808,0.8837406184286677,1.2499050427703942,0.33803720522963754,-0.6719806178223434,-1.4049437087691334,0.7386471634448698,0.9459537223565966,-0.6158054534571311,-1.0153312336632523,0.0924594831228007,0.17288858565747628,0.15420059591782365,-0.9485218735971477,-0.7324767569691258,0.17741031455593906,-0.590903068024523,-2.305888866671554,-0.6263816050863013,-0.0159640671396924,1.2145738337263368],\"xaxis\":\"x5\",\"y\":[1.1700434818844438,1.0751258509099173,-1.0083558806672341,-1.0207489561575065,2.449361100561767,-0.7175292061587076,-0.368063200704348,-0.2069764602363649,-0.5852792240627692,0.21418680003139948,3.5417689407035073,-0.8937838034366977,-0.450364359714211,-0.48201024793974095,-1.1477346930123722,-0.4551181416866834,0.39689090096151236,-1.085332249768537,-0.3330302827084691,-0.09164557937808074,0.8209906788667682,-0.18259882874169228,1.414664742141667,-1.3168984602931946,-1.0673751875441888,-0.8811015444791677,1.1573950121989691,-1.9420689925822388,0.15254426213926583,-0.5106440815180584,-1.1407698919771738,0.9658187833865867,0.09032980787959194,0.5105956795061436,-1.5445015493646832,-0.529670046477799,-1.2951546206741757,-2.26897320406101,2.0647400026491787,0.7912257586064879,-0.9435855795774132,-0.0792530039589136,-0.701391406857763,0.3904899555187702,-0.12401867350010902,-1.1770981578075772,1.3699958165123711,1.1383701335229368,1.0753035171938106,2.3566664850434185,0.28328978448650277,-0.2278154516210515,-1.5229891887572231,1.6115199927052717,-0.4770954007952236,-0.03244258909954915,-0.01973863081231562,-0.9240201466956118,-0.7018806548826212,1.116257598901643,-2.374321527801769,2.1079872052410247,0.6982011140111537,-1.0555114969250081,-0.3897723937818329,1.1925231381245627,1.2237381227711939,0.5989850587870378,-0.8991782314803098,0.5255067693703722,2.7586264976767483,-0.0788469074477344,-0.853278412662128,-1.2219390892924478,0.10246149478772258,0.6284426117915223,0.512062339056357,-0.9386584410755775,1.6755332861886518,-0.8947338550700419,-0.4122518141392201,0.32106067012965067,2.1975821633476937,0.9364725716982593,-1.00268240741226,-1.9229183584789276,0.843620878659984,1.4771597910462655,-1.1347015325896048,0.9918722842152485,0.013184538681476031,0.44169861274054656,0.583312537359923,-0.8523979073270433,-0.910846088535007,-0.6928852005666618,0.9272107055521642,1.1217693677540292,1.1415382607103743,-0.5431411104261837],\"yaxis\":\"y5\",\"type\":\"scatter\"},{\"histfunc\":\"count\",\"histnorm\":\"\",\"marker\":{\"color\":\"rgba(55, 128, 191, 1.0)\",\"line\":{\"color\":\"#4D5663\",\"width\":1.3}},\"name\":\"B\",\"nbinsx\":10,\"opacity\":0.8,\"orientation\":\"v\",\"x\":[1.1700434818844438,1.0751258509099173,-1.0083558806672341,-1.0207489561575065,2.449361100561767,-0.7175292061587076,-0.368063200704348,-0.2069764602363649,-0.5852792240627692,0.21418680003139948,3.5417689407035073,-0.8937838034366977,-0.450364359714211,-0.48201024793974095,-1.1477346930123722,-0.4551181416866834,0.39689090096151236,-1.085332249768537,-0.3330302827084691,-0.09164557937808074,0.8209906788667682,-0.18259882874169228,1.414664742141667,-1.3168984602931946,-1.0673751875441888,-0.8811015444791677,1.1573950121989691,-1.9420689925822388,0.15254426213926583,-0.5106440815180584,-1.1407698919771738,0.9658187833865867,0.09032980787959194,0.5105956795061436,-1.5445015493646832,-0.529670046477799,-1.2951546206741757,-2.26897320406101,2.0647400026491787,0.7912257586064879,-0.9435855795774132,-0.0792530039589136,-0.701391406857763,0.3904899555187702,-0.12401867350010902,-1.1770981578075772,1.3699958165123711,1.1383701335229368,1.0753035171938106,2.3566664850434185,0.28328978448650277,-0.2278154516210515,-1.5229891887572231,1.6115199927052717,-0.4770954007952236,-0.03244258909954915,-0.01973863081231562,-0.9240201466956118,-0.7018806548826212,1.116257598901643,-2.374321527801769,2.1079872052410247,0.6982011140111537,-1.0555114969250081,-0.3897723937818329,1.1925231381245627,1.2237381227711939,0.5989850587870378,-0.8991782314803098,0.5255067693703722,2.7586264976767483,-0.0788469074477344,-0.853278412662128,-1.2219390892924478,0.10246149478772258,0.6284426117915223,0.512062339056357,-0.9386584410755775,1.6755332861886518,-0.8947338550700419,-0.4122518141392201,0.32106067012965067,2.1975821633476937,0.9364725716982593,-1.00268240741226,-1.9229183584789276,0.843620878659984,1.4771597910462655,-1.1347015325896048,0.9918722842152485,0.013184538681476031,0.44169861274054656,0.583312537359923,-0.8523979073270433,-0.910846088535007,-0.6928852005666618,0.9272107055521642,1.1217693677540292,1.1415382607103743,-0.5431411104261837],\"xaxis\":\"x6\",\"yaxis\":\"y6\",\"type\":\"histogram\"},{\"line\":{\"color\":\"rgba(128, 128, 128, 1.0)\",\"dash\":\"solid\",\"shape\":\"linear\",\"width\":1.3},\"marker\":{\"size\":2,\"symbol\":\"circle\"},\"mode\":\"markers\",\"name\":\"B\",\"text\":\"\",\"x\":[1.473083332255314,0.9258496787072514,1.8967152084603263,0.5094757693900035,0.7146004798243432,-1.1536876350709635,0.18548193530260024,-0.5075062148515169,-1.5268904269312875,0.6327675065365713,-1.742833178440796,-0.17760792279074386,-0.42993561146729475,-0.1179318962451331,-0.21883793411321237,0.21035180606533244,0.6456782916462754,0.497836559419002,-0.22454369521798712,1.0002162002607486,-0.27976775514967345,-2.056135470053321,-0.3511032564122926,0.4882445400939479,-0.6959759103681386,0.23140989326553035,0.12838188251732172,0.1474251727868586,-1.028327141684152,-0.37662685279761027,0.7161771806860826,-0.693620953106078,0.7365791592639287,1.5664657691276676,-0.76605114693056,0.037460110483771805,-0.4545069367144243,-2.816201515590873,0.44476014461409424,3.987028889778592,0.2382839959031368,0.1544714297602142,-1.1839143285918141,-0.04325443245265641,-0.08472937679164963,-0.39019797024732433,0.5403505042879775,0.4784431651531812,0.8283730166762587,-0.2132079379782824,0.10906692402751189,1.0681804289532224,-1.0209083394130125,0.5206690130888805,-0.27918154735984085,0.29200225134038177,1.905288479546918,0.3997104096709477,0.5013842971397798,-1.1656804407539827,0.6455516818425268,1.541026740339318,2.6996725442982576,0.6193919600500564,1.2594267228801967,2.03764182392081,2.02358563544627,0.1372364950453501,-1.1538969677054436,-1.2251744553445316,1.1821627669887178,1.362524384554462,-1.1512441351555531,-1.097578509925831,-0.6364242289158625,-1.1886913836996127,-0.9538117092849445,-0.9603629932333726,0.14755689083253284,0.6680012472139528,0.6544043421773577,-0.10335629168952583,0.521061728181091,-0.08728947758018604,0.3836813455518674,-0.3644919329855644,0.5486957487826961,0.13757325737363496,-0.48418748892721414,0.4568733162095446,-1.5496006269331533,-0.06743847782881852,-0.2061053566554512,-0.29416175176257753,1.051303153982947,-0.8479007078060758,-0.9464950884751328,0.3658755855969737,-0.5155006411077879,-1.4771406666187883],\"xaxis\":\"x7\",\"y\":[1.1700434818844438,1.0751258509099173,-1.0083558806672341,-1.0207489561575065,2.449361100561767,-0.7175292061587076,-0.368063200704348,-0.2069764602363649,-0.5852792240627692,0.21418680003139948,3.5417689407035073,-0.8937838034366977,-0.450364359714211,-0.48201024793974095,-1.1477346930123722,-0.4551181416866834,0.39689090096151236,-1.085332249768537,-0.3330302827084691,-0.09164557937808074,0.8209906788667682,-0.18259882874169228,1.414664742141667,-1.3168984602931946,-1.0673751875441888,-0.8811015444791677,1.1573950121989691,-1.9420689925822388,0.15254426213926583,-0.5106440815180584,-1.1407698919771738,0.9658187833865867,0.09032980787959194,0.5105956795061436,-1.5445015493646832,-0.529670046477799,-1.2951546206741757,-2.26897320406101,2.0647400026491787,0.7912257586064879,-0.9435855795774132,-0.0792530039589136,-0.701391406857763,0.3904899555187702,-0.12401867350010902,-1.1770981578075772,1.3699958165123711,1.1383701335229368,1.0753035171938106,2.3566664850434185,0.28328978448650277,-0.2278154516210515,-1.5229891887572231,1.6115199927052717,-0.4770954007952236,-0.03244258909954915,-0.01973863081231562,-0.9240201466956118,-0.7018806548826212,1.116257598901643,-2.374321527801769,2.1079872052410247,0.6982011140111537,-1.0555114969250081,-0.3897723937818329,1.1925231381245627,1.2237381227711939,0.5989850587870378,-0.8991782314803098,0.5255067693703722,2.7586264976767483,-0.0788469074477344,-0.853278412662128,-1.2219390892924478,0.10246149478772258,0.6284426117915223,0.512062339056357,-0.9386584410755775,1.6755332861886518,-0.8947338550700419,-0.4122518141392201,0.32106067012965067,2.1975821633476937,0.9364725716982593,-1.00268240741226,-1.9229183584789276,0.843620878659984,1.4771597910462655,-1.1347015325896048,0.9918722842152485,0.013184538681476031,0.44169861274054656,0.583312537359923,-0.8523979073270433,-0.910846088535007,-0.6928852005666618,0.9272107055521642,1.1217693677540292,1.1415382607103743,-0.5431411104261837],\"yaxis\":\"y7\",\"type\":\"scatter\"},{\"line\":{\"color\":\"rgba(128, 128, 128, 1.0)\",\"dash\":\"solid\",\"shape\":\"linear\",\"width\":1.3},\"marker\":{\"size\":2,\"symbol\":\"circle\"},\"mode\":\"markers\",\"name\":\"B\",\"text\":\"\",\"x\":[-0.09003317590129503,1.0457917887062516,-0.29423220585512144,0.9574203445353496,-0.616241572606183,-0.5534767167714887,-0.402317520418005,-0.3198694237949411,-0.20986129184730268,-0.48481591628900955,0.3108071402504388,-2.1263382754100926,0.5837854118415968,1.0774759457251781,-0.12690922521057807,-1.032326010492601,0.621589276294923,-0.7558846540535813,0.5632004862443952,0.49559126946667226,0.27007365672731926,-0.23087880885944598,-1.3508501568502214,0.6288045519625935,0.06070987626653908,0.5965206752027222,-0.3990050270985692,0.11016658644061711,0.9663052119247858,0.35598252226894833,1.181185378826927,-2.3542627344060123,-0.09989175348051689,-1.2864459617402262,0.7288787403538859,1.0275471483629939,0.3171744183826212,0.15292413156519483,0.4550521613937916,0.5213790352963008,0.20318742251749508,0.48968368411199914,1.0769271256618655,-0.7208314446177871,-0.30430270873146514,-0.2690205310950531,1.0670149019246906,-0.894036317760341,0.42233411240554236,0.09463389593503285,0.3147842006938459,0.4856944509627888,2.822214131806755,0.31877350771443885,-0.8737946052935149,0.41233255732261115,-0.258945595402433,-0.9787725054168861,-0.41951840428865167,1.5049078192404473,-0.6002948664947724,-1.0402769229253626,-2.209506979417579,0.4007706232758198,0.6827919523767328,-0.7605663558840473,1.5466680829995878,0.2620314303239416,-1.4394773540690347,-0.6648546447808864,1.9603814736896064,0.2407875553980244,-0.5352119766189058,0.46096472752861317,1.3972868847907869,1.2890455957248392,0.48194092192672566,-0.8358341932639045,2.3004323348148605,1.5090343332030582,1.065422354286108,0.05754205364635004,0.05680937623707559,-0.5364577596823272,-0.6415186288104496,-0.9744011481401438,1.3155933877242785,-0.9683416732732715,0.07031433648700804,-0.9387365342791136,0.274963338186455,0.6173360180172238,-0.5768096481829308,-0.5853500394299408,-0.5456480354585667,-0.7215920562298185,1.2157961289744859,-0.19076909957151217,0.9379843244981523,-1.4249333623212475],\"xaxis\":\"x8\",\"y\":[1.1700434818844438,1.0751258509099173,-1.0083558806672341,-1.0207489561575065,2.449361100561767,-0.7175292061587076,-0.368063200704348,-0.2069764602363649,-0.5852792240627692,0.21418680003139948,3.5417689407035073,-0.8937838034366977,-0.450364359714211,-0.48201024793974095,-1.1477346930123722,-0.4551181416866834,0.39689090096151236,-1.085332249768537,-0.3330302827084691,-0.09164557937808074,0.8209906788667682,-0.18259882874169228,1.414664742141667,-1.3168984602931946,-1.0673751875441888,-0.8811015444791677,1.1573950121989691,-1.9420689925822388,0.15254426213926583,-0.5106440815180584,-1.1407698919771738,0.9658187833865867,0.09032980787959194,0.5105956795061436,-1.5445015493646832,-0.529670046477799,-1.2951546206741757,-2.26897320406101,2.0647400026491787,0.7912257586064879,-0.9435855795774132,-0.0792530039589136,-0.701391406857763,0.3904899555187702,-0.12401867350010902,-1.1770981578075772,1.3699958165123711,1.1383701335229368,1.0753035171938106,2.3566664850434185,0.28328978448650277,-0.2278154516210515,-1.5229891887572231,1.6115199927052717,-0.4770954007952236,-0.03244258909954915,-0.01973863081231562,-0.9240201466956118,-0.7018806548826212,1.116257598901643,-2.374321527801769,2.1079872052410247,0.6982011140111537,-1.0555114969250081,-0.3897723937818329,1.1925231381245627,1.2237381227711939,0.5989850587870378,-0.8991782314803098,0.5255067693703722,2.7586264976767483,-0.0788469074477344,-0.853278412662128,-1.2219390892924478,0.10246149478772258,0.6284426117915223,0.512062339056357,-0.9386584410755775,1.6755332861886518,-0.8947338550700419,-0.4122518141392201,0.32106067012965067,2.1975821633476937,0.9364725716982593,-1.00268240741226,-1.9229183584789276,0.843620878659984,1.4771597910462655,-1.1347015325896048,0.9918722842152485,0.013184538681476031,0.44169861274054656,0.583312537359923,-0.8523979073270433,-0.910846088535007,-0.6928852005666618,0.9272107055521642,1.1217693677540292,1.1415382607103743,-0.5431411104261837],\"yaxis\":\"y8\",\"type\":\"scatter\"},{\"line\":{\"color\":\"rgba(128, 128, 128, 1.0)\",\"dash\":\"solid\",\"shape\":\"linear\",\"width\":1.3},\"marker\":{\"size\":2,\"symbol\":\"circle\"},\"mode\":\"markers\",\"name\":\"C\",\"text\":\"\",\"x\":[-0.3497734254771835,0.5583236144971976,1.0210338390182403,0.7833067604547665,1.6462849509104058,-0.7372755607522767,0.9881508966271882,0.14398838038901476,-0.6395676601793224,0.6291591032308805,1.3470169543296011,0.60968541723478,1.7636746057249477,-0.8968347110563231,1.1061992371572222,0.44411579330015866,-0.4910466503882815,-0.46352959198906274,-1.381458377602349,0.8509163423647723,1.4268676166900143,1.2007370070130767,0.3090613141255533,-0.3209463480469782,1.0765472388705708,1.5095524793854327,0.11806543873081181,1.8566919692700568,-0.8220431176199894,-0.8557816023136964,-1.9698929315893803,-0.2645274617925079,0.4674957207486842,-0.7598034286404655,-0.09316392607820459,-0.11288405529306757,-0.7718474232824881,-0.30971869052360046,0.3188546937996816,-0.3833733336548828,-1.26409683214929,-0.260610568878272,-0.8724907032434537,-0.6843172926825293,0.9410366903204676,0.5674477518189098,-0.07158642241174541,-1.8124280141646631,-1.4928103512959483,1.643157157597684,0.6093130094966801,-0.9776498459499772,-0.6637523839034207,0.44044446528203607,-1.8459802910301286,0.9930741770617006,0.41774133566523103,-0.09330237801047414,-0.7229100824409184,-0.16409341879725245,-1.2503439337761084,-0.5470496191739559,2.0386594730120065,-0.36908233025570886,-0.9250062299172206,-1.049546627000459,0.33175448123373075,0.9583714991373541,-2.1414378743802054,0.029573053775218225,-0.37324905528350794,1.42743012206251,-1.0404331204863992,1.334297972923157,0.8687276958286853,-0.2657337201171915,-0.6483819246588316,-0.24411340590570904,0.8505625725136822,-0.9179899937538808,0.8837406184286677,1.2499050427703942,0.33803720522963754,-0.6719806178223434,-1.4049437087691334,0.7386471634448698,0.9459537223565966,-0.6158054534571311,-1.0153312336632523,0.0924594831228007,0.17288858565747628,0.15420059591782365,-0.9485218735971477,-0.7324767569691258,0.17741031455593906,-0.590903068024523,-2.305888866671554,-0.6263816050863013,-0.0159640671396924,1.2145738337263368],\"xaxis\":\"x9\",\"y\":[1.473083332255314,0.9258496787072514,1.8967152084603263,0.5094757693900035,0.7146004798243432,-1.1536876350709635,0.18548193530260024,-0.5075062148515169,-1.5268904269312875,0.6327675065365713,-1.742833178440796,-0.17760792279074386,-0.42993561146729475,-0.1179318962451331,-0.21883793411321237,0.21035180606533244,0.6456782916462754,0.497836559419002,-0.22454369521798712,1.0002162002607486,-0.27976775514967345,-2.056135470053321,-0.3511032564122926,0.4882445400939479,-0.6959759103681386,0.23140989326553035,0.12838188251732172,0.1474251727868586,-1.028327141684152,-0.37662685279761027,0.7161771806860826,-0.693620953106078,0.7365791592639287,1.5664657691276676,-0.76605114693056,0.037460110483771805,-0.4545069367144243,-2.816201515590873,0.44476014461409424,3.987028889778592,0.2382839959031368,0.1544714297602142,-1.1839143285918141,-0.04325443245265641,-0.08472937679164963,-0.39019797024732433,0.5403505042879775,0.4784431651531812,0.8283730166762587,-0.2132079379782824,0.10906692402751189,1.0681804289532224,-1.0209083394130125,0.5206690130888805,-0.27918154735984085,0.29200225134038177,1.905288479546918,0.3997104096709477,0.5013842971397798,-1.1656804407539827,0.6455516818425268,1.541026740339318,2.6996725442982576,0.6193919600500564,1.2594267228801967,2.03764182392081,2.02358563544627,0.1372364950453501,-1.1538969677054436,-1.2251744553445316,1.1821627669887178,1.362524384554462,-1.1512441351555531,-1.097578509925831,-0.6364242289158625,-1.1886913836996127,-0.9538117092849445,-0.9603629932333726,0.14755689083253284,0.6680012472139528,0.6544043421773577,-0.10335629168952583,0.521061728181091,-0.08728947758018604,0.3836813455518674,-0.3644919329855644,0.5486957487826961,0.13757325737363496,-0.48418748892721414,0.4568733162095446,-1.5496006269331533,-0.06743847782881852,-0.2061053566554512,-0.29416175176257753,1.051303153982947,-0.8479007078060758,-0.9464950884751328,0.3658755855969737,-0.5155006411077879,-1.4771406666187883],\"yaxis\":\"y9\",\"type\":\"scatter\"},{\"line\":{\"color\":\"rgba(128, 128, 128, 1.0)\",\"dash\":\"solid\",\"shape\":\"linear\",\"width\":1.3},\"marker\":{\"size\":2,\"symbol\":\"circle\"},\"mode\":\"markers\",\"name\":\"C\",\"text\":\"\",\"x\":[1.1700434818844438,1.0751258509099173,-1.0083558806672341,-1.0207489561575065,2.449361100561767,-0.7175292061587076,-0.368063200704348,-0.2069764602363649,-0.5852792240627692,0.21418680003139948,3.5417689407035073,-0.8937838034366977,-0.450364359714211,-0.48201024793974095,-1.1477346930123722,-0.4551181416866834,0.39689090096151236,-1.085332249768537,-0.3330302827084691,-0.09164557937808074,0.8209906788667682,-0.18259882874169228,1.414664742141667,-1.3168984602931946,-1.0673751875441888,-0.8811015444791677,1.1573950121989691,-1.9420689925822388,0.15254426213926583,-0.5106440815180584,-1.1407698919771738,0.9658187833865867,0.09032980787959194,0.5105956795061436,-1.5445015493646832,-0.529670046477799,-1.2951546206741757,-2.26897320406101,2.0647400026491787,0.7912257586064879,-0.9435855795774132,-0.0792530039589136,-0.701391406857763,0.3904899555187702,-0.12401867350010902,-1.1770981578075772,1.3699958165123711,1.1383701335229368,1.0753035171938106,2.3566664850434185,0.28328978448650277,-0.2278154516210515,-1.5229891887572231,1.6115199927052717,-0.4770954007952236,-0.03244258909954915,-0.01973863081231562,-0.9240201466956118,-0.7018806548826212,1.116257598901643,-2.374321527801769,2.1079872052410247,0.6982011140111537,-1.0555114969250081,-0.3897723937818329,1.1925231381245627,1.2237381227711939,0.5989850587870378,-0.8991782314803098,0.5255067693703722,2.7586264976767483,-0.0788469074477344,-0.853278412662128,-1.2219390892924478,0.10246149478772258,0.6284426117915223,0.512062339056357,-0.9386584410755775,1.6755332861886518,-0.8947338550700419,-0.4122518141392201,0.32106067012965067,2.1975821633476937,0.9364725716982593,-1.00268240741226,-1.9229183584789276,0.843620878659984,1.4771597910462655,-1.1347015325896048,0.9918722842152485,0.013184538681476031,0.44169861274054656,0.583312537359923,-0.8523979073270433,-0.910846088535007,-0.6928852005666618,0.9272107055521642,1.1217693677540292,1.1415382607103743,-0.5431411104261837],\"xaxis\":\"x10\",\"y\":[1.473083332255314,0.9258496787072514,1.8967152084603263,0.5094757693900035,0.7146004798243432,-1.1536876350709635,0.18548193530260024,-0.5075062148515169,-1.5268904269312875,0.6327675065365713,-1.742833178440796,-0.17760792279074386,-0.42993561146729475,-0.1179318962451331,-0.21883793411321237,0.21035180606533244,0.6456782916462754,0.497836559419002,-0.22454369521798712,1.0002162002607486,-0.27976775514967345,-2.056135470053321,-0.3511032564122926,0.4882445400939479,-0.6959759103681386,0.23140989326553035,0.12838188251732172,0.1474251727868586,-1.028327141684152,-0.37662685279761027,0.7161771806860826,-0.693620953106078,0.7365791592639287,1.5664657691276676,-0.76605114693056,0.037460110483771805,-0.4545069367144243,-2.816201515590873,0.44476014461409424,3.987028889778592,0.2382839959031368,0.1544714297602142,-1.1839143285918141,-0.04325443245265641,-0.08472937679164963,-0.39019797024732433,0.5403505042879775,0.4784431651531812,0.8283730166762587,-0.2132079379782824,0.10906692402751189,1.0681804289532224,-1.0209083394130125,0.5206690130888805,-0.27918154735984085,0.29200225134038177,1.905288479546918,0.3997104096709477,0.5013842971397798,-1.1656804407539827,0.6455516818425268,1.541026740339318,2.6996725442982576,0.6193919600500564,1.2594267228801967,2.03764182392081,2.02358563544627,0.1372364950453501,-1.1538969677054436,-1.2251744553445316,1.1821627669887178,1.362524384554462,-1.1512441351555531,-1.097578509925831,-0.6364242289158625,-1.1886913836996127,-0.9538117092849445,-0.9603629932333726,0.14755689083253284,0.6680012472139528,0.6544043421773577,-0.10335629168952583,0.521061728181091,-0.08728947758018604,0.3836813455518674,-0.3644919329855644,0.5486957487826961,0.13757325737363496,-0.48418748892721414,0.4568733162095446,-1.5496006269331533,-0.06743847782881852,-0.2061053566554512,-0.29416175176257753,1.051303153982947,-0.8479007078060758,-0.9464950884751328,0.3658755855969737,-0.5155006411077879,-1.4771406666187883],\"yaxis\":\"y10\",\"type\":\"scatter\"},{\"histfunc\":\"count\",\"histnorm\":\"\",\"marker\":{\"color\":\"rgba(50, 171, 96, 1.0)\",\"line\":{\"color\":\"#4D5663\",\"width\":1.3}},\"name\":\"C\",\"nbinsx\":10,\"opacity\":0.8,\"orientation\":\"v\",\"x\":[1.473083332255314,0.9258496787072514,1.8967152084603263,0.5094757693900035,0.7146004798243432,-1.1536876350709635,0.18548193530260024,-0.5075062148515169,-1.5268904269312875,0.6327675065365713,-1.742833178440796,-0.17760792279074386,-0.42993561146729475,-0.1179318962451331,-0.21883793411321237,0.21035180606533244,0.6456782916462754,0.497836559419002,-0.22454369521798712,1.0002162002607486,-0.27976775514967345,-2.056135470053321,-0.3511032564122926,0.4882445400939479,-0.6959759103681386,0.23140989326553035,0.12838188251732172,0.1474251727868586,-1.028327141684152,-0.37662685279761027,0.7161771806860826,-0.693620953106078,0.7365791592639287,1.5664657691276676,-0.76605114693056,0.037460110483771805,-0.4545069367144243,-2.816201515590873,0.44476014461409424,3.987028889778592,0.2382839959031368,0.1544714297602142,-1.1839143285918141,-0.04325443245265641,-0.08472937679164963,-0.39019797024732433,0.5403505042879775,0.4784431651531812,0.8283730166762587,-0.2132079379782824,0.10906692402751189,1.0681804289532224,-1.0209083394130125,0.5206690130888805,-0.27918154735984085,0.29200225134038177,1.905288479546918,0.3997104096709477,0.5013842971397798,-1.1656804407539827,0.6455516818425268,1.541026740339318,2.6996725442982576,0.6193919600500564,1.2594267228801967,2.03764182392081,2.02358563544627,0.1372364950453501,-1.1538969677054436,-1.2251744553445316,1.1821627669887178,1.362524384554462,-1.1512441351555531,-1.097578509925831,-0.6364242289158625,-1.1886913836996127,-0.9538117092849445,-0.9603629932333726,0.14755689083253284,0.6680012472139528,0.6544043421773577,-0.10335629168952583,0.521061728181091,-0.08728947758018604,0.3836813455518674,-0.3644919329855644,0.5486957487826961,0.13757325737363496,-0.48418748892721414,0.4568733162095446,-1.5496006269331533,-0.06743847782881852,-0.2061053566554512,-0.29416175176257753,1.051303153982947,-0.8479007078060758,-0.9464950884751328,0.3658755855969737,-0.5155006411077879,-1.4771406666187883],\"xaxis\":\"x11\",\"yaxis\":\"y11\",\"type\":\"histogram\"},{\"line\":{\"color\":\"rgba(128, 128, 128, 1.0)\",\"dash\":\"solid\",\"shape\":\"linear\",\"width\":1.3},\"marker\":{\"size\":2,\"symbol\":\"circle\"},\"mode\":\"markers\",\"name\":\"C\",\"text\":\"\",\"x\":[-0.09003317590129503,1.0457917887062516,-0.29423220585512144,0.9574203445353496,-0.616241572606183,-0.5534767167714887,-0.402317520418005,-0.3198694237949411,-0.20986129184730268,-0.48481591628900955,0.3108071402504388,-2.1263382754100926,0.5837854118415968,1.0774759457251781,-0.12690922521057807,-1.032326010492601,0.621589276294923,-0.7558846540535813,0.5632004862443952,0.49559126946667226,0.27007365672731926,-0.23087880885944598,-1.3508501568502214,0.6288045519625935,0.06070987626653908,0.5965206752027222,-0.3990050270985692,0.11016658644061711,0.9663052119247858,0.35598252226894833,1.181185378826927,-2.3542627344060123,-0.09989175348051689,-1.2864459617402262,0.7288787403538859,1.0275471483629939,0.3171744183826212,0.15292413156519483,0.4550521613937916,0.5213790352963008,0.20318742251749508,0.48968368411199914,1.0769271256618655,-0.7208314446177871,-0.30430270873146514,-0.2690205310950531,1.0670149019246906,-0.894036317760341,0.42233411240554236,0.09463389593503285,0.3147842006938459,0.4856944509627888,2.822214131806755,0.31877350771443885,-0.8737946052935149,0.41233255732261115,-0.258945595402433,-0.9787725054168861,-0.41951840428865167,1.5049078192404473,-0.6002948664947724,-1.0402769229253626,-2.209506979417579,0.4007706232758198,0.6827919523767328,-0.7605663558840473,1.5466680829995878,0.2620314303239416,-1.4394773540690347,-0.6648546447808864,1.9603814736896064,0.2407875553980244,-0.5352119766189058,0.46096472752861317,1.3972868847907869,1.2890455957248392,0.48194092192672566,-0.8358341932639045,2.3004323348148605,1.5090343332030582,1.065422354286108,0.05754205364635004,0.05680937623707559,-0.5364577596823272,-0.6415186288104496,-0.9744011481401438,1.3155933877242785,-0.9683416732732715,0.07031433648700804,-0.9387365342791136,0.274963338186455,0.6173360180172238,-0.5768096481829308,-0.5853500394299408,-0.5456480354585667,-0.7215920562298185,1.2157961289744859,-0.19076909957151217,0.9379843244981523,-1.4249333623212475],\"xaxis\":\"x12\",\"y\":[1.473083332255314,0.9258496787072514,1.8967152084603263,0.5094757693900035,0.7146004798243432,-1.1536876350709635,0.18548193530260024,-0.5075062148515169,-1.5268904269312875,0.6327675065365713,-1.742833178440796,-0.17760792279074386,-0.42993561146729475,-0.1179318962451331,-0.21883793411321237,0.21035180606533244,0.6456782916462754,0.497836559419002,-0.22454369521798712,1.0002162002607486,-0.27976775514967345,-2.056135470053321,-0.3511032564122926,0.4882445400939479,-0.6959759103681386,0.23140989326553035,0.12838188251732172,0.1474251727868586,-1.028327141684152,-0.37662685279761027,0.7161771806860826,-0.693620953106078,0.7365791592639287,1.5664657691276676,-0.76605114693056,0.037460110483771805,-0.4545069367144243,-2.816201515590873,0.44476014461409424,3.987028889778592,0.2382839959031368,0.1544714297602142,-1.1839143285918141,-0.04325443245265641,-0.08472937679164963,-0.39019797024732433,0.5403505042879775,0.4784431651531812,0.8283730166762587,-0.2132079379782824,0.10906692402751189,1.0681804289532224,-1.0209083394130125,0.5206690130888805,-0.27918154735984085,0.29200225134038177,1.905288479546918,0.3997104096709477,0.5013842971397798,-1.1656804407539827,0.6455516818425268,1.541026740339318,2.6996725442982576,0.6193919600500564,1.2594267228801967,2.03764182392081,2.02358563544627,0.1372364950453501,-1.1538969677054436,-1.2251744553445316,1.1821627669887178,1.362524384554462,-1.1512441351555531,-1.097578509925831,-0.6364242289158625,-1.1886913836996127,-0.9538117092849445,-0.9603629932333726,0.14755689083253284,0.6680012472139528,0.6544043421773577,-0.10335629168952583,0.521061728181091,-0.08728947758018604,0.3836813455518674,-0.3644919329855644,0.5486957487826961,0.13757325737363496,-0.48418748892721414,0.4568733162095446,-1.5496006269331533,-0.06743847782881852,-0.2061053566554512,-0.29416175176257753,1.051303153982947,-0.8479007078060758,-0.9464950884751328,0.3658755855969737,-0.5155006411077879,-1.4771406666187883],\"yaxis\":\"y12\",\"type\":\"scatter\"},{\"line\":{\"color\":\"rgba(128, 128, 128, 1.0)\",\"dash\":\"solid\",\"shape\":\"linear\",\"width\":1.3},\"marker\":{\"size\":2,\"symbol\":\"circle\"},\"mode\":\"markers\",\"name\":\"D\",\"text\":\"\",\"x\":[-0.3497734254771835,0.5583236144971976,1.0210338390182403,0.7833067604547665,1.6462849509104058,-0.7372755607522767,0.9881508966271882,0.14398838038901476,-0.6395676601793224,0.6291591032308805,1.3470169543296011,0.60968541723478,1.7636746057249477,-0.8968347110563231,1.1061992371572222,0.44411579330015866,-0.4910466503882815,-0.46352959198906274,-1.381458377602349,0.8509163423647723,1.4268676166900143,1.2007370070130767,0.3090613141255533,-0.3209463480469782,1.0765472388705708,1.5095524793854327,0.11806543873081181,1.8566919692700568,-0.8220431176199894,-0.8557816023136964,-1.9698929315893803,-0.2645274617925079,0.4674957207486842,-0.7598034286404655,-0.09316392607820459,-0.11288405529306757,-0.7718474232824881,-0.30971869052360046,0.3188546937996816,-0.3833733336548828,-1.26409683214929,-0.260610568878272,-0.8724907032434537,-0.6843172926825293,0.9410366903204676,0.5674477518189098,-0.07158642241174541,-1.8124280141646631,-1.4928103512959483,1.643157157597684,0.6093130094966801,-0.9776498459499772,-0.6637523839034207,0.44044446528203607,-1.8459802910301286,0.9930741770617006,0.41774133566523103,-0.09330237801047414,-0.7229100824409184,-0.16409341879725245,-1.2503439337761084,-0.5470496191739559,2.0386594730120065,-0.36908233025570886,-0.9250062299172206,-1.049546627000459,0.33175448123373075,0.9583714991373541,-2.1414378743802054,0.029573053775218225,-0.37324905528350794,1.42743012206251,-1.0404331204863992,1.334297972923157,0.8687276958286853,-0.2657337201171915,-0.6483819246588316,-0.24411340590570904,0.8505625725136822,-0.9179899937538808,0.8837406184286677,1.2499050427703942,0.33803720522963754,-0.6719806178223434,-1.4049437087691334,0.7386471634448698,0.9459537223565966,-0.6158054534571311,-1.0153312336632523,0.0924594831228007,0.17288858565747628,0.15420059591782365,-0.9485218735971477,-0.7324767569691258,0.17741031455593906,-0.590903068024523,-2.305888866671554,-0.6263816050863013,-0.0159640671396924,1.2145738337263368],\"xaxis\":\"x13\",\"y\":[-0.09003317590129503,1.0457917887062516,-0.29423220585512144,0.9574203445353496,-0.616241572606183,-0.5534767167714887,-0.402317520418005,-0.3198694237949411,-0.20986129184730268,-0.48481591628900955,0.3108071402504388,-2.1263382754100926,0.5837854118415968,1.0774759457251781,-0.12690922521057807,-1.032326010492601,0.621589276294923,-0.7558846540535813,0.5632004862443952,0.49559126946667226,0.27007365672731926,-0.23087880885944598,-1.3508501568502214,0.6288045519625935,0.06070987626653908,0.5965206752027222,-0.3990050270985692,0.11016658644061711,0.9663052119247858,0.35598252226894833,1.181185378826927,-2.3542627344060123,-0.09989175348051689,-1.2864459617402262,0.7288787403538859,1.0275471483629939,0.3171744183826212,0.15292413156519483,0.4550521613937916,0.5213790352963008,0.20318742251749508,0.48968368411199914,1.0769271256618655,-0.7208314446177871,-0.30430270873146514,-0.2690205310950531,1.0670149019246906,-0.894036317760341,0.42233411240554236,0.09463389593503285,0.3147842006938459,0.4856944509627888,2.822214131806755,0.31877350771443885,-0.8737946052935149,0.41233255732261115,-0.258945595402433,-0.9787725054168861,-0.41951840428865167,1.5049078192404473,-0.6002948664947724,-1.0402769229253626,-2.209506979417579,0.4007706232758198,0.6827919523767328,-0.7605663558840473,1.5466680829995878,0.2620314303239416,-1.4394773540690347,-0.6648546447808864,1.9603814736896064,0.2407875553980244,-0.5352119766189058,0.46096472752861317,1.3972868847907869,1.2890455957248392,0.48194092192672566,-0.8358341932639045,2.3004323348148605,1.5090343332030582,1.065422354286108,0.05754205364635004,0.05680937623707559,-0.5364577596823272,-0.6415186288104496,-0.9744011481401438,1.3155933877242785,-0.9683416732732715,0.07031433648700804,-0.9387365342791136,0.274963338186455,0.6173360180172238,-0.5768096481829308,-0.5853500394299408,-0.5456480354585667,-0.7215920562298185,1.2157961289744859,-0.19076909957151217,0.9379843244981523,-1.4249333623212475],\"yaxis\":\"y13\",\"type\":\"scatter\"},{\"line\":{\"color\":\"rgba(128, 128, 128, 1.0)\",\"dash\":\"solid\",\"shape\":\"linear\",\"width\":1.3},\"marker\":{\"size\":2,\"symbol\":\"circle\"},\"mode\":\"markers\",\"name\":\"D\",\"text\":\"\",\"x\":[1.1700434818844438,1.0751258509099173,-1.0083558806672341,-1.0207489561575065,2.449361100561767,-0.7175292061587076,-0.368063200704348,-0.2069764602363649,-0.5852792240627692,0.21418680003139948,3.5417689407035073,-0.8937838034366977,-0.450364359714211,-0.48201024793974095,-1.1477346930123722,-0.4551181416866834,0.39689090096151236,-1.085332249768537,-0.3330302827084691,-0.09164557937808074,0.8209906788667682,-0.18259882874169228,1.414664742141667,-1.3168984602931946,-1.0673751875441888,-0.8811015444791677,1.1573950121989691,-1.9420689925822388,0.15254426213926583,-0.5106440815180584,-1.1407698919771738,0.9658187833865867,0.09032980787959194,0.5105956795061436,-1.5445015493646832,-0.529670046477799,-1.2951546206741757,-2.26897320406101,2.0647400026491787,0.7912257586064879,-0.9435855795774132,-0.0792530039589136,-0.701391406857763,0.3904899555187702,-0.12401867350010902,-1.1770981578075772,1.3699958165123711,1.1383701335229368,1.0753035171938106,2.3566664850434185,0.28328978448650277,-0.2278154516210515,-1.5229891887572231,1.6115199927052717,-0.4770954007952236,-0.03244258909954915,-0.01973863081231562,-0.9240201466956118,-0.7018806548826212,1.116257598901643,-2.374321527801769,2.1079872052410247,0.6982011140111537,-1.0555114969250081,-0.3897723937818329,1.1925231381245627,1.2237381227711939,0.5989850587870378,-0.8991782314803098,0.5255067693703722,2.7586264976767483,-0.0788469074477344,-0.853278412662128,-1.2219390892924478,0.10246149478772258,0.6284426117915223,0.512062339056357,-0.9386584410755775,1.6755332861886518,-0.8947338550700419,-0.4122518141392201,0.32106067012965067,2.1975821633476937,0.9364725716982593,-1.00268240741226,-1.9229183584789276,0.843620878659984,1.4771597910462655,-1.1347015325896048,0.9918722842152485,0.013184538681476031,0.44169861274054656,0.583312537359923,-0.8523979073270433,-0.910846088535007,-0.6928852005666618,0.9272107055521642,1.1217693677540292,1.1415382607103743,-0.5431411104261837],\"xaxis\":\"x14\",\"y\":[-0.09003317590129503,1.0457917887062516,-0.29423220585512144,0.9574203445353496,-0.616241572606183,-0.5534767167714887,-0.402317520418005,-0.3198694237949411,-0.20986129184730268,-0.48481591628900955,0.3108071402504388,-2.1263382754100926,0.5837854118415968,1.0774759457251781,-0.12690922521057807,-1.032326010492601,0.621589276294923,-0.7558846540535813,0.5632004862443952,0.49559126946667226,0.27007365672731926,-0.23087880885944598,-1.3508501568502214,0.6288045519625935,0.06070987626653908,0.5965206752027222,-0.3990050270985692,0.11016658644061711,0.9663052119247858,0.35598252226894833,1.181185378826927,-2.3542627344060123,-0.09989175348051689,-1.2864459617402262,0.7288787403538859,1.0275471483629939,0.3171744183826212,0.15292413156519483,0.4550521613937916,0.5213790352963008,0.20318742251749508,0.48968368411199914,1.0769271256618655,-0.7208314446177871,-0.30430270873146514,-0.2690205310950531,1.0670149019246906,-0.894036317760341,0.42233411240554236,0.09463389593503285,0.3147842006938459,0.4856944509627888,2.822214131806755,0.31877350771443885,-0.8737946052935149,0.41233255732261115,-0.258945595402433,-0.9787725054168861,-0.41951840428865167,1.5049078192404473,-0.6002948664947724,-1.0402769229253626,-2.209506979417579,0.4007706232758198,0.6827919523767328,-0.7605663558840473,1.5466680829995878,0.2620314303239416,-1.4394773540690347,-0.6648546447808864,1.9603814736896064,0.2407875553980244,-0.5352119766189058,0.46096472752861317,1.3972868847907869,1.2890455957248392,0.48194092192672566,-0.8358341932639045,2.3004323348148605,1.5090343332030582,1.065422354286108,0.05754205364635004,0.05680937623707559,-0.5364577596823272,-0.6415186288104496,-0.9744011481401438,1.3155933877242785,-0.9683416732732715,0.07031433648700804,-0.9387365342791136,0.274963338186455,0.6173360180172238,-0.5768096481829308,-0.5853500394299408,-0.5456480354585667,-0.7215920562298185,1.2157961289744859,-0.19076909957151217,0.9379843244981523,-1.4249333623212475],\"yaxis\":\"y14\",\"type\":\"scatter\"},{\"line\":{\"color\":\"rgba(128, 128, 128, 1.0)\",\"dash\":\"solid\",\"shape\":\"linear\",\"width\":1.3},\"marker\":{\"size\":2,\"symbol\":\"circle\"},\"mode\":\"markers\",\"name\":\"D\",\"text\":\"\",\"x\":[1.473083332255314,0.9258496787072514,1.8967152084603263,0.5094757693900035,0.7146004798243432,-1.1536876350709635,0.18548193530260024,-0.5075062148515169,-1.5268904269312875,0.6327675065365713,-1.742833178440796,-0.17760792279074386,-0.42993561146729475,-0.1179318962451331,-0.21883793411321237,0.21035180606533244,0.6456782916462754,0.497836559419002,-0.22454369521798712,1.0002162002607486,-0.27976775514967345,-2.056135470053321,-0.3511032564122926,0.4882445400939479,-0.6959759103681386,0.23140989326553035,0.12838188251732172,0.1474251727868586,-1.028327141684152,-0.37662685279761027,0.7161771806860826,-0.693620953106078,0.7365791592639287,1.5664657691276676,-0.76605114693056,0.037460110483771805,-0.4545069367144243,-2.816201515590873,0.44476014461409424,3.987028889778592,0.2382839959031368,0.1544714297602142,-1.1839143285918141,-0.04325443245265641,-0.08472937679164963,-0.39019797024732433,0.5403505042879775,0.4784431651531812,0.8283730166762587,-0.2132079379782824,0.10906692402751189,1.0681804289532224,-1.0209083394130125,0.5206690130888805,-0.27918154735984085,0.29200225134038177,1.905288479546918,0.3997104096709477,0.5013842971397798,-1.1656804407539827,0.6455516818425268,1.541026740339318,2.6996725442982576,0.6193919600500564,1.2594267228801967,2.03764182392081,2.02358563544627,0.1372364950453501,-1.1538969677054436,-1.2251744553445316,1.1821627669887178,1.362524384554462,-1.1512441351555531,-1.097578509925831,-0.6364242289158625,-1.1886913836996127,-0.9538117092849445,-0.9603629932333726,0.14755689083253284,0.6680012472139528,0.6544043421773577,-0.10335629168952583,0.521061728181091,-0.08728947758018604,0.3836813455518674,-0.3644919329855644,0.5486957487826961,0.13757325737363496,-0.48418748892721414,0.4568733162095446,-1.5496006269331533,-0.06743847782881852,-0.2061053566554512,-0.29416175176257753,1.051303153982947,-0.8479007078060758,-0.9464950884751328,0.3658755855969737,-0.5155006411077879,-1.4771406666187883],\"xaxis\":\"x15\",\"y\":[-0.09003317590129503,1.0457917887062516,-0.29423220585512144,0.9574203445353496,-0.616241572606183,-0.5534767167714887,-0.402317520418005,-0.3198694237949411,-0.20986129184730268,-0.48481591628900955,0.3108071402504388,-2.1263382754100926,0.5837854118415968,1.0774759457251781,-0.12690922521057807,-1.032326010492601,0.621589276294923,-0.7558846540535813,0.5632004862443952,0.49559126946667226,0.27007365672731926,-0.23087880885944598,-1.3508501568502214,0.6288045519625935,0.06070987626653908,0.5965206752027222,-0.3990050270985692,0.11016658644061711,0.9663052119247858,0.35598252226894833,1.181185378826927,-2.3542627344060123,-0.09989175348051689,-1.2864459617402262,0.7288787403538859,1.0275471483629939,0.3171744183826212,0.15292413156519483,0.4550521613937916,0.5213790352963008,0.20318742251749508,0.48968368411199914,1.0769271256618655,-0.7208314446177871,-0.30430270873146514,-0.2690205310950531,1.0670149019246906,-0.894036317760341,0.42233411240554236,0.09463389593503285,0.3147842006938459,0.4856944509627888,2.822214131806755,0.31877350771443885,-0.8737946052935149,0.41233255732261115,-0.258945595402433,-0.9787725054168861,-0.41951840428865167,1.5049078192404473,-0.6002948664947724,-1.0402769229253626,-2.209506979417579,0.4007706232758198,0.6827919523767328,-0.7605663558840473,1.5466680829995878,0.2620314303239416,-1.4394773540690347,-0.6648546447808864,1.9603814736896064,0.2407875553980244,-0.5352119766189058,0.46096472752861317,1.3972868847907869,1.2890455957248392,0.48194092192672566,-0.8358341932639045,2.3004323348148605,1.5090343332030582,1.065422354286108,0.05754205364635004,0.05680937623707559,-0.5364577596823272,-0.6415186288104496,-0.9744011481401438,1.3155933877242785,-0.9683416732732715,0.07031433648700804,-0.9387365342791136,0.274963338186455,0.6173360180172238,-0.5768096481829308,-0.5853500394299408,-0.5456480354585667,-0.7215920562298185,1.2157961289744859,-0.19076909957151217,0.9379843244981523,-1.4249333623212475],\"yaxis\":\"y15\",\"type\":\"scatter\"},{\"histfunc\":\"count\",\"histnorm\":\"\",\"marker\":{\"color\":\"rgba(128, 0, 128, 1.0)\",\"line\":{\"color\":\"#4D5663\",\"width\":1.3}},\"name\":\"D\",\"nbinsx\":10,\"opacity\":0.8,\"orientation\":\"v\",\"x\":[-0.09003317590129503,1.0457917887062516,-0.29423220585512144,0.9574203445353496,-0.616241572606183,-0.5534767167714887,-0.402317520418005,-0.3198694237949411,-0.20986129184730268,-0.48481591628900955,0.3108071402504388,-2.1263382754100926,0.5837854118415968,1.0774759457251781,-0.12690922521057807,-1.032326010492601,0.621589276294923,-0.7558846540535813,0.5632004862443952,0.49559126946667226,0.27007365672731926,-0.23087880885944598,-1.3508501568502214,0.6288045519625935,0.06070987626653908,0.5965206752027222,-0.3990050270985692,0.11016658644061711,0.9663052119247858,0.35598252226894833,1.181185378826927,-2.3542627344060123,-0.09989175348051689,-1.2864459617402262,0.7288787403538859,1.0275471483629939,0.3171744183826212,0.15292413156519483,0.4550521613937916,0.5213790352963008,0.20318742251749508,0.48968368411199914,1.0769271256618655,-0.7208314446177871,-0.30430270873146514,-0.2690205310950531,1.0670149019246906,-0.894036317760341,0.42233411240554236,0.09463389593503285,0.3147842006938459,0.4856944509627888,2.822214131806755,0.31877350771443885,-0.8737946052935149,0.41233255732261115,-0.258945595402433,-0.9787725054168861,-0.41951840428865167,1.5049078192404473,-0.6002948664947724,-1.0402769229253626,-2.209506979417579,0.4007706232758198,0.6827919523767328,-0.7605663558840473,1.5466680829995878,0.2620314303239416,-1.4394773540690347,-0.6648546447808864,1.9603814736896064,0.2407875553980244,-0.5352119766189058,0.46096472752861317,1.3972868847907869,1.2890455957248392,0.48194092192672566,-0.8358341932639045,2.3004323348148605,1.5090343332030582,1.065422354286108,0.05754205364635004,0.05680937623707559,-0.5364577596823272,-0.6415186288104496,-0.9744011481401438,1.3155933877242785,-0.9683416732732715,0.07031433648700804,-0.9387365342791136,0.274963338186455,0.6173360180172238,-0.5768096481829308,-0.5853500394299408,-0.5456480354585667,-0.7215920562298185,1.2157961289744859,-0.19076909957151217,0.9379843244981523,-1.4249333623212475],\"xaxis\":\"x16\",\"yaxis\":\"y16\",\"type\":\"histogram\"}],                        {\"bargap\":0.02,\"legend\":{\"bgcolor\":\"#F5F6F9\",\"font\":{\"color\":\"#4D5663\"}},\"paper_bgcolor\":\"#F5F6F9\",\"plot_bgcolor\":\"#F5F6F9\",\"showlegend\":false,\"template\":{\"data\":{\"barpolar\":[{\"marker\":{\"line\":{\"color\":\"#E5ECF6\",\"width\":0.5},\"pattern\":{\"fillmode\":\"overlay\",\"size\":10,\"solidity\":0.2}},\"type\":\"barpolar\"}],\"bar\":[{\"error_x\":{\"color\":\"#2a3f5f\"},\"error_y\":{\"color\":\"#2a3f5f\"},\"marker\":{\"line\":{\"color\":\"#E5ECF6\",\"width\":0.5},\"pattern\":{\"fillmode\":\"overlay\",\"size\":10,\"solidity\":0.2}},\"type\":\"bar\"}],\"carpet\":[{\"aaxis\":{\"endlinecolor\":\"#2a3f5f\",\"gridcolor\":\"white\",\"linecolor\":\"white\",\"minorgridcolor\":\"white\",\"startlinecolor\":\"#2a3f5f\"},\"baxis\":{\"endlinecolor\":\"#2a3f5f\",\"gridcolor\":\"white\",\"linecolor\":\"white\",\"minorgridcolor\":\"white\",\"startlinecolor\":\"#2a3f5f\"},\"type\":\"carpet\"}],\"choropleth\":[{\"colorbar\":{\"outlinewidth\":0,\"ticks\":\"\"},\"type\":\"choropleth\"}],\"contourcarpet\":[{\"colorbar\":{\"outlinewidth\":0,\"ticks\":\"\"},\"type\":\"contourcarpet\"}],\"contour\":[{\"colorbar\":{\"outlinewidth\":0,\"ticks\":\"\"},\"colorscale\":[[0.0,\"#0d0887\"],[0.1111111111111111,\"#46039f\"],[0.2222222222222222,\"#7201a8\"],[0.3333333333333333,\"#9c179e\"],[0.4444444444444444,\"#bd3786\"],[0.5555555555555556,\"#d8576b\"],[0.6666666666666666,\"#ed7953\"],[0.7777777777777778,\"#fb9f3a\"],[0.8888888888888888,\"#fdca26\"],[1.0,\"#f0f921\"]],\"type\":\"contour\"}],\"heatmapgl\":[{\"colorbar\":{\"outlinewidth\":0,\"ticks\":\"\"},\"colorscale\":[[0.0,\"#0d0887\"],[0.1111111111111111,\"#46039f\"],[0.2222222222222222,\"#7201a8\"],[0.3333333333333333,\"#9c179e\"],[0.4444444444444444,\"#bd3786\"],[0.5555555555555556,\"#d8576b\"],[0.6666666666666666,\"#ed7953\"],[0.7777777777777778,\"#fb9f3a\"],[0.8888888888888888,\"#fdca26\"],[1.0,\"#f0f921\"]],\"type\":\"heatmapgl\"}],\"heatmap\":[{\"colorbar\":{\"outlinewidth\":0,\"ticks\":\"\"},\"colorscale\":[[0.0,\"#0d0887\"],[0.1111111111111111,\"#46039f\"],[0.2222222222222222,\"#7201a8\"],[0.3333333333333333,\"#9c179e\"],[0.4444444444444444,\"#bd3786\"],[0.5555555555555556,\"#d8576b\"],[0.6666666666666666,\"#ed7953\"],[0.7777777777777778,\"#fb9f3a\"],[0.8888888888888888,\"#fdca26\"],[1.0,\"#f0f921\"]],\"type\":\"heatmap\"}],\"histogram2dcontour\":[{\"colorbar\":{\"outlinewidth\":0,\"ticks\":\"\"},\"colorscale\":[[0.0,\"#0d0887\"],[0.1111111111111111,\"#46039f\"],[0.2222222222222222,\"#7201a8\"],[0.3333333333333333,\"#9c179e\"],[0.4444444444444444,\"#bd3786\"],[0.5555555555555556,\"#d8576b\"],[0.6666666666666666,\"#ed7953\"],[0.7777777777777778,\"#fb9f3a\"],[0.8888888888888888,\"#fdca26\"],[1.0,\"#f0f921\"]],\"type\":\"histogram2dcontour\"}],\"histogram2d\":[{\"colorbar\":{\"outlinewidth\":0,\"ticks\":\"\"},\"colorscale\":[[0.0,\"#0d0887\"],[0.1111111111111111,\"#46039f\"],[0.2222222222222222,\"#7201a8\"],[0.3333333333333333,\"#9c179e\"],[0.4444444444444444,\"#bd3786\"],[0.5555555555555556,\"#d8576b\"],[0.6666666666666666,\"#ed7953\"],[0.7777777777777778,\"#fb9f3a\"],[0.8888888888888888,\"#fdca26\"],[1.0,\"#f0f921\"]],\"type\":\"histogram2d\"}],\"histogram\":[{\"marker\":{\"pattern\":{\"fillmode\":\"overlay\",\"size\":10,\"solidity\":0.2}},\"type\":\"histogram\"}],\"mesh3d\":[{\"colorbar\":{\"outlinewidth\":0,\"ticks\":\"\"},\"type\":\"mesh3d\"}],\"parcoords\":[{\"line\":{\"colorbar\":{\"outlinewidth\":0,\"ticks\":\"\"}},\"type\":\"parcoords\"}],\"pie\":[{\"automargin\":true,\"type\":\"pie\"}],\"scatter3d\":[{\"line\":{\"colorbar\":{\"outlinewidth\":0,\"ticks\":\"\"}},\"marker\":{\"colorbar\":{\"outlinewidth\":0,\"ticks\":\"\"}},\"type\":\"scatter3d\"}],\"scattercarpet\":[{\"marker\":{\"colorbar\":{\"outlinewidth\":0,\"ticks\":\"\"}},\"type\":\"scattercarpet\"}],\"scattergeo\":[{\"marker\":{\"colorbar\":{\"outlinewidth\":0,\"ticks\":\"\"}},\"type\":\"scattergeo\"}],\"scattergl\":[{\"marker\":{\"colorbar\":{\"outlinewidth\":0,\"ticks\":\"\"}},\"type\":\"scattergl\"}],\"scattermapbox\":[{\"marker\":{\"colorbar\":{\"outlinewidth\":0,\"ticks\":\"\"}},\"type\":\"scattermapbox\"}],\"scatterpolargl\":[{\"marker\":{\"colorbar\":{\"outlinewidth\":0,\"ticks\":\"\"}},\"type\":\"scatterpolargl\"}],\"scatterpolar\":[{\"marker\":{\"colorbar\":{\"outlinewidth\":0,\"ticks\":\"\"}},\"type\":\"scatterpolar\"}],\"scatter\":[{\"marker\":{\"colorbar\":{\"outlinewidth\":0,\"ticks\":\"\"}},\"type\":\"scatter\"}],\"scatterternary\":[{\"marker\":{\"colorbar\":{\"outlinewidth\":0,\"ticks\":\"\"}},\"type\":\"scatterternary\"}],\"surface\":[{\"colorbar\":{\"outlinewidth\":0,\"ticks\":\"\"},\"colorscale\":[[0.0,\"#0d0887\"],[0.1111111111111111,\"#46039f\"],[0.2222222222222222,\"#7201a8\"],[0.3333333333333333,\"#9c179e\"],[0.4444444444444444,\"#bd3786\"],[0.5555555555555556,\"#d8576b\"],[0.6666666666666666,\"#ed7953\"],[0.7777777777777778,\"#fb9f3a\"],[0.8888888888888888,\"#fdca26\"],[1.0,\"#f0f921\"]],\"type\":\"surface\"}],\"table\":[{\"cells\":{\"fill\":{\"color\":\"#EBF0F8\"},\"line\":{\"color\":\"white\"}},\"header\":{\"fill\":{\"color\":\"#C8D4E3\"},\"line\":{\"color\":\"white\"}},\"type\":\"table\"}]},\"layout\":{\"annotationdefaults\":{\"arrowcolor\":\"#2a3f5f\",\"arrowhead\":0,\"arrowwidth\":1},\"autotypenumbers\":\"strict\",\"coloraxis\":{\"colorbar\":{\"outlinewidth\":0,\"ticks\":\"\"}},\"colorscale\":{\"diverging\":[[0,\"#8e0152\"],[0.1,\"#c51b7d\"],[0.2,\"#de77ae\"],[0.3,\"#f1b6da\"],[0.4,\"#fde0ef\"],[0.5,\"#f7f7f7\"],[0.6,\"#e6f5d0\"],[0.7,\"#b8e186\"],[0.8,\"#7fbc41\"],[0.9,\"#4d9221\"],[1,\"#276419\"]],\"sequential\":[[0.0,\"#0d0887\"],[0.1111111111111111,\"#46039f\"],[0.2222222222222222,\"#7201a8\"],[0.3333333333333333,\"#9c179e\"],[0.4444444444444444,\"#bd3786\"],[0.5555555555555556,\"#d8576b\"],[0.6666666666666666,\"#ed7953\"],[0.7777777777777778,\"#fb9f3a\"],[0.8888888888888888,\"#fdca26\"],[1.0,\"#f0f921\"]],\"sequentialminus\":[[0.0,\"#0d0887\"],[0.1111111111111111,\"#46039f\"],[0.2222222222222222,\"#7201a8\"],[0.3333333333333333,\"#9c179e\"],[0.4444444444444444,\"#bd3786\"],[0.5555555555555556,\"#d8576b\"],[0.6666666666666666,\"#ed7953\"],[0.7777777777777778,\"#fb9f3a\"],[0.8888888888888888,\"#fdca26\"],[1.0,\"#f0f921\"]]},\"colorway\":[\"#636efa\",\"#EF553B\",\"#00cc96\",\"#ab63fa\",\"#FFA15A\",\"#19d3f3\",\"#FF6692\",\"#B6E880\",\"#FF97FF\",\"#FECB52\"],\"font\":{\"color\":\"#2a3f5f\"},\"geo\":{\"bgcolor\":\"white\",\"lakecolor\":\"white\",\"landcolor\":\"#E5ECF6\",\"showlakes\":true,\"showland\":true,\"subunitcolor\":\"white\"},\"hoverlabel\":{\"align\":\"left\"},\"hovermode\":\"closest\",\"mapbox\":{\"style\":\"light\"},\"paper_bgcolor\":\"white\",\"plot_bgcolor\":\"#E5ECF6\",\"polar\":{\"angularaxis\":{\"gridcolor\":\"white\",\"linecolor\":\"white\",\"ticks\":\"\"},\"bgcolor\":\"#E5ECF6\",\"radialaxis\":{\"gridcolor\":\"white\",\"linecolor\":\"white\",\"ticks\":\"\"}},\"scene\":{\"xaxis\":{\"backgroundcolor\":\"#E5ECF6\",\"gridcolor\":\"white\",\"gridwidth\":2,\"linecolor\":\"white\",\"showbackground\":true,\"ticks\":\"\",\"zerolinecolor\":\"white\"},\"yaxis\":{\"backgroundcolor\":\"#E5ECF6\",\"gridcolor\":\"white\",\"gridwidth\":2,\"linecolor\":\"white\",\"showbackground\":true,\"ticks\":\"\",\"zerolinecolor\":\"white\"},\"zaxis\":{\"backgroundcolor\":\"#E5ECF6\",\"gridcolor\":\"white\",\"gridwidth\":2,\"linecolor\":\"white\",\"showbackground\":true,\"ticks\":\"\",\"zerolinecolor\":\"white\"}},\"shapedefaults\":{\"line\":{\"color\":\"#2a3f5f\"}},\"ternary\":{\"aaxis\":{\"gridcolor\":\"white\",\"linecolor\":\"white\",\"ticks\":\"\"},\"baxis\":{\"gridcolor\":\"white\",\"linecolor\":\"white\",\"ticks\":\"\"},\"bgcolor\":\"#E5ECF6\",\"caxis\":{\"gridcolor\":\"white\",\"linecolor\":\"white\",\"ticks\":\"\"}},\"title\":{\"x\":0.05},\"xaxis\":{\"automargin\":true,\"gridcolor\":\"white\",\"linecolor\":\"white\",\"ticks\":\"\",\"title\":{\"standoff\":15},\"zerolinecolor\":\"white\",\"zerolinewidth\":2},\"yaxis\":{\"automargin\":true,\"gridcolor\":\"white\",\"linecolor\":\"white\",\"ticks\":\"\",\"title\":{\"standoff\":15},\"zerolinecolor\":\"white\",\"zerolinewidth\":2}}},\"title\":{\"font\":{\"color\":\"#4D5663\"}},\"xaxis\":{\"anchor\":\"y\",\"domain\":[0.0,0.2125],\"gridcolor\":\"#E1E5ED\",\"showgrid\":false,\"tickfont\":{\"color\":\"#4D5663\"},\"title\":{\"font\":{\"color\":\"#4D5663\"},\"text\":\"\"},\"zerolinecolor\":\"#E1E5ED\"},\"yaxis\":{\"anchor\":\"x\",\"domain\":[0.8025,1.0],\"gridcolor\":\"#E1E5ED\",\"showgrid\":false,\"tickfont\":{\"color\":\"#4D5663\"},\"title\":{\"font\":{\"color\":\"#4D5663\"},\"text\":\"\"},\"zerolinecolor\":\"#E1E5ED\"},\"xaxis2\":{\"anchor\":\"y2\",\"domain\":[0.2625,0.475],\"gridcolor\":\"#E1E5ED\",\"showgrid\":false,\"tickfont\":{\"color\":\"#4D5663\"},\"title\":{\"font\":{\"color\":\"#4D5663\"},\"text\":\"\"},\"zerolinecolor\":\"#E1E5ED\"},\"yaxis2\":{\"anchor\":\"x2\",\"domain\":[0.8025,1.0],\"gridcolor\":\"#E1E5ED\",\"showgrid\":false,\"tickfont\":{\"color\":\"#4D5663\"},\"title\":{\"font\":{\"color\":\"#4D5663\"},\"text\":\"\"},\"zerolinecolor\":\"#E1E5ED\"},\"xaxis3\":{\"anchor\":\"y3\",\"domain\":[0.525,0.7375],\"gridcolor\":\"#E1E5ED\",\"showgrid\":false,\"tickfont\":{\"color\":\"#4D5663\"},\"title\":{\"font\":{\"color\":\"#4D5663\"},\"text\":\"\"},\"zerolinecolor\":\"#E1E5ED\"},\"yaxis3\":{\"anchor\":\"x3\",\"domain\":[0.8025,1.0],\"gridcolor\":\"#E1E5ED\",\"showgrid\":false,\"tickfont\":{\"color\":\"#4D5663\"},\"title\":{\"font\":{\"color\":\"#4D5663\"},\"text\":\"\"},\"zerolinecolor\":\"#E1E5ED\"},\"xaxis4\":{\"anchor\":\"y4\",\"domain\":[0.7875,1.0],\"gridcolor\":\"#E1E5ED\",\"showgrid\":false,\"tickfont\":{\"color\":\"#4D5663\"},\"title\":{\"font\":{\"color\":\"#4D5663\"},\"text\":\"\"},\"zerolinecolor\":\"#E1E5ED\"},\"yaxis4\":{\"anchor\":\"x4\",\"domain\":[0.8025,1.0],\"gridcolor\":\"#E1E5ED\",\"showgrid\":false,\"tickfont\":{\"color\":\"#4D5663\"},\"title\":{\"font\":{\"color\":\"#4D5663\"},\"text\":\"\"},\"zerolinecolor\":\"#E1E5ED\"},\"xaxis5\":{\"anchor\":\"y5\",\"domain\":[0.0,0.2125],\"gridcolor\":\"#E1E5ED\",\"showgrid\":false,\"tickfont\":{\"color\":\"#4D5663\"},\"title\":{\"font\":{\"color\":\"#4D5663\"},\"text\":\"\"},\"zerolinecolor\":\"#E1E5ED\"},\"yaxis5\":{\"anchor\":\"x5\",\"domain\":[0.535,0.7325],\"gridcolor\":\"#E1E5ED\",\"showgrid\":false,\"tickfont\":{\"color\":\"#4D5663\"},\"title\":{\"font\":{\"color\":\"#4D5663\"},\"text\":\"\"},\"zerolinecolor\":\"#E1E5ED\"},\"xaxis6\":{\"anchor\":\"y6\",\"domain\":[0.2625,0.475],\"gridcolor\":\"#E1E5ED\",\"showgrid\":false,\"tickfont\":{\"color\":\"#4D5663\"},\"title\":{\"font\":{\"color\":\"#4D5663\"},\"text\":\"\"},\"zerolinecolor\":\"#E1E5ED\"},\"yaxis6\":{\"anchor\":\"x6\",\"domain\":[0.535,0.7325],\"gridcolor\":\"#E1E5ED\",\"showgrid\":false,\"tickfont\":{\"color\":\"#4D5663\"},\"title\":{\"font\":{\"color\":\"#4D5663\"},\"text\":\"\"},\"zerolinecolor\":\"#E1E5ED\"},\"xaxis7\":{\"anchor\":\"y7\",\"domain\":[0.525,0.7375],\"gridcolor\":\"#E1E5ED\",\"showgrid\":false,\"tickfont\":{\"color\":\"#4D5663\"},\"title\":{\"font\":{\"color\":\"#4D5663\"},\"text\":\"\"},\"zerolinecolor\":\"#E1E5ED\"},\"yaxis7\":{\"anchor\":\"x7\",\"domain\":[0.535,0.7325],\"gridcolor\":\"#E1E5ED\",\"showgrid\":false,\"tickfont\":{\"color\":\"#4D5663\"},\"title\":{\"font\":{\"color\":\"#4D5663\"},\"text\":\"\"},\"zerolinecolor\":\"#E1E5ED\"},\"xaxis8\":{\"anchor\":\"y8\",\"domain\":[0.7875,1.0],\"gridcolor\":\"#E1E5ED\",\"showgrid\":false,\"tickfont\":{\"color\":\"#4D5663\"},\"title\":{\"font\":{\"color\":\"#4D5663\"},\"text\":\"\"},\"zerolinecolor\":\"#E1E5ED\"},\"yaxis8\":{\"anchor\":\"x8\",\"domain\":[0.535,0.7325],\"gridcolor\":\"#E1E5ED\",\"showgrid\":false,\"tickfont\":{\"color\":\"#4D5663\"},\"title\":{\"font\":{\"color\":\"#4D5663\"},\"text\":\"\"},\"zerolinecolor\":\"#E1E5ED\"},\"xaxis9\":{\"anchor\":\"y9\",\"domain\":[0.0,0.2125],\"gridcolor\":\"#E1E5ED\",\"showgrid\":false,\"tickfont\":{\"color\":\"#4D5663\"},\"title\":{\"font\":{\"color\":\"#4D5663\"},\"text\":\"\"},\"zerolinecolor\":\"#E1E5ED\"},\"yaxis9\":{\"anchor\":\"x9\",\"domain\":[0.2675,0.465],\"gridcolor\":\"#E1E5ED\",\"showgrid\":false,\"tickfont\":{\"color\":\"#4D5663\"},\"title\":{\"font\":{\"color\":\"#4D5663\"},\"text\":\"\"},\"zerolinecolor\":\"#E1E5ED\"},\"xaxis10\":{\"anchor\":\"y10\",\"domain\":[0.2625,0.475],\"gridcolor\":\"#E1E5ED\",\"showgrid\":false,\"tickfont\":{\"color\":\"#4D5663\"},\"title\":{\"font\":{\"color\":\"#4D5663\"},\"text\":\"\"},\"zerolinecolor\":\"#E1E5ED\"},\"yaxis10\":{\"anchor\":\"x10\",\"domain\":[0.2675,0.465],\"gridcolor\":\"#E1E5ED\",\"showgrid\":false,\"tickfont\":{\"color\":\"#4D5663\"},\"title\":{\"font\":{\"color\":\"#4D5663\"},\"text\":\"\"},\"zerolinecolor\":\"#E1E5ED\"},\"xaxis11\":{\"anchor\":\"y11\",\"domain\":[0.525,0.7375],\"gridcolor\":\"#E1E5ED\",\"showgrid\":false,\"tickfont\":{\"color\":\"#4D5663\"},\"title\":{\"font\":{\"color\":\"#4D5663\"},\"text\":\"\"},\"zerolinecolor\":\"#E1E5ED\"},\"yaxis11\":{\"anchor\":\"x11\",\"domain\":[0.2675,0.465],\"gridcolor\":\"#E1E5ED\",\"showgrid\":false,\"tickfont\":{\"color\":\"#4D5663\"},\"title\":{\"font\":{\"color\":\"#4D5663\"},\"text\":\"\"},\"zerolinecolor\":\"#E1E5ED\"},\"xaxis12\":{\"anchor\":\"y12\",\"domain\":[0.7875,1.0],\"gridcolor\":\"#E1E5ED\",\"showgrid\":false,\"tickfont\":{\"color\":\"#4D5663\"},\"title\":{\"font\":{\"color\":\"#4D5663\"},\"text\":\"\"},\"zerolinecolor\":\"#E1E5ED\"},\"yaxis12\":{\"anchor\":\"x12\",\"domain\":[0.2675,0.465],\"gridcolor\":\"#E1E5ED\",\"showgrid\":false,\"tickfont\":{\"color\":\"#4D5663\"},\"title\":{\"font\":{\"color\":\"#4D5663\"},\"text\":\"\"},\"zerolinecolor\":\"#E1E5ED\"},\"xaxis13\":{\"anchor\":\"y13\",\"domain\":[0.0,0.2125],\"gridcolor\":\"#E1E5ED\",\"showgrid\":false,\"tickfont\":{\"color\":\"#4D5663\"},\"title\":{\"font\":{\"color\":\"#4D5663\"},\"text\":\"\"},\"zerolinecolor\":\"#E1E5ED\"},\"yaxis13\":{\"anchor\":\"x13\",\"domain\":[0.0,0.1975],\"gridcolor\":\"#E1E5ED\",\"showgrid\":false,\"tickfont\":{\"color\":\"#4D5663\"},\"title\":{\"font\":{\"color\":\"#4D5663\"},\"text\":\"\"},\"zerolinecolor\":\"#E1E5ED\"},\"xaxis14\":{\"anchor\":\"y14\",\"domain\":[0.2625,0.475],\"gridcolor\":\"#E1E5ED\",\"showgrid\":false,\"tickfont\":{\"color\":\"#4D5663\"},\"title\":{\"font\":{\"color\":\"#4D5663\"},\"text\":\"\"},\"zerolinecolor\":\"#E1E5ED\"},\"yaxis14\":{\"anchor\":\"x14\",\"domain\":[0.0,0.1975],\"gridcolor\":\"#E1E5ED\",\"showgrid\":false,\"tickfont\":{\"color\":\"#4D5663\"},\"title\":{\"font\":{\"color\":\"#4D5663\"},\"text\":\"\"},\"zerolinecolor\":\"#E1E5ED\"},\"xaxis15\":{\"anchor\":\"y15\",\"domain\":[0.525,0.7375],\"gridcolor\":\"#E1E5ED\",\"showgrid\":false,\"tickfont\":{\"color\":\"#4D5663\"},\"title\":{\"font\":{\"color\":\"#4D5663\"},\"text\":\"\"},\"zerolinecolor\":\"#E1E5ED\"},\"yaxis15\":{\"anchor\":\"x15\",\"domain\":[0.0,0.1975],\"gridcolor\":\"#E1E5ED\",\"showgrid\":false,\"tickfont\":{\"color\":\"#4D5663\"},\"title\":{\"font\":{\"color\":\"#4D5663\"},\"text\":\"\"},\"zerolinecolor\":\"#E1E5ED\"},\"xaxis16\":{\"anchor\":\"y16\",\"domain\":[0.7875,1.0],\"gridcolor\":\"#E1E5ED\",\"showgrid\":false,\"tickfont\":{\"color\":\"#4D5663\"},\"title\":{\"font\":{\"color\":\"#4D5663\"},\"text\":\"\"},\"zerolinecolor\":\"#E1E5ED\"},\"yaxis16\":{\"anchor\":\"x16\",\"domain\":[0.0,0.1975],\"gridcolor\":\"#E1E5ED\",\"showgrid\":false,\"tickfont\":{\"color\":\"#4D5663\"},\"title\":{\"font\":{\"color\":\"#4D5663\"},\"text\":\"\"},\"zerolinecolor\":\"#E1E5ED\"}},                        {\"showLink\": true, \"linkText\": \"Export to plot.ly\", \"plotlyServerURL\": \"https://plot.ly\", \"responsive\": true}                    ).then(function(){\n",
       "                            \n",
       "var gd = document.getElementById('21ab560b-c815-42ee-81af-f4a1ba537f98');\n",
       "var x = new MutationObserver(function (mutations, observer) {{\n",
       "        var display = window.getComputedStyle(gd).display;\n",
       "        if (!display || display === 'none') {{\n",
       "            console.log([gd, 'removed!']);\n",
       "            Plotly.purge(gd);\n",
       "            observer.disconnect();\n",
       "        }}\n",
       "}});\n",
       "\n",
       "// Listen for the removal of the full notebook cells\n",
       "var notebookContainer = gd.closest('#notebook-container');\n",
       "if (notebookContainer) {{\n",
       "    x.observe(notebookContainer, {childList: true});\n",
       "}}\n",
       "\n",
       "// Listen for the clearing of the current output cell\n",
       "var outputEl = gd.closest('.output');\n",
       "if (outputEl) {{\n",
       "    x.observe(outputEl, {childList: true});\n",
       "}}\n",
       "\n",
       "                        })                };                });            </script>        </div>"
      ]
     },
     "metadata": {},
     "output_type": "display_data"
    }
   ],
   "source": [
    "df.scatter_matrix()"
   ]
  },
  {
   "cell_type": "markdown",
   "metadata": {
    "collapsed": true
   },
   "source": [
    "# Great Job!"
   ]
  }
 ],
 "metadata": {
  "kernelspec": {
   "display_name": "Python 3",
   "language": "python",
   "name": "python3"
  },
  "language_info": {
   "codemirror_mode": {
    "name": "ipython",
    "version": 3
   },
   "file_extension": ".py",
   "mimetype": "text/x-python",
   "name": "python",
   "nbconvert_exporter": "python",
   "pygments_lexer": "ipython3",
   "version": "3.8.8"
  }
 },
 "nbformat": 4,
 "nbformat_minor": 0
}
